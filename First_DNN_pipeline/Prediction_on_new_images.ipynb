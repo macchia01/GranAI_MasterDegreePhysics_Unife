{
 "cells": [
  {
   "cell_type": "markdown",
   "metadata": {},
   "source": [
    "# Feature extraction"
   ]
  },
  {
   "cell_type": "code",
   "execution_count": 7,
   "metadata": {},
   "outputs": [
    {
     "name": "stdout",
     "output_type": "stream",
     "text": [
      "\u001b[1m62/62\u001b[0m \u001b[32m━━━━━━━━━━━━━━━━━━━━\u001b[0m\u001b[37m\u001b[0m \u001b[1m87s\u001b[0m 1s/step\n",
      "Features extracted and saved to Output_Nuove immagini\\test_6_extracted_features.npz\n"
     ]
    }
   ],
   "source": [
    "import os\n",
    "import numpy as np\n",
    "import pandas as pd\n",
    "import tensorflow as tf\n",
    "from tensorflow.keras.models import Model\n",
    "from tensorflow.keras.applications.efficientnet import preprocess_input\n",
    "import joblib\n",
    "\n",
    "# Parametri principali\n",
    "IMG_SIZE = 380\n",
    "input_dir = 'Nuove immagini'  # Directory di input contenente modelli e immagini\n",
    "output_dir = 'Output_' + input_dir  # Directory di output per salvare le caratteristiche\n",
    "# Creazione della cartella di output se non esiste\n",
    "if not os.path.exists(output_dir):\n",
    "    os.makedirs(output_dir)\n",
    "    \n",
    "# Nomi dei file e delle cartelle\n",
    "keras_model_name = 'modello_finale.keras'\n",
    "new_images_folder = 'test_6'\n",
    "new_images_excel = 'test_6.xlsx'\n",
    "\n",
    "# Percorsi completi dei file e delle cartelle\n",
    "keras_model_path = os.path.join(input_dir, keras_model_name)\n",
    "image_dir = os.path.join(input_dir, new_images_folder)\n",
    "excel_path = os.path.join(input_dir, new_images_excel)\n",
    "\n",
    "# Funzione per pre-elaborare l'immagine\n",
    "def preprocess_image(image):\n",
    "    image = tf.image.resize(image, (IMG_SIZE, IMG_SIZE))\n",
    "    image = preprocess_input(image)\n",
    "    return image\n",
    "\n",
    "# Funzione per caricare e preprocessare le immagini\n",
    "def load_and_preprocess_images(image_dir):\n",
    "    image_paths = []\n",
    "    images = []\n",
    "    for img_name in os.listdir(image_dir):\n",
    "        if img_name.endswith(('.png', '.jpg', '.jpeg')):\n",
    "            img_path = os.path.join(image_dir, img_name)\n",
    "            img = tf.io.read_file(img_path)\n",
    "            img = tf.image.decode_image(img, channels=3)\n",
    "            img = preprocess_image(img)\n",
    "            images.append(img)\n",
    "            image_paths.append(img_name)\n",
    "    return images, image_paths\n",
    "\n",
    "# Funzione per estrarre caratteristiche dalle immagini\n",
    "def extract_features(images, feature_extractor):\n",
    "    images_np = np.array([img.numpy() for img in images])\n",
    "    features = feature_extractor.predict(images_np)\n",
    "    features_flattened = [feature.flatten() for feature in features]\n",
    "    return np.array(features_flattened)\n",
    "\n",
    "# Carica il modello CNN salvato\n",
    "cnn_model = tf.keras.models.load_model(keras_model_path)\n",
    "\n",
    "# Crea un nuovo modello che restituisce le caratteristiche dallo strato desiderato del modello EfficientNet\n",
    "feature_extractor = Model(inputs=cnn_model.input, outputs=cnn_model.get_layer('dense_1').output)\n",
    "\n",
    "# Carica le immagini e preprocessale\n",
    "images, image_paths = load_and_preprocess_images(image_dir)\n",
    "\n",
    "# Estrai le caratteristiche dalle nuove immagini\n",
    "features = extract_features(images, feature_extractor)\n",
    "\n",
    "# Salva le caratteristiche estratte e i percorsi delle immagini in un file .npz\n",
    "output_features_file = os.path.join(output_dir, new_images_folder + '_extracted_features.npz')\n",
    "np.savez_compressed(output_features_file, features=features, image_paths=image_paths)\n",
    "\n",
    "print(f'Features extracted and saved to {output_features_file}')\n"
   ]
  },
  {
   "cell_type": "markdown",
   "metadata": {},
   "source": [
    "# Prediction"
   ]
  },
  {
   "cell_type": "code",
   "execution_count": 8,
   "metadata": {},
   "outputs": [
    {
     "name": "stdout",
     "output_type": "stream",
     "text": [
      "MAPE using CNN + Random Forest: 0.05288240818896522\n",
      "Results saved to Output_Nuove immagini\\test_6_predictions_cnn_rf.xlsx\n"
     ]
    }
   ],
   "source": [
    "import os\n",
    "import numpy as np\n",
    "import pandas as pd\n",
    "import joblib\n",
    "from sklearn.metrics import mean_absolute_percentage_error\n",
    "\n",
    "# Parametri principali\n",
    "IMG_SIZE = 380\n",
    "input_dir = 'Nuove immagini'  # Directory di input contenente modelli e immagini\n",
    "output_dir = 'Output_' + input_dir  # Directory di output per salvare le caratteristiche\n",
    "# Creazione della cartella di output se non esiste\n",
    "if not os.path.exists(output_dir):\n",
    "    os.makedirs(output_dir)\n",
    "    \n",
    "# Nomi dei file e delle cartelle\n",
    "random_forest_model_name = 'random_forest_model.pkl'\n",
    "new_images_folder = 'test_6'\n",
    "new_images_excel = 'test_6.xlsx'\n",
    "\n",
    "# Percorsi completi dei file e delle cartelle\n",
    "random_forest_model_path = os.path.join(input_dir, random_forest_model_name)\n",
    "excel_path = os.path.join(input_dir, new_images_excel)\n",
    "extracted_features_file = os.path.join(output_dir, new_images_folder + '_extracted_features.npz')\n",
    "\n",
    "# Carica le caratteristiche estratte e i percorsi delle immagini\n",
    "data = np.load(extracted_features_file)\n",
    "features = data['features']\n",
    "image_paths = data['image_paths']\n",
    "\n",
    "# Carica il modello Random Forest salvato\n",
    "random_forest_model = joblib.load(random_forest_model_path)\n",
    "\n",
    "# Carica le etichette vere dal file Excel\n",
    "labels_df = pd.read_excel(excel_path)\n",
    "\n",
    "# Aggiungi le caratteristiche estratte al DataFrame\n",
    "labels_df['Features'] = labels_df['Filename'].map(dict(zip(image_paths, features.tolist())))\n",
    "\n",
    "# Raggruppa le caratteristiche per \"PLOT\" e calcola la media delle caratteristiche per ogni \"PLOT\"\n",
    "grouped_features = labels_df.groupby('PLOT')['Features'].apply(lambda x: np.mean(np.stack(x), axis=0))\n",
    "\n",
    "# Prevedi utilizzando il modello Random Forest sui vettori delle caratteristiche raggruppati\n",
    "predicted_labels_rf = grouped_features.apply(lambda x: random_forest_model.predict(x.reshape(1, -1))[0])\n",
    "\n",
    "# Aggiungi le etichette previste al DataFrame raggruppato\n",
    "grouped_df_rf = labels_df.groupby(['PLOT', 'RST', 'CROP'], as_index=False).first()\n",
    "grouped_df_rf['Predicted Label'] = grouped_df_rf['PLOT'].map(predicted_labels_rf)\n",
    "\n",
    "# Calcola il MAPE per le nuove immagini\n",
    "true_labels_rf = grouped_df_rf['RST']\n",
    "mape_rf = mean_absolute_percentage_error(true_labels_rf, grouped_df_rf['Predicted Label'])\n",
    "print(f'MAPE using CNN + Random Forest: {mape_rf}')\n",
    "\n",
    "# Aggiungi una riga per il MAPE\n",
    "mape_row_rf = pd.DataFrame({'PLOT': ['MAPE'], 'RST': [''], 'CROP': [''], 'Predicted Label': [mape_rf]})\n",
    "grouped_df_rf = pd.concat([grouped_df_rf, mape_row_rf], ignore_index=True)\n",
    "\n",
    "# Salva i risultati in un file Excel con due fogli\n",
    "output_excel_rf = os.path.join(output_dir, new_images_folder + '_predictions_cnn_rf.xlsx')\n",
    "with pd.ExcelWriter(output_excel_rf) as writer:\n",
    "    labels_df.to_excel(writer, sheet_name='Predictions', index=False)\n",
    "    grouped_df_rf.to_excel(writer, sheet_name='Grouped Predictions', index=False)\n",
    "\n",
    "print(f'Results saved to {output_excel_rf}')\n"
   ]
  },
  {
   "cell_type": "code",
   "execution_count": null,
   "metadata": {},
   "outputs": [],
   "source": []
  }
 ],
 "metadata": {
  "kernelspec": {
   "display_name": "Python 3 (ipykernel)",
   "language": "python",
   "name": "python3"
  },
  "language_info": {
   "codemirror_mode": {
    "name": "ipython",
    "version": 3
   },
   "file_extension": ".py",
   "mimetype": "text/x-python",
   "name": "python",
   "nbconvert_exporter": "python",
   "pygments_lexer": "ipython3",
   "version": "3.11.9"
  }
 },
 "nbformat": 4,
 "nbformat_minor": 4
}
