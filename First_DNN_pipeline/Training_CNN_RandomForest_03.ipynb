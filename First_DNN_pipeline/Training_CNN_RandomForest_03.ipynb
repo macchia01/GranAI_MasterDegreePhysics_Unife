{
 "cells": [
  {
   "cell_type": "markdown",
   "metadata": {},
   "source": [
    "# **TFRECORD CREATION**"
   ]
  },
  {
   "cell_type": "markdown",
   "metadata": {},
   "source": [
    "## Libraries and initial setup"
   ]
  },
  {
   "cell_type": "code",
   "execution_count": 1,
   "metadata": {},
   "outputs": [
    {
     "name": "stdout",
     "output_type": "stream",
     "text": [
      "GPUs available:  []\n"
     ]
    }
   ],
   "source": [
    "import tensorflow as tf \n",
    "\n",
    "# Verify that only CPU is used\n",
    "physical_devices = tf.config.list_physical_devices('GPU')\n",
    "print(\"GPUs available: \", physical_devices)"
   ]
  },
  {
   "cell_type": "code",
   "execution_count": 4,
   "metadata": {},
   "outputs": [],
   "source": [
    "import os  \n",
    "import numpy as np \n",
    "import matplotlib.pyplot as plt \n",
    "import pandas as pd \n",
    "import tensorflow as tf \n",
    "import random \n",
    "import concurrent.futures\n",
    "import time\n",
    "\n",
    "# User-defined parameters\n",
    "IMG_SIZE = 380  # Size to which the images will be resized (width and height in pixels)\n",
    "dataset_dir = 'Dataset_914'  # Directory where the dataset is stored\n",
    "output_dir = 'Output_' + dataset_dir  # Directory where the output will be stored\n",
    "NUM_SHARDS = 200  # Number of shards (subsets) into which the dataset will be divided\n",
    "BATCH_SIZE = 200  # Dimensione del batch per l'elaborazione delle immagini\n",
    "NUM_WORKERS = 8  # Numero di worker per il parallelismo\n",
    "VISUALIZE_RANDOM_IMAGE = False  # Flag to indicate whether a random image should be visualized\n",
    "VISUALIZE_TFRECORD_STRUCTURE = False  # Flag to indicate whether the structure of a TFRecord file should be visualized\n",
    "\n",
    "# Create the output directory if it doesn't exist\n",
    "os.makedirs(output_dir, exist_ok=True)  # Creates the output directory if it doesn't already exist\n"
   ]
  },
  {
   "cell_type": "markdown",
   "metadata": {},
   "source": [
    "## Loading the Dataset, Labels, and Creating TFRecords"
   ]
  },
  {
   "cell_type": "code",
   "execution_count": 5,
   "metadata": {},
   "outputs": [
    {
     "name": "stdout",
     "output_type": "stream",
     "text": [
      "Tempo impiegato per il training set: 58.46 secondi\n",
      "Tempo impiegato per il validation set: 16.88 secondi\n",
      "Tempo impiegato per il test set: 9.21 secondi\n",
      "Ci sono 48195 immagini nel dataset di training\n",
      "Ci sono 13678 immagini nel dataset di validation\n",
      "Ci sono 6979 immagini nel dataset di testing\n"
     ]
    }
   ],
   "source": [
    "# Funzione per caricare etichette da file Excel\n",
    "def load_labels_from_excel(excel_file):\n",
    "    df = pd.read_excel(excel_file)  # Carica il file Excel in un DataFrame pandas\n",
    "    return dict(zip(df['Filename'], df['RST']))  # Converte le colonne 'Filename' e 'RST' in un dizionario\n",
    "\n",
    "# Funzione per caricare percorsi delle immagini e etichette da directory e dizionario\n",
    "def load_image_paths_and_labels(directory, labels_dict):\n",
    "    image_paths = []  # Inizializza una lista vuota per i percorsi delle immagini\n",
    "    image_labels = []  # Inizializza una lista vuota per le etichette corrispondenti\n",
    "    for root, _, files in os.walk(directory):  # Cammina attraverso la directory specificata e le sue sottodirectory\n",
    "        for file in files:\n",
    "            if file.endswith(('.png', '.jpg', '.jpeg')):  # Filtra solo i file di immagine con estensioni specifiche\n",
    "                image_paths.append(os.path.join(root, file))  # Aggiunge il percorso completo dell'immagine alla lista\n",
    "                image_labels.append(labels_dict.get(file, -1))  # Aggiunge l'etichetta corrispondente o -1 se non trovata\n",
    "    return image_paths, image_labels  # Restituisce le liste dei percorsi delle immagini e delle etichette\n",
    "\n",
    "# Funzione per preprocessare immagini\n",
    "def load_and_preprocess_image(image_path):\n",
    "    image = tf.io.read_file(image_path)  # Legge l'immagine dal percorso specificato\n",
    "    if tf.strings.regex_full_match(image_path, \".*\\\\.jpg\") or tf.strings.regex_full_match(image_path, \".*\\\\.jpeg\"):\n",
    "        image = tf.image.decode_jpeg(image, channels=3)  # Decodifica l'immagine JPEG\n",
    "    else:\n",
    "        image = tf.image.decode_png(image, channels=3)  # Decodifica l'immagine PNG\n",
    "    image = tf.image.resize(image, (IMG_SIZE, IMG_SIZE))  # Ridimensiona l'immagine alla dimensione specificata\n",
    "    return image  # Restituisce l'immagine preprocessata\n",
    "\n",
    "# Funzione per preprocessare e serializzare un'immagine e un'etichetta\n",
    "def preprocess_and_serialize(idx, image_paths, image_labels):\n",
    "    image = load_and_preprocess_image(image_paths[idx])  # Carica e preprocessa l'immagine con l'indice specificato\n",
    "    image = tf.cast(image, tf.uint8)  # Converte l'immagine in tipo uint8\n",
    "    feature = {\n",
    "        'image': tf.train.Feature(bytes_list=tf.train.BytesList(value=[tf.io.encode_jpeg(image).numpy()])),  # Codifica l'immagine come JPEG in formato bytes\n",
    "        'label': tf.train.Feature(float_list=tf.train.FloatList(value=[image_labels[idx]])),  # Associa l'etichetta corrispondente\n",
    "    }\n",
    "    example = tf.train.Example(features=tf.train.Features(feature=feature))  # Crea un esempio TFRecord con l'immagine e l'etichetta\n",
    "    return example.SerializeToString()  # Serializza l'esempio in una stringa\n",
    "\n",
    "# Funzione per creare TFRecord in batch con parallelismo\n",
    "def create_tfrecord_in_batches(image_paths, image_labels, output_file, batch_size=BATCH_SIZE, num_shards=NUM_SHARDS, num_workers=NUM_WORKERS):\n",
    "    num_samples = len(image_paths)  # Conta il numero totale di immagini\n",
    "    indices = np.arange(num_samples)  # Crea una lista di indici da 0 a num_samples-1\n",
    "    np.random.shuffle(indices)  # Mescola gli indici per randomizzare l'ordine delle immagini\n",
    "\n",
    "    shard_size = num_samples // num_shards  # Calcola la dimensione di ogni shard\n",
    "    for shard_id in range(num_shards):\n",
    "        shard_filename = f\"{output_file}_{shard_id+1}-of-{num_shards}.tfrecord\"  # Genera il nome del file TFRecord per lo shard corrente\n",
    "        with tf.io.TFRecordWriter(shard_filename) as writer:  # Apre un writer TFRecord per scrivere nel file\n",
    "            start_index = shard_id * shard_size  # Calcola l'indice di inizio per questo shard\n",
    "            end_index = (shard_id + 1) * shard_size if shard_id != num_shards - 1 else num_samples  # Calcola l'indice di fine per questo shard\n",
    "            for i in range(start_index, end_index, batch_size):\n",
    "                batch_end = min(i + batch_size, end_index)  # Calcola l'indice di fine per questo batch\n",
    "                \n",
    "                # Preprocessa le immagini in parallelo utilizzando ThreadPoolExecutor\n",
    "                with concurrent.futures.ThreadPoolExecutor(max_workers=num_workers) as executor:\n",
    "                    futures = [\n",
    "                        executor.submit(preprocess_and_serialize, indices[j], image_paths, image_labels)\n",
    "                        for j in range(i, batch_end)\n",
    "                    ]\n",
    "                    \n",
    "                    for future in concurrent.futures.as_completed(futures):  # Scrive ogni immagine preprocessata nel file TFRecord\n",
    "                        writer.write(future.result())\n",
    "\n",
    "# Carica etichette\n",
    "train_labels_dict = load_labels_from_excel(os.path.join(dataset_dir, 'train.xlsx'))  # Carica le etichette di training da un file Excel\n",
    "val_labels_dict = load_labels_from_excel(os.path.join(dataset_dir, 'validation.xlsx'))  # Carica le etichette di validazione da un file Excel\n",
    "test_labels_dict = load_labels_from_excel(os.path.join(dataset_dir, 'test.xlsx'))  # Carica le etichette di test da un file Excel\n",
    "\n",
    "# Carica percorsi delle immagini e etichette\n",
    "train_image_paths, train_image_labels = load_image_paths_and_labels(os.path.join(dataset_dir, 'train'), train_labels_dict)  # Carica percorsi delle immagini e etichette di training\n",
    "val_image_paths, val_image_labels = load_image_paths_and_labels(os.path.join(dataset_dir, 'validation'), val_labels_dict)  # Carica percorsi delle immagini e etichette di validazione\n",
    "test_image_paths, test_image_labels = load_image_paths_and_labels(os.path.join(dataset_dir, 'test'), test_labels_dict)  # Carica percorsi delle immagini e etichette di test\n",
    "\n",
    "# Creazione dei TFRecord in batch\n",
    "start_time = time.time()\n",
    "create_tfrecord_in_batches(train_image_paths, train_image_labels, os.path.join(dataset_dir, 'train'))  # Crea i file TFRecord per il training set\n",
    "print(f\"Tempo impiegato per il training set: {time.time() - start_time:.2f} secondi\")\n",
    "start_time = time.time()\n",
    "create_tfrecord_in_batches(val_image_paths, val_image_labels, os.path.join(dataset_dir, 'val'))  # Crea i file TFRecord per il validation set\n",
    "print(f\"Tempo impiegato per il validation set: {time.time() - start_time:.2f} secondi\")\n",
    "start_time = time.time()\n",
    "create_tfrecord_in_batches(test_image_paths, test_image_labels, os.path.join(dataset_dir, 'test'))  # Crea i file TFRecord per il test set\n",
    "print(f\"Tempo impiegato per il test set: {time.time() - start_time:.2f} secondi\")\n",
    "\n",
    "# Stampa numero di immagini in ciascun dataset\n",
    "print('Ci sono', len(train_image_paths), 'immagini nel dataset di training')  # Stampa il numero di immagini nel training set\n",
    "print('Ci sono', len(val_image_paths), 'immagini nel dataset di validation')  # Stampa il numero di immagini nel validation set\n",
    "print('Ci sono', len(test_image_paths), 'immagini nel dataset di testing')  # Stampa il numero di immagini nel test set\n"
   ]
  },
  {
   "cell_type": "markdown",
   "metadata": {},
   "source": [
    "1. Caricamento delle Etichette da File Excel:\n",
    "- Richiesta della CPU: La CPU chiede al sistema I/O di aprire il file Excel specificato (excel_file) dal disco.\n",
    "- Lettura del File: Il sistema I/O legge il file Excel e lo carica in RAM come un DataFrame df utilizzando la libreria pandas.\n",
    "- Estrazione delle Informazioni: La CPU accede al DataFrame df in RAM, estrae le colonne Filename e RST, e le combina in un dizionario (labels_dict) tramite la funzione zip.\n",
    "- Memorizzazione in RAM: La CPU memorizza il dizionario risultante (labels_dict), contenente le etichette, in RAM per un accesso rapido durante le operazioni successive.\n",
    "\n",
    "2. Caricamento dei Percorsi delle Immagini:\n",
    "- Esplorazione della Directory: La CPU chiede al sistema I/O di esplorare la directory specificata (directory) e le sue sottodirectory per identificare tutti i file di immagini con estensioni .png, .jpg, o .jpeg.\n",
    "- Lettura dei File: Il sistema I/O legge i nomi dei file dalle directory sul disco e li fornisce alla CPU.\n",
    "- Costruzione delle Liste: La CPU costruisce una lista dei percorsi completi delle immagini (image_paths), memorizzandola in RAM. Contemporaneamente, verifica l'esistenza di ogni immagine nel dizionario delle etichette (labels_dict) e associa a ciascuna immagine la sua etichetta corrispondente o un valore predefinito (-1) se non presente nel dizionario.\n",
    "- Output della Funzione: Le liste dei percorsi delle immagini (image_paths) e delle etichette (image_labels) vengono memorizzate in RAM e restituite come output della funzione.\n",
    "\n",
    "3. Creazione della Lista di Indici e Randomizzazione:\n",
    "- Generazione degli Indici: La CPU genera una lista di indici in RAM a partire dai percorsi delle immagini (image_paths) e la randomizza per garantire un ordine casuale delle immagini durante la creazione dei TFRecord.\n",
    "- Calcolo della Dimensione dello Shard: La CPU calcola la dimensione di ogni shard in base al numero totale di immagini e al numero di shard (num_shards).\n",
    "- Creazione del File TFRecord Vuoto: Il sistema I/O crea il file TFRecord vuoto per il primo shard sul disco, pronto per essere popolato con i dati delle immagini.\n",
    "\n",
    "4. Caricamento delle Immagini e Preprocessing in Parallelo:\n",
    "- Selezione dei Percorsi per il Batch: La CPU seleziona un insieme di percorsi di immagini pari al batch size (ad esempio, 100 percorsi) dalla lista completa di image_paths memorizzata in RAM. Questi percorsi vengono quindi passati ai thread per il caricamento e il preprocessing.\n",
    "- Avvio del Parallelismo: Il ThreadPoolExecutor avvia un numero definito di thread (es. num_workers=4).\n",
    "- Caricamento delle Immagini: Ogni thread carica una delle immagini dal disco alla RAM utilizzando i percorsi forniti. Questo processo avviene in parallelo, con più immagini caricate simultaneamente. Il numero di immagini caricate contemporaneamente è limitato dal numero di thread attivi.\n",
    "- Preprocessing delle Immagini: Subito dopo il caricamento, ogni thread esegue il preprocessing dell'immagine in RAM, che include operazioni come la decodifica del formato e il ridimensionamento.\n",
    "- Codifica delle Immagini: Dopo il preprocessing, l'immagine viene codificata in una stringa di byte (es. utilizzando tf.io.encode_jpeg).\n",
    "\n",
    "5. Passaggio al Thread Principale e Scrittura nel TFRecord:\n",
    "- Restituzione dei Risultati: Una volta terminato il preprocessing e la codifica, i thread restituiscono il risultato al thread principale o al gestore delle scritture.\n",
    "- Scrittura Sequenziale: Il thread principale gestisce la scrittura nel file TFRecord. Anche se il preprocessing è avvenuto in parallelo, la scrittura nel file avviene in modo sequenziale per garantire l'integrità dei dati.\n",
    "- Liberazione della Memoria: Dopo che l'immagine codificata è stata scritta nel file TFRecord, la memoria utilizzata viene liberata, permettendo ai thread di continuare con il prossimo gruppo di immagini.\n",
    "\n",
    "6. Ripetizione del Processo per Tutti i Batch:\n",
    "- Ciclo Continuo: Il processo di caricamento, preprocessing, codifica e scrittura continua fino a quando tutte le immagini nel batch corrente sono state elaborate e scritte nel file TFRecord.\n",
    "- Nuovo Batch: Se ci sono ancora immagini nel dataset da processare, il processo riprende con un nuovo batch, ripetendo le fasi sopra descritte. Questo processo si ripete più volte per riempire uno shard.\n",
    "- Nuovo Shard: Una volta che tutte le immagini per un determinato shard sono state elaborate e scritte, si passa alla creazione di un nuovo shard. - - - Questo ciclo si ripete fino a quando tutte le immagini del dataset non sono state processate e scritte nei rispettivi file TFRecord, completando così l'intero dataset.\n",
    "\n",
    "Punti Chiave del Processo:\n",
    "- Parallelismo: Il caricamento, il preprocessing e la codifica delle immagini avvengono in parallelo, sfruttando più thread per migliorare l'efficienza e ridurre i tempi di elaborazione.\n",
    "-S equenzialità nella Scrittura: Nonostante il parallelismo durante le fasi iniziali, la scrittura nel file TFRecord è gestita in modo sequenziale per garantire che i dati siano scritti correttamente e senza conflitti.\n",
    "- Gestione della Memoria: La memoria viene gestita in modo efficiente liberando lo spazio occupato da un'immagine immediatamente dopo la sua scrittura su disco. Questo assicura che la RAM non si sovraccarichi, mantenendo il sistema reattivo anche durante l'elaborazione di grandi quantità di dati.\n",
    "- Il batch size determina il numero di immagini elaborate in un ciclo. Influenza il flusso di lavoro organizzando il dataset in gruppi gestibili, ma non determina quante immagini sono mantenute in RAM simultaneamente. La gestione della RAM è invece legata al numero di thread (num_workers) che lavorano in parallelo."
   ]
  },
  {
   "cell_type": "markdown",
   "metadata": {},
   "source": [
    "##  Displaying a Random Image and Visualizing TFRecord"
   ]
  },
  {
   "cell_type": "code",
   "execution_count": 4,
   "metadata": {},
   "outputs": [],
   "source": [
    "'''\n",
    "# Function to display a random image and its label from disk\n",
    "def display_random_image(image_paths, labels):\n",
    "    # Seleziona un percorso di immagine casuale e l'etichetta corrispondente\n",
    "    idx = np.random.randint(len(image_paths))  # La CPU genera un indice casuale basato sulla lunghezza della lista dei percorsi di immagine\n",
    "    image_path = image_paths[idx]  # La CPU utilizza l'indice per selezionare un percorso di immagine corrispondente\n",
    "    label = labels[idx]  # La CPU seleziona l'etichetta corrispondente allo stesso indice\n",
    "\n",
    "    # Carica e preprocessa l'immagine (come nella funzione precedente di preprocessing)\n",
    "    image = load_and_preprocess_image(image_path)  # La CPU chiede al sistema I/O di leggere l'immagine dal disco e di caricarla in RAM. Poi l'immagine viene preprocessata in RAM\n",
    "\n",
    "    # Visualizza l'immagine\n",
    "    print('Image shape:', image.shape)  # La CPU stampa la forma dell'immagine (es. larghezza, altezza, canali)\n",
    "    plt.figure(figsize=(6, 6))  # La CPU crea una nuova figura in RAM di dimensioni 6x6 pollici per visualizzare l'immagine\n",
    "    plt.imshow(image.numpy().astype(\"uint8\"))  # La CPU converte l'immagine in un formato visualizzabile (uint8) e la passa a `matplotlib` per la visualizzazione\n",
    "    plt.title(f\"Label: {label}\")  # La CPU imposta il titolo della finestra di visualizzazione con l'etichetta dell'immagine\n",
    "    plt.axis('off')  # La CPU disattiva gli assi per una visualizzazione più pulita\n",
    "    plt.show()  # La CPU mostra la finestra di visualizzazione. A questo punto, la RAM contiene l'immagine elaborata e la finestra di visualizzazione\n",
    "\n",
    "# Function to visualize the structure of a randomly selected sharded TFRecord\n",
    "def visualize_random_tfrecord(tfrecord_pattern):\n",
    "    # Ottiene una lista di tutti i file TFRecord che corrispondono al pattern specificato\n",
    "    tfrecord_files = tf.io.gfile.glob(tfrecord_pattern)  # La CPU chiede al sistema I/O di trovare tutti i file TFRecord che corrispondono al pattern specificato sul disco\n",
    "    # Seleziona casualmente un file TFRecord dalla lista\n",
    "    random_tfrecord_file = np.random.choice(tfrecord_files)  # La CPU seleziona casualmente un file TFRecord tra quelli trovati\n",
    "    \n",
    "    # Stampa il file TFRecord selezionato\n",
    "    print(f\"Selected TFRecord file: {random_tfrecord_file}\")  # La CPU stampa il nome del file TFRecord selezionato\n",
    "\n",
    "    # Crea un dizionario di descrizione delle caratteristiche\n",
    "    feature_description = {\n",
    "        'image': tf.io.FixedLenFeature([], tf.string),  # Definisce che la caratteristica 'image' è una stringa (bytes)\n",
    "        'label': tf.io.FixedLenFeature([], tf.float32),  # Definisce che la caratteristica 'label' è un float\n",
    "    }\n",
    "\n",
    "    # Funzione per analizzare ogni esempio\n",
    "    def _parse_function(example_proto):\n",
    "        # Analizza l'input tf.train.Example proto usando il dizionario di descrizione delle caratteristiche\n",
    "        return tf.io.parse_single_example(example_proto, feature_description)  # La CPU analizza ciascun esempio dal file TFRecord utilizzando la descrizione delle caratteristiche\n",
    "\n",
    "    # Crea un oggetto TFRecordDataset per leggere i dati dal file TFRecord\n",
    "    raw_dataset = tf.data.TFRecordDataset(random_tfrecord_file)  # La CPU chiede al sistema I/O di leggere il file TFRecord selezionato e di creare un dataset in RAM\n",
    "\n",
    "    # Analizza il dataset usando la funzione di parsing\n",
    "    parsed_dataset = raw_dataset.map(_parse_function)  # La CPU mappa la funzione di parsing su ciascun esempio del dataset per estrarre immagini e etichette\n",
    "\n",
    "    # Itera attraverso il dataset e stampa le caratteristiche\n",
    "    for example in parsed_dataset.take(20):  # La CPU iterà sui primi 5 esempi (o un altro numero specificato) del dataset\n",
    "        image = example['image'].numpy()  # La CPU decodifica l'immagine dai bytes e la memorizza in RAM come array numpy\n",
    "        label = example['label'].numpy()  # La CPU estrae l'etichetta e la memorizza in RAM\n",
    "        print(f\"Label: {label}\")  # La CPU stampa l'etichetta\n",
    "        print(f\"Image (bytes): {image[:100]}...\")  # La CPU stampa i primi 100 bytes dell'immagine per una rapida verifica\n",
    "\n",
    "# Visualizzazione condizionale di un'immagine casuale\n",
    "if VISUALIZE_RANDOM_IMAGE:\n",
    "    display_random_image(train_image_paths, train_image_labels)  # Se `VISUALIZE_RANDOM_IMAGE` è True, la CPU esegue la funzione per visualizzare un'immagine casuale dal dataset di training\n",
    "\n",
    "# Visualizzazione condizionale della struttura di TFRecord e delle immagini\n",
    "if VISUALIZE_TFRECORD_STRUCTURE:\n",
    "    print(\"Random Train TFRecord:\")\n",
    "    visualize_random_tfrecord(os.path.join(dataset_dir, 'train_*.tfrecord'))  # Se `VISUALIZE_TFRECORD_STRUCTURE` è True, la CPU esegue la funzione per visualizzare la struttura di un file TFRecord del training set\n",
    "\n",
    "    print(\"\\nRandom Validation TFRecord:\")\n",
    "    visualize_random_tfrecord(os.path.join(dataset_dir, 'val_*.tfrecord'))  # Visualizza la struttura di un file TFRecord del validation set\n",
    "\n",
    "    print(\"\\nRandom Test TFRecord:\")\n",
    "    visualize_random_tfrecord(os.path.join(dataset_dir, 'test_*.tfrecord'))  # Visualizza la struttura di un file TFRecord del test set\n",
    "'''\n"
   ]
  },
  {
   "cell_type": "markdown",
   "metadata": {},
   "source": [
    "# **CNN**"
   ]
  },
  {
   "cell_type": "markdown",
   "metadata": {},
   "source": [
    "## Libraries and initial setup"
   ]
  },
  {
   "cell_type": "code",
   "execution_count": 5,
   "metadata": {},
   "outputs": [],
   "source": [
    "import os\n",
    "import numpy as np\n",
    "import matplotlib.pyplot as plt\n",
    "import pandas as pd\n",
    "import tensorflow as tf\n",
    "import random\n",
    "import time\n",
    "\n",
    "from tensorflow import keras\n",
    "from tensorflow.keras import layers\n",
    "from tensorflow.keras.applications import EfficientNetB4\n",
    "from tensorflow.keras import callbacks\n",
    "from tensorflow.keras.layers import Dense, GlobalAveragePooling2D\n",
    "from tensorflow.keras.models import Model\n",
    "from tensorflow.keras.applications.efficientnet import preprocess_input\n",
    "\n",
    "# User parameters\n",
    "IMG_SIZE = 380  # Dimensione delle immagini da utilizzare come input per il modello (lunghezza e larghezza in pixel)\n",
    "dataset_dir = 'Dataset_914'  # Directory del dataset da utilizzare per l'addestramento e la validazione\n",
    "output_dir = 'Output_' + dataset_dir  # Directory in cui salvare i risultati dell'addestramento (modelli, log, ecc.)\n",
    "BATCH_SIZE = 128  # Dimensione del batch per l'addestramento e la validazione\n",
    "EPOCHS = 10  # Numero massimo di epoche per l'addestramento del modello\n",
    "SAVE_EVERY_N_EPOCHS = 1  # Frequenza di salvataggio del modello durante l'addestramento (ogni N epoche)\n",
    "\n",
    "# Early stopping parameters\n",
    "EARLYSTOPPING_PATIENCE = 5  # Numero di epoche senza miglioramento prima di fermare l'addestramento (Early Stopping)\n",
    "\n",
    "# Learning rate scheduler parameters\n",
    "LEARNING_RATE = 0.001  # Tasso di apprendimento iniziale per l'ottimizzatore\n",
    "LR_SCHEDULER_FACTOR = 0.5  # Fattore di riduzione del tasso di apprendimento quando non si osserva un miglioramento\n",
    "LR_SCHEDULER_PATIENCE = 2  # Numero di epoche senza miglioramento prima di ridurre il tasso di apprendimento\n",
    "\n",
    "# TFRecord dataset parameters\n",
    "CYCLE_LENGTH = 16  # Numero di file TFRecord da leggere in parallelo\n",
    "BLOCK_LENGTH = 1  # Numero di record da leggere in sequenza da ciascun file prima di passare al successivo\n",
    "\n",
    "# Dropout fraction\n",
    "DROPOUT_FRACTION = 0.2  # Percentuale di dropout applicata per prevenire l'overfitting\n",
    "\n",
    "# Number of layers to train\n",
    "NUM_TRAINABLE_LAYERS = 20  # Numero di livelli superiori della rete EfficientNet da rendere addestrabili\n",
    "\n",
    "# Create the output directory if it doesn't exist\n",
    "os.makedirs(output_dir, exist_ok=True)  # Crea la directory di output se non esiste già\n"
   ]
  },
  {
   "cell_type": "markdown",
   "metadata": {},
   "source": [
    "## Loading the Dataset, Labels"
   ]
  },
  {
   "cell_type": "code",
   "execution_count": 6,
   "metadata": {},
   "outputs": [
    {
     "data": {
      "text/plain": [
       "'\\nAlla fine di questo processo, la RAM contiene:\\n-Dizionari delle etichette per i tre set (train, validation, test).\\n-Liste dei percorsi delle immagini e liste delle etichette corrispondenti per ciascun set.\\n'"
      ]
     },
     "execution_count": 6,
     "metadata": {},
     "output_type": "execute_result"
    }
   ],
   "source": [
    "# Funzione per caricare le etichette da file Excel\n",
    "def load_labels_from_excel(excel_file):\n",
    "    # Legge il file Excel e lo carica in un DataFrame pandas\n",
    "    df = pd.read_excel(excel_file)\n",
    "    # Converte le colonne del DataFrame in un dizionario, dove le chiavi sono i nomi delle immagini e i valori sono le etichette\n",
    "    return dict(zip(df['Filename'], df['RST']))\n",
    "\n",
    "# Caricamento delle mappature delle etichette per i set di addestramento, validazione e test\n",
    "train_labels_dict = load_labels_from_excel(os.path.join(dataset_dir, 'train.xlsx'))  # Carica le etichette del set di addestramento dal file Excel\n",
    "val_labels_dict = load_labels_from_excel(os.path.join(dataset_dir, 'validation.xlsx'))  # Carica le etichette del set di validazione dal file Excel\n",
    "test_labels_dict = load_labels_from_excel(os.path.join(dataset_dir, 'test.xlsx'))  # Carica le etichette del set di test dal file Excel\n",
    "\n",
    "# Funzione per caricare i percorsi delle immagini e le etichette corrispondenti da una directory e da un dizionario\n",
    "def load_image_paths_and_labels(directory, labels_dict):\n",
    "    image_paths = []  # Lista per memorizzare i percorsi delle immagini\n",
    "    image_labels = []  # Lista per memorizzare le etichette corrispondenti\n",
    "    for root, _, files in os.walk(directory):  # Esplora la directory specificata e le sue sottodirectory\n",
    "        for file in files:\n",
    "            if file.endswith(('.png', '.jpg', '.jpeg')):  # Verifica se il file è un'immagine (con estensione .png, .jpg, o .jpeg)\n",
    "                image_paths.append(os.path.join(root, file))  # Aggiunge il percorso completo dell'immagine alla lista\n",
    "                image_labels.append(labels_dict.get(file, -1))  # Aggiunge l'etichetta corrispondente dalla mappatura, o -1 se non trovata\n",
    "    return image_paths, image_labels  # Restituisce le liste dei percorsi delle immagini e delle etichette\n",
    "\n",
    "# Caricamento dei percorsi delle immagini e delle etichette per i set di addestramento, validazione e test\n",
    "train_image_paths, train_image_labels = load_image_paths_and_labels(os.path.join(dataset_dir, 'train'), train_labels_dict)  # Carica i percorsi e le etichette per il set di addestramento\n",
    "val_image_paths, val_image_labels = load_image_paths_and_labels(os.path.join(dataset_dir, 'validation'), val_labels_dict)  # Carica i percorsi e le etichette per il set di validazione\n",
    "test_image_paths, test_image_labels = load_image_paths_and_labels(os.path.join(dataset_dir, 'test'), test_labels_dict)  # Carica i percorsi e le etichette per il set di test\n",
    "\n",
    "'''\n",
    "Alla fine di questo processo, la RAM contiene:\n",
    "-Dizionari delle etichette per i tre set (train, validation, test).\n",
    "-Liste dei percorsi delle immagini e liste delle etichette corrispondenti per ciascun set.\n",
    "'''"
   ]
  },
  {
   "cell_type": "markdown",
   "metadata": {},
   "source": [
    "## Reading TFRecord Files and Preparing Datasets"
   ]
  },
  {
   "cell_type": "code",
   "execution_count": 7,
   "metadata": {},
   "outputs": [],
   "source": [
    "# Funzione per fare il parsing di un TFRecord\n",
    "def parse_tfrecord(tfrecord):\n",
    "    # Definisce un dizionario di descrizione delle caratteristiche (feature)\n",
    "    feature_description = {\n",
    "        'image': tf.io.FixedLenFeature([], tf.string),  # L'immagine è memorizzata come stringa (bytes)\n",
    "        'label': tf.io.FixedLenFeature([], tf.float32),  # L'etichetta è memorizzata come float\n",
    "    }\n",
    "    # Esegue il parsing dell'input tf.train.Example proto utilizzando il dizionario di descrizione delle caratteristiche\n",
    "    example = tf.io.parse_single_example(tfrecord, feature_description)\n",
    "    # Decodifica l'immagine JPEG e la ridimensiona\n",
    "    image = tf.io.decode_jpeg(example['image'], channels=3)  # Decodifica l'immagine JPEG, preservando i 3 canali (RGB)\n",
    "    image = tf.reshape(image, [IMG_SIZE, IMG_SIZE, 3])  # Ridimensiona l'immagine alle dimensioni specificate (IMG_SIZE x IMG_SIZE x 3)\n",
    "    label = example['label']  # Estrae l'etichetta\n",
    "    return image, label  # Restituisce l'immagine e l'etichetta\n",
    "\n",
    "# Funzione per caricare un dataset TFRecord shardato e fare lo shuffle all'interno e tra i diversi shard\n",
    "def load_tfrecord_dataset(tfrecord_pattern, batch_size, img_size):\n",
    "    # Carica i file TFRecord utilizzando un pattern\n",
    "    raw_dataset = tf.data.Dataset.list_files(tfrecord_pattern)\n",
    "    # Intercala i record dai file TFRecord\n",
    "    raw_dataset = raw_dataset.interleave(\n",
    "        lambda filename: tf.data.TFRecordDataset(filename).map(parse_tfrecord, num_parallel_calls=tf.data.AUTOTUNE),  # Parsing parallelo dei record\n",
    "        cycle_length=CYCLE_LENGTH,  # Numero di file da leggere contemporaneamente\n",
    "        block_length=BLOCK_LENGTH,  # Numero di record da leggere da ciascun file alla volta\n",
    "        num_parallel_calls=tf.data.AUTOTUNE  # Numero di chiamate parallele è ottimizzato automaticamente\n",
    "    )\n",
    "    \n",
    "    # Funzione interna per ridimensionare l'immagine\n",
    "    def resize_image(image, label):\n",
    "        image = tf.image.resize(image, (img_size, img_size))  # Ridimensiona l'immagine alla dimensione desiderata (img_size x img_size)\n",
    "        return image, label\n",
    "\n",
    "    # Applica operazioni di shuffle, resize, batching e prefetching al dataset\n",
    "    dataset = raw_dataset.map(resize_image, num_parallel_calls=tf.data.AUTOTUNE)  # Ridimensiona le immagini\n",
    "    dataset = dataset.shuffle(buffer_size=10000).batch(batch_size, drop_remainder=False).repeat().prefetch(buffer_size=tf.data.AUTOTUNE)  # Shuffle, batch, repeat e prefetch dei dati\n",
    "    return dataset  # Restituisce il dataset pronto per l'addestramento o la valutazione\n",
    "\n",
    "# Caricamento dei dataset dai file TFRecord shardati\n",
    "train_dataset = load_tfrecord_dataset(os.path.join(dataset_dir, 'train_*.tfrecord'), BATCH_SIZE, IMG_SIZE)  # Carica il dataset di addestramento\n",
    "val_dataset = load_tfrecord_dataset(os.path.join(dataset_dir, 'val_*.tfrecord'), BATCH_SIZE, IMG_SIZE)  # Carica il dataset di validazione\n",
    "test_dataset = load_tfrecord_dataset(os.path.join(dataset_dir, 'test_*.tfrecord'), BATCH_SIZE, IMG_SIZE)  # Carica il dataset di test\n"
   ]
  },
  {
   "cell_type": "markdown",
   "metadata": {},
   "source": [
    "Parsing:\n",
    "1. Creazione del Dizionario in RAM: La CPU crea e memorizza un dizionario (feature_description) in RAM. Questo dizionario descrive la struttura di un singolo record contenuto nel file TFRecord, specificando che i dati per l'immagine sono memorizzati come una stringa di byte e che l'etichetta è un valore float. Il dizionario è essenziale per interpretare correttamente i dati grezzi memorizzati nel record.\n",
    "Parsing del Singolo Record TFRecord in RAM:\n",
    "2. Il TFRecord, che è già stato caricato in RAM, viene processato dalla CPU. La CPU utilizza il dizionario di descrizione delle caratteristiche per interpretare il record, estraendo l'immagine come stringa di byte e l'etichetta come valore float. Il risultato di questo parsing è un altro dizionario, creato e memorizzato in RAM, che contiene i dati strutturati (l'immagine e l'etichetta) estratti dal record.\n",
    "Decodifica e Preprocessing dell'Immagine:\n",
    "3. Dopo aver estratto l'immagine come stringa di byte dal record, la CPU procede a decodificarla, trasformandola da una stringa di byte in un array numerico tridimensionale (3D) che rappresenta l'immagine (altezza, larghezza, canali). L'immagine viene quindi ridimensionata alle dimensioni specificate (IMG_SIZE x IMG_SIZE). Sia l'immagine preprocessata che l'etichetta vengono memorizzate in RAM, pronte per essere utilizzate durante l'allenamento del modello.\n",
    "\n",
    "Loading and training:\n",
    "1. Caricamento dei Nomi dei File TFRecord in RAM: La CPU utilizza tf.data.Dataset.list_files(tfrecord_pattern) per chiedere al sistema I/O di cercare i file TFRecord sul disco e caricarne i nomi in RAM. Questo processo è sequenziale: la CPU attende che tutti i nomi dei file siano letti prima di procedere.\n",
    "2. Lettura e Parsing dei Record TFRecord in Parallelo: I file TFRecord vengono letti in parallelo sulla base del cycle_length (es. 2 file alla volta). All'interno di ciascun file, i record vengono caricati sequenzialmente secondo block_length (es. 2 record per volta). I record letti vengono immediatamente processati in parallelo dalla CPU che li decodifica e preprocessa, mentre vengono progressivamente inseriti in RAM nel buffer di shuffle.\n",
    "3. Shuffle e Preparazione dei Batch: Quando il buffer di shuffle contiene un numero sufficiente di record, la CPU mescola i dati e li organizza in batch. Mentre un batch viene utilizzato per l'allenamento, il sistema prefetch assicura che i batch successivi vengano preparati in parallelo, garantendo un flusso continuo di dati (Un buffer di shuffle sufficientemente grande (es. 10000) evita che le immagini si ripetano più volte in un'epoca)\n",
    "\n",
    "Liberazione della Memoria: Dopo che un batch è stato utilizzato per l'allenamento, la memoria occupata da quel batch viene liberata per fare spazio ai nuovi dati. Questo assicura che la RAM venga utilizzata in modo efficiente e che non si accumulino dati inutilizzati. Solo un numero limitato di record è mantenuto in RAM grazie al buffer di shuffle. Questo consente di gestire dataset di grandi dimensioni senza saturare la memoria."
   ]
  },
  {
   "cell_type": "markdown",
   "metadata": {},
   "source": [
    "## Setting Up the Model"
   ]
  },
  {
   "cell_type": "code",
   "execution_count": 8,
   "metadata": {},
   "outputs": [
    {
     "name": "stdout",
     "output_type": "stream",
     "text": [
      "Model: \"model_1\"\n",
      "_________________________________________________________________\n",
      " Layer (type)                Output Shape              Param #   \n",
      "=================================================================\n",
      " input_4 (InputLayer)        [(None, 380, 380, 3)]     0         \n",
      "                                                                 \n",
      " efficientnetb4 (Functional)  (None, None, None, 1792)  17673823 \n",
      "                                                                 \n",
      " global_average_pooling2d_1   (None, 1792)             0         \n",
      " (GlobalAveragePooling2D)                                        \n",
      "                                                                 \n",
      " batch_normalization_1 (Batc  (None, 1792)             7168      \n",
      " hNormalization)                                                 \n",
      "                                                                 \n",
      " dropout_1 (Dropout)         (None, 1792)              0         \n",
      "                                                                 \n",
      " dense_1 (Dense)             (None, 64)                114752    \n",
      "                                                                 \n",
      " pred (Dense)                (None, 1)                 65        \n",
      "                                                                 \n",
      "=================================================================\n",
      "Total params: 17,795,808\n",
      "Trainable params: 118,401\n",
      "Non-trainable params: 17,677,407\n",
      "_________________________________________________________________\n"
     ]
    }
   ],
   "source": [
    "# Carica il modello EfficientNetB4 pre-addestrato su ImageNet, escludendo gli strati superiori\n",
    "base_model = EfficientNetB4(include_top=False, weights=\"imagenet\")\n",
    "\n",
    "# Congela i pesi del modello base per evitare che vengano aggiornati durante l'addestramento\n",
    "base_model.trainable = False\n",
    "\n",
    "\n",
    "# (Opzionale) Scongela gli ultimi NUM_TRAINABLE_LAYERS strati per il fine-tuning\n",
    "for layer in base_model.layers[-NUM_TRAINABLE_LAYERS:]:\n",
    "    if not isinstance(layer, layers.BatchNormalization):\n",
    "        layer.trainable = True  # Rende addestrabili gli strati selezionati\n",
    "\n",
    "\n",
    "# Definisce il layer di input\n",
    "inputs = keras.Input(shape=(IMG_SIZE, IMG_SIZE, 3))\n",
    "\n",
    "# Preprocessa gli input per essere compatibili con EfficientNet\n",
    "x = tf.keras.applications.efficientnet.preprocess_input(inputs)\n",
    "\n",
    "# Passa gli input attraverso il modello base congelato\n",
    "x = base_model(x, training=False)\n",
    "\n",
    "# Applica global average pooling per ridurre le dimensioni\n",
    "x = layers.GlobalAveragePooling2D()(x)\n",
    "\n",
    "# Aggiunge batch normalization e dropout per stabilità e regolarizzazione\n",
    "x = layers.BatchNormalization()(x)\n",
    "x = layers.Dropout(DROPOUT_FRACTION)(x)\n",
    "\n",
    "# Strato completamente connesso per ulteriori rappresentazioni\n",
    "x = layers.Dense(64, activation='relu')(x)\n",
    "\n",
    "# Strato di output per la regressione\n",
    "outputs = layers.Dense(1, name=\"pred\")(x)\n",
    "\n",
    "# Crea il modello finale\n",
    "model = keras.Model(inputs, outputs)\n",
    "\n",
    "# Mostra l'architettura del modello\n",
    "model.summary()\n",
    "\n",
    "# Compila il modello con ottimizzatore, funzione di perdita e metrica di valutazione\n",
    "model.compile(\n",
    "    optimizer=keras.optimizers.Adam(learning_rate=0.0001),\n",
    "    loss='mean_squared_error',\n",
    "    metrics=['mean_absolute_percentage_error']\n",
    ")\n"
   ]
  },
  {
   "cell_type": "markdown",
   "metadata": {},
   "source": [
    "## Callbacks"
   ]
  },
  {
   "cell_type": "code",
   "execution_count": 9,
   "metadata": {},
   "outputs": [],
   "source": [
    "# Callback per l'early stopping: interrompe l'addestramento se la validazione non migliora\n",
    "earlystopping = callbacks.EarlyStopping(\n",
    "    monitor='val_loss',  # Monitora la perdita sulla validazione\n",
    "    mode='min',  # Si ferma quando la perdita smette di diminuire\n",
    "    patience=EARLYSTOPPING_PATIENCE,  # Numero di epoche senza miglioramento prima di interrompere\n",
    "    restore_best_weights=True  # Ripristina i pesi del modello migliori raggiunti\n",
    ")\n",
    "\n",
    "# Callback per ridurre il learning rate se la validazione non migliora\n",
    "lr_scheduler = callbacks.ReduceLROnPlateau(\n",
    "    monitor='val_loss',\n",
    "    factor=LR_SCHEDULER_FACTOR,  # Fattore di riduzione del learning rate\n",
    "    patience=LR_SCHEDULER_PATIENCE,  # Numero di epoche senza miglioramento prima di ridurre il learning rate\n",
    "    verbose=1  # Stampa un messaggio quando il learning rate viene ridotto\n",
    ")\n",
    "\n",
    "# Calcolo del numero di passi per epoca (steps_per_epoch) e per la validazione (validation_steps)\n",
    "steps_per_epoch = len(train_image_paths) // BATCH_SIZE\n",
    "validation_steps = len(val_image_paths) // BATCH_SIZE\n",
    "\n",
    "# Callback personalizzato per salvare il modello ogni n epoche\n",
    "class CustomModelCheckpoint(callbacks.Callback):\n",
    "    def __init__(self, filepath, save_freq, **kwargs):\n",
    "        super().__init__(**kwargs)\n",
    "        self.filepath = filepath\n",
    "        self.save_freq = save_freq\n",
    "        self.epochs_since_last_save = 0\n",
    "\n",
    "    def on_epoch_end(self, epoch, logs=None):\n",
    "        self.epochs_since_last_save += 1\n",
    "        if self.epochs_since_last_save >= self.save_freq:\n",
    "            self.epochs_since_last_save = 0\n",
    "            filepath = self.filepath.format(epoch=epoch + 1)\n",
    "            self.model.save(filepath, overwrite=True)  # Salva il modello\n",
    "            print(f\"Model saved at {filepath}\")\n",
    "\n",
    "# Callback per salvare il modello ogni SAVE_EVERY_N_EPOCHS epoche\n",
    "checkpoint_callback = CustomModelCheckpoint(\n",
    "    filepath=output_dir + '/modello_cnn_epoca_{epoch:02d}.keras',  # Percorso per salvare il modello\n",
    "    save_freq=SAVE_EVERY_N_EPOCHS  # Frequenza di salvataggio in epoche\n",
    ")\n",
    "\n",
    "# Variabili per memorizzare informazioni durante l'addestramento\n",
    "epoch_durations = []\n",
    "train_mape = []\n",
    "train_losses = []\n",
    "val_mape = []\n",
    "val_losses = []\n",
    "time_per_image = []\n",
    "\n",
    "class EpochLogger(callbacks.Callback):\n",
    "    def on_epoch_begin(self, epoch, logs=None):\n",
    "        self.epoch_start_time = time.time()  # Inizia il timer per l'epoca\n",
    "\n",
    "    def on_epoch_end(self, epoch, logs=None):\n",
    "        epoch_duration = time.time() - self.epoch_start_time  # Calcola la durata dell'epoca\n",
    "        epoch_durations.append(epoch_duration)\n",
    "        \n",
    "        # Logga le metriche di addestramento e validazione\n",
    "        train_mape.append(logs.get('mean_absolute_percentage_error', 0) if logs else 0)\n",
    "        train_losses.append(logs.get('loss', 0) if logs else 0)\n",
    "        val_mape.append(logs.get('val_mean_absolute_percentage_error', 0) if logs else 0)\n",
    "        val_losses.append(logs.get('val_loss', 0) if logs else 0)\n",
    "        \n",
    "        # Calcola il tempo per immagine durante l'epoca\n",
    "        total_images = (steps_per_epoch * BATCH_SIZE) + (validation_steps * BATCH_SIZE)\n",
    "        time_per_image_epoch = epoch_duration / total_images\n",
    "        time_per_image.append(time_per_image_epoch)\n",
    "\n",
    "    def on_train_end(self, logs=None):\n",
    "        # Salva tutte le informazioni in un unico file Excel al termine dell'addestramento\n",
    "        self.save_log()\n",
    "\n",
    "    def save_log(self):\n",
    "        # Salva le informazioni in un unico file Excel chiamato 'test_results.xlsx'\n",
    "        df = pd.DataFrame({\n",
    "            'Epoca': range(1, len(epoch_durations) + 1),\n",
    "            'Durata [s]': epoch_durations,\n",
    "            'Train MAPE': train_mape,\n",
    "            'Train loss': train_losses,\n",
    "            'Validation MAPE': val_mape,\n",
    "            'Validation loss': val_losses,\n",
    "            'Tempo per immagine [s]': time_per_image\n",
    "        })\n",
    "        with pd.ExcelWriter(output_dir + '/train_results.xlsx') as writer:\n",
    "            df.to_excel(writer, sheet_name='Training Log', index=False)\n",
    "            model_summary_df = self.get_model_summary_df()\n",
    "            model_summary_df.to_excel(writer, sheet_name='Model Structure', index=False)\n",
    "        print(\"Log unificato salvato in 'test_results.xlsx'\")\n",
    "\n",
    "    def get_model_summary_df(self):\n",
    "        # Crea un DataFrame con il riepilogo della struttura del modello\n",
    "        stringlist = []\n",
    "        self.model.summary(print_fn=lambda x: stringlist.append(x))\n",
    "        summary_str = \"\\n\".join(stringlist)\n",
    "        summary_list = summary_str.split(\"\\n\")\n",
    "        df = pd.DataFrame(summary_list, columns=[\"Model Structure\"])\n",
    "        return df\n",
    "\n",
    "# Callback per loggare le informazioni sulle epoche\n",
    "epoch_logger = EpochLogger()\n",
    "\n",
    "# Callback per stampare le etichette dei batch all'inizio di ogni epoca\n",
    "class BatchLabelPrinter(callbacks.Callback):\n",
    "    def __init__(self, dataset, num_batches=5):\n",
    "        super(BatchLabelPrinter, self).__init__()\n",
    "        self.dataset = dataset\n",
    "        self.num_batches = num_batches\n",
    "\n",
    "    def on_epoch_begin(self, epoch, logs=None):\n",
    "        print(f\"Epoch {epoch+1} begins\")\n",
    "\n",
    "        # Stampa le etichette dei primi batch\n",
    "        for batch_num, (images, labels) in enumerate(self.dataset.take(self.num_batches)):\n",
    "            print(f\"Batch {batch_num+1}:\")\n",
    "            print(labels.numpy())\n",
    "            print(\"-\" * 50)\n",
    "\n",
    "# Istanzia il callback per stampare le etichette dei batch\n",
    "batch_label_printer = BatchLabelPrinter(train_dataset)\n",
    "\n"
   ]
  },
  {
   "cell_type": "markdown",
   "metadata": {},
   "source": [
    "## Training of the model"
   ]
  },
  {
   "cell_type": "code",
   "execution_count": 10,
   "metadata": {},
   "outputs": [
    {
     "name": "stdout",
     "output_type": "stream",
     "text": [
      "Epoch 1/10\n",
      "376/376 [==============================] - ETA: 0s - loss: 3388.3542 - mean_absolute_percentage_error: 66.6032Log salvato per l'epoca 1\n",
      "376/376 [==============================] - 390s 891ms/step - loss: 3388.3542 - mean_absolute_percentage_error: 66.6032 - val_loss: 2216.1123 - val_mean_absolute_percentage_error: 52.0436\n",
      "Epoch 2/10\n",
      "376/376 [==============================] - ETA: 0s - loss: 725.7292 - mean_absolute_percentage_error: 27.3255Log salvato per l'epoca 2\n",
      "376/376 [==============================] - 321s 855ms/step - loss: 725.7292 - mean_absolute_percentage_error: 27.3255 - val_loss: 448.4001 - val_mean_absolute_percentage_error: 22.5861\n",
      "Epoch 3/10\n",
      "376/376 [==============================] - ETA: 0s - loss: 380.7117 - mean_absolute_percentage_error: 20.8991Log salvato per l'epoca 3\n",
      "376/376 [==============================] - 317s 844ms/step - loss: 380.7117 - mean_absolute_percentage_error: 20.8991 - val_loss: 290.9713 - val_mean_absolute_percentage_error: 19.0515\n",
      "Epoch 4/10\n",
      "376/376 [==============================] - ETA: 0s - loss: 287.7643 - mean_absolute_percentage_error: 18.6715Log salvato per l'epoca 4\n",
      "376/376 [==============================] - 285s 758ms/step - loss: 287.7643 - mean_absolute_percentage_error: 18.6715 - val_loss: 237.7425 - val_mean_absolute_percentage_error: 17.4945\n",
      "Epoch 5/10\n",
      "376/376 [==============================] - ETA: 0s - loss: 249.4788 - mean_absolute_percentage_error: 17.5922Log salvato per l'epoca 5\n",
      "376/376 [==============================] - 283s 754ms/step - loss: 249.4788 - mean_absolute_percentage_error: 17.5922 - val_loss: 214.2813 - val_mean_absolute_percentage_error: 16.6553\n",
      "Epoch 6/10\n",
      "376/376 [==============================] - ETA: 0s - loss: 227.9371 - mean_absolute_percentage_error: 16.9072Log salvato per l'epoca 6\n",
      "376/376 [==============================] - 285s 759ms/step - loss: 227.9371 - mean_absolute_percentage_error: 16.9072 - val_loss: 200.6725 - val_mean_absolute_percentage_error: 16.1346\n",
      "Epoch 7/10\n",
      "376/376 [==============================] - ETA: 0s - loss: 215.6573 - mean_absolute_percentage_error: 16.4882Log salvato per l'epoca 7\n",
      "376/376 [==============================] - 287s 763ms/step - loss: 215.6573 - mean_absolute_percentage_error: 16.4882 - val_loss: 193.4874 - val_mean_absolute_percentage_error: 15.8205\n",
      "Epoch 8/10\n",
      "376/376 [==============================] - ETA: 0s - loss: 206.1127 - mean_absolute_percentage_error: 16.1708Log salvato per l'epoca 8\n",
      "376/376 [==============================] - 286s 761ms/step - loss: 206.1127 - mean_absolute_percentage_error: 16.1708 - val_loss: 187.1191 - val_mean_absolute_percentage_error: 15.5193\n",
      "Epoch 9/10\n",
      "376/376 [==============================] - ETA: 0s - loss: 199.3451 - mean_absolute_percentage_error: 15.9225Log salvato per l'epoca 9\n",
      "376/376 [==============================] - 290s 772ms/step - loss: 199.3451 - mean_absolute_percentage_error: 15.9225 - val_loss: 184.7994 - val_mean_absolute_percentage_error: 15.4352\n",
      "Epoch 10/10\n",
      "376/376 [==============================] - ETA: 0s - loss: 192.5521 - mean_absolute_percentage_error: 15.6813Log salvato per l'epoca 10\n",
      "376/376 [==============================] - 312s 830ms/step - loss: 192.5521 - mean_absolute_percentage_error: 15.6813 - val_loss: 180.3142 - val_mean_absolute_percentage_error: 15.3010\n"
     ]
    }
   ],
   "source": [
    "# Train the model\n",
    "history = model.fit(\n",
    "    train_dataset,\n",
    "    epochs=EPOCHS,\n",
    "    validation_data=val_dataset,\n",
    "    steps_per_epoch=steps_per_epoch,\n",
    "    validation_steps=validation_steps,\n",
    "    verbose=1,\n",
    "    callbacks=[earlystopping, epoch_logger]\n",
    ")\n"
   ]
  },
  {
   "cell_type": "markdown",
   "metadata": {},
   "source": [
    "## Visualize MAPE and Loss"
   ]
  },
  {
   "cell_type": "code",
   "execution_count": 11,
   "metadata": {},
   "outputs": [
    {
     "data": {
      "image/png": "[encoded data removed]",
      "text/plain": [
       "<Figure size 1200x600 with 2 Axes>"
      ]
     },
     "metadata": {},
     "output_type": "display_data"
    }
   ],
   "source": [
    "# Traccia la storia dell'addestramento\n",
    "def plot_training_history(history):\n",
    "    plt.figure(figsize=(12, 6))\n",
    "\n",
    "    # Grafico MAPE (Errore Percentuale Medio Assoluto)\n",
    "    plt.subplot(1, 2, 1)\n",
    "    plt.plot(history.history['mean_absolute_percentage_error'], label='Train MAPE')\n",
    "    plt.plot(history.history['val_mean_absolute_percentage_error'], label='Validation MAPE')\n",
    "    plt.title('Model MAPE')\n",
    "    plt.xlabel('Epoch')\n",
    "    plt.ylabel('MAPE')\n",
    "    plt.legend(loc='upper right')\n",
    "\n",
    "    # Grafico della perdita (Loss)\n",
    "    plt.subplot(1, 2, 2)\n",
    "    plt.plot(history.history['loss'], label='Train Loss')\n",
    "    plt.plot(history.history['val_loss'], label='Validation Loss')\n",
    "    plt.title('Model Loss')\n",
    "    plt.xlabel('Epoch')\n",
    "    plt.ylabel('Loss')\n",
    "    plt.legend(loc='upper right')\n",
    "\n",
    "    plt.tight_layout()\n",
    "    plt.savefig(output_dir + '/training_cnn_learning_curves.png')\n",
    "    plt.show()\n",
    "\n",
    "# Esegui la funzione per tracciare i grafici\n",
    "plot_training_history(history)\n"
   ]
  },
  {
   "cell_type": "markdown",
   "metadata": {},
   "source": [
    "## Save the Final Model "
   ]
  },
  {
   "cell_type": "code",
   "execution_count": 11,
   "metadata": {},
   "outputs": [],
   "source": [
    "# Save the final .keras model\n",
    "model.save(output_dir + '/modello_cnn_finale.keras')"
   ]
  },
  {
   "cell_type": "code",
   "execution_count": 12,
   "metadata": {},
   "outputs": [
    {
     "name": "stdout",
     "output_type": "stream",
     "text": [
      "WARNING:tensorflow:Compiled the loaded model, but the compiled metrics have yet to be built. `model.compile_metrics` will be empty until you train or evaluate the model.\n"
     ]
    },
    {
     "ename": "TypeError",
     "evalue": "Unable to serialize [2.0896919 2.1128857 2.1081853] to JSON. Unrecognized type <class 'tensorflow.python.framework.ops.EagerTensor'>.",
     "output_type": "error",
     "traceback": [
      "\u001b[1;31m---------------------------------------------------------------------------\u001b[0m",
      "\u001b[1;31mTypeError\u001b[0m                                 Traceback (most recent call last)",
      "Cell \u001b[1;32mIn[12], line 1\u001b[0m\n\u001b[1;32m----> 1\u001b[0m \u001b[43mbase_model\u001b[49m\u001b[38;5;241;43m.\u001b[39;49m\u001b[43msave\u001b[49m\u001b[43m(\u001b[49m\u001b[43moutput_dir\u001b[49m\u001b[43m \u001b[49m\u001b[38;5;241;43m+\u001b[39;49m\u001b[43m \u001b[49m\u001b[38;5;124;43m'\u001b[39;49m\u001b[38;5;124;43m/efficientnetb4_base_model.h5\u001b[39;49m\u001b[38;5;124;43m'\u001b[39;49m\u001b[43m)\u001b[49m\n",
      "File \u001b[1;32m~\\anaconda3\\envs\\gpu_prova\\lib\\site-packages\\keras\\utils\\traceback_utils.py:70\u001b[0m, in \u001b[0;36mfilter_traceback.<locals>.error_handler\u001b[1;34m(*args, **kwargs)\u001b[0m\n\u001b[0;32m     67\u001b[0m     filtered_tb \u001b[38;5;241m=\u001b[39m _process_traceback_frames(e\u001b[38;5;241m.\u001b[39m__traceback__)\n\u001b[0;32m     68\u001b[0m     \u001b[38;5;66;03m# To get the full stack trace, call:\u001b[39;00m\n\u001b[0;32m     69\u001b[0m     \u001b[38;5;66;03m# `tf.debugging.disable_traceback_filtering()`\u001b[39;00m\n\u001b[1;32m---> 70\u001b[0m     \u001b[38;5;28;01mraise\u001b[39;00m e\u001b[38;5;241m.\u001b[39mwith_traceback(filtered_tb) \u001b[38;5;28;01mfrom\u001b[39;00m \u001b[38;5;28;01mNone\u001b[39;00m\n\u001b[0;32m     71\u001b[0m \u001b[38;5;28;01mfinally\u001b[39;00m:\n\u001b[0;32m     72\u001b[0m     \u001b[38;5;28;01mdel\u001b[39;00m filtered_tb\n",
      "File \u001b[1;32m~\\anaconda3\\envs\\gpu_prova\\lib\\json\\__init__.py:238\u001b[0m, in \u001b[0;36mdumps\u001b[1;34m(obj, skipkeys, ensure_ascii, check_circular, allow_nan, cls, indent, separators, default, sort_keys, **kw)\u001b[0m\n\u001b[0;32m    232\u001b[0m \u001b[38;5;28;01mif\u001b[39;00m \u001b[38;5;28mcls\u001b[39m \u001b[38;5;129;01mis\u001b[39;00m \u001b[38;5;28;01mNone\u001b[39;00m:\n\u001b[0;32m    233\u001b[0m     \u001b[38;5;28mcls\u001b[39m \u001b[38;5;241m=\u001b[39m JSONEncoder\n\u001b[0;32m    234\u001b[0m \u001b[38;5;28;01mreturn\u001b[39;00m \u001b[38;5;28;43mcls\u001b[39;49m\u001b[43m(\u001b[49m\n\u001b[0;32m    235\u001b[0m \u001b[43m    \u001b[49m\u001b[43mskipkeys\u001b[49m\u001b[38;5;241;43m=\u001b[39;49m\u001b[43mskipkeys\u001b[49m\u001b[43m,\u001b[49m\u001b[43m \u001b[49m\u001b[43mensure_ascii\u001b[49m\u001b[38;5;241;43m=\u001b[39;49m\u001b[43mensure_ascii\u001b[49m\u001b[43m,\u001b[49m\n\u001b[0;32m    236\u001b[0m \u001b[43m    \u001b[49m\u001b[43mcheck_circular\u001b[49m\u001b[38;5;241;43m=\u001b[39;49m\u001b[43mcheck_circular\u001b[49m\u001b[43m,\u001b[49m\u001b[43m \u001b[49m\u001b[43mallow_nan\u001b[49m\u001b[38;5;241;43m=\u001b[39;49m\u001b[43mallow_nan\u001b[49m\u001b[43m,\u001b[49m\u001b[43m \u001b[49m\u001b[43mindent\u001b[49m\u001b[38;5;241;43m=\u001b[39;49m\u001b[43mindent\u001b[49m\u001b[43m,\u001b[49m\n\u001b[0;32m    237\u001b[0m \u001b[43m    \u001b[49m\u001b[43mseparators\u001b[49m\u001b[38;5;241;43m=\u001b[39;49m\u001b[43mseparators\u001b[49m\u001b[43m,\u001b[49m\u001b[43m \u001b[49m\u001b[43mdefault\u001b[49m\u001b[38;5;241;43m=\u001b[39;49m\u001b[43mdefault\u001b[49m\u001b[43m,\u001b[49m\u001b[43m \u001b[49m\u001b[43msort_keys\u001b[49m\u001b[38;5;241;43m=\u001b[39;49m\u001b[43msort_keys\u001b[49m\u001b[43m,\u001b[49m\n\u001b[1;32m--> 238\u001b[0m \u001b[43m    \u001b[49m\u001b[38;5;241;43m*\u001b[39;49m\u001b[38;5;241;43m*\u001b[39;49m\u001b[43mkw\u001b[49m\u001b[43m)\u001b[49m\u001b[38;5;241;43m.\u001b[39;49m\u001b[43mencode\u001b[49m\u001b[43m(\u001b[49m\u001b[43mobj\u001b[49m\u001b[43m)\u001b[49m\n",
      "File \u001b[1;32m~\\anaconda3\\envs\\gpu_prova\\lib\\json\\encoder.py:199\u001b[0m, in \u001b[0;36mJSONEncoder.encode\u001b[1;34m(self, o)\u001b[0m\n\u001b[0;32m    195\u001b[0m         \u001b[38;5;28;01mreturn\u001b[39;00m encode_basestring(o)\n\u001b[0;32m    196\u001b[0m \u001b[38;5;66;03m# This doesn't pass the iterator directly to ''.join() because the\u001b[39;00m\n\u001b[0;32m    197\u001b[0m \u001b[38;5;66;03m# exceptions aren't as detailed.  The list call should be roughly\u001b[39;00m\n\u001b[0;32m    198\u001b[0m \u001b[38;5;66;03m# equivalent to the PySequence_Fast that ''.join() would do.\u001b[39;00m\n\u001b[1;32m--> 199\u001b[0m chunks \u001b[38;5;241m=\u001b[39m \u001b[38;5;28;43mself\u001b[39;49m\u001b[38;5;241;43m.\u001b[39;49m\u001b[43miterencode\u001b[49m\u001b[43m(\u001b[49m\u001b[43mo\u001b[49m\u001b[43m,\u001b[49m\u001b[43m \u001b[49m\u001b[43m_one_shot\u001b[49m\u001b[38;5;241;43m=\u001b[39;49m\u001b[38;5;28;43;01mTrue\u001b[39;49;00m\u001b[43m)\u001b[49m\n\u001b[0;32m    200\u001b[0m \u001b[38;5;28;01mif\u001b[39;00m \u001b[38;5;129;01mnot\u001b[39;00m \u001b[38;5;28misinstance\u001b[39m(chunks, (\u001b[38;5;28mlist\u001b[39m, \u001b[38;5;28mtuple\u001b[39m)):\n\u001b[0;32m    201\u001b[0m     chunks \u001b[38;5;241m=\u001b[39m \u001b[38;5;28mlist\u001b[39m(chunks)\n",
      "File \u001b[1;32m~\\anaconda3\\envs\\gpu_prova\\lib\\json\\encoder.py:257\u001b[0m, in \u001b[0;36mJSONEncoder.iterencode\u001b[1;34m(self, o, _one_shot)\u001b[0m\n\u001b[0;32m    252\u001b[0m \u001b[38;5;28;01melse\u001b[39;00m:\n\u001b[0;32m    253\u001b[0m     _iterencode \u001b[38;5;241m=\u001b[39m _make_iterencode(\n\u001b[0;32m    254\u001b[0m         markers, \u001b[38;5;28mself\u001b[39m\u001b[38;5;241m.\u001b[39mdefault, _encoder, \u001b[38;5;28mself\u001b[39m\u001b[38;5;241m.\u001b[39mindent, floatstr,\n\u001b[0;32m    255\u001b[0m         \u001b[38;5;28mself\u001b[39m\u001b[38;5;241m.\u001b[39mkey_separator, \u001b[38;5;28mself\u001b[39m\u001b[38;5;241m.\u001b[39mitem_separator, \u001b[38;5;28mself\u001b[39m\u001b[38;5;241m.\u001b[39msort_keys,\n\u001b[0;32m    256\u001b[0m         \u001b[38;5;28mself\u001b[39m\u001b[38;5;241m.\u001b[39mskipkeys, _one_shot)\n\u001b[1;32m--> 257\u001b[0m \u001b[38;5;28;01mreturn\u001b[39;00m \u001b[43m_iterencode\u001b[49m\u001b[43m(\u001b[49m\u001b[43mo\u001b[49m\u001b[43m,\u001b[49m\u001b[43m \u001b[49m\u001b[38;5;241;43m0\u001b[39;49m\u001b[43m)\u001b[49m\n",
      "\u001b[1;31mTypeError\u001b[0m: Unable to serialize [2.0896919 2.1128857 2.1081853] to JSON. Unrecognized type <class 'tensorflow.python.framework.ops.EagerTensor'>."
     ]
    }
   ],
   "source": [
    "base_model.save(output_dir + '/efficientnetb4_base_model.h5')"
   ]
  },
  {
   "cell_type": "markdown",
   "metadata": {},
   "source": [
    "## Evaluating the Model on Test Dataset"
   ]
  },
  {
   "cell_type": "code",
   "execution_count": null,
   "metadata": {},
   "outputs": [],
   "source": [
    "# Funzione per ottenere i nomi dei file immagine nella directory specificata\n",
    "def get_image_filenames(directory):\n",
    "    valid_extensions = ('.jpg', '.jpeg', '.png', '.bmp', '.gif')  # Definisce le estensioni valide per i file immagine\n",
    "    filenames = [os.path.join(directory, img_name) for img_name in os.listdir(directory) \n",
    "                 if img_name.lower().endswith(valid_extensions)]  # Filtra i file per estensioni valide\n",
    "    return filenames  # Restituisce la lista dei percorsi completi dei file immagine\n",
    "\n",
    "# Funzione per caricare le etichette da un file Excel\n",
    "def load_labels_from_excel_with_filenames(excel_file):\n",
    "    df = pd.read_excel(excel_file)  # Carica il file Excel in un DataFrame Pandas\n",
    "    filenames = df['Filename'].values  # Estrae i nomi dei file dalle colonne del DataFrame\n",
    "    labels = df['RST'].values  # Estrae le etichette (RST) dalle colonne del DataFrame\n",
    "    return df, dict(zip(filenames, labels)), filenames  # Restituisce il DataFrame, un dizionario file-etichetta, e l'elenco dei nomi file\n",
    "\n",
    "# Funzione per caricare i dati di test: immagini e etichette\n",
    "def load_test_data(dataset_dir):\n",
    "    # Carica il DataFrame di test e il dizionario file-etichetta\n",
    "    test_df, test_labels_dict, test_filenames_from_excel = load_labels_from_excel_with_filenames(os.path.join(dataset_dir, 'test.xlsx'))\n",
    "    test_image_filenames = get_image_filenames(os.path.join(dataset_dir, 'test'))  # Ottiene i nomi dei file immagine\n",
    "    \n",
    "    # Filtra le immagini che non hanno corrispondenza nelle etichette\n",
    "    true_labels_from_excel = []\n",
    "    for fname in test_image_filenames:\n",
    "        base_name = os.path.basename(fname)  # Estrae il nome del file\n",
    "        if base_name in test_labels_dict:  # Verifica se il file ha un'etichetta corrispondente\n",
    "            true_labels_from_excel.append(test_labels_dict[base_name])  # Aggiunge l'etichetta corrispondente\n",
    "        else:\n",
    "            print(f\"Warning: '{base_name}' not found in the Excel file and will be skipped.\")  # Avviso per file senza etichetta\n",
    "\n",
    "    return test_df, test_image_filenames, test_labels_dict, test_filenames_from_excel, true_labels_from_excel  # Restituisce i dati di test\n",
    "\n",
    "# Funzione per calcolare il numero di passi (batch) necessari per processare l'insieme di test\n",
    "def calculate_test_steps(test_image_filenames, batch_size):\n",
    "    return np.ceil(len(test_image_filenames) / batch_size).astype(int)  # Calcola e restituisce il numero di batch\n",
    "\n",
    "# Funzione per eseguire le predizioni sul dataset di test\n",
    "def predict_results(model, test_dataset, test_steps):\n",
    "    start_time = time.time()  # Inizia il timer\n",
    "    preds = model.predict(test_dataset, steps=test_steps)  # Esegue le predizioni sui dati di test\n",
    "    test_duration = time.time() - start_time  # Calcola la durata del test\n",
    "    return preds, test_duration  # Restituisce le predizioni e la durata del test\n",
    "\n",
    "# Funzione per valutare il modello sul dataset di test\n",
    "def evaluate_model(model, test_dataset, test_steps):\n",
    "    result = model.evaluate(test_dataset, steps=test_steps)  # Valuta il modello e calcola le metriche\n",
    "    metrics_result = dict(zip(model.metrics_names, result))  # Crea un dizionario con i nomi delle metriche e i rispettivi valori\n",
    "    print('Metrics Results:', metrics_result)  # Stampa le metriche di valutazione\n",
    "    return metrics_result  # Restituisce le metriche\n",
    "\n",
    "# Funzione per aggiungere le etichette previste al DataFrame originale\n",
    "def add_predicted_labels_to_df(test_df, test_labels_pred, test_filenames_from_excel, test_image_filenames):\n",
    "    test_df['Predicted Label'] = [\n",
    "        test_labels_pred[test_filenames_from_excel.tolist().index(os.path.basename(fname))]\n",
    "        if os.path.basename(fname) in test_filenames_from_excel else None  # Aggiunge la predizione solo se il file ha una corrispondenza\n",
    "        for fname in test_image_filenames\n",
    "    ]\n",
    "    return test_df  # Restituisce il DataFrame aggiornato con le predizioni\n",
    "\n",
    "# Funzione per creare un DataFrame con i risultati del test\n",
    "def create_test_results_df(test_duration, metrics_result):\n",
    "    test_loss = metrics_result.get('loss')  # Ottiene la perdita dal dizionario delle metriche\n",
    "    test_mape = metrics_result.get('compile_metrics')  # Ottiene il MAPE (da modificare se necessario)\n",
    "    return pd.DataFrame({\n",
    "        'Metric': ['Test Duration [s]', 'Test Loss', 'Test MAPE'],  # Crea un DataFrame con le metriche principali\n",
    "        'Value': [test_duration, test_loss, test_mape]\n",
    "    })\n",
    "\n",
    "# Funzione per raggruppare per 'PLOT' e calcolare la media della 'Predicted Label' e MAPE\n",
    "def group_by_plot_and_calculate_metrics(test_df):\n",
    "    grouped_df = test_df.groupby('PLOT').agg({\n",
    "        'RST': 'first',  # Assume che RST sia lo stesso all'interno di ogni PLOT\n",
    "        'CROP': 'first',  # Assume che CROP sia lo stesso all'interno di ogni PLOT\n",
    "        'Predicted Label': 'mean'  # Calcola la media delle predizioni per ogni PLOT\n",
    "    }).reset_index()\n",
    "    grouped_df['MAPE'] = abs((grouped_df['RST'] - grouped_df['Predicted Label']) / grouped_df['RST']) * 100  # Calcola il MAPE\n",
    "    overall_mape = grouped_df['MAPE'].mean()  # Calcola il MAPE complessivo\n",
    "    overall_mape_df = pd.DataFrame({\n",
    "        'PLOT': ['Overall'],\n",
    "        'RST': [None],\n",
    "        'CROP': [None],\n",
    "        'Predicted Label': [None],\n",
    "        'MAPE': [overall_mape]\n",
    "    }).dropna(axis=1, how='all')  # Crea una riga aggiuntiva per il MAPE complessivo\n",
    "    grouped_df = pd.concat([grouped_df, overall_mape_df], ignore_index=True)  # Unisce i risultati\n",
    "    return grouped_df  # Restituisce il DataFrame raggruppato\n",
    "\n",
    "# Funzione per salvare i DataFrame in un file Excel\n",
    "def save_to_excel(output_dir, test_results_df, test_df, grouped_df):\n",
    "    with pd.ExcelWriter(os.path.join(output_dir, 'test_cnn.xlsx')) as writer:\n",
    "        test_results_df.to_excel(writer, sheet_name='Test Results', index=False)  # Salva i risultati del test\n",
    "        test_df.to_excel(writer, sheet_name='Tile Predictions', index=False)  # Salva il DataFrame delle predizioni\n",
    "        grouped_df.to_excel(writer, sheet_name='Plot Predictions', index=False)  # Salva il DataFrame raggruppato\n",
    "\n",
    "# Workflow principale che coordina tutte le operazioni\n",
    "def main(dataset_dir, output_dir, model, test_dataset, batch_size):\n",
    "    test_df, test_image_filenames, test_labels_dict, test_filenames_from_excel, true_labels_from_excel = load_test_data(dataset_dir)  # Carica i dati di test\n",
    "    test_steps = calculate_test_steps(test_image_filenames, batch_size)  # Calcola il numero di passi di test\n",
    "    preds, test_duration = predict_results(model, test_dataset, test_steps)  # Esegue le predizioni\n",
    "    metrics_result = evaluate_model(model, test_dataset, test_steps)  # Valuta il modello\n",
    "    test_labels_pred = preds.flatten()  # Appiattisce l'array delle predizioni\n",
    "    test_df = add_predicted_labels_to_df(test_df, test_labels_pred, test_filenames_from_excel, test_image_filenames)  # Aggiunge le predizioni al DataFrame\n",
    "    test_results_df = create_test_results_df(test_duration, metrics_result)  # Crea il DataFrame con i risultati del test\n",
    "    grouped_df = group_by_plot_and_calculate_metrics(test_df)  # Raggruppa per PLOT e calcola le metriche\n",
    "    save_to_excel(output_dir, test_results_df, test_df, grouped_df)  # Salva tutto in un file Excel\n",
    "\n",
    "# Chiamata alla funzione principale con i parametri specificati\n",
    "main(dataset_dir, output_dir, model, test_dataset, BATCH_SIZE)\n",
    "\n"
   ]
  },
  {
   "cell_type": "code",
   "execution_count": 8,
   "metadata": {},
   "outputs": [
    {
     "data": {
      "image/png": "[encoded data removed]",
      "text/plain": [
       "<Figure size 800x600 with 1 Axes>"
      ]
     },
     "metadata": {},
     "output_type": "display_data"
    },
    {
     "name": "stdout",
     "output_type": "stream",
     "text": [
      "Scatter plot saved to Output_Dataset_900\\measured_vs_predicted_yield_cnn_test.png\n"
     ]
    }
   ],
   "source": [
    "import numpy as np\n",
    "import pandas as pd\n",
    "import matplotlib.pyplot as plt\n",
    "from sklearn.metrics import r2_score, mean_absolute_percentage_error\n",
    "\n",
    "# Path to the Excel file created by the previous workflow\n",
    "output_excel_path = os.path.join(output_dir, 'test_results.xlsx')\n",
    "\n",
    "# Load the grouped plot predictions from the Excel file (assuming it's saved in the 'Plot Predictions' sheet)\n",
    "plot_predictions_df = pd.read_excel(output_excel_path, sheet_name='Grouped Predictions')\n",
    "\n",
    "# Extract the true and predicted values\n",
    "true_yield = plot_predictions_df['RST'][:-1].values  # Exclude the overall MAPE row\n",
    "predicted_yield = plot_predictions_df['Predicted Label'][:-1].values  # Exclude the overall MAPE row\n",
    "crop_type = plot_predictions_df['CROP'][:-1].values  # Exclude the overall MAPE row\n",
    "\n",
    "# Calculate R^2 and MAPE\n",
    "r2 = r2_score(true_yield, predicted_yield)\n",
    "mape = mean_absolute_percentage_error(true_yield, predicted_yield) * 100\n",
    "\n",
    "# Create a scatter plot with different markers for each crop type\n",
    "plt.figure(figsize=(8, 6))\n",
    "\n",
    "# Scatter plot for 'Frumento Duro'\n",
    "mask_duro = crop_type == 'Frumento Duro'\n",
    "plt.scatter(true_yield[mask_duro], predicted_yield[mask_duro], \n",
    "            color='red', marker='o', label='Frumento Duro', alpha=0.6, edgecolors='w')\n",
    "\n",
    "# Scatter plot for 'Frumento Tenero'\n",
    "mask_tenero = crop_type == 'Frumento Tenero'\n",
    "plt.scatter(true_yield[mask_tenero], predicted_yield[mask_tenero], \n",
    "            color='blue', marker='s', label='Frumento Tenero', alpha=0.6, edgecolors='w')\n",
    "\n",
    "# Add the 1:1 line (perfect prediction line)\n",
    "max_yield = max(max(true_yield), max(predicted_yield))\n",
    "plt.plot([0, max_yield], [0, max_yield], 'k--', lw=2)\n",
    "\n",
    "# Add R^2 and MAPE values to the plot\n",
    "plt.text(0.05 * max_yield, 0.95 * max_yield, f'$R^2$: {r2:.2f}', fontsize=12)\n",
    "plt.text(0.05 * max_yield, 0.90 * max_yield, f'MAPE: {mape:.2f}%', fontsize=12)\n",
    "\n",
    "# Axis labels\n",
    "plt.xlabel('Measured Yield (qli ha$^{-1}$)', fontsize=14)\n",
    "plt.ylabel('Predicted Yield (qli ha$^{-1}$)', fontsize=14)\n",
    "\n",
    "# Title and legend\n",
    "plt.title('Measured vs Predicted Yield (CNN Test Results)', fontsize=16)\n",
    "plt.legend()\n",
    "\n",
    "# Save and show the plot\n",
    "scatter_plot_path = os.path.join(output_dir, 'measured_vs_predicted_yield_cnn_test.png')\n",
    "plt.savefig(scatter_plot_path, dpi=300, bbox_inches='tight')\n",
    "plt.show()\n",
    "\n",
    "print(f\"Scatter plot saved to {scatter_plot_path}\")\n"
   ]
  },
  {
   "cell_type": "markdown",
   "metadata": {},
   "source": [
    "1. Caricamento dei File Immagine e delle Etichette\n",
    "- Funzione: load_test_data\n",
    "- Processo:\n",
    "    - Caricamento delle Immagini: La CPU legge i nomi dei file immagine dal disco e li carica in RAM come una lista di percorsi.\n",
    "    - Caricamento delle Etichette: Viene caricato il file Excel contenente le etichette in un DataFrame Pandas (test_df).\n",
    "    - Corrispondenza Immagini-Etichette: Le immagini che non hanno una corrispondenza nelle etichette vengono filtrate e ignorate. Le etichette corrispondenti vengono memorizzate in un dizionario (test_labels_dict) e in un array (true_labels_from_excel).\n",
    " \n",
    "2. Calcolo dei Passi per il Test\n",
    "- Funzione: calculate_test_steps\n",
    "- Processo:\n",
    "    - La CPU calcola il numero di batch necessari per processare tutte le immagini di test, basandosi sul numero totale di immagini e sulla dimensione del batch.\n",
    "    - Questo valore (test_steps) viene memorizzato in RAM per l'utilizzo successivo.\n",
    " \n",
    "3. Predizione dei Risultati sul Dataset di Test\n",
    "- Funzione: predict_results\n",
    "- Processo:\n",
    "    - Batch Processing: Il modello processa le immagini in batch (ad es., 32 immagini per batch).\n",
    "    - Parallelismo: Ogni batch viene processato in parallelo sulla GPU/TPU, con tutte le immagini nel batch elaborate contemporaneamente.\n",
    "    - Output: Per ogni batch, il modello genera un array di predizioni (etichette previste) per ciascuna immagine. Questo array viene accumulato fino a coprire tutte le immagini di test.\n",
    "    - Memoria: Solo un batch è caricato in RAM alla volta. Una volta processato, le predizioni vengono salvate in un array (test_labels_pred), e la memoria è liberata per il batch successivo.\n",
    "    - Risultato Finale: Alla fine del processo, tutte le predizioni per le immagini di test sono state accumulate in test_labels_pred.\n",
    " \n",
    "4. Valutazione del Modello sul Dataset di Test\n",
    "- Funzione: evaluate_model\n",
    "- Processo:\n",
    "    - Batch Processing: Come nella predizione, le immagini sono processate in batch.\n",
    "    - Parallelismo: La GPU/TPU elabora le immagini in parallelo per ciascun batch.\n",
    "    - Calcolo delle Metriche: Oltre a fare le predizioni, il modello calcola la perdita (loss) e il MAPE per ogni batch.\n",
    "    - Aggregazione delle Metriche:\n",
    "        - Dopo aver calcolato le metriche per un batch, queste vengono combinate con le metriche calcolate sui batch precedenti.\n",
    "        - Alla fine della valutazione su tutti i batch, le metriche finali, come la media della perdita e del MAPE, sono calcolate per l'intero dataset di test.\n",
    "    - Output: Queste metriche finali vengono memorizzate in un dizionario (metrics_result), che rappresenta la performance complessiva del modello su tutto il dataset di test.\n",
    " \n",
    "5. Aggiunta delle Predizioni al DataFrame\n",
    "- Funzione: add_predicted_labels_to_df\n",
    "- Processo:\n",
    "    - Le predizioni ottenute dal modello (test_labels_pred) vengono aggiunte come nuova colonna (Predicted Label) al DataFrame originale test_df, associando ciascuna predizione all'immagine corrispondente.\n",
    " \n",
    "6. Creazione del DataFrame dei Risultati di Test\n",
    "- Funzione: create_test_results_df\n",
    "- Processo:\n",
    "    - Viene creato un nuovo DataFrame (test_results_df) che contiene:\n",
    "        - La durata totale del test (test_duration).\n",
    "        - La perdita finale (test_loss) e il MAPE calcolato (test_mape) su tutto il dataset di test.\n",
    "    - Questo DataFrame è utilizzato per riportare i risultati complessivi della valutazione.\n",
    "\n",
    "7. Raggruppamento per \"PLOT\" e Calcolo delle Metriche\n",
    "- Funzione: group_by_plot_and_calculate_metrics\n",
    "- Processo:\n",
    "    - I dati di test_df vengono raggruppati per \"PLOT\", e per ogni gruppo vengono calcolate le medie delle predizioni e il MAPE.\n",
    "    - Un ulteriore DataFrame (grouped_df) viene creato per rappresentare queste metriche raggruppate, inclusa una riga aggiuntiva che mostra il MAPE complessivo per tutto il dataset.\n",
    "\n",
    "8. alvataggio dei Risultati in un File Excel\n",
    "- Funzione: save_to_excel\n",
    "- Processo:\n",
    "    - Tutti i DataFrame generati (test_results_df, test_df, grouped_df) vengono salvati in un file Excel sul disco.\n",
    "    - La memoria RAM viene liberata una volta che i dati sono scritti su disco, completando così il workflow."
   ]
  },
  {
   "cell_type": "markdown",
   "metadata": {},
   "source": [
    "## Final message"
   ]
  },
  {
   "cell_type": "code",
   "execution_count": null,
   "metadata": {},
   "outputs": [],
   "source": [
    "# Create a completion marker file\n",
    "with open(output_dir + '/FATTO!.txt', 'w') as file:\n",
    "    file.write('Evviva!')\n",
    "\n",
    "print('Il processo si è concluso')\n"
   ]
  },
  {
   "cell_type": "markdown",
   "metadata": {},
   "source": [
    "# **Feature extraction**"
   ]
  },
  {
   "cell_type": "code",
   "execution_count": 5,
   "metadata": {},
   "outputs": [
    {
     "name": "stderr",
     "output_type": "stream",
     "text": [
      "Extracting features:   0%|                                                                     | 0/371 [00:00<?, ?it/s]"
     ]
    },
    {
     "name": "stdout",
     "output_type": "stream",
     "text": [
      "\u001b[1m4/4\u001b[0m \u001b[32m━━━━━━━━━━━━━━━━━━━━\u001b[0m\u001b[37m\u001b[0m \u001b[1m9s\u001b[0m 1s/step\n"
     ]
    },
    {
     "name": "stderr",
     "output_type": "stream",
     "text": [
      "Extracting features:   0%|▏                                                            | 1/371 [00:09<56:19,  9.13s/it]"
     ]
    },
    {
     "name": "stdout",
     "output_type": "stream",
     "text": [
      "\u001b[1m4/4\u001b[0m \u001b[32m━━━━━━━━━━━━━━━━━━━━\u001b[0m\u001b[37m\u001b[0m \u001b[1m6s\u001b[0m 1s/step\n"
     ]
    },
    {
     "name": "stderr",
     "output_type": "stream",
     "text": [
      "Extracting features:   1%|▎                                                            | 2/371 [00:15<45:02,  7.32s/it]"
     ]
    },
    {
     "name": "stdout",
     "output_type": "stream",
     "text": [
      "\u001b[1m4/4\u001b[0m \u001b[32m━━━━━━━━━━━━━━━━━━━━\u001b[0m\u001b[37m\u001b[0m \u001b[1m6s\u001b[0m 1s/step\n"
     ]
    },
    {
     "name": "stderr",
     "output_type": "stream",
     "text": [
      "Extracting features:   1%|▍                                                            | 3/371 [00:21<41:21,  6.74s/it]"
     ]
    },
    {
     "name": "stdout",
     "output_type": "stream",
     "text": [
      "\u001b[1m4/4\u001b[0m \u001b[32m━━━━━━━━━━━━━━━━━━━━\u001b[0m\u001b[37m\u001b[0m \u001b[1m6s\u001b[0m 1s/step\n"
     ]
    },
    {
     "name": "stderr",
     "output_type": "stream",
     "text": [
      "Extracting features:   1%|▋                                                            | 4/371 [00:27<39:29,  6.46s/it]"
     ]
    },
    {
     "name": "stdout",
     "output_type": "stream",
     "text": [
      "\u001b[1m4/4\u001b[0m \u001b[32m━━━━━━━━━━━━━━━━━━━━\u001b[0m\u001b[37m\u001b[0m \u001b[1m6s\u001b[0m 1s/step\n"
     ]
    },
    {
     "name": "stderr",
     "output_type": "stream",
     "text": [
      "Extracting features:   1%|▊                                                            | 5/371 [00:33<39:02,  6.40s/it]"
     ]
    },
    {
     "name": "stdout",
     "output_type": "stream",
     "text": [
      "\u001b[1m4/4\u001b[0m \u001b[32m━━━━━━━━━━━━━━━━━━━━\u001b[0m\u001b[37m\u001b[0m \u001b[1m6s\u001b[0m 1s/step\n"
     ]
    },
    {
     "name": "stderr",
     "output_type": "stream",
     "text": [
      "Extracting features:   2%|▉                                                            | 6/371 [00:40<39:03,  6.42s/it]"
     ]
    },
    {
     "name": "stdout",
     "output_type": "stream",
     "text": [
      "\u001b[1m4/4\u001b[0m \u001b[32m━━━━━━━━━━━━━━━━━━━━\u001b[0m\u001b[37m\u001b[0m \u001b[1m6s\u001b[0m 1s/step\n"
     ]
    },
    {
     "name": "stderr",
     "output_type": "stream",
     "text": [
      "Extracting features:   2%|█▏                                                           | 7/371 [00:46<38:17,  6.31s/it]"
     ]
    },
    {
     "name": "stdout",
     "output_type": "stream",
     "text": [
      "\u001b[1m4/4\u001b[0m \u001b[32m━━━━━━━━━━━━━━━━━━━━\u001b[0m\u001b[37m\u001b[0m \u001b[1m6s\u001b[0m 1s/step\n"
     ]
    },
    {
     "name": "stderr",
     "output_type": "stream",
     "text": [
      "Extracting features:   2%|█▎                                                           | 8/371 [00:52<37:39,  6.22s/it]"
     ]
    },
    {
     "name": "stdout",
     "output_type": "stream",
     "text": [
      "\u001b[1m4/4\u001b[0m \u001b[32m━━━━━━━━━━━━━━━━━━━━\u001b[0m\u001b[37m\u001b[0m \u001b[1m6s\u001b[0m 1s/step\n"
     ]
    },
    {
     "name": "stderr",
     "output_type": "stream",
     "text": [
      "Extracting features:   2%|█▍                                                           | 9/371 [00:58<38:10,  6.33s/it]"
     ]
    },
    {
     "name": "stdout",
     "output_type": "stream",
     "text": [
      "\u001b[1m4/4\u001b[0m \u001b[32m━━━━━━━━━━━━━━━━━━━━\u001b[0m\u001b[37m\u001b[0m \u001b[1m6s\u001b[0m 1s/step\n"
     ]
    },
    {
     "name": "stderr",
     "output_type": "stream",
     "text": [
      "Extracting features:   3%|█▌                                                          | 10/371 [01:04<37:29,  6.23s/it]"
     ]
    },
    {
     "name": "stdout",
     "output_type": "stream",
     "text": [
      "\u001b[1m4/4\u001b[0m \u001b[32m━━━━━━━━━━━━━━━━━━━━\u001b[0m\u001b[37m\u001b[0m \u001b[1m6s\u001b[0m 1s/step\n"
     ]
    },
    {
     "name": "stderr",
     "output_type": "stream",
     "text": [
      "Extracting features:   3%|█▊                                                          | 11/371 [01:11<37:57,  6.33s/it]"
     ]
    },
    {
     "name": "stdout",
     "output_type": "stream",
     "text": [
      "\u001b[1m4/4\u001b[0m \u001b[32m━━━━━━━━━━━━━━━━━━━━\u001b[0m\u001b[37m\u001b[0m \u001b[1m6s\u001b[0m 1s/step\n"
     ]
    },
    {
     "name": "stderr",
     "output_type": "stream",
     "text": [
      "Extracting features:   3%|█▉                                                          | 12/371 [01:17<37:09,  6.21s/it]"
     ]
    },
    {
     "name": "stdout",
     "output_type": "stream",
     "text": [
      "\u001b[1m4/4\u001b[0m \u001b[32m━━━━━━━━━━━━━━━━━━━━\u001b[0m\u001b[37m\u001b[0m \u001b[1m6s\u001b[0m 1s/step\n"
     ]
    },
    {
     "name": "stderr",
     "output_type": "stream",
     "text": [
      "Extracting features:   4%|██                                                          | 13/371 [01:23<36:54,  6.18s/it]"
     ]
    },
    {
     "name": "stdout",
     "output_type": "stream",
     "text": [
      "\u001b[1m4/4\u001b[0m \u001b[32m━━━━━━━━━━━━━━━━━━━━\u001b[0m\u001b[37m\u001b[0m \u001b[1m6s\u001b[0m 1s/step\n"
     ]
    },
    {
     "name": "stderr",
     "output_type": "stream",
     "text": [
      "Extracting features:   4%|██▎                                                         | 14/371 [01:29<36:38,  6.16s/it]"
     ]
    },
    {
     "name": "stdout",
     "output_type": "stream",
     "text": [
      "\u001b[1m4/4\u001b[0m \u001b[32m━━━━━━━━━━━━━━━━━━━━\u001b[0m\u001b[37m\u001b[0m \u001b[1m6s\u001b[0m 1s/step\n"
     ]
    },
    {
     "name": "stderr",
     "output_type": "stream",
     "text": [
      "Extracting features:   4%|██▍                                                         | 15/371 [01:35<36:36,  6.17s/it]"
     ]
    },
    {
     "name": "stdout",
     "output_type": "stream",
     "text": [
      "\u001b[1m4/4\u001b[0m \u001b[32m━━━━━━━━━━━━━━━━━━━━\u001b[0m\u001b[37m\u001b[0m \u001b[1m6s\u001b[0m 1s/step\n"
     ]
    },
    {
     "name": "stderr",
     "output_type": "stream",
     "text": [
      "Extracting features:   4%|██▌                                                         | 16/371 [01:41<36:26,  6.16s/it]"
     ]
    },
    {
     "name": "stdout",
     "output_type": "stream",
     "text": [
      "\u001b[1m4/4\u001b[0m \u001b[32m━━━━━━━━━━━━━━━━━━━━\u001b[0m\u001b[37m\u001b[0m \u001b[1m6s\u001b[0m 1s/step\n"
     ]
    },
    {
     "name": "stderr",
     "output_type": "stream",
     "text": [
      "Extracting features:   5%|██▋                                                         | 17/371 [01:47<36:18,  6.15s/it]"
     ]
    },
    {
     "name": "stdout",
     "output_type": "stream",
     "text": [
      "\u001b[1m4/4\u001b[0m \u001b[32m━━━━━━━━━━━━━━━━━━━━\u001b[0m\u001b[37m\u001b[0m \u001b[1m6s\u001b[0m 1s/step\n"
     ]
    },
    {
     "name": "stderr",
     "output_type": "stream",
     "text": [
      "Extracting features:   5%|██▉                                                         | 18/371 [01:53<36:02,  6.13s/it]"
     ]
    },
    {
     "name": "stdout",
     "output_type": "stream",
     "text": [
      "\u001b[1m4/4\u001b[0m \u001b[32m━━━━━━━━━━━━━━━━━━━━\u001b[0m\u001b[37m\u001b[0m \u001b[1m5s\u001b[0m 1s/step\n"
     ]
    },
    {
     "name": "stderr",
     "output_type": "stream",
     "text": [
      "Extracting features:   5%|███                                                         | 19/371 [02:00<36:10,  6.17s/it]"
     ]
    },
    {
     "name": "stdout",
     "output_type": "stream",
     "text": [
      "\u001b[1m4/4\u001b[0m \u001b[32m━━━━━━━━━━━━━━━━━━━━\u001b[0m\u001b[37m\u001b[0m \u001b[1m5s\u001b[0m 1s/step\n"
     ]
    },
    {
     "name": "stderr",
     "output_type": "stream",
     "text": [
      "Extracting features:   5%|███▏                                                        | 20/371 [02:06<35:51,  6.13s/it]"
     ]
    },
    {
     "name": "stdout",
     "output_type": "stream",
     "text": [
      "\u001b[1m4/4\u001b[0m \u001b[32m━━━━━━━━━━━━━━━━━━━━\u001b[0m\u001b[37m\u001b[0m \u001b[1m5s\u001b[0m 1s/step\n"
     ]
    },
    {
     "name": "stderr",
     "output_type": "stream",
     "text": [
      "Extracting features:   6%|███▍                                                        | 21/371 [02:12<35:04,  6.01s/it]"
     ]
    },
    {
     "name": "stdout",
     "output_type": "stream",
     "text": [
      "\u001b[1m4/4\u001b[0m \u001b[32m━━━━━━━━━━━━━━━━━━━━\u001b[0m\u001b[37m\u001b[0m \u001b[1m5s\u001b[0m 1s/step\n"
     ]
    },
    {
     "name": "stderr",
     "output_type": "stream",
     "text": [
      "Extracting features:   6%|███▌                                                        | 22/371 [02:18<35:56,  6.18s/it]"
     ]
    },
    {
     "name": "stdout",
     "output_type": "stream",
     "text": [
      "\u001b[1m4/4\u001b[0m \u001b[32m━━━━━━━━━━━━━━━━━━━━\u001b[0m\u001b[37m\u001b[0m \u001b[1m5s\u001b[0m 1s/step\n"
     ]
    },
    {
     "name": "stderr",
     "output_type": "stream",
     "text": [
      "Extracting features:   6%|███▋                                                        | 23/371 [02:25<36:38,  6.32s/it]"
     ]
    },
    {
     "name": "stdout",
     "output_type": "stream",
     "text": [
      "\u001b[1m4/4\u001b[0m \u001b[32m━━━━━━━━━━━━━━━━━━━━\u001b[0m\u001b[37m\u001b[0m \u001b[1m5s\u001b[0m 1s/step\n"
     ]
    },
    {
     "name": "stderr",
     "output_type": "stream",
     "text": [
      "Extracting features:   6%|███▉                                                        | 24/371 [02:31<36:01,  6.23s/it]"
     ]
    },
    {
     "name": "stdout",
     "output_type": "stream",
     "text": [
      "\u001b[1m4/4\u001b[0m \u001b[32m━━━━━━━━━━━━━━━━━━━━\u001b[0m\u001b[37m\u001b[0m \u001b[1m5s\u001b[0m 1s/step\n"
     ]
    },
    {
     "name": "stderr",
     "output_type": "stream",
     "text": [
      "Extracting features:   7%|████                                                        | 25/371 [02:37<35:24,  6.14s/it]"
     ]
    },
    {
     "name": "stdout",
     "output_type": "stream",
     "text": [
      "\u001b[1m4/4\u001b[0m \u001b[32m━━━━━━━━━━━━━━━━━━━━\u001b[0m\u001b[37m\u001b[0m \u001b[1m5s\u001b[0m 1s/step\n"
     ]
    },
    {
     "name": "stderr",
     "output_type": "stream",
     "text": [
      "Extracting features:   7%|████▏                                                       | 26/371 [02:43<34:58,  6.08s/it]"
     ]
    },
    {
     "name": "stdout",
     "output_type": "stream",
     "text": [
      "\u001b[1m4/4\u001b[0m \u001b[32m━━━━━━━━━━━━━━━━━━━━\u001b[0m\u001b[37m\u001b[0m \u001b[1m5s\u001b[0m 1s/step\n"
     ]
    },
    {
     "name": "stderr",
     "output_type": "stream",
     "text": [
      "Extracting features:   7%|████▎                                                       | 27/371 [02:49<35:52,  6.26s/it]"
     ]
    },
    {
     "name": "stdout",
     "output_type": "stream",
     "text": [
      "\u001b[1m4/4\u001b[0m \u001b[32m━━━━━━━━━━━━━━━━━━━━\u001b[0m\u001b[37m\u001b[0m \u001b[1m5s\u001b[0m 1s/step\n"
     ]
    },
    {
     "name": "stderr",
     "output_type": "stream",
     "text": [
      "Extracting features:   8%|████▌                                                       | 28/371 [02:55<35:07,  6.14s/it]"
     ]
    },
    {
     "name": "stdout",
     "output_type": "stream",
     "text": [
      "\u001b[1m4/4\u001b[0m \u001b[32m━━━━━━━━━━━━━━━━━━━━\u001b[0m\u001b[37m\u001b[0m \u001b[1m6s\u001b[0m 1s/step\n"
     ]
    },
    {
     "name": "stderr",
     "output_type": "stream",
     "text": [
      "Extracting features:   8%|████▋                                                       | 29/371 [03:02<35:29,  6.23s/it]"
     ]
    },
    {
     "name": "stdout",
     "output_type": "stream",
     "text": [
      "\u001b[1m4/4\u001b[0m \u001b[32m━━━━━━━━━━━━━━━━━━━━\u001b[0m\u001b[37m\u001b[0m \u001b[1m6s\u001b[0m 1s/step\n"
     ]
    },
    {
     "name": "stderr",
     "output_type": "stream",
     "text": [
      "Extracting features:   8%|████▊                                                       | 30/371 [03:08<35:02,  6.17s/it]"
     ]
    },
    {
     "name": "stdout",
     "output_type": "stream",
     "text": [
      "\u001b[1m4/4\u001b[0m \u001b[32m━━━━━━━━━━━━━━━━━━━━\u001b[0m\u001b[37m\u001b[0m \u001b[1m6s\u001b[0m 1s/step\n"
     ]
    },
    {
     "name": "stderr",
     "output_type": "stream",
     "text": [
      "Extracting features:   8%|█████                                                       | 31/371 [03:14<34:30,  6.09s/it]"
     ]
    },
    {
     "name": "stdout",
     "output_type": "stream",
     "text": [
      "\u001b[1m4/4\u001b[0m \u001b[32m━━━━━━━━━━━━━━━━━━━━\u001b[0m\u001b[37m\u001b[0m \u001b[1m6s\u001b[0m 1s/step\n"
     ]
    },
    {
     "name": "stderr",
     "output_type": "stream",
     "text": [
      "Extracting features:   9%|█████▏                                                      | 32/371 [03:20<34:17,  6.07s/it]"
     ]
    },
    {
     "name": "stdout",
     "output_type": "stream",
     "text": [
      "\u001b[1m4/4\u001b[0m \u001b[32m━━━━━━━━━━━━━━━━━━━━\u001b[0m\u001b[37m\u001b[0m \u001b[1m6s\u001b[0m 1s/step\n"
     ]
    },
    {
     "name": "stderr",
     "output_type": "stream",
     "text": [
      "Extracting features:   9%|█████▎                                                      | 33/371 [03:26<34:43,  6.17s/it]"
     ]
    },
    {
     "name": "stdout",
     "output_type": "stream",
     "text": [
      "\u001b[1m4/4\u001b[0m \u001b[32m━━━━━━━━━━━━━━━━━━━━\u001b[0m\u001b[37m\u001b[0m \u001b[1m5s\u001b[0m 1s/step\n"
     ]
    },
    {
     "name": "stderr",
     "output_type": "stream",
     "text": [
      "Extracting features:   9%|█████▍                                                      | 34/371 [03:32<34:34,  6.16s/it]"
     ]
    },
    {
     "name": "stdout",
     "output_type": "stream",
     "text": [
      "\u001b[1m4/4\u001b[0m \u001b[32m━━━━━━━━━━━━━━━━━━━━\u001b[0m\u001b[37m\u001b[0m \u001b[1m6s\u001b[0m 1s/step\n"
     ]
    },
    {
     "name": "stderr",
     "output_type": "stream",
     "text": [
      "Extracting features:   9%|█████▋                                                      | 35/371 [03:38<33:57,  6.06s/it]"
     ]
    },
    {
     "name": "stdout",
     "output_type": "stream",
     "text": [
      "\u001b[1m4/4\u001b[0m \u001b[32m━━━━━━━━━━━━━━━━━━━━\u001b[0m\u001b[37m\u001b[0m \u001b[1m6s\u001b[0m 1s/step\n"
     ]
    },
    {
     "name": "stderr",
     "output_type": "stream",
     "text": [
      "Extracting features:  10%|█████▊                                                      | 36/371 [03:44<33:44,  6.04s/it]"
     ]
    },
    {
     "name": "stdout",
     "output_type": "stream",
     "text": [
      "\u001b[1m4/4\u001b[0m \u001b[32m━━━━━━━━━━━━━━━━━━━━\u001b[0m\u001b[37m\u001b[0m \u001b[1m5s\u001b[0m 1s/step\n"
     ]
    },
    {
     "name": "stderr",
     "output_type": "stream",
     "text": [
      "Extracting features:  10%|█████▉                                                      | 37/371 [03:50<33:25,  6.00s/it]"
     ]
    },
    {
     "name": "stdout",
     "output_type": "stream",
     "text": [
      "\u001b[1m4/4\u001b[0m \u001b[32m━━━━━━━━━━━━━━━━━━━━\u001b[0m\u001b[37m\u001b[0m \u001b[1m5s\u001b[0m 1s/step\n"
     ]
    },
    {
     "name": "stderr",
     "output_type": "stream",
     "text": [
      "Extracting features:  10%|██████▏                                                     | 38/371 [03:57<34:44,  6.26s/it]"
     ]
    },
    {
     "name": "stdout",
     "output_type": "stream",
     "text": [
      "\u001b[1m4/4\u001b[0m \u001b[32m━━━━━━━━━━━━━━━━━━━━\u001b[0m\u001b[37m\u001b[0m \u001b[1m5s\u001b[0m 1s/step\n"
     ]
    },
    {
     "name": "stderr",
     "output_type": "stream",
     "text": [
      "Extracting features:  11%|██████▎                                                     | 39/371 [04:03<34:38,  6.26s/it]"
     ]
    },
    {
     "name": "stdout",
     "output_type": "stream",
     "text": [
      "\u001b[1m4/4\u001b[0m \u001b[32m━━━━━━━━━━━━━━━━━━━━\u001b[0m\u001b[37m\u001b[0m \u001b[1m5s\u001b[0m 1s/step\n"
     ]
    },
    {
     "name": "stderr",
     "output_type": "stream",
     "text": [
      "Extracting features:  11%|██████▍                                                     | 40/371 [04:09<33:38,  6.10s/it]"
     ]
    },
    {
     "name": "stdout",
     "output_type": "stream",
     "text": [
      "\u001b[1m4/4\u001b[0m \u001b[32m━━━━━━━━━━━━━━━━━━━━\u001b[0m\u001b[37m\u001b[0m \u001b[1m5s\u001b[0m 1s/step\n"
     ]
    },
    {
     "name": "stderr",
     "output_type": "stream",
     "text": [
      "Extracting features:  11%|██████▋                                                     | 41/371 [04:14<33:04,  6.01s/it]"
     ]
    },
    {
     "name": "stdout",
     "output_type": "stream",
     "text": [
      "\u001b[1m4/4\u001b[0m \u001b[32m━━━━━━━━━━━━━━━━━━━━\u001b[0m\u001b[37m\u001b[0m \u001b[1m5s\u001b[0m 1s/step\n"
     ]
    },
    {
     "name": "stderr",
     "output_type": "stream",
     "text": [
      "Extracting features:  11%|██████▊                                                     | 42/371 [04:20<32:29,  5.93s/it]"
     ]
    },
    {
     "name": "stdout",
     "output_type": "stream",
     "text": [
      "\u001b[1m4/4\u001b[0m \u001b[32m━━━━━━━━━━━━━━━━━━━━\u001b[0m\u001b[37m\u001b[0m \u001b[1m5s\u001b[0m 1s/step\n"
     ]
    },
    {
     "name": "stderr",
     "output_type": "stream",
     "text": [
      "Extracting features:  12%|██████▉                                                     | 43/371 [04:27<34:22,  6.29s/it]"
     ]
    },
    {
     "name": "stdout",
     "output_type": "stream",
     "text": [
      "\u001b[1m4/4\u001b[0m \u001b[32m━━━━━━━━━━━━━━━━━━━━\u001b[0m\u001b[37m\u001b[0m \u001b[1m5s\u001b[0m 1s/step\n"
     ]
    },
    {
     "name": "stderr",
     "output_type": "stream",
     "text": [
      "Extracting features:  12%|███████                                                     | 44/371 [04:33<33:43,  6.19s/it]"
     ]
    },
    {
     "name": "stdout",
     "output_type": "stream",
     "text": [
      "\u001b[1m4/4\u001b[0m \u001b[32m━━━━━━━━━━━━━━━━━━━━\u001b[0m\u001b[37m\u001b[0m \u001b[1m5s\u001b[0m 1s/step\n"
     ]
    },
    {
     "name": "stderr",
     "output_type": "stream",
     "text": [
      "Extracting features:  12%|███████▎                                                    | 45/371 [04:41<35:43,  6.58s/it]"
     ]
    },
    {
     "name": "stdout",
     "output_type": "stream",
     "text": [
      "\u001b[1m4/4\u001b[0m \u001b[32m━━━━━━━━━━━━━━━━━━━━\u001b[0m\u001b[37m\u001b[0m \u001b[1m5s\u001b[0m 1s/step\n"
     ]
    },
    {
     "name": "stderr",
     "output_type": "stream",
     "text": [
      "Extracting features:  12%|███████▍                                                    | 46/371 [04:46<34:11,  6.31s/it]"
     ]
    },
    {
     "name": "stdout",
     "output_type": "stream",
     "text": [
      "\u001b[1m4/4\u001b[0m \u001b[32m━━━━━━━━━━━━━━━━━━━━\u001b[0m\u001b[37m\u001b[0m \u001b[1m5s\u001b[0m 1s/step\n"
     ]
    },
    {
     "name": "stderr",
     "output_type": "stream",
     "text": [
      "Extracting features:  13%|███████▌                                                    | 47/371 [04:53<35:11,  6.52s/it]"
     ]
    },
    {
     "name": "stdout",
     "output_type": "stream",
     "text": [
      "\u001b[1m4/4\u001b[0m \u001b[32m━━━━━━━━━━━━━━━━━━━━\u001b[0m\u001b[37m\u001b[0m \u001b[1m5s\u001b[0m 1s/step\n"
     ]
    },
    {
     "name": "stderr",
     "output_type": "stream",
     "text": [
      "Extracting features:  13%|███████▊                                                    | 48/371 [04:59<33:45,  6.27s/it]"
     ]
    },
    {
     "name": "stdout",
     "output_type": "stream",
     "text": [
      "\u001b[1m4/4\u001b[0m \u001b[32m━━━━━━━━━━━━━━━━━━━━\u001b[0m\u001b[37m\u001b[0m \u001b[1m6s\u001b[0m 1s/step\n"
     ]
    },
    {
     "name": "stderr",
     "output_type": "stream",
     "text": [
      "Extracting features:  13%|███████▉                                                    | 49/371 [05:07<35:37,  6.64s/it]"
     ]
    },
    {
     "name": "stdout",
     "output_type": "stream",
     "text": [
      "\u001b[1m4/4\u001b[0m \u001b[32m━━━━━━━━━━━━━━━━━━━━\u001b[0m\u001b[37m\u001b[0m \u001b[1m5s\u001b[0m 1s/step\n"
     ]
    },
    {
     "name": "stderr",
     "output_type": "stream",
     "text": [
      "Extracting features:  13%|████████                                                    | 50/371 [05:13<35:34,  6.65s/it]"
     ]
    },
    {
     "name": "stdout",
     "output_type": "stream",
     "text": [
      "\u001b[1m4/4\u001b[0m \u001b[32m━━━━━━━━━━━━━━━━━━━━\u001b[0m\u001b[37m\u001b[0m \u001b[1m5s\u001b[0m 1s/step\n"
     ]
    },
    {
     "name": "stderr",
     "output_type": "stream",
     "text": [
      "Extracting features:  14%|████████▏                                                   | 51/371 [05:20<36:02,  6.76s/it]"
     ]
    },
    {
     "name": "stdout",
     "output_type": "stream",
     "text": [
      "\u001b[1m4/4\u001b[0m \u001b[32m━━━━━━━━━━━━━━━━━━━━\u001b[0m\u001b[37m\u001b[0m \u001b[1m5s\u001b[0m 1s/step\n"
     ]
    },
    {
     "name": "stderr",
     "output_type": "stream",
     "text": [
      "Extracting features:  14%|████████▍                                                   | 52/371 [05:27<35:51,  6.75s/it]"
     ]
    },
    {
     "name": "stdout",
     "output_type": "stream",
     "text": [
      "\u001b[1m4/4\u001b[0m \u001b[32m━━━━━━━━━━━━━━━━━━━━\u001b[0m\u001b[37m\u001b[0m \u001b[1m5s\u001b[0m 1s/step\n"
     ]
    },
    {
     "name": "stderr",
     "output_type": "stream",
     "text": [
      "Extracting features:  14%|████████▌                                                   | 53/371 [05:33<34:31,  6.51s/it]"
     ]
    },
    {
     "name": "stdout",
     "output_type": "stream",
     "text": [
      "\u001b[1m4/4\u001b[0m \u001b[32m━━━━━━━━━━━━━━━━━━━━\u001b[0m\u001b[37m\u001b[0m \u001b[1m5s\u001b[0m 1s/step\n"
     ]
    },
    {
     "name": "stderr",
     "output_type": "stream",
     "text": [
      "Extracting features:  15%|████████▋                                                   | 54/371 [05:39<33:52,  6.41s/it]"
     ]
    },
    {
     "name": "stdout",
     "output_type": "stream",
     "text": [
      "\u001b[1m4/4\u001b[0m \u001b[32m━━━━━━━━━━━━━━━━━━━━\u001b[0m\u001b[37m\u001b[0m \u001b[1m5s\u001b[0m 1s/step\n"
     ]
    },
    {
     "name": "stderr",
     "output_type": "stream",
     "text": [
      "Extracting features:  15%|████████▉                                                   | 55/371 [05:45<32:38,  6.20s/it]"
     ]
    },
    {
     "name": "stdout",
     "output_type": "stream",
     "text": [
      "\u001b[1m4/4\u001b[0m \u001b[32m━━━━━━━━━━━━━━━━━━━━\u001b[0m\u001b[37m\u001b[0m \u001b[1m5s\u001b[0m 1s/step\n"
     ]
    },
    {
     "name": "stderr",
     "output_type": "stream",
     "text": [
      "Extracting features:  15%|█████████                                                   | 56/371 [05:52<33:55,  6.46s/it]"
     ]
    },
    {
     "name": "stdout",
     "output_type": "stream",
     "text": [
      "\u001b[1m4/4\u001b[0m \u001b[32m━━━━━━━━━━━━━━━━━━━━\u001b[0m\u001b[37m\u001b[0m \u001b[1m6s\u001b[0m 1s/step\n"
     ]
    },
    {
     "name": "stderr",
     "output_type": "stream",
     "text": [
      "Extracting features:  15%|█████████▏                                                  | 57/371 [05:58<33:12,  6.34s/it]"
     ]
    },
    {
     "name": "stdout",
     "output_type": "stream",
     "text": [
      "\u001b[1m4/4\u001b[0m \u001b[32m━━━━━━━━━━━━━━━━━━━━\u001b[0m\u001b[37m\u001b[0m \u001b[1m6s\u001b[0m 1s/step\n"
     ]
    },
    {
     "name": "stderr",
     "output_type": "stream",
     "text": [
      "Extracting features:  16%|█████████▍                                                  | 58/371 [06:04<32:09,  6.16s/it]"
     ]
    },
    {
     "name": "stdout",
     "output_type": "stream",
     "text": [
      "\u001b[1m4/4\u001b[0m \u001b[32m━━━━━━━━━━━━━━━━━━━━\u001b[0m\u001b[37m\u001b[0m \u001b[1m6s\u001b[0m 1s/step\n"
     ]
    },
    {
     "name": "stderr",
     "output_type": "stream",
     "text": [
      "Extracting features:  16%|█████████▌                                                  | 59/371 [06:10<31:47,  6.11s/it]"
     ]
    },
    {
     "name": "stdout",
     "output_type": "stream",
     "text": [
      "\u001b[1m4/4\u001b[0m \u001b[32m━━━━━━━━━━━━━━━━━━━━\u001b[0m\u001b[37m\u001b[0m \u001b[1m6s\u001b[0m 1s/step\n"
     ]
    },
    {
     "name": "stderr",
     "output_type": "stream",
     "text": [
      "Extracting features:  16%|█████████▋                                                  | 60/371 [06:16<31:25,  6.06s/it]"
     ]
    },
    {
     "name": "stdout",
     "output_type": "stream",
     "text": [
      "\u001b[1m4/4\u001b[0m \u001b[32m━━━━━━━━━━━━━━━━━━━━\u001b[0m\u001b[37m\u001b[0m \u001b[1m5s\u001b[0m 1s/step\n"
     ]
    },
    {
     "name": "stderr",
     "output_type": "stream",
     "text": [
      "Extracting features:  16%|█████████▊                                                  | 61/371 [06:22<31:25,  6.08s/it]"
     ]
    },
    {
     "name": "stdout",
     "output_type": "stream",
     "text": [
      "\u001b[1m4/4\u001b[0m \u001b[32m━━━━━━━━━━━━━━━━━━━━\u001b[0m\u001b[37m\u001b[0m \u001b[1m5s\u001b[0m 1s/step\n"
     ]
    },
    {
     "name": "stderr",
     "output_type": "stream",
     "text": [
      "Extracting features:  17%|██████████                                                  | 62/371 [06:28<31:44,  6.16s/it]"
     ]
    },
    {
     "name": "stdout",
     "output_type": "stream",
     "text": [
      "\u001b[1m4/4\u001b[0m \u001b[32m━━━━━━━━━━━━━━━━━━━━\u001b[0m\u001b[37m\u001b[0m \u001b[1m6s\u001b[0m 1s/step\n"
     ]
    },
    {
     "name": "stderr",
     "output_type": "stream",
     "text": [
      "Extracting features:  17%|██████████▏                                                 | 63/371 [06:35<32:02,  6.24s/it]"
     ]
    },
    {
     "name": "stdout",
     "output_type": "stream",
     "text": [
      "\u001b[1m4/4\u001b[0m \u001b[32m━━━━━━━━━━━━━━━━━━━━\u001b[0m\u001b[37m\u001b[0m \u001b[1m6s\u001b[0m 1s/step\n"
     ]
    },
    {
     "name": "stderr",
     "output_type": "stream",
     "text": [
      "Extracting features:  17%|██████████▎                                                 | 64/371 [06:41<31:52,  6.23s/it]"
     ]
    },
    {
     "name": "stdout",
     "output_type": "stream",
     "text": [
      "\u001b[1m4/4\u001b[0m \u001b[32m━━━━━━━━━━━━━━━━━━━━\u001b[0m\u001b[37m\u001b[0m \u001b[1m6s\u001b[0m 1s/step\n"
     ]
    },
    {
     "name": "stderr",
     "output_type": "stream",
     "text": [
      "Extracting features:  18%|██████████▌                                                 | 65/371 [06:47<31:41,  6.21s/it]"
     ]
    },
    {
     "name": "stdout",
     "output_type": "stream",
     "text": [
      "\u001b[1m4/4\u001b[0m \u001b[32m━━━━━━━━━━━━━━━━━━━━\u001b[0m\u001b[37m\u001b[0m \u001b[1m6s\u001b[0m 1s/step\n"
     ]
    },
    {
     "name": "stderr",
     "output_type": "stream",
     "text": [
      "Extracting features:  18%|██████████▋                                                 | 66/371 [06:54<32:01,  6.30s/it]"
     ]
    },
    {
     "name": "stdout",
     "output_type": "stream",
     "text": [
      "\u001b[1m4/4\u001b[0m \u001b[32m━━━━━━━━━━━━━━━━━━━━\u001b[0m\u001b[37m\u001b[0m \u001b[1m6s\u001b[0m 1s/step\n"
     ]
    },
    {
     "name": "stderr",
     "output_type": "stream",
     "text": [
      "Extracting features:  18%|██████████▊                                                 | 67/371 [06:59<31:23,  6.20s/it]"
     ]
    },
    {
     "name": "stdout",
     "output_type": "stream",
     "text": [
      "\u001b[1m4/4\u001b[0m \u001b[32m━━━━━━━━━━━━━━━━━━━━\u001b[0m\u001b[37m\u001b[0m \u001b[1m6s\u001b[0m 1s/step\n"
     ]
    },
    {
     "name": "stderr",
     "output_type": "stream",
     "text": [
      "Extracting features:  18%|██████████▉                                                 | 68/371 [07:06<31:12,  6.18s/it]"
     ]
    },
    {
     "name": "stdout",
     "output_type": "stream",
     "text": [
      "\u001b[1m4/4\u001b[0m \u001b[32m━━━━━━━━━━━━━━━━━━━━\u001b[0m\u001b[37m\u001b[0m \u001b[1m6s\u001b[0m 1s/step\n"
     ]
    },
    {
     "name": "stderr",
     "output_type": "stream",
     "text": [
      "Extracting features:  19%|███████████▏                                                | 69/371 [07:12<31:56,  6.35s/it]"
     ]
    },
    {
     "name": "stdout",
     "output_type": "stream",
     "text": [
      "\u001b[1m4/4\u001b[0m \u001b[32m━━━━━━━━━━━━━━━━━━━━\u001b[0m\u001b[37m\u001b[0m \u001b[1m6s\u001b[0m 1s/step\n"
     ]
    },
    {
     "name": "stderr",
     "output_type": "stream",
     "text": [
      "Extracting features:  19%|███████████▎                                                | 70/371 [07:18<31:29,  6.28s/it]"
     ]
    },
    {
     "name": "stdout",
     "output_type": "stream",
     "text": [
      "\u001b[1m4/4\u001b[0m \u001b[32m━━━━━━━━━━━━━━━━━━━━\u001b[0m\u001b[37m\u001b[0m \u001b[1m6s\u001b[0m 1s/step\n"
     ]
    },
    {
     "name": "stderr",
     "output_type": "stream",
     "text": [
      "Extracting features:  19%|███████████▍                                                | 71/371 [07:25<31:25,  6.29s/it]"
     ]
    },
    {
     "name": "stdout",
     "output_type": "stream",
     "text": [
      "\u001b[1m4/4\u001b[0m \u001b[32m━━━━━━━━━━━━━━━━━━━━\u001b[0m\u001b[37m\u001b[0m \u001b[1m6s\u001b[0m 1s/step\n"
     ]
    },
    {
     "name": "stderr",
     "output_type": "stream",
     "text": [
      "Extracting features:  19%|███████████▋                                                | 72/371 [07:31<31:21,  6.29s/it]"
     ]
    },
    {
     "name": "stdout",
     "output_type": "stream",
     "text": [
      "\u001b[1m4/4\u001b[0m \u001b[32m━━━━━━━━━━━━━━━━━━━━\u001b[0m\u001b[37m\u001b[0m \u001b[1m6s\u001b[0m 1s/step\n"
     ]
    },
    {
     "name": "stderr",
     "output_type": "stream",
     "text": [
      "Extracting features:  20%|███████████▊                                                | 73/371 [07:37<30:39,  6.17s/it]"
     ]
    },
    {
     "name": "stdout",
     "output_type": "stream",
     "text": [
      "\u001b[1m4/4\u001b[0m \u001b[32m━━━━━━━━━━━━━━━━━━━━\u001b[0m\u001b[37m\u001b[0m \u001b[1m6s\u001b[0m 1s/step\n"
     ]
    },
    {
     "name": "stderr",
     "output_type": "stream",
     "text": [
      "Extracting features:  20%|███████████▉                                                | 74/371 [07:43<30:15,  6.11s/it]"
     ]
    },
    {
     "name": "stdout",
     "output_type": "stream",
     "text": [
      "\u001b[1m4/4\u001b[0m \u001b[32m━━━━━━━━━━━━━━━━━━━━\u001b[0m\u001b[37m\u001b[0m \u001b[1m6s\u001b[0m 1s/step\n"
     ]
    },
    {
     "name": "stderr",
     "output_type": "stream",
     "text": [
      "Extracting features:  20%|████████████▏                                               | 75/371 [07:49<30:01,  6.09s/it]"
     ]
    },
    {
     "name": "stdout",
     "output_type": "stream",
     "text": [
      "\u001b[1m4/4\u001b[0m \u001b[32m━━━━━━━━━━━━━━━━━━━━\u001b[0m\u001b[37m\u001b[0m \u001b[1m6s\u001b[0m 1s/step\n"
     ]
    },
    {
     "name": "stderr",
     "output_type": "stream",
     "text": [
      "Extracting features:  20%|████████████▎                                               | 76/371 [07:55<30:27,  6.19s/it]"
     ]
    },
    {
     "name": "stdout",
     "output_type": "stream",
     "text": [
      "\u001b[1m4/4\u001b[0m \u001b[32m━━━━━━━━━━━━━━━━━━━━\u001b[0m\u001b[37m\u001b[0m \u001b[1m6s\u001b[0m 1s/step\n"
     ]
    },
    {
     "name": "stderr",
     "output_type": "stream",
     "text": [
      "Extracting features:  21%|████████████▍                                               | 77/371 [08:02<30:17,  6.18s/it]"
     ]
    },
    {
     "name": "stdout",
     "output_type": "stream",
     "text": [
      "\u001b[1m4/4\u001b[0m \u001b[32m━━━━━━━━━━━━━━━━━━━━\u001b[0m\u001b[37m\u001b[0m \u001b[1m6s\u001b[0m 1s/step\n"
     ]
    },
    {
     "name": "stderr",
     "output_type": "stream",
     "text": [
      "Extracting features:  21%|████████████▌                                               | 78/371 [08:07<29:47,  6.10s/it]"
     ]
    },
    {
     "name": "stdout",
     "output_type": "stream",
     "text": [
      "\u001b[1m4/4\u001b[0m \u001b[32m━━━━━━━━━━━━━━━━━━━━\u001b[0m\u001b[37m\u001b[0m \u001b[1m6s\u001b[0m 1s/step\n"
     ]
    },
    {
     "name": "stderr",
     "output_type": "stream",
     "text": [
      "Extracting features:  21%|████████████▊                                               | 79/371 [08:13<29:22,  6.04s/it]"
     ]
    },
    {
     "name": "stdout",
     "output_type": "stream",
     "text": [
      "\u001b[1m4/4\u001b[0m \u001b[32m━━━━━━━━━━━━━━━━━━━━\u001b[0m\u001b[37m\u001b[0m \u001b[1m6s\u001b[0m 1s/step\n"
     ]
    },
    {
     "name": "stderr",
     "output_type": "stream",
     "text": [
      "Extracting features:  22%|████████████▉                                               | 80/371 [08:19<29:20,  6.05s/it]"
     ]
    },
    {
     "name": "stdout",
     "output_type": "stream",
     "text": [
      "\u001b[1m4/4\u001b[0m \u001b[32m━━━━━━━━━━━━━━━━━━━━\u001b[0m\u001b[37m\u001b[0m \u001b[1m6s\u001b[0m 1s/step\n"
     ]
    },
    {
     "name": "stderr",
     "output_type": "stream",
     "text": [
      "Extracting features:  22%|█████████████                                               | 81/371 [08:25<29:12,  6.04s/it]"
     ]
    },
    {
     "name": "stdout",
     "output_type": "stream",
     "text": [
      "\u001b[1m4/4\u001b[0m \u001b[32m━━━━━━━━━━━━━━━━━━━━\u001b[0m\u001b[37m\u001b[0m \u001b[1m6s\u001b[0m 1s/step\n"
     ]
    },
    {
     "name": "stderr",
     "output_type": "stream",
     "text": [
      "Extracting features:  22%|█████████████▎                                              | 82/371 [08:32<29:32,  6.13s/it]"
     ]
    },
    {
     "name": "stdout",
     "output_type": "stream",
     "text": [
      "\u001b[1m4/4\u001b[0m \u001b[32m━━━━━━━━━━━━━━━━━━━━\u001b[0m\u001b[37m\u001b[0m \u001b[1m6s\u001b[0m 1s/step\n"
     ]
    },
    {
     "name": "stderr",
     "output_type": "stream",
     "text": [
      "Extracting features:  22%|█████████████▍                                              | 83/371 [08:38<29:15,  6.09s/it]"
     ]
    },
    {
     "name": "stdout",
     "output_type": "stream",
     "text": [
      "\u001b[1m4/4\u001b[0m \u001b[32m━━━━━━━━━━━━━━━━━━━━\u001b[0m\u001b[37m\u001b[0m \u001b[1m6s\u001b[0m 1s/step\n"
     ]
    },
    {
     "name": "stderr",
     "output_type": "stream",
     "text": [
      "Extracting features:  23%|█████████████▌                                              | 84/371 [08:44<29:04,  6.08s/it]"
     ]
    },
    {
     "name": "stdout",
     "output_type": "stream",
     "text": [
      "\u001b[1m4/4\u001b[0m \u001b[32m━━━━━━━━━━━━━━━━━━━━\u001b[0m\u001b[37m\u001b[0m \u001b[1m6s\u001b[0m 1s/step\n"
     ]
    },
    {
     "name": "stderr",
     "output_type": "stream",
     "text": [
      "Extracting features:  23%|█████████████▋                                              | 85/371 [08:50<29:08,  6.11s/it]"
     ]
    },
    {
     "name": "stdout",
     "output_type": "stream",
     "text": [
      "\u001b[1m4/4\u001b[0m \u001b[32m━━━━━━━━━━━━━━━━━━━━\u001b[0m\u001b[37m\u001b[0m \u001b[1m6s\u001b[0m 1s/step\n"
     ]
    },
    {
     "name": "stderr",
     "output_type": "stream",
     "text": [
      "Extracting features:  23%|█████████████▉                                              | 86/371 [08:56<29:09,  6.14s/it]"
     ]
    },
    {
     "name": "stdout",
     "output_type": "stream",
     "text": [
      "\u001b[1m4/4\u001b[0m \u001b[32m━━━━━━━━━━━━━━━━━━━━\u001b[0m\u001b[37m\u001b[0m \u001b[1m6s\u001b[0m 1s/step\n"
     ]
    },
    {
     "name": "stderr",
     "output_type": "stream",
     "text": [
      "Extracting features:  23%|██████████████                                              | 87/371 [09:02<29:00,  6.13s/it]"
     ]
    },
    {
     "name": "stdout",
     "output_type": "stream",
     "text": [
      "\u001b[1m4/4\u001b[0m \u001b[32m━━━━━━━━━━━━━━━━━━━━\u001b[0m\u001b[37m\u001b[0m \u001b[1m6s\u001b[0m 1s/step\n"
     ]
    },
    {
     "name": "stderr",
     "output_type": "stream",
     "text": [
      "Extracting features:  24%|██████████████▏                                             | 88/371 [09:08<28:54,  6.13s/it]"
     ]
    },
    {
     "name": "stdout",
     "output_type": "stream",
     "text": [
      "\u001b[1m4/4\u001b[0m \u001b[32m━━━━━━━━━━━━━━━━━━━━\u001b[0m\u001b[37m\u001b[0m \u001b[1m6s\u001b[0m 1s/step\n"
     ]
    },
    {
     "name": "stderr",
     "output_type": "stream",
     "text": [
      "Extracting features:  24%|██████████████▍                                             | 89/371 [09:15<29:01,  6.18s/it]"
     ]
    },
    {
     "name": "stdout",
     "output_type": "stream",
     "text": [
      "\u001b[1m4/4\u001b[0m \u001b[32m━━━━━━━━━━━━━━━━━━━━\u001b[0m\u001b[37m\u001b[0m \u001b[1m6s\u001b[0m 1s/step\n"
     ]
    },
    {
     "name": "stderr",
     "output_type": "stream",
     "text": [
      "Extracting features:  24%|██████████████▌                                             | 90/371 [09:21<28:45,  6.14s/it]"
     ]
    },
    {
     "name": "stdout",
     "output_type": "stream",
     "text": [
      "\u001b[1m4/4\u001b[0m \u001b[32m━━━━━━━━━━━━━━━━━━━━\u001b[0m\u001b[37m\u001b[0m \u001b[1m6s\u001b[0m 1s/step\n"
     ]
    },
    {
     "name": "stderr",
     "output_type": "stream",
     "text": [
      "Extracting features:  25%|██████████████▋                                             | 91/371 [09:27<28:45,  6.16s/it]"
     ]
    },
    {
     "name": "stdout",
     "output_type": "stream",
     "text": [
      "\u001b[1m4/4\u001b[0m \u001b[32m━━━━━━━━━━━━━━━━━━━━\u001b[0m\u001b[37m\u001b[0m \u001b[1m6s\u001b[0m 1s/step\n"
     ]
    },
    {
     "name": "stderr",
     "output_type": "stream",
     "text": [
      "Extracting features:  25%|██████████████▉                                             | 92/371 [09:33<28:35,  6.15s/it]"
     ]
    },
    {
     "name": "stdout",
     "output_type": "stream",
     "text": [
      "\u001b[1m4/4\u001b[0m \u001b[32m━━━━━━━━━━━━━━━━━━━━\u001b[0m\u001b[37m\u001b[0m \u001b[1m6s\u001b[0m 1s/step\n"
     ]
    },
    {
     "name": "stderr",
     "output_type": "stream",
     "text": [
      "Extracting features:  25%|███████████████                                             | 93/371 [09:39<28:24,  6.13s/it]"
     ]
    },
    {
     "name": "stdout",
     "output_type": "stream",
     "text": [
      "\u001b[1m4/4\u001b[0m \u001b[32m━━━━━━━━━━━━━━━━━━━━\u001b[0m\u001b[37m\u001b[0m \u001b[1m6s\u001b[0m 1s/step\n"
     ]
    },
    {
     "name": "stderr",
     "output_type": "stream",
     "text": [
      "Extracting features:  25%|███████████████▏                                            | 94/371 [09:46<28:34,  6.19s/it]"
     ]
    },
    {
     "name": "stdout",
     "output_type": "stream",
     "text": [
      "\u001b[1m4/4\u001b[0m \u001b[32m━━━━━━━━━━━━━━━━━━━━\u001b[0m\u001b[37m\u001b[0m \u001b[1m5s\u001b[0m 1s/step\n"
     ]
    },
    {
     "name": "stderr",
     "output_type": "stream",
     "text": [
      "Extracting features:  26%|███████████████▎                                            | 95/371 [09:51<28:04,  6.10s/it]"
     ]
    },
    {
     "name": "stdout",
     "output_type": "stream",
     "text": [
      "\u001b[1m4/4\u001b[0m \u001b[32m━━━━━━━━━━━━━━━━━━━━\u001b[0m\u001b[37m\u001b[0m \u001b[1m6s\u001b[0m 1s/step\n"
     ]
    },
    {
     "name": "stderr",
     "output_type": "stream",
     "text": [
      "Extracting features:  26%|███████████████▌                                            | 96/371 [09:58<27:57,  6.10s/it]"
     ]
    },
    {
     "name": "stdout",
     "output_type": "stream",
     "text": [
      "\u001b[1m4/4\u001b[0m \u001b[32m━━━━━━━━━━━━━━━━━━━━\u001b[0m\u001b[37m\u001b[0m \u001b[1m6s\u001b[0m 1s/step\n"
     ]
    },
    {
     "name": "stderr",
     "output_type": "stream",
     "text": [
      "Extracting features:  26%|███████████████▋                                            | 97/371 [10:05<29:03,  6.36s/it]"
     ]
    },
    {
     "name": "stdout",
     "output_type": "stream",
     "text": [
      "\u001b[1m4/4\u001b[0m \u001b[32m━━━━━━━━━━━━━━━━━━━━\u001b[0m\u001b[37m\u001b[0m \u001b[1m6s\u001b[0m 1s/step\n"
     ]
    },
    {
     "name": "stderr",
     "output_type": "stream",
     "text": [
      "Extracting features:  26%|███████████████▊                                            | 98/371 [10:11<29:07,  6.40s/it]"
     ]
    },
    {
     "name": "stdout",
     "output_type": "stream",
     "text": [
      "\u001b[1m4/4\u001b[0m \u001b[32m━━━━━━━━━━━━━━━━━━━━\u001b[0m\u001b[37m\u001b[0m \u001b[1m6s\u001b[0m 1s/step\n"
     ]
    },
    {
     "name": "stderr",
     "output_type": "stream",
     "text": [
      "Extracting features:  27%|████████████████                                            | 99/371 [10:17<28:33,  6.30s/it]"
     ]
    },
    {
     "name": "stdout",
     "output_type": "stream",
     "text": [
      "\u001b[1m4/4\u001b[0m \u001b[32m━━━━━━━━━━━━━━━━━━━━\u001b[0m\u001b[37m\u001b[0m \u001b[1m6s\u001b[0m 1s/step\n"
     ]
    },
    {
     "name": "stderr",
     "output_type": "stream",
     "text": [
      "Extracting features:  27%|███████████████▉                                           | 100/371 [10:23<28:01,  6.21s/it]"
     ]
    },
    {
     "name": "stdout",
     "output_type": "stream",
     "text": [
      "\u001b[1m4/4\u001b[0m \u001b[32m━━━━━━━━━━━━━━━━━━━━\u001b[0m\u001b[37m\u001b[0m \u001b[1m6s\u001b[0m 1s/step\n"
     ]
    },
    {
     "name": "stderr",
     "output_type": "stream",
     "text": [
      "Extracting features:  27%|████████████████                                           | 101/371 [10:29<27:36,  6.13s/it]"
     ]
    },
    {
     "name": "stdout",
     "output_type": "stream",
     "text": [
      "\u001b[1m4/4\u001b[0m \u001b[32m━━━━━━━━━━━━━━━━━━━━\u001b[0m\u001b[37m\u001b[0m \u001b[1m6s\u001b[0m 1s/step\n"
     ]
    },
    {
     "name": "stderr",
     "output_type": "stream",
     "text": [
      "Extracting features:  27%|████████████████▏                                          | 102/371 [10:35<27:18,  6.09s/it]"
     ]
    },
    {
     "name": "stdout",
     "output_type": "stream",
     "text": [
      "\u001b[1m4/4\u001b[0m \u001b[32m━━━━━━━━━━━━━━━━━━━━\u001b[0m\u001b[37m\u001b[0m \u001b[1m6s\u001b[0m 1s/step\n"
     ]
    },
    {
     "name": "stderr",
     "output_type": "stream",
     "text": [
      "Extracting features:  28%|████████████████▍                                          | 103/371 [10:41<27:02,  6.06s/it]"
     ]
    },
    {
     "name": "stdout",
     "output_type": "stream",
     "text": [
      "\u001b[1m4/4\u001b[0m \u001b[32m━━━━━━━━━━━━━━━━━━━━\u001b[0m\u001b[37m\u001b[0m \u001b[1m6s\u001b[0m 1s/step\n"
     ]
    },
    {
     "name": "stderr",
     "output_type": "stream",
     "text": [
      "Extracting features:  28%|████████████████▌                                          | 104/371 [10:47<26:54,  6.05s/it]"
     ]
    },
    {
     "name": "stdout",
     "output_type": "stream",
     "text": [
      "\u001b[1m4/4\u001b[0m \u001b[32m━━━━━━━━━━━━━━━━━━━━\u001b[0m\u001b[37m\u001b[0m \u001b[1m6s\u001b[0m 1s/step\n"
     ]
    },
    {
     "name": "stderr",
     "output_type": "stream",
     "text": [
      "Extracting features:  28%|████████████████▋                                          | 105/371 [10:53<26:41,  6.02s/it]"
     ]
    },
    {
     "name": "stdout",
     "output_type": "stream",
     "text": [
      "\u001b[1m4/4\u001b[0m \u001b[32m━━━━━━━━━━━━━━━━━━━━\u001b[0m\u001b[37m\u001b[0m \u001b[1m6s\u001b[0m 1s/step\n"
     ]
    },
    {
     "name": "stderr",
     "output_type": "stream",
     "text": [
      "Extracting features:  29%|████████████████▊                                          | 106/371 [10:59<26:33,  6.01s/it]"
     ]
    },
    {
     "name": "stdout",
     "output_type": "stream",
     "text": [
      "\u001b[1m4/4\u001b[0m \u001b[32m━━━━━━━━━━━━━━━━━━━━\u001b[0m\u001b[37m\u001b[0m \u001b[1m6s\u001b[0m 1s/step\n"
     ]
    },
    {
     "name": "stderr",
     "output_type": "stream",
     "text": [
      "Extracting features:  29%|█████████████████                                          | 107/371 [11:05<26:32,  6.03s/it]"
     ]
    },
    {
     "name": "stdout",
     "output_type": "stream",
     "text": [
      "\u001b[1m4/4\u001b[0m \u001b[32m━━━━━━━━━━━━━━━━━━━━\u001b[0m\u001b[37m\u001b[0m \u001b[1m6s\u001b[0m 1s/step\n"
     ]
    },
    {
     "name": "stderr",
     "output_type": "stream",
     "text": [
      "Extracting features:  29%|█████████████████▏                                         | 108/371 [11:11<26:29,  6.05s/it]"
     ]
    },
    {
     "name": "stdout",
     "output_type": "stream",
     "text": [
      "\u001b[1m4/4\u001b[0m \u001b[32m━━━━━━━━━━━━━━━━━━━━\u001b[0m\u001b[37m\u001b[0m \u001b[1m6s\u001b[0m 1s/step\n"
     ]
    },
    {
     "name": "stderr",
     "output_type": "stream",
     "text": [
      "Extracting features:  29%|█████████████████▎                                         | 109/371 [11:17<26:34,  6.09s/it]"
     ]
    },
    {
     "name": "stdout",
     "output_type": "stream",
     "text": [
      "\u001b[1m4/4\u001b[0m \u001b[32m━━━━━━━━━━━━━━━━━━━━\u001b[0m\u001b[37m\u001b[0m \u001b[1m6s\u001b[0m 1s/step\n"
     ]
    },
    {
     "name": "stderr",
     "output_type": "stream",
     "text": [
      "Extracting features:  30%|█████████████████▍                                         | 110/371 [11:23<26:29,  6.09s/it]"
     ]
    },
    {
     "name": "stdout",
     "output_type": "stream",
     "text": [
      "\u001b[1m4/4\u001b[0m \u001b[32m━━━━━━━━━━━━━━━━━━━━\u001b[0m\u001b[37m\u001b[0m \u001b[1m6s\u001b[0m 1s/step\n"
     ]
    },
    {
     "name": "stderr",
     "output_type": "stream",
     "text": [
      "Extracting features:  30%|█████████████████▋                                         | 111/371 [11:30<26:25,  6.10s/it]"
     ]
    },
    {
     "name": "stdout",
     "output_type": "stream",
     "text": [
      "\u001b[1m4/4\u001b[0m \u001b[32m━━━━━━━━━━━━━━━━━━━━\u001b[0m\u001b[37m\u001b[0m \u001b[1m6s\u001b[0m 1s/step\n"
     ]
    },
    {
     "name": "stderr",
     "output_type": "stream",
     "text": [
      "Extracting features:  30%|█████████████████▊                                         | 112/371 [11:36<26:29,  6.14s/it]"
     ]
    },
    {
     "name": "stdout",
     "output_type": "stream",
     "text": [
      "\u001b[1m4/4\u001b[0m \u001b[32m━━━━━━━━━━━━━━━━━━━━\u001b[0m\u001b[37m\u001b[0m \u001b[1m6s\u001b[0m 1s/step\n"
     ]
    },
    {
     "name": "stderr",
     "output_type": "stream",
     "text": [
      "Extracting features:  30%|█████████████████▉                                         | 113/371 [11:42<26:41,  6.21s/it]"
     ]
    },
    {
     "name": "stdout",
     "output_type": "stream",
     "text": [
      "\u001b[1m4/4\u001b[0m \u001b[32m━━━━━━━━━━━━━━━━━━━━\u001b[0m\u001b[37m\u001b[0m \u001b[1m5s\u001b[0m 1s/step\n"
     ]
    },
    {
     "name": "stderr",
     "output_type": "stream",
     "text": [
      "Extracting features:  31%|██████████████████▏                                        | 114/371 [11:48<26:38,  6.22s/it]"
     ]
    },
    {
     "name": "stdout",
     "output_type": "stream",
     "text": [
      "\u001b[1m4/4\u001b[0m \u001b[32m━━━━━━━━━━━━━━━━━━━━\u001b[0m\u001b[37m\u001b[0m \u001b[1m5s\u001b[0m 1s/step\n"
     ]
    },
    {
     "name": "stderr",
     "output_type": "stream",
     "text": [
      "Extracting features:  31%|██████████████████▎                                        | 115/371 [11:54<25:51,  6.06s/it]"
     ]
    },
    {
     "name": "stdout",
     "output_type": "stream",
     "text": [
      "\u001b[1m4/4\u001b[0m \u001b[32m━━━━━━━━━━━━━━━━━━━━\u001b[0m\u001b[37m\u001b[0m \u001b[1m5s\u001b[0m 1s/step\n"
     ]
    },
    {
     "name": "stderr",
     "output_type": "stream",
     "text": [
      "Extracting features:  31%|██████████████████▍                                        | 116/371 [12:01<26:44,  6.29s/it]"
     ]
    },
    {
     "name": "stdout",
     "output_type": "stream",
     "text": [
      "\u001b[1m4/4\u001b[0m \u001b[32m━━━━━━━━━━━━━━━━━━━━\u001b[0m\u001b[37m\u001b[0m \u001b[1m5s\u001b[0m 1s/step\n"
     ]
    },
    {
     "name": "stderr",
     "output_type": "stream",
     "text": [
      "Extracting features:  32%|██████████████████▌                                        | 117/371 [12:07<25:55,  6.12s/it]"
     ]
    },
    {
     "name": "stdout",
     "output_type": "stream",
     "text": [
      "\u001b[1m4/4\u001b[0m \u001b[32m━━━━━━━━━━━━━━━━━━━━\u001b[0m\u001b[37m\u001b[0m \u001b[1m5s\u001b[0m 1s/step\n"
     ]
    },
    {
     "name": "stderr",
     "output_type": "stream",
     "text": [
      "Extracting features:  32%|██████████████████▊                                        | 118/371 [12:13<26:13,  6.22s/it]"
     ]
    },
    {
     "name": "stdout",
     "output_type": "stream",
     "text": [
      "\u001b[1m4/4\u001b[0m \u001b[32m━━━━━━━━━━━━━━━━━━━━\u001b[0m\u001b[37m\u001b[0m \u001b[1m5s\u001b[0m 1s/step\n"
     ]
    },
    {
     "name": "stderr",
     "output_type": "stream",
     "text": [
      "Extracting features:  32%|██████████████████▉                                        | 119/371 [12:19<25:29,  6.07s/it]"
     ]
    },
    {
     "name": "stdout",
     "output_type": "stream",
     "text": [
      "\u001b[1m4/4\u001b[0m \u001b[32m━━━━━━━━━━━━━━━━━━━━\u001b[0m\u001b[37m\u001b[0m \u001b[1m5s\u001b[0m 1s/step\n"
     ]
    },
    {
     "name": "stderr",
     "output_type": "stream",
     "text": [
      "Extracting features:  32%|███████████████████                                        | 120/371 [12:27<27:36,  6.60s/it]"
     ]
    },
    {
     "name": "stdout",
     "output_type": "stream",
     "text": [
      "\u001b[1m4/4\u001b[0m \u001b[32m━━━━━━━━━━━━━━━━━━━━\u001b[0m\u001b[37m\u001b[0m \u001b[1m5s\u001b[0m 1s/step\n"
     ]
    },
    {
     "name": "stderr",
     "output_type": "stream",
     "text": [
      "Extracting features:  33%|███████████████████▏                                       | 121/371 [12:32<26:18,  6.31s/it]"
     ]
    },
    {
     "name": "stdout",
     "output_type": "stream",
     "text": [
      "\u001b[1m4/4\u001b[0m \u001b[32m━━━━━━━━━━━━━━━━━━━━\u001b[0m\u001b[37m\u001b[0m \u001b[1m5s\u001b[0m 1s/step\n"
     ]
    },
    {
     "name": "stderr",
     "output_type": "stream",
     "text": [
      "Extracting features:  33%|███████████████████▍                                       | 122/371 [12:39<27:18,  6.58s/it]"
     ]
    },
    {
     "name": "stdout",
     "output_type": "stream",
     "text": [
      "\u001b[1m4/4\u001b[0m \u001b[32m━━━━━━━━━━━━━━━━━━━━\u001b[0m\u001b[37m\u001b[0m \u001b[1m5s\u001b[0m 1s/step\n"
     ]
    },
    {
     "name": "stderr",
     "output_type": "stream",
     "text": [
      "Extracting features:  33%|███████████████████▌                                       | 123/371 [12:45<26:00,  6.29s/it]"
     ]
    },
    {
     "name": "stdout",
     "output_type": "stream",
     "text": [
      "\u001b[1m4/4\u001b[0m \u001b[32m━━━━━━━━━━━━━━━━━━━━\u001b[0m\u001b[37m\u001b[0m \u001b[1m5s\u001b[0m 1s/step\n"
     ]
    },
    {
     "name": "stderr",
     "output_type": "stream",
     "text": [
      "Extracting features:  33%|███████████████████▋                                       | 124/371 [12:51<25:10,  6.11s/it]"
     ]
    },
    {
     "name": "stdout",
     "output_type": "stream",
     "text": [
      "\u001b[1m4/4\u001b[0m \u001b[32m━━━━━━━━━━━━━━━━━━━━\u001b[0m\u001b[37m\u001b[0m \u001b[1m5s\u001b[0m 1s/step\n"
     ]
    },
    {
     "name": "stderr",
     "output_type": "stream",
     "text": [
      "Extracting features:  34%|███████████████████▉                                       | 125/371 [12:57<25:11,  6.14s/it]"
     ]
    },
    {
     "name": "stdout",
     "output_type": "stream",
     "text": [
      "\u001b[1m4/4\u001b[0m \u001b[32m━━━━━━━━━━━━━━━━━━━━\u001b[0m\u001b[37m\u001b[0m \u001b[1m5s\u001b[0m 1s/step\n"
     ]
    },
    {
     "name": "stderr",
     "output_type": "stream",
     "text": [
      "Extracting features:  34%|████████████████████                                       | 126/371 [13:04<25:33,  6.26s/it]"
     ]
    },
    {
     "name": "stdout",
     "output_type": "stream",
     "text": [
      "\u001b[1m4/4\u001b[0m \u001b[32m━━━━━━━━━━━━━━━━━━━━\u001b[0m\u001b[37m\u001b[0m \u001b[1m5s\u001b[0m 1s/step\n"
     ]
    },
    {
     "name": "stderr",
     "output_type": "stream",
     "text": [
      "Extracting features:  34%|████████████████████▏                                      | 127/371 [13:10<25:13,  6.20s/it]"
     ]
    },
    {
     "name": "stdout",
     "output_type": "stream",
     "text": [
      "\u001b[1m4/4\u001b[0m \u001b[32m━━━━━━━━━━━━━━━━━━━━\u001b[0m\u001b[37m\u001b[0m \u001b[1m5s\u001b[0m 1s/step\n"
     ]
    },
    {
     "name": "stderr",
     "output_type": "stream",
     "text": [
      "Extracting features:  35%|████████████████████▎                                      | 128/371 [13:15<24:28,  6.04s/it]"
     ]
    },
    {
     "name": "stdout",
     "output_type": "stream",
     "text": [
      "\u001b[1m4/4\u001b[0m \u001b[32m━━━━━━━━━━━━━━━━━━━━\u001b[0m\u001b[37m\u001b[0m \u001b[1m5s\u001b[0m 1s/step\n"
     ]
    },
    {
     "name": "stderr",
     "output_type": "stream",
     "text": [
      "Extracting features:  35%|████████████████████▌                                      | 129/371 [13:21<23:58,  5.95s/it]"
     ]
    },
    {
     "name": "stdout",
     "output_type": "stream",
     "text": [
      "\u001b[1m4/4\u001b[0m \u001b[32m━━━━━━━━━━━━━━━━━━━━\u001b[0m\u001b[37m\u001b[0m \u001b[1m5s\u001b[0m 1s/step\n"
     ]
    },
    {
     "name": "stderr",
     "output_type": "stream",
     "text": [
      "Extracting features:  35%|████████████████████▋                                      | 130/371 [13:27<23:35,  5.87s/it]"
     ]
    },
    {
     "name": "stdout",
     "output_type": "stream",
     "text": [
      "\u001b[1m4/4\u001b[0m \u001b[32m━━━━━━━━━━━━━━━━━━━━\u001b[0m\u001b[37m\u001b[0m \u001b[1m5s\u001b[0m 1s/step\n"
     ]
    },
    {
     "name": "stderr",
     "output_type": "stream",
     "text": [
      "Extracting features:  35%|████████████████████▊                                      | 131/371 [13:34<24:38,  6.16s/it]"
     ]
    },
    {
     "name": "stdout",
     "output_type": "stream",
     "text": [
      "\u001b[1m4/4\u001b[0m \u001b[32m━━━━━━━━━━━━━━━━━━━━\u001b[0m\u001b[37m\u001b[0m \u001b[1m5s\u001b[0m 1s/step\n"
     ]
    },
    {
     "name": "stderr",
     "output_type": "stream",
     "text": [
      "Extracting features:  36%|████████████████████▉                                      | 132/371 [13:40<25:02,  6.29s/it]"
     ]
    },
    {
     "name": "stdout",
     "output_type": "stream",
     "text": [
      "\u001b[1m4/4\u001b[0m \u001b[32m━━━━━━━━━━━━━━━━━━━━\u001b[0m\u001b[37m\u001b[0m \u001b[1m5s\u001b[0m 1s/step\n"
     ]
    },
    {
     "name": "stderr",
     "output_type": "stream",
     "text": [
      "Extracting features:  36%|█████████████████████▏                                     | 133/371 [13:46<24:42,  6.23s/it]"
     ]
    },
    {
     "name": "stdout",
     "output_type": "stream",
     "text": [
      "\u001b[1m4/4\u001b[0m \u001b[32m━━━━━━━━━━━━━━━━━━━━\u001b[0m\u001b[37m\u001b[0m \u001b[1m5s\u001b[0m 1s/step\n"
     ]
    },
    {
     "name": "stderr",
     "output_type": "stream",
     "text": [
      "Extracting features:  36%|█████████████████████▎                                     | 134/371 [13:52<23:57,  6.07s/it]"
     ]
    },
    {
     "name": "stdout",
     "output_type": "stream",
     "text": [
      "\u001b[1m4/4\u001b[0m \u001b[32m━━━━━━━━━━━━━━━━━━━━\u001b[0m\u001b[37m\u001b[0m \u001b[1m5s\u001b[0m 1s/step\n"
     ]
    },
    {
     "name": "stderr",
     "output_type": "stream",
     "text": [
      "Extracting features:  36%|█████████████████████▍                                     | 135/371 [13:59<24:50,  6.32s/it]"
     ]
    },
    {
     "name": "stdout",
     "output_type": "stream",
     "text": [
      "\u001b[1m4/4\u001b[0m \u001b[32m━━━━━━━━━━━━━━━━━━━━\u001b[0m\u001b[37m\u001b[0m \u001b[1m5s\u001b[0m 1s/step\n"
     ]
    },
    {
     "name": "stderr",
     "output_type": "stream",
     "text": [
      "Extracting features:  37%|█████████████████████▋                                     | 136/371 [14:04<23:56,  6.11s/it]"
     ]
    },
    {
     "name": "stdout",
     "output_type": "stream",
     "text": [
      "\u001b[1m4/4\u001b[0m \u001b[32m━━━━━━━━━━━━━━━━━━━━\u001b[0m\u001b[37m\u001b[0m \u001b[1m5s\u001b[0m 1s/step\n"
     ]
    },
    {
     "name": "stderr",
     "output_type": "stream",
     "text": [
      "Extracting features:  37%|█████████████████████▊                                     | 137/371 [14:10<23:19,  5.98s/it]"
     ]
    },
    {
     "name": "stdout",
     "output_type": "stream",
     "text": [
      "\u001b[1m4/4\u001b[0m \u001b[32m━━━━━━━━━━━━━━━━━━━━\u001b[0m\u001b[37m\u001b[0m \u001b[1m5s\u001b[0m 1s/step\n"
     ]
    },
    {
     "name": "stderr",
     "output_type": "stream",
     "text": [
      "Extracting features:  37%|█████████████████████▉                                     | 138/371 [14:17<23:46,  6.12s/it]"
     ]
    },
    {
     "name": "stdout",
     "output_type": "stream",
     "text": [
      "\u001b[1m4/4\u001b[0m \u001b[32m━━━━━━━━━━━━━━━━━━━━\u001b[0m\u001b[37m\u001b[0m \u001b[1m5s\u001b[0m 1s/step\n"
     ]
    },
    {
     "name": "stderr",
     "output_type": "stream",
     "text": [
      "Extracting features:  37%|██████████████████████                                     | 139/371 [14:22<23:13,  6.01s/it]"
     ]
    },
    {
     "name": "stdout",
     "output_type": "stream",
     "text": [
      "\u001b[1m4/4\u001b[0m \u001b[32m━━━━━━━━━━━━━━━━━━━━\u001b[0m\u001b[37m\u001b[0m \u001b[1m5s\u001b[0m 1s/step\n"
     ]
    },
    {
     "name": "stderr",
     "output_type": "stream",
     "text": [
      "Extracting features:  38%|██████████████████████▎                                    | 140/371 [14:28<23:16,  6.05s/it]"
     ]
    },
    {
     "name": "stdout",
     "output_type": "stream",
     "text": [
      "\u001b[1m4/4\u001b[0m \u001b[32m━━━━━━━━━━━━━━━━━━━━\u001b[0m\u001b[37m\u001b[0m \u001b[1m5s\u001b[0m 1s/step\n"
     ]
    },
    {
     "name": "stderr",
     "output_type": "stream",
     "text": [
      "Extracting features:  38%|██████████████████████▍                                    | 141/371 [14:34<22:49,  5.95s/it]"
     ]
    },
    {
     "name": "stdout",
     "output_type": "stream",
     "text": [
      "\u001b[1m4/4\u001b[0m \u001b[32m━━━━━━━━━━━━━━━━━━━━\u001b[0m\u001b[37m\u001b[0m \u001b[1m5s\u001b[0m 1s/step\n"
     ]
    },
    {
     "name": "stderr",
     "output_type": "stream",
     "text": [
      "Extracting features:  38%|██████████████████████▌                                    | 142/371 [14:40<22:28,  5.89s/it]"
     ]
    },
    {
     "name": "stdout",
     "output_type": "stream",
     "text": [
      "\u001b[1m4/4\u001b[0m \u001b[32m━━━━━━━━━━━━━━━━━━━━\u001b[0m\u001b[37m\u001b[0m \u001b[1m5s\u001b[0m 1s/step\n"
     ]
    },
    {
     "name": "stderr",
     "output_type": "stream",
     "text": [
      "Extracting features:  39%|██████████████████████▋                                    | 143/371 [14:46<22:31,  5.93s/it]"
     ]
    },
    {
     "name": "stdout",
     "output_type": "stream",
     "text": [
      "\u001b[1m4/4\u001b[0m \u001b[32m━━━━━━━━━━━━━━━━━━━━\u001b[0m\u001b[37m\u001b[0m \u001b[1m5s\u001b[0m 1s/step\n"
     ]
    },
    {
     "name": "stderr",
     "output_type": "stream",
     "text": [
      "Extracting features:  39%|██████████████████████▉                                    | 144/371 [14:52<22:09,  5.86s/it]"
     ]
    },
    {
     "name": "stdout",
     "output_type": "stream",
     "text": [
      "\u001b[1m4/4\u001b[0m \u001b[32m━━━━━━━━━━━━━━━━━━━━\u001b[0m\u001b[37m\u001b[0m \u001b[1m5s\u001b[0m 1s/step\n"
     ]
    },
    {
     "name": "stderr",
     "output_type": "stream",
     "text": [
      "Extracting features:  39%|███████████████████████                                    | 145/371 [14:57<21:52,  5.81s/it]"
     ]
    },
    {
     "name": "stdout",
     "output_type": "stream",
     "text": [
      "\u001b[1m4/4\u001b[0m \u001b[32m━━━━━━━━━━━━━━━━━━━━\u001b[0m\u001b[37m\u001b[0m \u001b[1m6s\u001b[0m 1s/step\n"
     ]
    },
    {
     "name": "stderr",
     "output_type": "stream",
     "text": [
      "Extracting features:  39%|███████████████████████▏                                   | 146/371 [15:03<21:45,  5.80s/it]"
     ]
    },
    {
     "name": "stdout",
     "output_type": "stream",
     "text": [
      "\u001b[1m4/4\u001b[0m \u001b[32m━━━━━━━━━━━━━━━━━━━━\u001b[0m\u001b[37m\u001b[0m \u001b[1m5s\u001b[0m 1s/step\n"
     ]
    },
    {
     "name": "stderr",
     "output_type": "stream",
     "text": [
      "Extracting features:  40%|███████████████████████▍                                   | 147/371 [15:10<22:35,  6.05s/it]"
     ]
    },
    {
     "name": "stdout",
     "output_type": "stream",
     "text": [
      "\u001b[1m4/4\u001b[0m \u001b[32m━━━━━━━━━━━━━━━━━━━━\u001b[0m\u001b[37m\u001b[0m \u001b[1m5s\u001b[0m 1s/step\n"
     ]
    },
    {
     "name": "stderr",
     "output_type": "stream",
     "text": [
      "Extracting features:  40%|███████████████████████▌                                   | 148/371 [15:17<24:00,  6.46s/it]"
     ]
    },
    {
     "name": "stdout",
     "output_type": "stream",
     "text": [
      "\u001b[1m4/4\u001b[0m \u001b[32m━━━━━━━━━━━━━━━━━━━━\u001b[0m\u001b[37m\u001b[0m \u001b[1m5s\u001b[0m 1s/step\n"
     ]
    },
    {
     "name": "stderr",
     "output_type": "stream",
     "text": [
      "Extracting features:  40%|███████████████████████▋                                   | 149/371 [15:23<23:06,  6.25s/it]"
     ]
    },
    {
     "name": "stdout",
     "output_type": "stream",
     "text": [
      "\u001b[1m4/4\u001b[0m \u001b[32m━━━━━━━━━━━━━━━━━━━━\u001b[0m\u001b[37m\u001b[0m \u001b[1m5s\u001b[0m 1s/step\n"
     ]
    },
    {
     "name": "stderr",
     "output_type": "stream",
     "text": [
      "Extracting features:  40%|███████████████████████▊                                   | 150/371 [15:29<22:32,  6.12s/it]"
     ]
    },
    {
     "name": "stdout",
     "output_type": "stream",
     "text": [
      "\u001b[1m4/4\u001b[0m \u001b[32m━━━━━━━━━━━━━━━━━━━━\u001b[0m\u001b[37m\u001b[0m \u001b[1m5s\u001b[0m 1s/step\n"
     ]
    },
    {
     "name": "stderr",
     "output_type": "stream",
     "text": [
      "Extracting features:  41%|████████████████████████                                   | 151/371 [15:35<22:55,  6.25s/it]"
     ]
    },
    {
     "name": "stdout",
     "output_type": "stream",
     "text": [
      "\u001b[1m4/4\u001b[0m \u001b[32m━━━━━━━━━━━━━━━━━━━━\u001b[0m\u001b[37m\u001b[0m \u001b[1m5s\u001b[0m 1s/step\n"
     ]
    },
    {
     "name": "stderr",
     "output_type": "stream",
     "text": [
      "Extracting features:  41%|████████████████████████▏                                  | 152/371 [15:41<22:05,  6.05s/it]"
     ]
    },
    {
     "name": "stdout",
     "output_type": "stream",
     "text": [
      "\u001b[1m4/4\u001b[0m \u001b[32m━━━━━━━━━━━━━━━━━━━━\u001b[0m\u001b[37m\u001b[0m \u001b[1m5s\u001b[0m 1s/step\n"
     ]
    },
    {
     "name": "stderr",
     "output_type": "stream",
     "text": [
      "Extracting features:  41%|████████████████████████▎                                  | 153/371 [15:47<21:32,  5.93s/it]"
     ]
    },
    {
     "name": "stdout",
     "output_type": "stream",
     "text": [
      "\u001b[1m4/4\u001b[0m \u001b[32m━━━━━━━━━━━━━━━━━━━━\u001b[0m\u001b[37m\u001b[0m \u001b[1m5s\u001b[0m 1s/step\n"
     ]
    },
    {
     "name": "stderr",
     "output_type": "stream",
     "text": [
      "Extracting features:  42%|████████████████████████▍                                  | 154/371 [15:52<21:07,  5.84s/it]"
     ]
    },
    {
     "name": "stdout",
     "output_type": "stream",
     "text": [
      "\u001b[1m4/4\u001b[0m \u001b[32m━━━━━━━━━━━━━━━━━━━━\u001b[0m\u001b[37m\u001b[0m \u001b[1m5s\u001b[0m 1s/step\n"
     ]
    },
    {
     "name": "stderr",
     "output_type": "stream",
     "text": [
      "Extracting features:  42%|████████████████████████▋                                  | 155/371 [15:58<20:46,  5.77s/it]"
     ]
    },
    {
     "name": "stdout",
     "output_type": "stream",
     "text": [
      "\u001b[1m4/4\u001b[0m \u001b[32m━━━━━━━━━━━━━━━━━━━━\u001b[0m\u001b[37m\u001b[0m \u001b[1m5s\u001b[0m 1s/step\n"
     ]
    },
    {
     "name": "stderr",
     "output_type": "stream",
     "text": [
      "Extracting features:  42%|████████████████████████▊                                  | 156/371 [16:03<20:31,  5.73s/it]"
     ]
    },
    {
     "name": "stdout",
     "output_type": "stream",
     "text": [
      "\u001b[1m4/4\u001b[0m \u001b[32m━━━━━━━━━━━━━━━━━━━━\u001b[0m\u001b[37m\u001b[0m \u001b[1m5s\u001b[0m 1s/step\n"
     ]
    },
    {
     "name": "stderr",
     "output_type": "stream",
     "text": [
      "Extracting features:  42%|████████████████████████▉                                  | 157/371 [16:09<20:16,  5.69s/it]"
     ]
    },
    {
     "name": "stdout",
     "output_type": "stream",
     "text": [
      "\u001b[1m4/4\u001b[0m \u001b[32m━━━━━━━━━━━━━━━━━━━━\u001b[0m\u001b[37m\u001b[0m \u001b[1m5s\u001b[0m 1s/step\n"
     ]
    },
    {
     "name": "stderr",
     "output_type": "stream",
     "text": [
      "Extracting features:  43%|█████████████████████████▏                                 | 158/371 [16:15<20:03,  5.65s/it]"
     ]
    },
    {
     "name": "stdout",
     "output_type": "stream",
     "text": [
      "\u001b[1m4/4\u001b[0m \u001b[32m━━━━━━━━━━━━━━━━━━━━\u001b[0m\u001b[37m\u001b[0m \u001b[1m5s\u001b[0m 1s/step\n"
     ]
    },
    {
     "name": "stderr",
     "output_type": "stream",
     "text": [
      "Extracting features:  43%|█████████████████████████▎                                 | 159/371 [16:20<19:56,  5.64s/it]"
     ]
    },
    {
     "name": "stdout",
     "output_type": "stream",
     "text": [
      "\u001b[1m4/4\u001b[0m \u001b[32m━━━━━━━━━━━━━━━━━━━━\u001b[0m\u001b[37m\u001b[0m \u001b[1m5s\u001b[0m 1s/step\n"
     ]
    },
    {
     "name": "stderr",
     "output_type": "stream",
     "text": [
      "Extracting features:  43%|█████████████████████████▍                                 | 160/371 [16:26<19:49,  5.64s/it]"
     ]
    },
    {
     "name": "stdout",
     "output_type": "stream",
     "text": [
      "\u001b[1m4/4\u001b[0m \u001b[32m━━━━━━━━━━━━━━━━━━━━\u001b[0m\u001b[37m\u001b[0m \u001b[1m5s\u001b[0m 1s/step\n"
     ]
    },
    {
     "name": "stderr",
     "output_type": "stream",
     "text": [
      "Extracting features:  43%|█████████████████████████▌                                 | 161/371 [16:32<19:49,  5.67s/it]"
     ]
    },
    {
     "name": "stdout",
     "output_type": "stream",
     "text": [
      "\u001b[1m4/4\u001b[0m \u001b[32m━━━━━━━━━━━━━━━━━━━━\u001b[0m\u001b[37m\u001b[0m \u001b[1m5s\u001b[0m 1s/step\n"
     ]
    },
    {
     "name": "stderr",
     "output_type": "stream",
     "text": [
      "Extracting features:  44%|█████████████████████████▊                                 | 162/371 [16:37<19:44,  5.67s/it]"
     ]
    },
    {
     "name": "stdout",
     "output_type": "stream",
     "text": [
      "\u001b[1m4/4\u001b[0m \u001b[32m━━━━━━━━━━━━━━━━━━━━\u001b[0m\u001b[37m\u001b[0m \u001b[1m5s\u001b[0m 1s/step\n"
     ]
    },
    {
     "name": "stderr",
     "output_type": "stream",
     "text": [
      "Extracting features:  44%|█████████████████████████▉                                 | 163/371 [16:43<19:35,  5.65s/it]"
     ]
    },
    {
     "name": "stdout",
     "output_type": "stream",
     "text": [
      "\u001b[1m4/4\u001b[0m \u001b[32m━━━━━━━━━━━━━━━━━━━━\u001b[0m\u001b[37m\u001b[0m \u001b[1m5s\u001b[0m 1s/step\n"
     ]
    },
    {
     "name": "stderr",
     "output_type": "stream",
     "text": [
      "Extracting features:  44%|██████████████████████████                                 | 164/371 [16:48<19:24,  5.63s/it]"
     ]
    },
    {
     "name": "stdout",
     "output_type": "stream",
     "text": [
      "\u001b[1m4/4\u001b[0m \u001b[32m━━━━━━━━━━━━━━━━━━━━\u001b[0m\u001b[37m\u001b[0m \u001b[1m5s\u001b[0m 1s/step\n"
     ]
    },
    {
     "name": "stderr",
     "output_type": "stream",
     "text": [
      "Extracting features:  44%|██████████████████████████▏                                | 165/371 [16:54<19:17,  5.62s/it]"
     ]
    },
    {
     "name": "stdout",
     "output_type": "stream",
     "text": [
      "\u001b[1m4/4\u001b[0m \u001b[32m━━━━━━━━━━━━━━━━━━━━\u001b[0m\u001b[37m\u001b[0m \u001b[1m5s\u001b[0m 1s/step\n"
     ]
    },
    {
     "name": "stderr",
     "output_type": "stream",
     "text": [
      "Extracting features:  45%|██████████████████████████▍                                | 166/371 [17:00<19:14,  5.63s/it]"
     ]
    },
    {
     "name": "stdout",
     "output_type": "stream",
     "text": [
      "\u001b[1m4/4\u001b[0m \u001b[32m━━━━━━━━━━━━━━━━━━━━\u001b[0m\u001b[37m\u001b[0m \u001b[1m5s\u001b[0m 1s/step\n"
     ]
    },
    {
     "name": "stderr",
     "output_type": "stream",
     "text": [
      "Extracting features:  45%|██████████████████████████▌                                | 167/371 [17:05<19:09,  5.64s/it]"
     ]
    },
    {
     "name": "stdout",
     "output_type": "stream",
     "text": [
      "\u001b[1m4/4\u001b[0m \u001b[32m━━━━━━━━━━━━━━━━━━━━\u001b[0m\u001b[37m\u001b[0m \u001b[1m5s\u001b[0m 1s/step\n"
     ]
    },
    {
     "name": "stderr",
     "output_type": "stream",
     "text": [
      "Extracting features:  45%|██████████████████████████▋                                | 168/371 [17:11<19:08,  5.66s/it]"
     ]
    },
    {
     "name": "stdout",
     "output_type": "stream",
     "text": [
      "\u001b[1m4/4\u001b[0m \u001b[32m━━━━━━━━━━━━━━━━━━━━\u001b[0m\u001b[37m\u001b[0m \u001b[1m5s\u001b[0m 1s/step\n"
     ]
    },
    {
     "name": "stderr",
     "output_type": "stream",
     "text": [
      "Extracting features:  46%|██████████████████████████▉                                | 169/371 [17:17<18:58,  5.63s/it]"
     ]
    },
    {
     "name": "stdout",
     "output_type": "stream",
     "text": [
      "\u001b[1m4/4\u001b[0m \u001b[32m━━━━━━━━━━━━━━━━━━━━\u001b[0m\u001b[37m\u001b[0m \u001b[1m5s\u001b[0m 1s/step\n"
     ]
    },
    {
     "name": "stderr",
     "output_type": "stream",
     "text": [
      "Extracting features:  46%|███████████████████████████                                | 170/371 [17:22<18:56,  5.66s/it]"
     ]
    },
    {
     "name": "stdout",
     "output_type": "stream",
     "text": [
      "\u001b[1m4/4\u001b[0m \u001b[32m━━━━━━━━━━━━━━━━━━━━\u001b[0m\u001b[37m\u001b[0m \u001b[1m5s\u001b[0m 1s/step\n"
     ]
    },
    {
     "name": "stderr",
     "output_type": "stream",
     "text": [
      "Extracting features:  46%|███████████████████████████▏                               | 171/371 [17:28<18:53,  5.67s/it]"
     ]
    },
    {
     "name": "stdout",
     "output_type": "stream",
     "text": [
      "\u001b[1m4/4\u001b[0m \u001b[32m━━━━━━━━━━━━━━━━━━━━\u001b[0m\u001b[37m\u001b[0m \u001b[1m5s\u001b[0m 1s/step\n"
     ]
    },
    {
     "name": "stderr",
     "output_type": "stream",
     "text": [
      "Extracting features:  46%|███████████████████████████▎                               | 172/371 [17:34<18:50,  5.68s/it]"
     ]
    },
    {
     "name": "stdout",
     "output_type": "stream",
     "text": [
      "\u001b[1m4/4\u001b[0m \u001b[32m━━━━━━━━━━━━━━━━━━━━\u001b[0m\u001b[37m\u001b[0m \u001b[1m5s\u001b[0m 1s/step\n"
     ]
    },
    {
     "name": "stderr",
     "output_type": "stream",
     "text": [
      "Extracting features:  47%|███████████████████████████▌                               | 173/371 [17:39<18:49,  5.70s/it]"
     ]
    },
    {
     "name": "stdout",
     "output_type": "stream",
     "text": [
      "\u001b[1m4/4\u001b[0m \u001b[32m━━━━━━━━━━━━━━━━━━━━\u001b[0m\u001b[37m\u001b[0m \u001b[1m5s\u001b[0m 1s/step\n"
     ]
    },
    {
     "name": "stderr",
     "output_type": "stream",
     "text": [
      "Extracting features:  47%|███████████████████████████▋                               | 174/371 [17:45<18:36,  5.67s/it]"
     ]
    },
    {
     "name": "stdout",
     "output_type": "stream",
     "text": [
      "\u001b[1m4/4\u001b[0m \u001b[32m━━━━━━━━━━━━━━━━━━━━\u001b[0m\u001b[37m\u001b[0m \u001b[1m5s\u001b[0m 1s/step\n"
     ]
    },
    {
     "name": "stderr",
     "output_type": "stream",
     "text": [
      "Extracting features:  47%|███████████████████████████▊                               | 175/371 [17:51<18:32,  5.67s/it]"
     ]
    },
    {
     "name": "stdout",
     "output_type": "stream",
     "text": [
      "\u001b[1m4/4\u001b[0m \u001b[32m━━━━━━━━━━━━━━━━━━━━\u001b[0m\u001b[37m\u001b[0m \u001b[1m5s\u001b[0m 1s/step\n"
     ]
    },
    {
     "name": "stderr",
     "output_type": "stream",
     "text": [
      "Extracting features:  47%|███████████████████████████▉                               | 176/371 [17:56<18:29,  5.69s/it]"
     ]
    },
    {
     "name": "stdout",
     "output_type": "stream",
     "text": [
      "\u001b[1m4/4\u001b[0m \u001b[32m━━━━━━━━━━━━━━━━━━━━\u001b[0m\u001b[37m\u001b[0m \u001b[1m5s\u001b[0m 1s/step\n"
     ]
    },
    {
     "name": "stderr",
     "output_type": "stream",
     "text": [
      "Extracting features:  48%|████████████████████████████▏                              | 177/371 [18:02<18:24,  5.69s/it]"
     ]
    },
    {
     "name": "stdout",
     "output_type": "stream",
     "text": [
      "\u001b[1m4/4\u001b[0m \u001b[32m━━━━━━━━━━━━━━━━━━━━\u001b[0m\u001b[37m\u001b[0m \u001b[1m5s\u001b[0m 1s/step\n"
     ]
    },
    {
     "name": "stderr",
     "output_type": "stream",
     "text": [
      "Extracting features:  48%|████████████████████████████▎                              | 178/371 [18:08<18:19,  5.70s/it]"
     ]
    },
    {
     "name": "stdout",
     "output_type": "stream",
     "text": [
      "\u001b[1m4/4\u001b[0m \u001b[32m━━━━━━━━━━━━━━━━━━━━\u001b[0m\u001b[37m\u001b[0m \u001b[1m5s\u001b[0m 1s/step\n"
     ]
    },
    {
     "name": "stderr",
     "output_type": "stream",
     "text": [
      "Extracting features:  48%|████████████████████████████▍                              | 179/371 [18:13<18:06,  5.66s/it]"
     ]
    },
    {
     "name": "stdout",
     "output_type": "stream",
     "text": [
      "\u001b[1m4/4\u001b[0m \u001b[32m━━━━━━━━━━━━━━━━━━━━\u001b[0m\u001b[37m\u001b[0m \u001b[1m5s\u001b[0m 1s/step\n"
     ]
    },
    {
     "name": "stderr",
     "output_type": "stream",
     "text": [
      "Extracting features:  49%|████████████████████████████▋                              | 180/371 [18:19<18:03,  5.67s/it]"
     ]
    },
    {
     "name": "stdout",
     "output_type": "stream",
     "text": [
      "\u001b[1m4/4\u001b[0m \u001b[32m━━━━━━━━━━━━━━━━━━━━\u001b[0m\u001b[37m\u001b[0m \u001b[1m5s\u001b[0m 1s/step\n"
     ]
    },
    {
     "name": "stderr",
     "output_type": "stream",
     "text": [
      "Extracting features:  49%|████████████████████████████▊                              | 181/371 [18:25<18:00,  5.69s/it]"
     ]
    },
    {
     "name": "stdout",
     "output_type": "stream",
     "text": [
      "\u001b[1m4/4\u001b[0m \u001b[32m━━━━━━━━━━━━━━━━━━━━\u001b[0m\u001b[37m\u001b[0m \u001b[1m5s\u001b[0m 1s/step\n"
     ]
    },
    {
     "name": "stderr",
     "output_type": "stream",
     "text": [
      "Extracting features:  49%|████████████████████████████▉                              | 182/371 [18:31<17:55,  5.69s/it]"
     ]
    },
    {
     "name": "stdout",
     "output_type": "stream",
     "text": [
      "\u001b[1m4/4\u001b[0m \u001b[32m━━━━━━━━━━━━━━━━━━━━\u001b[0m\u001b[37m\u001b[0m \u001b[1m5s\u001b[0m 1s/step\n"
     ]
    },
    {
     "name": "stderr",
     "output_type": "stream",
     "text": [
      "Extracting features:  49%|█████████████████████████████                              | 183/371 [18:36<17:51,  5.70s/it]"
     ]
    },
    {
     "name": "stdout",
     "output_type": "stream",
     "text": [
      "\u001b[1m4/4\u001b[0m \u001b[32m━━━━━━━━━━━━━━━━━━━━\u001b[0m\u001b[37m\u001b[0m \u001b[1m5s\u001b[0m 1s/step\n"
     ]
    },
    {
     "name": "stderr",
     "output_type": "stream",
     "text": [
      "Extracting features:  50%|█████████████████████████████▎                             | 184/371 [18:42<17:39,  5.67s/it]"
     ]
    },
    {
     "name": "stdout",
     "output_type": "stream",
     "text": [
      "\u001b[1m4/4\u001b[0m \u001b[32m━━━━━━━━━━━━━━━━━━━━\u001b[0m\u001b[37m\u001b[0m \u001b[1m5s\u001b[0m 1s/step\n"
     ]
    },
    {
     "name": "stderr",
     "output_type": "stream",
     "text": [
      "Extracting features:  50%|█████████████████████████████▍                             | 185/371 [18:48<17:34,  5.67s/it]"
     ]
    },
    {
     "name": "stdout",
     "output_type": "stream",
     "text": [
      "\u001b[1m4/4\u001b[0m \u001b[32m━━━━━━━━━━━━━━━━━━━━\u001b[0m\u001b[37m\u001b[0m \u001b[1m5s\u001b[0m 1s/step\n"
     ]
    },
    {
     "name": "stderr",
     "output_type": "stream",
     "text": [
      "Extracting features:  50%|█████████████████████████████▌                             | 186/371 [18:53<17:28,  5.67s/it]"
     ]
    },
    {
     "name": "stdout",
     "output_type": "stream",
     "text": [
      "\u001b[1m4/4\u001b[0m \u001b[32m━━━━━━━━━━━━━━━━━━━━\u001b[0m\u001b[37m\u001b[0m \u001b[1m5s\u001b[0m 1s/step\n"
     ]
    },
    {
     "name": "stderr",
     "output_type": "stream",
     "text": [
      "Extracting features:  50%|█████████████████████████████▋                             | 187/371 [18:59<17:25,  5.68s/it]"
     ]
    },
    {
     "name": "stdout",
     "output_type": "stream",
     "text": [
      "\u001b[1m4/4\u001b[0m \u001b[32m━━━━━━━━━━━━━━━━━━━━\u001b[0m\u001b[37m\u001b[0m \u001b[1m5s\u001b[0m 1s/step\n"
     ]
    },
    {
     "name": "stderr",
     "output_type": "stream",
     "text": [
      "Extracting features:  51%|█████████████████████████████▉                             | 188/371 [19:05<17:19,  5.68s/it]"
     ]
    },
    {
     "name": "stdout",
     "output_type": "stream",
     "text": [
      "\u001b[1m4/4\u001b[0m \u001b[32m━━━━━━━━━━━━━━━━━━━━\u001b[0m\u001b[37m\u001b[0m \u001b[1m5s\u001b[0m 1s/step\n"
     ]
    },
    {
     "name": "stderr",
     "output_type": "stream",
     "text": [
      "Extracting features:  51%|██████████████████████████████                             | 189/371 [19:10<17:14,  5.68s/it]"
     ]
    },
    {
     "name": "stdout",
     "output_type": "stream",
     "text": [
      "\u001b[1m4/4\u001b[0m \u001b[32m━━━━━━━━━━━━━━━━━━━━\u001b[0m\u001b[37m\u001b[0m \u001b[1m5s\u001b[0m 1s/step\n"
     ]
    },
    {
     "name": "stderr",
     "output_type": "stream",
     "text": [
      "Extracting features:  51%|██████████████████████████████▏                            | 190/371 [19:16<17:03,  5.66s/it]"
     ]
    },
    {
     "name": "stdout",
     "output_type": "stream",
     "text": [
      "\u001b[1m4/4\u001b[0m \u001b[32m━━━━━━━━━━━━━━━━━━━━\u001b[0m\u001b[37m\u001b[0m \u001b[1m5s\u001b[0m 1s/step\n"
     ]
    },
    {
     "name": "stderr",
     "output_type": "stream",
     "text": [
      "Extracting features:  51%|██████████████████████████████▎                            | 191/371 [19:22<17:00,  5.67s/it]"
     ]
    },
    {
     "name": "stdout",
     "output_type": "stream",
     "text": [
      "\u001b[1m4/4\u001b[0m \u001b[32m━━━━━━━━━━━━━━━━━━━━\u001b[0m\u001b[37m\u001b[0m \u001b[1m5s\u001b[0m 1s/step\n"
     ]
    },
    {
     "name": "stderr",
     "output_type": "stream",
     "text": [
      "Extracting features:  52%|██████████████████████████████▌                            | 192/371 [19:27<16:52,  5.66s/it]"
     ]
    },
    {
     "name": "stdout",
     "output_type": "stream",
     "text": [
      "\u001b[1m4/4\u001b[0m \u001b[32m━━━━━━━━━━━━━━━━━━━━\u001b[0m\u001b[37m\u001b[0m \u001b[1m5s\u001b[0m 1s/step\n"
     ]
    },
    {
     "name": "stderr",
     "output_type": "stream",
     "text": [
      "Extracting features:  52%|██████████████████████████████▋                            | 193/371 [19:33<16:45,  5.65s/it]"
     ]
    },
    {
     "name": "stdout",
     "output_type": "stream",
     "text": [
      "\u001b[1m4/4\u001b[0m \u001b[32m━━━━━━━━━━━━━━━━━━━━\u001b[0m\u001b[37m\u001b[0m \u001b[1m5s\u001b[0m 1s/step\n"
     ]
    },
    {
     "name": "stderr",
     "output_type": "stream",
     "text": [
      "Extracting features:  52%|██████████████████████████████▊                            | 194/371 [19:38<16:36,  5.63s/it]"
     ]
    },
    {
     "name": "stdout",
     "output_type": "stream",
     "text": [
      "\u001b[1m4/4\u001b[0m \u001b[32m━━━━━━━━━━━━━━━━━━━━\u001b[0m\u001b[37m\u001b[0m \u001b[1m5s\u001b[0m 1s/step\n"
     ]
    },
    {
     "name": "stderr",
     "output_type": "stream",
     "text": [
      "Extracting features:  53%|███████████████████████████████                            | 195/371 [19:44<16:35,  5.66s/it]"
     ]
    },
    {
     "name": "stdout",
     "output_type": "stream",
     "text": [
      "\u001b[1m4/4\u001b[0m \u001b[32m━━━━━━━━━━━━━━━━━━━━\u001b[0m\u001b[37m\u001b[0m \u001b[1m5s\u001b[0m 1s/step\n"
     ]
    },
    {
     "name": "stderr",
     "output_type": "stream",
     "text": [
      "Extracting features:  53%|███████████████████████████████▏                           | 196/371 [19:50<16:29,  5.65s/it]"
     ]
    },
    {
     "name": "stdout",
     "output_type": "stream",
     "text": [
      "\u001b[1m4/4\u001b[0m \u001b[32m━━━━━━━━━━━━━━━━━━━━\u001b[0m\u001b[37m\u001b[0m \u001b[1m5s\u001b[0m 1s/step\n"
     ]
    },
    {
     "name": "stderr",
     "output_type": "stream",
     "text": [
      "Extracting features:  53%|███████████████████████████████▎                           | 197/371 [19:55<16:24,  5.66s/it]"
     ]
    },
    {
     "name": "stdout",
     "output_type": "stream",
     "text": [
      "\u001b[1m4/4\u001b[0m \u001b[32m━━━━━━━━━━━━━━━━━━━━\u001b[0m\u001b[37m\u001b[0m \u001b[1m5s\u001b[0m 1s/step\n"
     ]
    },
    {
     "name": "stderr",
     "output_type": "stream",
     "text": [
      "Extracting features:  53%|███████████████████████████████▍                           | 198/371 [20:01<16:23,  5.69s/it]"
     ]
    },
    {
     "name": "stdout",
     "output_type": "stream",
     "text": [
      "\u001b[1m4/4\u001b[0m \u001b[32m━━━━━━━━━━━━━━━━━━━━\u001b[0m\u001b[37m\u001b[0m \u001b[1m5s\u001b[0m 1s/step\n"
     ]
    },
    {
     "name": "stderr",
     "output_type": "stream",
     "text": [
      "Extracting features:  54%|███████████████████████████████▋                           | 199/371 [20:07<16:16,  5.68s/it]"
     ]
    },
    {
     "name": "stdout",
     "output_type": "stream",
     "text": [
      "\u001b[1m4/4\u001b[0m \u001b[32m━━━━━━━━━━━━━━━━━━━━\u001b[0m\u001b[37m\u001b[0m \u001b[1m5s\u001b[0m 1s/step\n"
     ]
    },
    {
     "name": "stderr",
     "output_type": "stream",
     "text": [
      "Extracting features:  54%|███████████████████████████████▊                           | 200/371 [20:12<16:08,  5.66s/it]"
     ]
    },
    {
     "name": "stdout",
     "output_type": "stream",
     "text": [
      "\u001b[1m4/4\u001b[0m \u001b[32m━━━━━━━━━━━━━━━━━━━━\u001b[0m\u001b[37m\u001b[0m \u001b[1m5s\u001b[0m 1s/step\n"
     ]
    },
    {
     "name": "stderr",
     "output_type": "stream",
     "text": [
      "Extracting features:  54%|███████████████████████████████▉                           | 201/371 [20:18<16:04,  5.68s/it]"
     ]
    },
    {
     "name": "stdout",
     "output_type": "stream",
     "text": [
      "\u001b[1m4/4\u001b[0m \u001b[32m━━━━━━━━━━━━━━━━━━━━\u001b[0m\u001b[37m\u001b[0m \u001b[1m5s\u001b[0m 1s/step\n"
     ]
    },
    {
     "name": "stderr",
     "output_type": "stream",
     "text": [
      "Extracting features:  54%|████████████████████████████████                           | 202/371 [20:24<16:00,  5.68s/it]"
     ]
    },
    {
     "name": "stdout",
     "output_type": "stream",
     "text": [
      "\u001b[1m4/4\u001b[0m \u001b[32m━━━━━━━━━━━━━━━━━━━━\u001b[0m\u001b[37m\u001b[0m \u001b[1m5s\u001b[0m 1s/step\n"
     ]
    },
    {
     "name": "stderr",
     "output_type": "stream",
     "text": [
      "Extracting features:  55%|████████████████████████████████▎                          | 203/371 [20:30<15:54,  5.68s/it]"
     ]
    },
    {
     "name": "stdout",
     "output_type": "stream",
     "text": [
      "\u001b[1m4/4\u001b[0m \u001b[32m━━━━━━━━━━━━━━━━━━━━\u001b[0m\u001b[37m\u001b[0m \u001b[1m5s\u001b[0m 1s/step\n"
     ]
    },
    {
     "name": "stderr",
     "output_type": "stream",
     "text": [
      "Extracting features:  55%|████████████████████████████████▍                          | 204/371 [20:35<15:49,  5.69s/it]"
     ]
    },
    {
     "name": "stdout",
     "output_type": "stream",
     "text": [
      "\u001b[1m4/4\u001b[0m \u001b[32m━━━━━━━━━━━━━━━━━━━━\u001b[0m\u001b[37m\u001b[0m \u001b[1m5s\u001b[0m 1s/step\n"
     ]
    },
    {
     "name": "stderr",
     "output_type": "stream",
     "text": [
      "Extracting features:  55%|████████████████████████████████▌                          | 205/371 [20:41<15:40,  5.66s/it]"
     ]
    },
    {
     "name": "stdout",
     "output_type": "stream",
     "text": [
      "\u001b[1m4/4\u001b[0m \u001b[32m━━━━━━━━━━━━━━━━━━━━\u001b[0m\u001b[37m\u001b[0m \u001b[1m5s\u001b[0m 1s/step\n"
     ]
    },
    {
     "name": "stderr",
     "output_type": "stream",
     "text": [
      "Extracting features:  56%|████████████████████████████████▊                          | 206/371 [20:47<15:34,  5.67s/it]"
     ]
    },
    {
     "name": "stdout",
     "output_type": "stream",
     "text": [
      "\u001b[1m4/4\u001b[0m \u001b[32m━━━━━━━━━━━━━━━━━━━━\u001b[0m\u001b[37m\u001b[0m \u001b[1m5s\u001b[0m 1s/step\n"
     ]
    },
    {
     "name": "stderr",
     "output_type": "stream",
     "text": [
      "Extracting features:  56%|████████████████████████████████▉                          | 207/371 [20:52<15:25,  5.64s/it]"
     ]
    },
    {
     "name": "stdout",
     "output_type": "stream",
     "text": [
      "\u001b[1m4/4\u001b[0m \u001b[32m━━━━━━━━━━━━━━━━━━━━\u001b[0m\u001b[37m\u001b[0m \u001b[1m5s\u001b[0m 1s/step\n"
     ]
    },
    {
     "name": "stderr",
     "output_type": "stream",
     "text": [
      "Extracting features:  56%|█████████████████████████████████                          | 208/371 [20:58<15:22,  5.66s/it]"
     ]
    },
    {
     "name": "stdout",
     "output_type": "stream",
     "text": [
      "\u001b[1m4/4\u001b[0m \u001b[32m━━━━━━━━━━━━━━━━━━━━\u001b[0m\u001b[37m\u001b[0m \u001b[1m5s\u001b[0m 1s/step\n"
     ]
    },
    {
     "name": "stderr",
     "output_type": "stream",
     "text": [
      "Extracting features:  56%|█████████████████████████████████▏                         | 209/371 [21:03<15:15,  5.65s/it]"
     ]
    },
    {
     "name": "stdout",
     "output_type": "stream",
     "text": [
      "\u001b[1m4/4\u001b[0m \u001b[32m━━━━━━━━━━━━━━━━━━━━\u001b[0m\u001b[37m\u001b[0m \u001b[1m5s\u001b[0m 1s/step\n"
     ]
    },
    {
     "name": "stderr",
     "output_type": "stream",
     "text": [
      "Extracting features:  57%|█████████████████████████████████▍                         | 210/371 [21:09<15:06,  5.63s/it]"
     ]
    },
    {
     "name": "stdout",
     "output_type": "stream",
     "text": [
      "\u001b[1m4/4\u001b[0m \u001b[32m━━━━━━━━━━━━━━━━━━━━\u001b[0m\u001b[37m\u001b[0m \u001b[1m5s\u001b[0m 1s/step\n"
     ]
    },
    {
     "name": "stderr",
     "output_type": "stream",
     "text": [
      "Extracting features:  57%|█████████████████████████████████▌                         | 211/371 [21:15<15:03,  5.65s/it]"
     ]
    },
    {
     "name": "stdout",
     "output_type": "stream",
     "text": [
      "\u001b[1m4/4\u001b[0m \u001b[32m━━━━━━━━━━━━━━━━━━━━\u001b[0m\u001b[37m\u001b[0m \u001b[1m5s\u001b[0m 1s/step\n"
     ]
    },
    {
     "name": "stderr",
     "output_type": "stream",
     "text": [
      "Extracting features:  57%|█████████████████████████████████▋                         | 212/371 [21:20<14:57,  5.64s/it]"
     ]
    },
    {
     "name": "stdout",
     "output_type": "stream",
     "text": [
      "\u001b[1m4/4\u001b[0m \u001b[32m━━━━━━━━━━━━━━━━━━━━\u001b[0m\u001b[37m\u001b[0m \u001b[1m5s\u001b[0m 1s/step\n"
     ]
    },
    {
     "name": "stderr",
     "output_type": "stream",
     "text": [
      "Extracting features:  57%|█████████████████████████████████▊                         | 213/371 [21:26<14:54,  5.66s/it]"
     ]
    },
    {
     "name": "stdout",
     "output_type": "stream",
     "text": [
      "\u001b[1m4/4\u001b[0m \u001b[32m━━━━━━━━━━━━━━━━━━━━\u001b[0m\u001b[37m\u001b[0m \u001b[1m5s\u001b[0m 1s/step\n"
     ]
    },
    {
     "name": "stderr",
     "output_type": "stream",
     "text": [
      "Extracting features:  58%|██████████████████████████████████                         | 214/371 [21:32<14:44,  5.64s/it]"
     ]
    },
    {
     "name": "stdout",
     "output_type": "stream",
     "text": [
      "\u001b[1m4/4\u001b[0m \u001b[32m━━━━━━━━━━━━━━━━━━━━\u001b[0m\u001b[37m\u001b[0m \u001b[1m5s\u001b[0m 1s/step\n"
     ]
    },
    {
     "name": "stderr",
     "output_type": "stream",
     "text": [
      "Extracting features:  58%|██████████████████████████████████▏                        | 215/371 [21:37<14:42,  5.66s/it]"
     ]
    },
    {
     "name": "stdout",
     "output_type": "stream",
     "text": [
      "\u001b[1m4/4\u001b[0m \u001b[32m━━━━━━━━━━━━━━━━━━━━\u001b[0m\u001b[37m\u001b[0m \u001b[1m5s\u001b[0m 1s/step\n"
     ]
    },
    {
     "name": "stderr",
     "output_type": "stream",
     "text": [
      "Extracting features:  58%|██████████████████████████████████▎                        | 216/371 [21:43<14:39,  5.67s/it]"
     ]
    },
    {
     "name": "stdout",
     "output_type": "stream",
     "text": [
      "\u001b[1m4/4\u001b[0m \u001b[32m━━━━━━━━━━━━━━━━━━━━\u001b[0m\u001b[37m\u001b[0m \u001b[1m5s\u001b[0m 1s/step\n"
     ]
    },
    {
     "name": "stderr",
     "output_type": "stream",
     "text": [
      "Extracting features:  58%|██████████████████████████████████▌                        | 217/371 [21:49<14:35,  5.68s/it]"
     ]
    },
    {
     "name": "stdout",
     "output_type": "stream",
     "text": [
      "\u001b[1m4/4\u001b[0m \u001b[32m━━━━━━━━━━━━━━━━━━━━\u001b[0m\u001b[37m\u001b[0m \u001b[1m5s\u001b[0m 1s/step\n"
     ]
    },
    {
     "name": "stderr",
     "output_type": "stream",
     "text": [
      "Extracting features:  59%|██████████████████████████████████▋                        | 218/371 [21:54<14:25,  5.66s/it]"
     ]
    },
    {
     "name": "stdout",
     "output_type": "stream",
     "text": [
      "\u001b[1m4/4\u001b[0m \u001b[32m━━━━━━━━━━━━━━━━━━━━\u001b[0m\u001b[37m\u001b[0m \u001b[1m5s\u001b[0m 1s/step\n"
     ]
    },
    {
     "name": "stderr",
     "output_type": "stream",
     "text": [
      "Extracting features:  59%|██████████████████████████████████▊                        | 219/371 [22:00<14:20,  5.66s/it]"
     ]
    },
    {
     "name": "stdout",
     "output_type": "stream",
     "text": [
      "\u001b[1m4/4\u001b[0m \u001b[32m━━━━━━━━━━━━━━━━━━━━\u001b[0m\u001b[37m\u001b[0m \u001b[1m5s\u001b[0m 1s/step\n"
     ]
    },
    {
     "name": "stderr",
     "output_type": "stream",
     "text": [
      "Extracting features:  59%|██████████████████████████████████▉                        | 220/371 [22:06<14:14,  5.66s/it]"
     ]
    },
    {
     "name": "stdout",
     "output_type": "stream",
     "text": [
      "\u001b[1m4/4\u001b[0m \u001b[32m━━━━━━━━━━━━━━━━━━━━\u001b[0m\u001b[37m\u001b[0m \u001b[1m5s\u001b[0m 1s/step\n"
     ]
    },
    {
     "name": "stderr",
     "output_type": "stream",
     "text": [
      "Extracting features:  60%|███████████████████████████████████▏                       | 221/371 [22:11<14:12,  5.68s/it]"
     ]
    },
    {
     "name": "stdout",
     "output_type": "stream",
     "text": [
      "\u001b[1m4/4\u001b[0m \u001b[32m━━━━━━━━━━━━━━━━━━━━\u001b[0m\u001b[37m\u001b[0m \u001b[1m5s\u001b[0m 1s/step\n"
     ]
    },
    {
     "name": "stderr",
     "output_type": "stream",
     "text": [
      "Extracting features:  60%|███████████████████████████████████▎                       | 222/371 [22:17<14:06,  5.68s/it]"
     ]
    },
    {
     "name": "stdout",
     "output_type": "stream",
     "text": [
      "\u001b[1m4/4\u001b[0m \u001b[32m━━━━━━━━━━━━━━━━━━━━\u001b[0m\u001b[37m\u001b[0m \u001b[1m5s\u001b[0m 1s/step\n"
     ]
    },
    {
     "name": "stderr",
     "output_type": "stream",
     "text": [
      "Extracting features:  60%|███████████████████████████████████▍                       | 223/371 [22:23<13:59,  5.67s/it]"
     ]
    },
    {
     "name": "stdout",
     "output_type": "stream",
     "text": [
      "\u001b[1m4/4\u001b[0m \u001b[32m━━━━━━━━━━━━━━━━━━━━\u001b[0m\u001b[37m\u001b[0m \u001b[1m5s\u001b[0m 1s/step\n"
     ]
    },
    {
     "name": "stderr",
     "output_type": "stream",
     "text": [
      "Extracting features:  60%|███████████████████████████████████▌                       | 224/371 [22:28<13:54,  5.67s/it]"
     ]
    },
    {
     "name": "stdout",
     "output_type": "stream",
     "text": [
      "\u001b[1m4/4\u001b[0m \u001b[32m━━━━━━━━━━━━━━━━━━━━\u001b[0m\u001b[37m\u001b[0m \u001b[1m5s\u001b[0m 1s/step\n"
     ]
    },
    {
     "name": "stderr",
     "output_type": "stream",
     "text": [
      "Extracting features:  61%|███████████████████████████████████▊                       | 225/371 [22:34<13:47,  5.67s/it]"
     ]
    },
    {
     "name": "stdout",
     "output_type": "stream",
     "text": [
      "\u001b[1m4/4\u001b[0m \u001b[32m━━━━━━━━━━━━━━━━━━━━\u001b[0m\u001b[37m\u001b[0m \u001b[1m5s\u001b[0m 1s/step\n"
     ]
    },
    {
     "name": "stderr",
     "output_type": "stream",
     "text": [
      "Extracting features:  61%|███████████████████████████████████▉                       | 226/371 [22:40<13:43,  5.68s/it]"
     ]
    },
    {
     "name": "stdout",
     "output_type": "stream",
     "text": [
      "\u001b[1m4/4\u001b[0m \u001b[32m━━━━━━━━━━━━━━━━━━━━\u001b[0m\u001b[37m\u001b[0m \u001b[1m5s\u001b[0m 1s/step\n"
     ]
    },
    {
     "name": "stderr",
     "output_type": "stream",
     "text": [
      "Extracting features:  61%|████████████████████████████████████                       | 227/371 [22:45<13:38,  5.68s/it]"
     ]
    },
    {
     "name": "stdout",
     "output_type": "stream",
     "text": [
      "\u001b[1m4/4\u001b[0m \u001b[32m━━━━━━━━━━━━━━━━━━━━\u001b[0m\u001b[37m\u001b[0m \u001b[1m5s\u001b[0m 1s/step\n"
     ]
    },
    {
     "name": "stderr",
     "output_type": "stream",
     "text": [
      "Extracting features:  61%|████████████████████████████████████▎                      | 228/371 [22:51<13:33,  5.69s/it]"
     ]
    },
    {
     "name": "stdout",
     "output_type": "stream",
     "text": [
      "\u001b[1m4/4\u001b[0m \u001b[32m━━━━━━━━━━━━━━━━━━━━\u001b[0m\u001b[37m\u001b[0m \u001b[1m5s\u001b[0m 1s/step\n"
     ]
    },
    {
     "name": "stderr",
     "output_type": "stream",
     "text": [
      "Extracting features:  62%|████████████████████████████████████▍                      | 229/371 [22:57<13:28,  5.69s/it]"
     ]
    },
    {
     "name": "stdout",
     "output_type": "stream",
     "text": [
      "\u001b[1m4/4\u001b[0m \u001b[32m━━━━━━━━━━━━━━━━━━━━\u001b[0m\u001b[37m\u001b[0m \u001b[1m5s\u001b[0m 1s/step\n"
     ]
    },
    {
     "name": "stderr",
     "output_type": "stream",
     "text": [
      "Extracting features:  62%|████████████████████████████████████▌                      | 230/371 [23:03<13:20,  5.68s/it]"
     ]
    },
    {
     "name": "stdout",
     "output_type": "stream",
     "text": [
      "\u001b[1m4/4\u001b[0m \u001b[32m━━━━━━━━━━━━━━━━━━━━\u001b[0m\u001b[37m\u001b[0m \u001b[1m5s\u001b[0m 1s/step\n"
     ]
    },
    {
     "name": "stderr",
     "output_type": "stream",
     "text": [
      "Extracting features:  62%|████████████████████████████████████▋                      | 231/371 [23:08<13:17,  5.69s/it]"
     ]
    },
    {
     "name": "stdout",
     "output_type": "stream",
     "text": [
      "\u001b[1m4/4\u001b[0m \u001b[32m━━━━━━━━━━━━━━━━━━━━\u001b[0m\u001b[37m\u001b[0m \u001b[1m5s\u001b[0m 1s/step\n"
     ]
    },
    {
     "name": "stderr",
     "output_type": "stream",
     "text": [
      "Extracting features:  63%|████████████████████████████████████▉                      | 232/371 [23:14<13:09,  5.68s/it]"
     ]
    },
    {
     "name": "stdout",
     "output_type": "stream",
     "text": [
      "\u001b[1m4/4\u001b[0m \u001b[32m━━━━━━━━━━━━━━━━━━━━\u001b[0m\u001b[37m\u001b[0m \u001b[1m5s\u001b[0m 1s/step\n"
     ]
    },
    {
     "name": "stderr",
     "output_type": "stream",
     "text": [
      "Extracting features:  63%|█████████████████████████████████████                      | 233/371 [23:20<13:06,  5.70s/it]"
     ]
    },
    {
     "name": "stdout",
     "output_type": "stream",
     "text": [
      "\u001b[1m4/4\u001b[0m \u001b[32m━━━━━━━━━━━━━━━━━━━━\u001b[0m\u001b[37m\u001b[0m \u001b[1m5s\u001b[0m 1s/step\n"
     ]
    },
    {
     "name": "stderr",
     "output_type": "stream",
     "text": [
      "Extracting features:  63%|█████████████████████████████████████▏                     | 234/371 [23:25<13:01,  5.70s/it]"
     ]
    },
    {
     "name": "stdout",
     "output_type": "stream",
     "text": [
      "\u001b[1m4/4\u001b[0m \u001b[32m━━━━━━━━━━━━━━━━━━━━\u001b[0m\u001b[37m\u001b[0m \u001b[1m5s\u001b[0m 1s/step\n"
     ]
    },
    {
     "name": "stderr",
     "output_type": "stream",
     "text": [
      "Extracting features:  63%|█████████████████████████████████████▎                     | 235/371 [23:31<12:51,  5.67s/it]"
     ]
    },
    {
     "name": "stdout",
     "output_type": "stream",
     "text": [
      "\u001b[1m4/4\u001b[0m \u001b[32m━━━━━━━━━━━━━━━━━━━━\u001b[0m\u001b[37m\u001b[0m \u001b[1m5s\u001b[0m 1s/step\n"
     ]
    },
    {
     "name": "stderr",
     "output_type": "stream",
     "text": [
      "Extracting features:  64%|█████████████████████████████████████▌                     | 236/371 [23:37<12:46,  5.67s/it]"
     ]
    },
    {
     "name": "stdout",
     "output_type": "stream",
     "text": [
      "\u001b[1m4/4\u001b[0m \u001b[32m━━━━━━━━━━━━━━━━━━━━\u001b[0m\u001b[37m\u001b[0m \u001b[1m5s\u001b[0m 1s/step\n"
     ]
    },
    {
     "name": "stderr",
     "output_type": "stream",
     "text": [
      "Extracting features:  64%|█████████████████████████████████████▋                     | 237/371 [23:42<12:39,  5.67s/it]"
     ]
    },
    {
     "name": "stdout",
     "output_type": "stream",
     "text": [
      "\u001b[1m4/4\u001b[0m \u001b[32m━━━━━━━━━━━━━━━━━━━━\u001b[0m\u001b[37m\u001b[0m \u001b[1m5s\u001b[0m 1s/step\n"
     ]
    },
    {
     "name": "stderr",
     "output_type": "stream",
     "text": [
      "Extracting features:  64%|█████████████████████████████████████▊                     | 238/371 [23:48<12:34,  5.68s/it]"
     ]
    },
    {
     "name": "stdout",
     "output_type": "stream",
     "text": [
      "\u001b[1m4/4\u001b[0m \u001b[32m━━━━━━━━━━━━━━━━━━━━\u001b[0m\u001b[37m\u001b[0m \u001b[1m5s\u001b[0m 1s/step\n"
     ]
    },
    {
     "name": "stderr",
     "output_type": "stream",
     "text": [
      "Extracting features:  64%|██████████████████████████████████████                     | 239/371 [23:54<12:30,  5.68s/it]"
     ]
    },
    {
     "name": "stdout",
     "output_type": "stream",
     "text": [
      "\u001b[1m4/4\u001b[0m \u001b[32m━━━━━━━━━━━━━━━━━━━━\u001b[0m\u001b[37m\u001b[0m \u001b[1m5s\u001b[0m 1s/step\n"
     ]
    },
    {
     "name": "stderr",
     "output_type": "stream",
     "text": [
      "Extracting features:  65%|██████████████████████████████████████▏                    | 240/371 [23:59<12:22,  5.67s/it]"
     ]
    },
    {
     "name": "stdout",
     "output_type": "stream",
     "text": [
      "\u001b[1m4/4\u001b[0m \u001b[32m━━━━━━━━━━━━━━━━━━━━\u001b[0m\u001b[37m\u001b[0m \u001b[1m5s\u001b[0m 1s/step\n"
     ]
    },
    {
     "name": "stderr",
     "output_type": "stream",
     "text": [
      "Extracting features:  65%|██████████████████████████████████████▎                    | 241/371 [24:05<12:16,  5.66s/it]"
     ]
    },
    {
     "name": "stdout",
     "output_type": "stream",
     "text": [
      "\u001b[1m4/4\u001b[0m \u001b[32m━━━━━━━━━━━━━━━━━━━━\u001b[0m\u001b[37m\u001b[0m \u001b[1m5s\u001b[0m 1s/step\n"
     ]
    },
    {
     "name": "stderr",
     "output_type": "stream",
     "text": [
      "Extracting features:  65%|██████████████████████████████████████▍                    | 242/371 [24:11<12:12,  5.68s/it]"
     ]
    },
    {
     "name": "stdout",
     "output_type": "stream",
     "text": [
      "\u001b[1m4/4\u001b[0m \u001b[32m━━━━━━━━━━━━━━━━━━━━\u001b[0m\u001b[37m\u001b[0m \u001b[1m5s\u001b[0m 1s/step\n"
     ]
    },
    {
     "name": "stderr",
     "output_type": "stream",
     "text": [
      "Extracting features:  65%|██████████████████████████████████████▋                    | 243/371 [24:16<12:06,  5.68s/it]"
     ]
    },
    {
     "name": "stdout",
     "output_type": "stream",
     "text": [
      "\u001b[1m4/4\u001b[0m \u001b[32m━━━━━━━━━━━━━━━━━━━━\u001b[0m\u001b[37m\u001b[0m \u001b[1m5s\u001b[0m 1s/step\n"
     ]
    },
    {
     "name": "stderr",
     "output_type": "stream",
     "text": [
      "Extracting features:  66%|██████████████████████████████████████▊                    | 244/371 [24:22<12:01,  5.68s/it]"
     ]
    },
    {
     "name": "stdout",
     "output_type": "stream",
     "text": [
      "\u001b[1m4/4\u001b[0m \u001b[32m━━━━━━━━━━━━━━━━━━━━\u001b[0m\u001b[37m\u001b[0m \u001b[1m5s\u001b[0m 1s/step\n"
     ]
    },
    {
     "name": "stderr",
     "output_type": "stream",
     "text": [
      "Extracting features:  66%|██████████████████████████████████████▉                    | 245/371 [24:28<11:54,  5.67s/it]"
     ]
    },
    {
     "name": "stdout",
     "output_type": "stream",
     "text": [
      "\u001b[1m4/4\u001b[0m \u001b[32m━━━━━━━━━━━━━━━━━━━━\u001b[0m\u001b[37m\u001b[0m \u001b[1m5s\u001b[0m 1s/step\n"
     ]
    },
    {
     "name": "stderr",
     "output_type": "stream",
     "text": [
      "Extracting features:  66%|███████████████████████████████████████                    | 246/371 [24:33<11:51,  5.70s/it]"
     ]
    },
    {
     "name": "stdout",
     "output_type": "stream",
     "text": [
      "\u001b[1m4/4\u001b[0m \u001b[32m━━━━━━━━━━━━━━━━━━━━\u001b[0m\u001b[37m\u001b[0m \u001b[1m5s\u001b[0m 1s/step\n"
     ]
    },
    {
     "name": "stderr",
     "output_type": "stream",
     "text": [
      "Extracting features:  67%|███████████████████████████████████████▎                   | 247/371 [24:39<11:46,  5.70s/it]"
     ]
    },
    {
     "name": "stdout",
     "output_type": "stream",
     "text": [
      "\u001b[1m4/4\u001b[0m \u001b[32m━━━━━━━━━━━━━━━━━━━━\u001b[0m\u001b[37m\u001b[0m \u001b[1m5s\u001b[0m 1s/step\n"
     ]
    },
    {
     "name": "stderr",
     "output_type": "stream",
     "text": [
      "Extracting features:  67%|███████████████████████████████████████▍                   | 248/371 [24:45<11:41,  5.70s/it]"
     ]
    },
    {
     "name": "stdout",
     "output_type": "stream",
     "text": [
      "\u001b[1m4/4\u001b[0m \u001b[32m━━━━━━━━━━━━━━━━━━━━\u001b[0m\u001b[37m\u001b[0m \u001b[1m5s\u001b[0m 1s/step\n"
     ]
    },
    {
     "name": "stderr",
     "output_type": "stream",
     "text": [
      "Extracting features:  67%|███████████████████████████████████████▌                   | 249/371 [24:51<11:36,  5.71s/it]"
     ]
    },
    {
     "name": "stdout",
     "output_type": "stream",
     "text": [
      "\u001b[1m4/4\u001b[0m \u001b[32m━━━━━━━━━━━━━━━━━━━━\u001b[0m\u001b[37m\u001b[0m \u001b[1m5s\u001b[0m 1s/step\n"
     ]
    },
    {
     "name": "stderr",
     "output_type": "stream",
     "text": [
      "Extracting features:  67%|███████████████████████████████████████▊                   | 250/371 [24:56<11:30,  5.71s/it]"
     ]
    },
    {
     "name": "stdout",
     "output_type": "stream",
     "text": [
      "\u001b[1m4/4\u001b[0m \u001b[32m━━━━━━━━━━━━━━━━━━━━\u001b[0m\u001b[37m\u001b[0m \u001b[1m5s\u001b[0m 1s/step\n"
     ]
    },
    {
     "name": "stderr",
     "output_type": "stream",
     "text": [
      "Extracting features:  68%|███████████████████████████████████████▉                   | 251/371 [25:02<11:22,  5.69s/it]"
     ]
    },
    {
     "name": "stdout",
     "output_type": "stream",
     "text": [
      "\u001b[1m4/4\u001b[0m \u001b[32m━━━━━━━━━━━━━━━━━━━━\u001b[0m\u001b[37m\u001b[0m \u001b[1m5s\u001b[0m 1s/step\n"
     ]
    },
    {
     "name": "stderr",
     "output_type": "stream",
     "text": [
      "Extracting features:  68%|████████████████████████████████████████                   | 252/371 [25:08<11:18,  5.70s/it]"
     ]
    },
    {
     "name": "stdout",
     "output_type": "stream",
     "text": [
      "\u001b[1m4/4\u001b[0m \u001b[32m━━━━━━━━━━━━━━━━━━━━\u001b[0m\u001b[37m\u001b[0m \u001b[1m5s\u001b[0m 1s/step\n"
     ]
    },
    {
     "name": "stderr",
     "output_type": "stream",
     "text": [
      "Extracting features:  68%|████████████████████████████████████████▏                  | 253/371 [25:13<11:12,  5.70s/it]"
     ]
    },
    {
     "name": "stdout",
     "output_type": "stream",
     "text": [
      "\u001b[1m4/4\u001b[0m \u001b[32m━━━━━━━━━━━━━━━━━━━━\u001b[0m\u001b[37m\u001b[0m \u001b[1m5s\u001b[0m 1s/step\n"
     ]
    },
    {
     "name": "stderr",
     "output_type": "stream",
     "text": [
      "Extracting features:  68%|████████████████████████████████████████▍                  | 254/371 [25:19<11:07,  5.70s/it]"
     ]
    },
    {
     "name": "stdout",
     "output_type": "stream",
     "text": [
      "\u001b[1m4/4\u001b[0m \u001b[32m━━━━━━━━━━━━━━━━━━━━\u001b[0m\u001b[37m\u001b[0m \u001b[1m5s\u001b[0m 1s/step\n"
     ]
    },
    {
     "name": "stderr",
     "output_type": "stream",
     "text": [
      "Extracting features:  69%|████████████████████████████████████████▌                  | 255/371 [25:25<11:01,  5.70s/it]"
     ]
    },
    {
     "name": "stdout",
     "output_type": "stream",
     "text": [
      "\u001b[1m4/4\u001b[0m \u001b[32m━━━━━━━━━━━━━━━━━━━━\u001b[0m\u001b[37m\u001b[0m \u001b[1m5s\u001b[0m 1s/step\n"
     ]
    },
    {
     "name": "stderr",
     "output_type": "stream",
     "text": [
      "Extracting features:  69%|████████████████████████████████████████▋                  | 256/371 [25:30<10:52,  5.68s/it]"
     ]
    },
    {
     "name": "stdout",
     "output_type": "stream",
     "text": [
      "\u001b[1m4/4\u001b[0m \u001b[32m━━━━━━━━━━━━━━━━━━━━\u001b[0m\u001b[37m\u001b[0m \u001b[1m5s\u001b[0m 1s/step\n"
     ]
    },
    {
     "name": "stderr",
     "output_type": "stream",
     "text": [
      "Extracting features:  69%|████████████████████████████████████████▊                  | 257/371 [25:36<10:44,  5.66s/it]"
     ]
    },
    {
     "name": "stdout",
     "output_type": "stream",
     "text": [
      "\u001b[1m4/4\u001b[0m \u001b[32m━━━━━━━━━━━━━━━━━━━━\u001b[0m\u001b[37m\u001b[0m \u001b[1m5s\u001b[0m 1s/step\n"
     ]
    },
    {
     "name": "stderr",
     "output_type": "stream",
     "text": [
      "Extracting features:  70%|█████████████████████████████████████████                  | 258/371 [25:42<10:41,  5.68s/it]"
     ]
    },
    {
     "name": "stdout",
     "output_type": "stream",
     "text": [
      "\u001b[1m4/4\u001b[0m \u001b[32m━━━━━━━━━━━━━━━━━━━━\u001b[0m\u001b[37m\u001b[0m \u001b[1m5s\u001b[0m 1s/step\n"
     ]
    },
    {
     "name": "stderr",
     "output_type": "stream",
     "text": [
      "Extracting features:  70%|█████████████████████████████████████████▏                 | 259/371 [25:47<10:37,  5.69s/it]"
     ]
    },
    {
     "name": "stdout",
     "output_type": "stream",
     "text": [
      "\u001b[1m4/4\u001b[0m \u001b[32m━━━━━━━━━━━━━━━━━━━━\u001b[0m\u001b[37m\u001b[0m \u001b[1m5s\u001b[0m 1s/step\n"
     ]
    },
    {
     "name": "stderr",
     "output_type": "stream",
     "text": [
      "Extracting features:  70%|█████████████████████████████████████████▎                 | 260/371 [25:53<10:30,  5.68s/it]"
     ]
    },
    {
     "name": "stdout",
     "output_type": "stream",
     "text": [
      "\u001b[1m4/4\u001b[0m \u001b[32m━━━━━━━━━━━━━━━━━━━━\u001b[0m\u001b[37m\u001b[0m \u001b[1m5s\u001b[0m 1s/step\n"
     ]
    },
    {
     "name": "stderr",
     "output_type": "stream",
     "text": [
      "Extracting features:  70%|█████████████████████████████████████████▌                 | 261/371 [25:59<10:24,  5.68s/it]"
     ]
    },
    {
     "name": "stdout",
     "output_type": "stream",
     "text": [
      "\u001b[1m4/4\u001b[0m \u001b[32m━━━━━━━━━━━━━━━━━━━━\u001b[0m\u001b[37m\u001b[0m \u001b[1m5s\u001b[0m 1s/step\n"
     ]
    },
    {
     "name": "stderr",
     "output_type": "stream",
     "text": [
      "Extracting features:  71%|█████████████████████████████████████████▋                 | 262/371 [26:04<10:18,  5.68s/it]"
     ]
    },
    {
     "name": "stdout",
     "output_type": "stream",
     "text": [
      "\u001b[1m4/4\u001b[0m \u001b[32m━━━━━━━━━━━━━━━━━━━━\u001b[0m\u001b[37m\u001b[0m \u001b[1m5s\u001b[0m 1s/step\n"
     ]
    },
    {
     "name": "stderr",
     "output_type": "stream",
     "text": [
      "Extracting features:  71%|█████████████████████████████████████████▊                 | 263/371 [26:10<10:14,  5.69s/it]"
     ]
    },
    {
     "name": "stdout",
     "output_type": "stream",
     "text": [
      "\u001b[1m4/4\u001b[0m \u001b[32m━━━━━━━━━━━━━━━━━━━━\u001b[0m\u001b[37m\u001b[0m \u001b[1m5s\u001b[0m 1s/step\n"
     ]
    },
    {
     "name": "stderr",
     "output_type": "stream",
     "text": [
      "Extracting features:  71%|█████████████████████████████████████████▉                 | 264/371 [26:16<10:09,  5.70s/it]"
     ]
    },
    {
     "name": "stdout",
     "output_type": "stream",
     "text": [
      "\u001b[1m4/4\u001b[0m \u001b[32m━━━━━━━━━━━━━━━━━━━━\u001b[0m\u001b[37m\u001b[0m \u001b[1m5s\u001b[0m 1s/step\n"
     ]
    },
    {
     "name": "stderr",
     "output_type": "stream",
     "text": [
      "Extracting features:  71%|██████████████████████████████████████████▏                | 265/371 [26:22<10:04,  5.70s/it]"
     ]
    },
    {
     "name": "stdout",
     "output_type": "stream",
     "text": [
      "\u001b[1m4/4\u001b[0m \u001b[32m━━━━━━━━━━━━━━━━━━━━\u001b[0m\u001b[37m\u001b[0m \u001b[1m5s\u001b[0m 1s/step\n"
     ]
    },
    {
     "name": "stderr",
     "output_type": "stream",
     "text": [
      "Extracting features:  72%|██████████████████████████████████████████▎                | 266/371 [26:27<09:58,  5.70s/it]"
     ]
    },
    {
     "name": "stdout",
     "output_type": "stream",
     "text": [
      "\u001b[1m4/4\u001b[0m \u001b[32m━━━━━━━━━━━━━━━━━━━━\u001b[0m\u001b[37m\u001b[0m \u001b[1m5s\u001b[0m 1s/step\n"
     ]
    },
    {
     "name": "stderr",
     "output_type": "stream",
     "text": [
      "Extracting features:  72%|██████████████████████████████████████████▍                | 267/371 [26:33<09:49,  5.67s/it]"
     ]
    },
    {
     "name": "stdout",
     "output_type": "stream",
     "text": [
      "\u001b[1m4/4\u001b[0m \u001b[32m━━━━━━━━━━━━━━━━━━━━\u001b[0m\u001b[37m\u001b[0m \u001b[1m5s\u001b[0m 1s/step\n"
     ]
    },
    {
     "name": "stderr",
     "output_type": "stream",
     "text": [
      "Extracting features:  72%|██████████████████████████████████████████▌                | 268/371 [26:39<09:45,  5.69s/it]"
     ]
    },
    {
     "name": "stdout",
     "output_type": "stream",
     "text": [
      "\u001b[1m4/4\u001b[0m \u001b[32m━━━━━━━━━━━━━━━━━━━━\u001b[0m\u001b[37m\u001b[0m \u001b[1m5s\u001b[0m 1s/step\n"
     ]
    },
    {
     "name": "stderr",
     "output_type": "stream",
     "text": [
      "Extracting features:  73%|██████████████████████████████████████████▊                | 269/371 [26:44<09:41,  5.70s/it]"
     ]
    },
    {
     "name": "stdout",
     "output_type": "stream",
     "text": [
      "\u001b[1m4/4\u001b[0m \u001b[32m━━━━━━━━━━━━━━━━━━━━\u001b[0m\u001b[37m\u001b[0m \u001b[1m5s\u001b[0m 1s/step\n"
     ]
    },
    {
     "name": "stderr",
     "output_type": "stream",
     "text": [
      "Extracting features:  73%|██████████████████████████████████████████▉                | 270/371 [26:50<09:35,  5.70s/it]"
     ]
    },
    {
     "name": "stdout",
     "output_type": "stream",
     "text": [
      "\u001b[1m4/4\u001b[0m \u001b[32m━━━━━━━━━━━━━━━━━━━━\u001b[0m\u001b[37m\u001b[0m \u001b[1m5s\u001b[0m 1s/step\n"
     ]
    },
    {
     "name": "stderr",
     "output_type": "stream",
     "text": [
      "Extracting features:  73%|███████████████████████████████████████████                | 271/371 [26:56<09:29,  5.70s/it]"
     ]
    },
    {
     "name": "stdout",
     "output_type": "stream",
     "text": [
      "\u001b[1m4/4\u001b[0m \u001b[32m━━━━━━━━━━━━━━━━━━━━\u001b[0m\u001b[37m\u001b[0m \u001b[1m5s\u001b[0m 1s/step\n"
     ]
    },
    {
     "name": "stderr",
     "output_type": "stream",
     "text": [
      "Extracting features:  73%|███████████████████████████████████████████▎               | 272/371 [27:01<09:22,  5.68s/it]"
     ]
    },
    {
     "name": "stdout",
     "output_type": "stream",
     "text": [
      "\u001b[1m4/4\u001b[0m \u001b[32m━━━━━━━━━━━━━━━━━━━━\u001b[0m\u001b[37m\u001b[0m \u001b[1m5s\u001b[0m 1s/step\n"
     ]
    },
    {
     "name": "stderr",
     "output_type": "stream",
     "text": [
      "Extracting features:  74%|███████████████████████████████████████████▍               | 273/371 [27:07<09:17,  5.69s/it]"
     ]
    },
    {
     "name": "stdout",
     "output_type": "stream",
     "text": [
      "\u001b[1m4/4\u001b[0m \u001b[32m━━━━━━━━━━━━━━━━━━━━\u001b[0m\u001b[37m\u001b[0m \u001b[1m5s\u001b[0m 1s/step\n"
     ]
    },
    {
     "name": "stderr",
     "output_type": "stream",
     "text": [
      "Extracting features:  74%|███████████████████████████████████████████▌               | 274/371 [27:13<09:11,  5.69s/it]"
     ]
    },
    {
     "name": "stdout",
     "output_type": "stream",
     "text": [
      "\u001b[1m4/4\u001b[0m \u001b[32m━━━━━━━━━━━━━━━━━━━━\u001b[0m\u001b[37m\u001b[0m \u001b[1m5s\u001b[0m 1s/step\n"
     ]
    },
    {
     "name": "stderr",
     "output_type": "stream",
     "text": [
      "Extracting features:  74%|███████████████████████████████████████████▋               | 275/371 [27:19<09:07,  5.70s/it]"
     ]
    },
    {
     "name": "stdout",
     "output_type": "stream",
     "text": [
      "\u001b[1m4/4\u001b[0m \u001b[32m━━━━━━━━━━━━━━━━━━━━\u001b[0m\u001b[37m\u001b[0m \u001b[1m5s\u001b[0m 1s/step\n"
     ]
    },
    {
     "name": "stderr",
     "output_type": "stream",
     "text": [
      "Extracting features:  74%|███████████████████████████████████████████▉               | 276/371 [27:24<09:01,  5.70s/it]"
     ]
    },
    {
     "name": "stdout",
     "output_type": "stream",
     "text": [
      "\u001b[1m4/4\u001b[0m \u001b[32m━━━━━━━━━━━━━━━━━━━━\u001b[0m\u001b[37m\u001b[0m \u001b[1m5s\u001b[0m 1s/step\n"
     ]
    },
    {
     "name": "stderr",
     "output_type": "stream",
     "text": [
      "Extracting features:  75%|████████████████████████████████████████████               | 277/371 [27:30<08:52,  5.67s/it]"
     ]
    },
    {
     "name": "stdout",
     "output_type": "stream",
     "text": [
      "\u001b[1m4/4\u001b[0m \u001b[32m━━━━━━━━━━━━━━━━━━━━\u001b[0m\u001b[37m\u001b[0m \u001b[1m5s\u001b[0m 1s/step\n"
     ]
    },
    {
     "name": "stderr",
     "output_type": "stream",
     "text": [
      "Extracting features:  75%|████████████████████████████████████████████▏              | 278/371 [27:35<08:47,  5.67s/it]"
     ]
    },
    {
     "name": "stdout",
     "output_type": "stream",
     "text": [
      "\u001b[1m4/4\u001b[0m \u001b[32m━━━━━━━━━━━━━━━━━━━━\u001b[0m\u001b[37m\u001b[0m \u001b[1m5s\u001b[0m 1s/step\n"
     ]
    },
    {
     "name": "stderr",
     "output_type": "stream",
     "text": [
      "Extracting features:  75%|████████████████████████████████████████████▎              | 279/371 [27:41<08:42,  5.68s/it]"
     ]
    },
    {
     "name": "stdout",
     "output_type": "stream",
     "text": [
      "\u001b[1m4/4\u001b[0m \u001b[32m━━━━━━━━━━━━━━━━━━━━\u001b[0m\u001b[37m\u001b[0m \u001b[1m5s\u001b[0m 1s/step\n"
     ]
    },
    {
     "name": "stderr",
     "output_type": "stream",
     "text": [
      "Extracting features:  75%|████████████████████████████████████████████▌              | 280/371 [27:47<08:37,  5.69s/it]"
     ]
    },
    {
     "name": "stdout",
     "output_type": "stream",
     "text": [
      "\u001b[1m4/4\u001b[0m \u001b[32m━━━━━━━━━━━━━━━━━━━━\u001b[0m\u001b[37m\u001b[0m \u001b[1m5s\u001b[0m 1s/step\n"
     ]
    },
    {
     "name": "stderr",
     "output_type": "stream",
     "text": [
      "Extracting features:  76%|████████████████████████████████████████████▋              | 281/371 [27:53<08:32,  5.70s/it]"
     ]
    },
    {
     "name": "stdout",
     "output_type": "stream",
     "text": [
      "\u001b[1m4/4\u001b[0m \u001b[32m━━━━━━━━━━━━━━━━━━━━\u001b[0m\u001b[37m\u001b[0m \u001b[1m5s\u001b[0m 1s/step\n"
     ]
    },
    {
     "name": "stderr",
     "output_type": "stream",
     "text": [
      "Extracting features:  76%|████████████████████████████████████████████▊              | 282/371 [27:58<08:27,  5.70s/it]"
     ]
    },
    {
     "name": "stdout",
     "output_type": "stream",
     "text": [
      "\u001b[1m4/4\u001b[0m \u001b[32m━━━━━━━━━━━━━━━━━━━━\u001b[0m\u001b[37m\u001b[0m \u001b[1m5s\u001b[0m 1s/step\n"
     ]
    },
    {
     "name": "stderr",
     "output_type": "stream",
     "text": [
      "Extracting features:  76%|█████████████████████████████████████████████              | 283/371 [28:04<08:19,  5.68s/it]"
     ]
    },
    {
     "name": "stdout",
     "output_type": "stream",
     "text": [
      "\u001b[1m4/4\u001b[0m \u001b[32m━━━━━━━━━━━━━━━━━━━━\u001b[0m\u001b[37m\u001b[0m \u001b[1m5s\u001b[0m 1s/step\n"
     ]
    },
    {
     "name": "stderr",
     "output_type": "stream",
     "text": [
      "Extracting features:  77%|█████████████████████████████████████████████▏             | 284/371 [28:10<08:13,  5.67s/it]"
     ]
    },
    {
     "name": "stdout",
     "output_type": "stream",
     "text": [
      "\u001b[1m4/4\u001b[0m \u001b[32m━━━━━━━━━━━━━━━━━━━━\u001b[0m\u001b[37m\u001b[0m \u001b[1m5s\u001b[0m 1s/step\n"
     ]
    },
    {
     "name": "stderr",
     "output_type": "stream",
     "text": [
      "Extracting features:  77%|█████████████████████████████████████████████▎             | 285/371 [28:15<08:06,  5.65s/it]"
     ]
    },
    {
     "name": "stdout",
     "output_type": "stream",
     "text": [
      "\u001b[1m4/4\u001b[0m \u001b[32m━━━━━━━━━━━━━━━━━━━━\u001b[0m\u001b[37m\u001b[0m \u001b[1m5s\u001b[0m 1s/step\n"
     ]
    },
    {
     "name": "stderr",
     "output_type": "stream",
     "text": [
      "Extracting features:  77%|█████████████████████████████████████████████▍             | 286/371 [28:21<08:02,  5.67s/it]"
     ]
    },
    {
     "name": "stdout",
     "output_type": "stream",
     "text": [
      "\u001b[1m4/4\u001b[0m \u001b[32m━━━━━━━━━━━━━━━━━━━━\u001b[0m\u001b[37m\u001b[0m \u001b[1m5s\u001b[0m 1s/step\n"
     ]
    },
    {
     "name": "stderr",
     "output_type": "stream",
     "text": [
      "Extracting features:  77%|█████████████████████████████████████████████▋             | 287/371 [28:27<07:58,  5.70s/it]"
     ]
    },
    {
     "name": "stdout",
     "output_type": "stream",
     "text": [
      "\u001b[1m4/4\u001b[0m \u001b[32m━━━━━━━━━━━━━━━━━━━━\u001b[0m\u001b[37m\u001b[0m \u001b[1m5s\u001b[0m 1s/step\n"
     ]
    },
    {
     "name": "stderr",
     "output_type": "stream",
     "text": [
      "Extracting features:  78%|█████████████████████████████████████████████▊             | 288/371 [28:32<07:49,  5.66s/it]"
     ]
    },
    {
     "name": "stdout",
     "output_type": "stream",
     "text": [
      "\u001b[1m4/4\u001b[0m \u001b[32m━━━━━━━━━━━━━━━━━━━━\u001b[0m\u001b[37m\u001b[0m \u001b[1m5s\u001b[0m 1s/step\n"
     ]
    },
    {
     "name": "stderr",
     "output_type": "stream",
     "text": [
      "Extracting features:  78%|█████████████████████████████████████████████▉             | 289/371 [28:38<07:45,  5.68s/it]"
     ]
    },
    {
     "name": "stdout",
     "output_type": "stream",
     "text": [
      "\u001b[1m4/4\u001b[0m \u001b[32m━━━━━━━━━━━━━━━━━━━━\u001b[0m\u001b[37m\u001b[0m \u001b[1m5s\u001b[0m 1s/step\n"
     ]
    },
    {
     "name": "stderr",
     "output_type": "stream",
     "text": [
      "Extracting features:  78%|██████████████████████████████████████████████             | 290/371 [28:44<07:40,  5.69s/it]"
     ]
    },
    {
     "name": "stdout",
     "output_type": "stream",
     "text": [
      "\u001b[1m4/4\u001b[0m \u001b[32m━━━━━━━━━━━━━━━━━━━━\u001b[0m\u001b[37m\u001b[0m \u001b[1m5s\u001b[0m 1s/step\n"
     ]
    },
    {
     "name": "stderr",
     "output_type": "stream",
     "text": [
      "Extracting features:  78%|██████████████████████████████████████████████▎            | 291/371 [28:49<07:34,  5.68s/it]"
     ]
    },
    {
     "name": "stdout",
     "output_type": "stream",
     "text": [
      "\u001b[1m4/4\u001b[0m \u001b[32m━━━━━━━━━━━━━━━━━━━━\u001b[0m\u001b[37m\u001b[0m \u001b[1m5s\u001b[0m 1s/step\n"
     ]
    },
    {
     "name": "stderr",
     "output_type": "stream",
     "text": [
      "Extracting features:  79%|██████████████████████████████████████████████▍            | 292/371 [28:55<07:29,  5.69s/it]"
     ]
    },
    {
     "name": "stdout",
     "output_type": "stream",
     "text": [
      "\u001b[1m4/4\u001b[0m \u001b[32m━━━━━━━━━━━━━━━━━━━━\u001b[0m\u001b[37m\u001b[0m \u001b[1m5s\u001b[0m 1s/step\n"
     ]
    },
    {
     "name": "stderr",
     "output_type": "stream",
     "text": [
      "Extracting features:  79%|██████████████████████████████████████████████▌            | 293/371 [29:01<07:22,  5.67s/it]"
     ]
    },
    {
     "name": "stdout",
     "output_type": "stream",
     "text": [
      "\u001b[1m4/4\u001b[0m \u001b[32m━━━━━━━━━━━━━━━━━━━━\u001b[0m\u001b[37m\u001b[0m \u001b[1m5s\u001b[0m 1s/step\n"
     ]
    },
    {
     "name": "stderr",
     "output_type": "stream",
     "text": [
      "Extracting features:  79%|██████████████████████████████████████████████▊            | 294/371 [29:06<07:17,  5.68s/it]"
     ]
    },
    {
     "name": "stdout",
     "output_type": "stream",
     "text": [
      "\u001b[1m4/4\u001b[0m \u001b[32m━━━━━━━━━━━━━━━━━━━━\u001b[0m\u001b[37m\u001b[0m \u001b[1m5s\u001b[0m 1s/step\n"
     ]
    },
    {
     "name": "stderr",
     "output_type": "stream",
     "text": [
      "Extracting features:  80%|██████████████████████████████████████████████▉            | 295/371 [29:12<07:12,  5.69s/it]"
     ]
    },
    {
     "name": "stdout",
     "output_type": "stream",
     "text": [
      "\u001b[1m4/4\u001b[0m \u001b[32m━━━━━━━━━━━━━━━━━━━━\u001b[0m\u001b[37m\u001b[0m \u001b[1m5s\u001b[0m 1s/step\n"
     ]
    },
    {
     "name": "stderr",
     "output_type": "stream",
     "text": [
      "Extracting features:  80%|███████████████████████████████████████████████            | 296/371 [29:18<07:07,  5.70s/it]"
     ]
    },
    {
     "name": "stdout",
     "output_type": "stream",
     "text": [
      "\u001b[1m4/4\u001b[0m \u001b[32m━━━━━━━━━━━━━━━━━━━━\u001b[0m\u001b[37m\u001b[0m \u001b[1m5s\u001b[0m 1s/step\n"
     ]
    },
    {
     "name": "stderr",
     "output_type": "stream",
     "text": [
      "Extracting features:  80%|███████████████████████████████████████████████▏           | 297/371 [29:24<07:01,  5.70s/it]"
     ]
    },
    {
     "name": "stdout",
     "output_type": "stream",
     "text": [
      "\u001b[1m4/4\u001b[0m \u001b[32m━━━━━━━━━━━━━━━━━━━━\u001b[0m\u001b[37m\u001b[0m \u001b[1m5s\u001b[0m 1s/step\n"
     ]
    },
    {
     "name": "stderr",
     "output_type": "stream",
     "text": [
      "Extracting features:  80%|███████████████████████████████████████████████▍           | 298/371 [29:29<06:55,  5.68s/it]"
     ]
    },
    {
     "name": "stdout",
     "output_type": "stream",
     "text": [
      "\u001b[1m4/4\u001b[0m \u001b[32m━━━━━━━━━━━━━━━━━━━━\u001b[0m\u001b[37m\u001b[0m \u001b[1m5s\u001b[0m 1s/step\n"
     ]
    },
    {
     "name": "stderr",
     "output_type": "stream",
     "text": [
      "Extracting features:  81%|███████████████████████████████████████████████▌           | 299/371 [29:35<06:49,  5.69s/it]"
     ]
    },
    {
     "name": "stdout",
     "output_type": "stream",
     "text": [
      "\u001b[1m4/4\u001b[0m \u001b[32m━━━━━━━━━━━━━━━━━━━━\u001b[0m\u001b[37m\u001b[0m \u001b[1m5s\u001b[0m 1s/step\n"
     ]
    },
    {
     "name": "stderr",
     "output_type": "stream",
     "text": [
      "Extracting features:  81%|███████████████████████████████████████████████▋           | 300/371 [29:41<06:42,  5.68s/it]"
     ]
    },
    {
     "name": "stdout",
     "output_type": "stream",
     "text": [
      "\u001b[1m4/4\u001b[0m \u001b[32m━━━━━━━━━━━━━━━━━━━━\u001b[0m\u001b[37m\u001b[0m \u001b[1m5s\u001b[0m 1s/step\n"
     ]
    },
    {
     "name": "stderr",
     "output_type": "stream",
     "text": [
      "Extracting features:  81%|███████████████████████████████████████████████▊           | 301/371 [29:46<06:37,  5.68s/it]"
     ]
    },
    {
     "name": "stdout",
     "output_type": "stream",
     "text": [
      "\u001b[1m4/4\u001b[0m \u001b[32m━━━━━━━━━━━━━━━━━━━━\u001b[0m\u001b[37m\u001b[0m \u001b[1m5s\u001b[0m 1s/step\n"
     ]
    },
    {
     "name": "stderr",
     "output_type": "stream",
     "text": [
      "Extracting features:  81%|████████████████████████████████████████████████           | 302/371 [29:52<06:31,  5.68s/it]"
     ]
    },
    {
     "name": "stdout",
     "output_type": "stream",
     "text": [
      "\u001b[1m4/4\u001b[0m \u001b[32m━━━━━━━━━━━━━━━━━━━━\u001b[0m\u001b[37m\u001b[0m \u001b[1m5s\u001b[0m 1s/step\n"
     ]
    },
    {
     "name": "stderr",
     "output_type": "stream",
     "text": [
      "Extracting features:  82%|████████████████████████████████████████████████▏          | 303/371 [29:58<06:25,  5.67s/it]"
     ]
    },
    {
     "name": "stdout",
     "output_type": "stream",
     "text": [
      "\u001b[1m4/4\u001b[0m \u001b[32m━━━━━━━━━━━━━━━━━━━━\u001b[0m\u001b[37m\u001b[0m \u001b[1m5s\u001b[0m 1s/step\n"
     ]
    },
    {
     "name": "stderr",
     "output_type": "stream",
     "text": [
      "Extracting features:  82%|████████████████████████████████████████████████▎          | 304/371 [30:03<06:21,  5.69s/it]"
     ]
    },
    {
     "name": "stdout",
     "output_type": "stream",
     "text": [
      "\u001b[1m4/4\u001b[0m \u001b[32m━━━━━━━━━━━━━━━━━━━━\u001b[0m\u001b[37m\u001b[0m \u001b[1m5s\u001b[0m 1s/step\n"
     ]
    },
    {
     "name": "stderr",
     "output_type": "stream",
     "text": [
      "Extracting features:  82%|████████████████████████████████████████████████▌          | 305/371 [30:09<06:14,  5.67s/it]"
     ]
    },
    {
     "name": "stdout",
     "output_type": "stream",
     "text": [
      "\u001b[1m4/4\u001b[0m \u001b[32m━━━━━━━━━━━━━━━━━━━━\u001b[0m\u001b[37m\u001b[0m \u001b[1m5s\u001b[0m 1s/step\n"
     ]
    },
    {
     "name": "stderr",
     "output_type": "stream",
     "text": [
      "Extracting features:  82%|████████████████████████████████████████████████▋          | 306/371 [30:15<06:10,  5.70s/it]"
     ]
    },
    {
     "name": "stdout",
     "output_type": "stream",
     "text": [
      "\u001b[1m4/4\u001b[0m \u001b[32m━━━━━━━━━━━━━━━━━━━━\u001b[0m\u001b[37m\u001b[0m \u001b[1m5s\u001b[0m 1s/step\n"
     ]
    },
    {
     "name": "stderr",
     "output_type": "stream",
     "text": [
      "Extracting features:  83%|████████████████████████████████████████████████▊          | 307/371 [30:20<06:07,  5.74s/it]"
     ]
    },
    {
     "name": "stdout",
     "output_type": "stream",
     "text": [
      "\u001b[1m4/4\u001b[0m \u001b[32m━━━━━━━━━━━━━━━━━━━━\u001b[0m\u001b[37m\u001b[0m \u001b[1m5s\u001b[0m 1s/step\n"
     ]
    },
    {
     "name": "stderr",
     "output_type": "stream",
     "text": [
      "Extracting features:  83%|████████████████████████████████████████████████▉          | 308/371 [30:26<06:00,  5.72s/it]"
     ]
    },
    {
     "name": "stdout",
     "output_type": "stream",
     "text": [
      "\u001b[1m4/4\u001b[0m \u001b[32m━━━━━━━━━━━━━━━━━━━━\u001b[0m\u001b[37m\u001b[0m \u001b[1m5s\u001b[0m 1s/step\n"
     ]
    },
    {
     "name": "stderr",
     "output_type": "stream",
     "text": [
      "Extracting features:  83%|█████████████████████████████████████████████████▏         | 309/371 [30:32<05:52,  5.69s/it]"
     ]
    },
    {
     "name": "stdout",
     "output_type": "stream",
     "text": [
      "\u001b[1m4/4\u001b[0m \u001b[32m━━━━━━━━━━━━━━━━━━━━\u001b[0m\u001b[37m\u001b[0m \u001b[1m5s\u001b[0m 1s/step\n"
     ]
    },
    {
     "name": "stderr",
     "output_type": "stream",
     "text": [
      "Extracting features:  84%|█████████████████████████████████████████████████▎         | 310/371 [30:38<05:47,  5.70s/it]"
     ]
    },
    {
     "name": "stdout",
     "output_type": "stream",
     "text": [
      "\u001b[1m4/4\u001b[0m \u001b[32m━━━━━━━━━━━━━━━━━━━━\u001b[0m\u001b[37m\u001b[0m \u001b[1m5s\u001b[0m 1s/step\n"
     ]
    },
    {
     "name": "stderr",
     "output_type": "stream",
     "text": [
      "Extracting features:  84%|█████████████████████████████████████████████████▍         | 311/371 [30:43<05:42,  5.70s/it]"
     ]
    },
    {
     "name": "stdout",
     "output_type": "stream",
     "text": [
      "\u001b[1m4/4\u001b[0m \u001b[32m━━━━━━━━━━━━━━━━━━━━\u001b[0m\u001b[37m\u001b[0m \u001b[1m5s\u001b[0m 1s/step\n"
     ]
    },
    {
     "name": "stderr",
     "output_type": "stream",
     "text": [
      "Extracting features:  84%|█████████████████████████████████████████████████▌         | 312/371 [30:49<05:35,  5.69s/it]"
     ]
    },
    {
     "name": "stdout",
     "output_type": "stream",
     "text": [
      "\u001b[1m4/4\u001b[0m \u001b[32m━━━━━━━━━━━━━━━━━━━━\u001b[0m\u001b[37m\u001b[0m \u001b[1m5s\u001b[0m 1s/step\n"
     ]
    },
    {
     "name": "stderr",
     "output_type": "stream",
     "text": [
      "Extracting features:  84%|█████████████████████████████████████████████████▊         | 313/371 [30:55<05:30,  5.69s/it]"
     ]
    },
    {
     "name": "stdout",
     "output_type": "stream",
     "text": [
      "\u001b[1m4/4\u001b[0m \u001b[32m━━━━━━━━━━━━━━━━━━━━\u001b[0m\u001b[37m\u001b[0m \u001b[1m5s\u001b[0m 1s/step\n"
     ]
    },
    {
     "name": "stderr",
     "output_type": "stream",
     "text": [
      "Extracting features:  85%|█████████████████████████████████████████████████▉         | 314/371 [31:00<05:24,  5.69s/it]"
     ]
    },
    {
     "name": "stdout",
     "output_type": "stream",
     "text": [
      "\u001b[1m4/4\u001b[0m \u001b[32m━━━━━━━━━━━━━━━━━━━━\u001b[0m\u001b[37m\u001b[0m \u001b[1m5s\u001b[0m 1s/step\n"
     ]
    },
    {
     "name": "stderr",
     "output_type": "stream",
     "text": [
      "Extracting features:  85%|██████████████████████████████████████████████████         | 315/371 [31:06<05:17,  5.67s/it]"
     ]
    },
    {
     "name": "stdout",
     "output_type": "stream",
     "text": [
      "\u001b[1m4/4\u001b[0m \u001b[32m━━━━━━━━━━━━━━━━━━━━\u001b[0m\u001b[37m\u001b[0m \u001b[1m5s\u001b[0m 1s/step\n"
     ]
    },
    {
     "name": "stderr",
     "output_type": "stream",
     "text": [
      "Extracting features:  85%|██████████████████████████████████████████████████▎        | 316/371 [31:12<05:11,  5.67s/it]"
     ]
    },
    {
     "name": "stdout",
     "output_type": "stream",
     "text": [
      "\u001b[1m4/4\u001b[0m \u001b[32m━━━━━━━━━━━━━━━━━━━━\u001b[0m\u001b[37m\u001b[0m \u001b[1m5s\u001b[0m 1s/step\n"
     ]
    },
    {
     "name": "stderr",
     "output_type": "stream",
     "text": [
      "Extracting features:  85%|██████████████████████████████████████████████████▍        | 317/371 [31:17<05:07,  5.69s/it]"
     ]
    },
    {
     "name": "stdout",
     "output_type": "stream",
     "text": [
      "\u001b[1m4/4\u001b[0m \u001b[32m━━━━━━━━━━━━━━━━━━━━\u001b[0m\u001b[37m\u001b[0m \u001b[1m5s\u001b[0m 1s/step\n"
     ]
    },
    {
     "name": "stderr",
     "output_type": "stream",
     "text": [
      "Extracting features:  86%|██████████████████████████████████████████████████▌        | 318/371 [31:23<05:02,  5.70s/it]"
     ]
    },
    {
     "name": "stdout",
     "output_type": "stream",
     "text": [
      "\u001b[1m4/4\u001b[0m \u001b[32m━━━━━━━━━━━━━━━━━━━━\u001b[0m\u001b[37m\u001b[0m \u001b[1m5s\u001b[0m 1s/step\n"
     ]
    },
    {
     "name": "stderr",
     "output_type": "stream",
     "text": [
      "Extracting features:  86%|██████████████████████████████████████████████████▋        | 319/371 [31:29<04:55,  5.68s/it]"
     ]
    },
    {
     "name": "stdout",
     "output_type": "stream",
     "text": [
      "\u001b[1m4/4\u001b[0m \u001b[32m━━━━━━━━━━━━━━━━━━━━\u001b[0m\u001b[37m\u001b[0m \u001b[1m5s\u001b[0m 1s/step\n"
     ]
    },
    {
     "name": "stderr",
     "output_type": "stream",
     "text": [
      "Extracting features:  86%|██████████████████████████████████████████████████▉        | 320/371 [31:34<04:49,  5.68s/it]"
     ]
    },
    {
     "name": "stdout",
     "output_type": "stream",
     "text": [
      "\u001b[1m4/4\u001b[0m \u001b[32m━━━━━━━━━━━━━━━━━━━━\u001b[0m\u001b[37m\u001b[0m \u001b[1m5s\u001b[0m 1s/step\n"
     ]
    },
    {
     "name": "stderr",
     "output_type": "stream",
     "text": [
      "Extracting features:  87%|███████████████████████████████████████████████████        | 321/371 [31:40<04:44,  5.69s/it]"
     ]
    },
    {
     "name": "stdout",
     "output_type": "stream",
     "text": [
      "\u001b[1m4/4\u001b[0m \u001b[32m━━━━━━━━━━━━━━━━━━━━\u001b[0m\u001b[37m\u001b[0m \u001b[1m5s\u001b[0m 1s/step\n"
     ]
    },
    {
     "name": "stderr",
     "output_type": "stream",
     "text": [
      "Extracting features:  87%|███████████████████████████████████████████████████▏       | 322/371 [31:46<04:39,  5.70s/it]"
     ]
    },
    {
     "name": "stdout",
     "output_type": "stream",
     "text": [
      "\u001b[1m4/4\u001b[0m \u001b[32m━━━━━━━━━━━━━━━━━━━━\u001b[0m\u001b[37m\u001b[0m \u001b[1m5s\u001b[0m 1s/step\n"
     ]
    },
    {
     "name": "stderr",
     "output_type": "stream",
     "text": [
      "Extracting features:  87%|███████████████████████████████████████████████████▎       | 323/371 [31:52<04:34,  5.71s/it]"
     ]
    },
    {
     "name": "stdout",
     "output_type": "stream",
     "text": [
      "\u001b[1m4/4\u001b[0m \u001b[32m━━━━━━━━━━━━━━━━━━━━\u001b[0m\u001b[37m\u001b[0m \u001b[1m5s\u001b[0m 1s/step\n"
     ]
    },
    {
     "name": "stderr",
     "output_type": "stream",
     "text": [
      "Extracting features:  87%|███████████████████████████████████████████████████▌       | 324/371 [31:57<04:28,  5.72s/it]"
     ]
    },
    {
     "name": "stdout",
     "output_type": "stream",
     "text": [
      "\u001b[1m4/4\u001b[0m \u001b[32m━━━━━━━━━━━━━━━━━━━━\u001b[0m\u001b[37m\u001b[0m \u001b[1m5s\u001b[0m 1s/step\n"
     ]
    },
    {
     "name": "stderr",
     "output_type": "stream",
     "text": [
      "Extracting features:  88%|███████████████████████████████████████████████████▋       | 325/371 [32:03<04:21,  5.68s/it]"
     ]
    },
    {
     "name": "stdout",
     "output_type": "stream",
     "text": [
      "\u001b[1m4/4\u001b[0m \u001b[32m━━━━━━━━━━━━━━━━━━━━\u001b[0m\u001b[37m\u001b[0m \u001b[1m5s\u001b[0m 1s/step\n"
     ]
    },
    {
     "name": "stderr",
     "output_type": "stream",
     "text": [
      "Extracting features:  88%|███████████████████████████████████████████████████▊       | 326/371 [32:09<04:16,  5.70s/it]"
     ]
    },
    {
     "name": "stdout",
     "output_type": "stream",
     "text": [
      "\u001b[1m4/4\u001b[0m \u001b[32m━━━━━━━━━━━━━━━━━━━━\u001b[0m\u001b[37m\u001b[0m \u001b[1m5s\u001b[0m 1s/step\n"
     ]
    },
    {
     "name": "stderr",
     "output_type": "stream",
     "text": [
      "Extracting features:  88%|████████████████████████████████████████████████████       | 327/371 [32:14<04:11,  5.71s/it]"
     ]
    },
    {
     "name": "stdout",
     "output_type": "stream",
     "text": [
      "\u001b[1m4/4\u001b[0m \u001b[32m━━━━━━━━━━━━━━━━━━━━\u001b[0m\u001b[37m\u001b[0m \u001b[1m5s\u001b[0m 1s/step\n"
     ]
    },
    {
     "name": "stderr",
     "output_type": "stream",
     "text": [
      "Extracting features:  88%|████████████████████████████████████████████████████▏      | 328/371 [32:20<04:05,  5.71s/it]"
     ]
    },
    {
     "name": "stdout",
     "output_type": "stream",
     "text": [
      "\u001b[1m4/4\u001b[0m \u001b[32m━━━━━━━━━━━━━━━━━━━━\u001b[0m\u001b[37m\u001b[0m \u001b[1m5s\u001b[0m 1s/step\n"
     ]
    },
    {
     "name": "stderr",
     "output_type": "stream",
     "text": [
      "Extracting features:  89%|████████████████████████████████████████████████████▎      | 329/371 [32:26<03:59,  5.71s/it]"
     ]
    },
    {
     "name": "stdout",
     "output_type": "stream",
     "text": [
      "\u001b[1m4/4\u001b[0m \u001b[32m━━━━━━━━━━━━━━━━━━━━\u001b[0m\u001b[37m\u001b[0m \u001b[1m5s\u001b[0m 1s/step\n"
     ]
    },
    {
     "name": "stderr",
     "output_type": "stream",
     "text": [
      "Extracting features:  89%|████████████████████████████████████████████████████▍      | 330/371 [32:31<03:54,  5.71s/it]"
     ]
    },
    {
     "name": "stdout",
     "output_type": "stream",
     "text": [
      "\u001b[1m4/4\u001b[0m \u001b[32m━━━━━━━━━━━━━━━━━━━━\u001b[0m\u001b[37m\u001b[0m \u001b[1m5s\u001b[0m 1s/step\n"
     ]
    },
    {
     "name": "stderr",
     "output_type": "stream",
     "text": [
      "Extracting features:  89%|████████████████████████████████████████████████████▋      | 331/371 [32:37<03:47,  5.69s/it]"
     ]
    },
    {
     "name": "stdout",
     "output_type": "stream",
     "text": [
      "\u001b[1m4/4\u001b[0m \u001b[32m━━━━━━━━━━━━━━━━━━━━\u001b[0m\u001b[37m\u001b[0m \u001b[1m5s\u001b[0m 1s/step\n"
     ]
    },
    {
     "name": "stderr",
     "output_type": "stream",
     "text": [
      "Extracting features:  89%|████████████████████████████████████████████████████▊      | 332/371 [32:43<03:42,  5.70s/it]"
     ]
    },
    {
     "name": "stdout",
     "output_type": "stream",
     "text": [
      "\u001b[1m4/4\u001b[0m \u001b[32m━━━━━━━━━━━━━━━━━━━━\u001b[0m\u001b[37m\u001b[0m \u001b[1m5s\u001b[0m 1s/step\n"
     ]
    },
    {
     "name": "stderr",
     "output_type": "stream",
     "text": [
      "Extracting features:  90%|████████████████████████████████████████████████████▉      | 333/371 [32:48<03:35,  5.68s/it]"
     ]
    },
    {
     "name": "stdout",
     "output_type": "stream",
     "text": [
      "\u001b[1m4/4\u001b[0m \u001b[32m━━━━━━━━━━━━━━━━━━━━\u001b[0m\u001b[37m\u001b[0m \u001b[1m5s\u001b[0m 1s/step\n"
     ]
    },
    {
     "name": "stderr",
     "output_type": "stream",
     "text": [
      "Extracting features:  90%|█████████████████████████████████████████████████████      | 334/371 [32:54<03:30,  5.69s/it]"
     ]
    },
    {
     "name": "stdout",
     "output_type": "stream",
     "text": [
      "\u001b[1m4/4\u001b[0m \u001b[32m━━━━━━━━━━━━━━━━━━━━\u001b[0m\u001b[37m\u001b[0m \u001b[1m5s\u001b[0m 1s/step\n"
     ]
    },
    {
     "name": "stderr",
     "output_type": "stream",
     "text": [
      "Extracting features:  90%|█████████████████████████████████████████████████████▎     | 335/371 [33:00<03:24,  5.67s/it]"
     ]
    },
    {
     "name": "stdout",
     "output_type": "stream",
     "text": [
      "\u001b[1m4/4\u001b[0m \u001b[32m━━━━━━━━━━━━━━━━━━━━\u001b[0m\u001b[37m\u001b[0m \u001b[1m5s\u001b[0m 1s/step\n"
     ]
    },
    {
     "name": "stderr",
     "output_type": "stream",
     "text": [
      "Extracting features:  91%|█████████████████████████████████████████████████████▍     | 336/371 [33:05<03:18,  5.66s/it]"
     ]
    },
    {
     "name": "stdout",
     "output_type": "stream",
     "text": [
      "\u001b[1m4/4\u001b[0m \u001b[32m━━━━━━━━━━━━━━━━━━━━\u001b[0m\u001b[37m\u001b[0m \u001b[1m5s\u001b[0m 1s/step\n"
     ]
    },
    {
     "name": "stderr",
     "output_type": "stream",
     "text": [
      "Extracting features:  91%|█████████████████████████████████████████████████████▌     | 337/371 [33:11<03:13,  5.68s/it]"
     ]
    },
    {
     "name": "stdout",
     "output_type": "stream",
     "text": [
      "\u001b[1m4/4\u001b[0m \u001b[32m━━━━━━━━━━━━━━━━━━━━\u001b[0m\u001b[37m\u001b[0m \u001b[1m5s\u001b[0m 1s/step\n"
     ]
    },
    {
     "name": "stderr",
     "output_type": "stream",
     "text": [
      "Extracting features:  91%|█████████████████████████████████████████████████████▊     | 338/371 [33:17<03:07,  5.69s/it]"
     ]
    },
    {
     "name": "stdout",
     "output_type": "stream",
     "text": [
      "\u001b[1m4/4\u001b[0m \u001b[32m━━━━━━━━━━━━━━━━━━━━\u001b[0m\u001b[37m\u001b[0m \u001b[1m5s\u001b[0m 1s/step\n"
     ]
    },
    {
     "name": "stderr",
     "output_type": "stream",
     "text": [
      "Extracting features:  91%|█████████████████████████████████████████████████████▉     | 339/371 [33:23<03:02,  5.71s/it]"
     ]
    },
    {
     "name": "stdout",
     "output_type": "stream",
     "text": [
      "\u001b[1m4/4\u001b[0m \u001b[32m━━━━━━━━━━━━━━━━━━━━\u001b[0m\u001b[37m\u001b[0m \u001b[1m5s\u001b[0m 1s/step\n"
     ]
    },
    {
     "name": "stderr",
     "output_type": "stream",
     "text": [
      "Extracting features:  92%|██████████████████████████████████████████████████████     | 340/371 [33:28<02:57,  5.71s/it]"
     ]
    },
    {
     "name": "stdout",
     "output_type": "stream",
     "text": [
      "\u001b[1m4/4\u001b[0m \u001b[32m━━━━━━━━━━━━━━━━━━━━\u001b[0m\u001b[37m\u001b[0m \u001b[1m5s\u001b[0m 1s/step\n"
     ]
    },
    {
     "name": "stderr",
     "output_type": "stream",
     "text": [
      "Extracting features:  92%|██████████████████████████████████████████████████████▏    | 341/371 [33:34<02:51,  5.73s/it]"
     ]
    },
    {
     "name": "stdout",
     "output_type": "stream",
     "text": [
      "\u001b[1m4/4\u001b[0m \u001b[32m━━━━━━━━━━━━━━━━━━━━\u001b[0m\u001b[37m\u001b[0m \u001b[1m5s\u001b[0m 1s/step\n"
     ]
    },
    {
     "name": "stderr",
     "output_type": "stream",
     "text": [
      "Extracting features:  92%|██████████████████████████████████████████████████████▍    | 342/371 [33:40<02:45,  5.69s/it]"
     ]
    },
    {
     "name": "stdout",
     "output_type": "stream",
     "text": [
      "\u001b[1m4/4\u001b[0m \u001b[32m━━━━━━━━━━━━━━━━━━━━\u001b[0m\u001b[37m\u001b[0m \u001b[1m5s\u001b[0m 1s/step\n"
     ]
    },
    {
     "name": "stderr",
     "output_type": "stream",
     "text": [
      "Extracting features:  92%|██████████████████████████████████████████████████████▌    | 343/371 [33:45<02:39,  5.70s/it]"
     ]
    },
    {
     "name": "stdout",
     "output_type": "stream",
     "text": [
      "\u001b[1m4/4\u001b[0m \u001b[32m━━━━━━━━━━━━━━━━━━━━\u001b[0m\u001b[37m\u001b[0m \u001b[1m5s\u001b[0m 1s/step\n"
     ]
    },
    {
     "name": "stderr",
     "output_type": "stream",
     "text": [
      "Extracting features:  93%|██████████████████████████████████████████████████████▋    | 344/371 [33:51<02:33,  5.70s/it]"
     ]
    },
    {
     "name": "stdout",
     "output_type": "stream",
     "text": [
      "\u001b[1m4/4\u001b[0m \u001b[32m━━━━━━━━━━━━━━━━━━━━\u001b[0m\u001b[37m\u001b[0m \u001b[1m5s\u001b[0m 1s/step\n"
     ]
    },
    {
     "name": "stderr",
     "output_type": "stream",
     "text": [
      "Extracting features:  93%|██████████████████████████████████████████████████████▊    | 345/371 [33:57<02:28,  5.71s/it]"
     ]
    },
    {
     "name": "stdout",
     "output_type": "stream",
     "text": [
      "\u001b[1m4/4\u001b[0m \u001b[32m━━━━━━━━━━━━━━━━━━━━\u001b[0m\u001b[37m\u001b[0m \u001b[1m5s\u001b[0m 1s/step\n"
     ]
    },
    {
     "name": "stderr",
     "output_type": "stream",
     "text": [
      "Extracting features:  93%|███████████████████████████████████████████████████████    | 346/371 [34:03<02:22,  5.69s/it]"
     ]
    },
    {
     "name": "stdout",
     "output_type": "stream",
     "text": [
      "\u001b[1m4/4\u001b[0m \u001b[32m━━━━━━━━━━━━━━━━━━━━\u001b[0m\u001b[37m\u001b[0m \u001b[1m5s\u001b[0m 1s/step\n"
     ]
    },
    {
     "name": "stderr",
     "output_type": "stream",
     "text": [
      "Extracting features:  94%|███████████████████████████████████████████████████████▏   | 347/371 [34:08<02:16,  5.68s/it]"
     ]
    },
    {
     "name": "stdout",
     "output_type": "stream",
     "text": [
      "\u001b[1m4/4\u001b[0m \u001b[32m━━━━━━━━━━━━━━━━━━━━\u001b[0m\u001b[37m\u001b[0m \u001b[1m5s\u001b[0m 1s/step\n"
     ]
    },
    {
     "name": "stderr",
     "output_type": "stream",
     "text": [
      "Extracting features:  94%|███████████████████████████████████████████████████████▎   | 348/371 [34:14<02:10,  5.70s/it]"
     ]
    },
    {
     "name": "stdout",
     "output_type": "stream",
     "text": [
      "\u001b[1m4/4\u001b[0m \u001b[32m━━━━━━━━━━━━━━━━━━━━\u001b[0m\u001b[37m\u001b[0m \u001b[1m5s\u001b[0m 1s/step\n"
     ]
    },
    {
     "name": "stderr",
     "output_type": "stream",
     "text": [
      "Extracting features:  94%|███████████████████████████████████████████████████████▌   | 349/371 [34:20<02:05,  5.70s/it]"
     ]
    },
    {
     "name": "stdout",
     "output_type": "stream",
     "text": [
      "\u001b[1m4/4\u001b[0m \u001b[32m━━━━━━━━━━━━━━━━━━━━\u001b[0m\u001b[37m\u001b[0m \u001b[1m5s\u001b[0m 1s/step\n"
     ]
    },
    {
     "name": "stderr",
     "output_type": "stream",
     "text": [
      "Extracting features:  94%|███████████████████████████████████████████████████████▋   | 350/371 [34:25<01:59,  5.69s/it]"
     ]
    },
    {
     "name": "stdout",
     "output_type": "stream",
     "text": [
      "\u001b[1m4/4\u001b[0m \u001b[32m━━━━━━━━━━━━━━━━━━━━\u001b[0m\u001b[37m\u001b[0m \u001b[1m5s\u001b[0m 1s/step\n"
     ]
    },
    {
     "name": "stderr",
     "output_type": "stream",
     "text": [
      "Extracting features:  95%|███████████████████████████████████████████████████████▊   | 351/371 [34:31<01:53,  5.68s/it]"
     ]
    },
    {
     "name": "stdout",
     "output_type": "stream",
     "text": [
      "\u001b[1m4/4\u001b[0m \u001b[32m━━━━━━━━━━━━━━━━━━━━\u001b[0m\u001b[37m\u001b[0m \u001b[1m5s\u001b[0m 1s/step\n"
     ]
    },
    {
     "name": "stderr",
     "output_type": "stream",
     "text": [
      "Extracting features:  95%|███████████████████████████████████████████████████████▉   | 352/371 [34:37<01:47,  5.66s/it]"
     ]
    },
    {
     "name": "stdout",
     "output_type": "stream",
     "text": [
      "\u001b[1m4/4\u001b[0m \u001b[32m━━━━━━━━━━━━━━━━━━━━\u001b[0m\u001b[37m\u001b[0m \u001b[1m5s\u001b[0m 1s/step\n"
     ]
    },
    {
     "name": "stderr",
     "output_type": "stream",
     "text": [
      "Extracting features:  95%|████████████████████████████████████████████████████████▏  | 353/371 [34:42<01:42,  5.68s/it]"
     ]
    },
    {
     "name": "stdout",
     "output_type": "stream",
     "text": [
      "\u001b[1m4/4\u001b[0m \u001b[32m━━━━━━━━━━━━━━━━━━━━\u001b[0m\u001b[37m\u001b[0m \u001b[1m5s\u001b[0m 1s/step\n"
     ]
    },
    {
     "name": "stderr",
     "output_type": "stream",
     "text": [
      "Extracting features:  95%|████████████████████████████████████████████████████████▎  | 354/371 [34:48<01:36,  5.66s/it]"
     ]
    },
    {
     "name": "stdout",
     "output_type": "stream",
     "text": [
      "\u001b[1m4/4\u001b[0m \u001b[32m━━━━━━━━━━━━━━━━━━━━\u001b[0m\u001b[37m\u001b[0m \u001b[1m5s\u001b[0m 1s/step\n"
     ]
    },
    {
     "name": "stderr",
     "output_type": "stream",
     "text": [
      "Extracting features:  96%|████████████████████████████████████████████████████████▍  | 355/371 [34:54<01:30,  5.68s/it]"
     ]
    },
    {
     "name": "stdout",
     "output_type": "stream",
     "text": [
      "\u001b[1m4/4\u001b[0m \u001b[32m━━━━━━━━━━━━━━━━━━━━\u001b[0m\u001b[37m\u001b[0m \u001b[1m5s\u001b[0m 1s/step\n"
     ]
    },
    {
     "name": "stderr",
     "output_type": "stream",
     "text": [
      "Extracting features:  96%|████████████████████████████████████████████████████████▌  | 356/371 [34:59<01:25,  5.69s/it]"
     ]
    },
    {
     "name": "stdout",
     "output_type": "stream",
     "text": [
      "\u001b[1m4/4\u001b[0m \u001b[32m━━━━━━━━━━━━━━━━━━━━\u001b[0m\u001b[37m\u001b[0m \u001b[1m5s\u001b[0m 1s/step\n"
     ]
    },
    {
     "name": "stderr",
     "output_type": "stream",
     "text": [
      "Extracting features:  96%|████████████████████████████████████████████████████████▊  | 357/371 [35:05<01:19,  5.70s/it]"
     ]
    },
    {
     "name": "stdout",
     "output_type": "stream",
     "text": [
      "\u001b[1m4/4\u001b[0m \u001b[32m━━━━━━━━━━━━━━━━━━━━\u001b[0m\u001b[37m\u001b[0m \u001b[1m5s\u001b[0m 1s/step\n"
     ]
    },
    {
     "name": "stderr",
     "output_type": "stream",
     "text": [
      "Extracting features:  96%|████████████████████████████████████████████████████████▉  | 358/371 [35:11<01:13,  5.67s/it]"
     ]
    },
    {
     "name": "stdout",
     "output_type": "stream",
     "text": [
      "\u001b[1m4/4\u001b[0m \u001b[32m━━━━━━━━━━━━━━━━━━━━\u001b[0m\u001b[37m\u001b[0m \u001b[1m5s\u001b[0m 1s/step\n"
     ]
    },
    {
     "name": "stderr",
     "output_type": "stream",
     "text": [
      "Extracting features:  97%|█████████████████████████████████████████████████████████  | 359/371 [35:16<01:07,  5.66s/it]"
     ]
    },
    {
     "name": "stdout",
     "output_type": "stream",
     "text": [
      "\u001b[1m4/4\u001b[0m \u001b[32m━━━━━━━━━━━━━━━━━━━━\u001b[0m\u001b[37m\u001b[0m \u001b[1m5s\u001b[0m 1s/step\n"
     ]
    },
    {
     "name": "stderr",
     "output_type": "stream",
     "text": [
      "Extracting features:  97%|█████████████████████████████████████████████████████████▎ | 360/371 [35:22<01:02,  5.66s/it]"
     ]
    },
    {
     "name": "stdout",
     "output_type": "stream",
     "text": [
      "\u001b[1m4/4\u001b[0m \u001b[32m━━━━━━━━━━━━━━━━━━━━\u001b[0m\u001b[37m\u001b[0m \u001b[1m5s\u001b[0m 1s/step\n"
     ]
    },
    {
     "name": "stderr",
     "output_type": "stream",
     "text": [
      "Extracting features:  97%|█████████████████████████████████████████████████████████▍ | 361/371 [35:28<00:56,  5.66s/it]"
     ]
    },
    {
     "name": "stdout",
     "output_type": "stream",
     "text": [
      "\u001b[1m4/4\u001b[0m \u001b[32m━━━━━━━━━━━━━━━━━━━━\u001b[0m\u001b[37m\u001b[0m \u001b[1m5s\u001b[0m 1s/step\n"
     ]
    },
    {
     "name": "stderr",
     "output_type": "stream",
     "text": [
      "Extracting features:  98%|█████████████████████████████████████████████████████████▌ | 362/371 [35:33<00:50,  5.66s/it]"
     ]
    },
    {
     "name": "stdout",
     "output_type": "stream",
     "text": [
      "\u001b[1m4/4\u001b[0m \u001b[32m━━━━━━━━━━━━━━━━━━━━\u001b[0m\u001b[37m\u001b[0m \u001b[1m5s\u001b[0m 1s/step\n"
     ]
    },
    {
     "name": "stderr",
     "output_type": "stream",
     "text": [
      "Extracting features:  98%|█████████████████████████████████████████████████████████▋ | 363/371 [35:39<00:45,  5.66s/it]"
     ]
    },
    {
     "name": "stdout",
     "output_type": "stream",
     "text": [
      "\u001b[1m4/4\u001b[0m \u001b[32m━━━━━━━━━━━━━━━━━━━━\u001b[0m\u001b[37m\u001b[0m \u001b[1m5s\u001b[0m 1s/step\n"
     ]
    },
    {
     "name": "stderr",
     "output_type": "stream",
     "text": [
      "Extracting features:  98%|█████████████████████████████████████████████████████████▉ | 364/371 [35:45<00:39,  5.67s/it]"
     ]
    },
    {
     "name": "stdout",
     "output_type": "stream",
     "text": [
      "\u001b[1m4/4\u001b[0m \u001b[32m━━━━━━━━━━━━━━━━━━━━\u001b[0m\u001b[37m\u001b[0m \u001b[1m5s\u001b[0m 1s/step\n"
     ]
    },
    {
     "name": "stderr",
     "output_type": "stream",
     "text": [
      "Extracting features:  98%|██████████████████████████████████████████████████████████ | 365/371 [35:50<00:34,  5.70s/it]"
     ]
    },
    {
     "name": "stdout",
     "output_type": "stream",
     "text": [
      "\u001b[1m4/4\u001b[0m \u001b[32m━━━━━━━━━━━━━━━━━━━━\u001b[0m\u001b[37m\u001b[0m \u001b[1m5s\u001b[0m 1s/step\n"
     ]
    },
    {
     "name": "stderr",
     "output_type": "stream",
     "text": [
      "Extracting features:  99%|██████████████████████████████████████████████████████████▏| 366/371 [35:56<00:28,  5.70s/it]"
     ]
    },
    {
     "name": "stdout",
     "output_type": "stream",
     "text": [
      "\u001b[1m4/4\u001b[0m \u001b[32m━━━━━━━━━━━━━━━━━━━━\u001b[0m\u001b[37m\u001b[0m \u001b[1m5s\u001b[0m 1s/step\n"
     ]
    },
    {
     "name": "stderr",
     "output_type": "stream",
     "text": [
      "Extracting features:  99%|██████████████████████████████████████████████████████████▎| 367/371 [36:02<00:22,  5.72s/it]"
     ]
    },
    {
     "name": "stdout",
     "output_type": "stream",
     "text": [
      "\u001b[1m4/4\u001b[0m \u001b[32m━━━━━━━━━━━━━━━━━━━━\u001b[0m\u001b[37m\u001b[0m \u001b[1m5s\u001b[0m 1s/step\n"
     ]
    },
    {
     "name": "stderr",
     "output_type": "stream",
     "text": [
      "Extracting features:  99%|██████████████████████████████████████████████████████████▌| 368/371 [36:07<00:17,  5.69s/it]"
     ]
    },
    {
     "name": "stdout",
     "output_type": "stream",
     "text": [
      "\u001b[1m4/4\u001b[0m \u001b[32m━━━━━━━━━━━━━━━━━━━━\u001b[0m\u001b[37m\u001b[0m \u001b[1m5s\u001b[0m 1s/step\n"
     ]
    },
    {
     "name": "stderr",
     "output_type": "stream",
     "text": [
      "Extracting features:  99%|██████████████████████████████████████████████████████████▋| 369/371 [36:13<00:11,  5.69s/it]"
     ]
    },
    {
     "name": "stdout",
     "output_type": "stream",
     "text": [
      "\u001b[1m4/4\u001b[0m \u001b[32m━━━━━━━━━━━━━━━━━━━━\u001b[0m\u001b[37m\u001b[0m \u001b[1m5s\u001b[0m 1s/step\n"
     ]
    },
    {
     "name": "stderr",
     "output_type": "stream",
     "text": [
      "Extracting features: 100%|██████████████████████████████████████████████████████████▊| 370/371 [36:19<00:05,  5.69s/it]"
     ]
    },
    {
     "name": "stdout",
     "output_type": "stream",
     "text": [
      "\u001b[1m3/3\u001b[0m \u001b[32m━━━━━━━━━━━━━━━━━━━━\u001b[0m\u001b[37m\u001b[0m \u001b[1m7s\u001b[0m 3s/step\n"
     ]
    },
    {
     "name": "stderr",
     "output_type": "stream",
     "text": [
      "Extracting features: 100%|███████████████████████████████████████████████████████████| 371/371 [36:26<00:00,  5.89s/it]\n"
     ]
    },
    {
     "name": "stdout",
     "output_type": "stream",
     "text": [
      "Feature extraction completed in 2186.54 seconds, averaging 0.0461 seconds per image.\n"
     ]
    },
    {
     "name": "stderr",
     "output_type": "stream",
     "text": [
      "Extracting features:   0%|                                                                     | 0/107 [00:00<?, ?it/s]"
     ]
    },
    {
     "name": "stdout",
     "output_type": "stream",
     "text": [
      "\u001b[1m4/4\u001b[0m \u001b[32m━━━━━━━━━━━━━━━━━━━━\u001b[0m\u001b[37m\u001b[0m \u001b[1m5s\u001b[0m 1s/step\n"
     ]
    },
    {
     "name": "stderr",
     "output_type": "stream",
     "text": [
      "Extracting features:   1%|▌                                                            | 1/107 [00:05<10:03,  5.69s/it]"
     ]
    },
    {
     "name": "stdout",
     "output_type": "stream",
     "text": [
      "\u001b[1m4/4\u001b[0m \u001b[32m━━━━━━━━━━━━━━━━━━━━\u001b[0m\u001b[37m\u001b[0m \u001b[1m5s\u001b[0m 1s/step\n"
     ]
    },
    {
     "name": "stderr",
     "output_type": "stream",
     "text": [
      "Extracting features:   2%|█▏                                                           | 2/107 [00:11<10:05,  5.77s/it]"
     ]
    },
    {
     "name": "stdout",
     "output_type": "stream",
     "text": [
      "\u001b[1m4/4\u001b[0m \u001b[32m━━━━━━━━━━━━━━━━━━━━\u001b[0m\u001b[37m\u001b[0m \u001b[1m5s\u001b[0m 1s/step\n"
     ]
    },
    {
     "name": "stderr",
     "output_type": "stream",
     "text": [
      "Extracting features:   3%|█▋                                                           | 3/107 [00:17<10:00,  5.78s/it]"
     ]
    },
    {
     "name": "stdout",
     "output_type": "stream",
     "text": [
      "\u001b[1m4/4\u001b[0m \u001b[32m━━━━━━━━━━━━━━━━━━━━\u001b[0m\u001b[37m\u001b[0m \u001b[1m5s\u001b[0m 1s/step\n"
     ]
    },
    {
     "name": "stderr",
     "output_type": "stream",
     "text": [
      "Extracting features:   4%|██▎                                                          | 4/107 [00:23<09:56,  5.79s/it]"
     ]
    },
    {
     "name": "stdout",
     "output_type": "stream",
     "text": [
      "\u001b[1m4/4\u001b[0m \u001b[32m━━━━━━━━━━━━━━━━━━━━\u001b[0m\u001b[37m\u001b[0m \u001b[1m5s\u001b[0m 1s/step\n"
     ]
    },
    {
     "name": "stderr",
     "output_type": "stream",
     "text": [
      "Extracting features:   5%|██▊                                                          | 5/107 [00:28<09:48,  5.77s/it]"
     ]
    },
    {
     "name": "stdout",
     "output_type": "stream",
     "text": [
      "\u001b[1m4/4\u001b[0m \u001b[32m━━━━━━━━━━━━━━━━━━━━\u001b[0m\u001b[37m\u001b[0m \u001b[1m5s\u001b[0m 1s/step\n"
     ]
    },
    {
     "name": "stderr",
     "output_type": "stream",
     "text": [
      "Extracting features:   6%|███▍                                                         | 6/107 [00:34<09:42,  5.77s/it]"
     ]
    },
    {
     "name": "stdout",
     "output_type": "stream",
     "text": [
      "\u001b[1m4/4\u001b[0m \u001b[32m━━━━━━━━━━━━━━━━━━━━\u001b[0m\u001b[37m\u001b[0m \u001b[1m5s\u001b[0m 1s/step\n"
     ]
    },
    {
     "name": "stderr",
     "output_type": "stream",
     "text": [
      "Extracting features:   7%|███▉                                                         | 7/107 [00:40<09:37,  5.78s/it]"
     ]
    },
    {
     "name": "stdout",
     "output_type": "stream",
     "text": [
      "\u001b[1m4/4\u001b[0m \u001b[32m━━━━━━━━━━━━━━━━━━━━\u001b[0m\u001b[37m\u001b[0m \u001b[1m5s\u001b[0m 1s/step\n"
     ]
    },
    {
     "name": "stderr",
     "output_type": "stream",
     "text": [
      "Extracting features:   7%|████▌                                                        | 8/107 [00:46<09:29,  5.76s/it]"
     ]
    },
    {
     "name": "stdout",
     "output_type": "stream",
     "text": [
      "\u001b[1m4/4\u001b[0m \u001b[32m━━━━━━━━━━━━━━━━━━━━\u001b[0m\u001b[37m\u001b[0m \u001b[1m5s\u001b[0m 1s/step\n"
     ]
    },
    {
     "name": "stderr",
     "output_type": "stream",
     "text": [
      "Extracting features:   8%|█████▏                                                       | 9/107 [00:51<09:21,  5.73s/it]"
     ]
    },
    {
     "name": "stdout",
     "output_type": "stream",
     "text": [
      "\u001b[1m4/4\u001b[0m \u001b[32m━━━━━━━━━━━━━━━━━━━━\u001b[0m\u001b[37m\u001b[0m \u001b[1m5s\u001b[0m 1s/step\n"
     ]
    },
    {
     "name": "stderr",
     "output_type": "stream",
     "text": [
      "Extracting features:   9%|█████▌                                                      | 10/107 [00:57<09:15,  5.73s/it]"
     ]
    },
    {
     "name": "stdout",
     "output_type": "stream",
     "text": [
      "\u001b[1m4/4\u001b[0m \u001b[32m━━━━━━━━━━━━━━━━━━━━\u001b[0m\u001b[37m\u001b[0m \u001b[1m5s\u001b[0m 1s/step\n"
     ]
    },
    {
     "name": "stderr",
     "output_type": "stream",
     "text": [
      "Extracting features:  10%|██████▏                                                     | 11/107 [01:03<09:08,  5.72s/it]"
     ]
    },
    {
     "name": "stdout",
     "output_type": "stream",
     "text": [
      "\u001b[1m4/4\u001b[0m \u001b[32m━━━━━━━━━━━━━━━━━━━━\u001b[0m\u001b[37m\u001b[0m \u001b[1m5s\u001b[0m 1s/step\n"
     ]
    },
    {
     "name": "stderr",
     "output_type": "stream",
     "text": [
      "Extracting features:  11%|██████▋                                                     | 12/107 [01:08<09:04,  5.73s/it]"
     ]
    },
    {
     "name": "stdout",
     "output_type": "stream",
     "text": [
      "\u001b[1m4/4\u001b[0m \u001b[32m━━━━━━━━━━━━━━━━━━━━\u001b[0m\u001b[37m\u001b[0m \u001b[1m5s\u001b[0m 1s/step\n"
     ]
    },
    {
     "name": "stderr",
     "output_type": "stream",
     "text": [
      "Extracting features:  12%|███████▎                                                    | 13/107 [01:14<08:59,  5.74s/it]"
     ]
    },
    {
     "name": "stdout",
     "output_type": "stream",
     "text": [
      "\u001b[1m4/4\u001b[0m \u001b[32m━━━━━━━━━━━━━━━━━━━━\u001b[0m\u001b[37m\u001b[0m \u001b[1m5s\u001b[0m 1s/step\n"
     ]
    },
    {
     "name": "stderr",
     "output_type": "stream",
     "text": [
      "Extracting features:  13%|███████▊                                                    | 14/107 [01:20<08:52,  5.73s/it]"
     ]
    },
    {
     "name": "stdout",
     "output_type": "stream",
     "text": [
      "\u001b[1m4/4\u001b[0m \u001b[32m━━━━━━━━━━━━━━━━━━━━\u001b[0m\u001b[37m\u001b[0m \u001b[1m5s\u001b[0m 1s/step\n"
     ]
    },
    {
     "name": "stderr",
     "output_type": "stream",
     "text": [
      "Extracting features:  14%|████████▍                                                   | 15/107 [01:26<08:45,  5.71s/it]"
     ]
    },
    {
     "name": "stdout",
     "output_type": "stream",
     "text": [
      "\u001b[1m4/4\u001b[0m \u001b[32m━━━━━━━━━━━━━━━━━━━━\u001b[0m\u001b[37m\u001b[0m \u001b[1m5s\u001b[0m 1s/step\n"
     ]
    },
    {
     "name": "stderr",
     "output_type": "stream",
     "text": [
      "Extracting features:  15%|████████▉                                                   | 16/107 [01:31<08:39,  5.71s/it]"
     ]
    },
    {
     "name": "stdout",
     "output_type": "stream",
     "text": [
      "\u001b[1m4/4\u001b[0m \u001b[32m━━━━━━━━━━━━━━━━━━━━\u001b[0m\u001b[37m\u001b[0m \u001b[1m5s\u001b[0m 1s/step\n"
     ]
    },
    {
     "name": "stderr",
     "output_type": "stream",
     "text": [
      "Extracting features:  16%|█████████▌                                                  | 17/107 [01:37<08:36,  5.74s/it]"
     ]
    },
    {
     "name": "stdout",
     "output_type": "stream",
     "text": [
      "\u001b[1m4/4\u001b[0m \u001b[32m━━━━━━━━━━━━━━━━━━━━\u001b[0m\u001b[37m\u001b[0m \u001b[1m5s\u001b[0m 1s/step\n"
     ]
    },
    {
     "name": "stderr",
     "output_type": "stream",
     "text": [
      "Extracting features:  17%|██████████                                                  | 18/107 [01:43<08:31,  5.75s/it]"
     ]
    },
    {
     "name": "stdout",
     "output_type": "stream",
     "text": [
      "\u001b[1m4/4\u001b[0m \u001b[32m━━━━━━━━━━━━━━━━━━━━\u001b[0m\u001b[37m\u001b[0m \u001b[1m5s\u001b[0m 1s/step\n"
     ]
    },
    {
     "name": "stderr",
     "output_type": "stream",
     "text": [
      "Extracting features:  18%|██████████▋                                                 | 19/107 [01:49<08:25,  5.75s/it]"
     ]
    },
    {
     "name": "stdout",
     "output_type": "stream",
     "text": [
      "\u001b[1m4/4\u001b[0m \u001b[32m━━━━━━━━━━━━━━━━━━━━\u001b[0m\u001b[37m\u001b[0m \u001b[1m5s\u001b[0m 1s/step\n"
     ]
    },
    {
     "name": "stderr",
     "output_type": "stream",
     "text": [
      "Extracting features:  19%|███████████▏                                                | 20/107 [01:54<08:18,  5.73s/it]"
     ]
    },
    {
     "name": "stdout",
     "output_type": "stream",
     "text": [
      "\u001b[1m4/4\u001b[0m \u001b[32m━━━━━━━━━━━━━━━━━━━━\u001b[0m\u001b[37m\u001b[0m \u001b[1m5s\u001b[0m 1s/step\n"
     ]
    },
    {
     "name": "stderr",
     "output_type": "stream",
     "text": [
      "Extracting features:  20%|███████████▊                                                | 21/107 [02:00<08:11,  5.72s/it]"
     ]
    },
    {
     "name": "stdout",
     "output_type": "stream",
     "text": [
      "\u001b[1m4/4\u001b[0m \u001b[32m━━━━━━━━━━━━━━━━━━━━\u001b[0m\u001b[37m\u001b[0m \u001b[1m5s\u001b[0m 1s/step\n"
     ]
    },
    {
     "name": "stderr",
     "output_type": "stream",
     "text": [
      "Extracting features:  21%|████████████▎                                               | 22/107 [02:06<08:06,  5.73s/it]"
     ]
    },
    {
     "name": "stdout",
     "output_type": "stream",
     "text": [
      "\u001b[1m4/4\u001b[0m \u001b[32m━━━━━━━━━━━━━━━━━━━━\u001b[0m\u001b[37m\u001b[0m \u001b[1m5s\u001b[0m 1s/step\n"
     ]
    },
    {
     "name": "stderr",
     "output_type": "stream",
     "text": [
      "Extracting features:  21%|████████████▉                                               | 23/107 [02:12<08:01,  5.73s/it]"
     ]
    },
    {
     "name": "stdout",
     "output_type": "stream",
     "text": [
      "\u001b[1m4/4\u001b[0m \u001b[32m━━━━━━━━━━━━━━━━━━━━\u001b[0m\u001b[37m\u001b[0m \u001b[1m5s\u001b[0m 1s/step\n"
     ]
    },
    {
     "name": "stderr",
     "output_type": "stream",
     "text": [
      "Extracting features:  22%|█████████████▍                                              | 24/107 [02:17<07:56,  5.74s/it]"
     ]
    },
    {
     "name": "stdout",
     "output_type": "stream",
     "text": [
      "\u001b[1m4/4\u001b[0m \u001b[32m━━━━━━━━━━━━━━━━━━━━\u001b[0m\u001b[37m\u001b[0m \u001b[1m5s\u001b[0m 1s/step\n"
     ]
    },
    {
     "name": "stderr",
     "output_type": "stream",
     "text": [
      "Extracting features:  23%|██████████████                                              | 25/107 [02:23<07:49,  5.73s/it]"
     ]
    },
    {
     "name": "stdout",
     "output_type": "stream",
     "text": [
      "\u001b[1m4/4\u001b[0m \u001b[32m━━━━━━━━━━━━━━━━━━━━\u001b[0m\u001b[37m\u001b[0m \u001b[1m5s\u001b[0m 1s/step\n"
     ]
    },
    {
     "name": "stderr",
     "output_type": "stream",
     "text": [
      "Extracting features:  24%|██████████████▌                                             | 26/107 [02:29<07:42,  5.72s/it]"
     ]
    },
    {
     "name": "stdout",
     "output_type": "stream",
     "text": [
      "\u001b[1m4/4\u001b[0m \u001b[32m━━━━━━━━━━━━━━━━━━━━\u001b[0m\u001b[37m\u001b[0m \u001b[1m5s\u001b[0m 1s/step\n"
     ]
    },
    {
     "name": "stderr",
     "output_type": "stream",
     "text": [
      "Extracting features:  25%|███████████████▏                                            | 27/107 [02:34<07:37,  5.71s/it]"
     ]
    },
    {
     "name": "stdout",
     "output_type": "stream",
     "text": [
      "\u001b[1m4/4\u001b[0m \u001b[32m━━━━━━━━━━━━━━━━━━━━\u001b[0m\u001b[37m\u001b[0m \u001b[1m5s\u001b[0m 1s/step\n"
     ]
    },
    {
     "name": "stderr",
     "output_type": "stream",
     "text": [
      "Extracting features:  26%|███████████████▋                                            | 28/107 [02:40<07:30,  5.70s/it]"
     ]
    },
    {
     "name": "stdout",
     "output_type": "stream",
     "text": [
      "\u001b[1m4/4\u001b[0m \u001b[32m━━━━━━━━━━━━━━━━━━━━\u001b[0m\u001b[37m\u001b[0m \u001b[1m5s\u001b[0m 1s/step\n"
     ]
    },
    {
     "name": "stderr",
     "output_type": "stream",
     "text": [
      "Extracting features:  27%|████████████████▎                                           | 29/107 [02:46<07:25,  5.71s/it]"
     ]
    },
    {
     "name": "stdout",
     "output_type": "stream",
     "text": [
      "\u001b[1m4/4\u001b[0m \u001b[32m━━━━━━━━━━━━━━━━━━━━\u001b[0m\u001b[37m\u001b[0m \u001b[1m5s\u001b[0m 1s/step\n"
     ]
    },
    {
     "name": "stderr",
     "output_type": "stream",
     "text": [
      "Extracting features:  28%|████████████████▊                                           | 30/107 [02:51<07:18,  5.70s/it]"
     ]
    },
    {
     "name": "stdout",
     "output_type": "stream",
     "text": [
      "\u001b[1m4/4\u001b[0m \u001b[32m━━━━━━━━━━━━━━━━━━━━\u001b[0m\u001b[37m\u001b[0m \u001b[1m5s\u001b[0m 1s/step\n"
     ]
    },
    {
     "name": "stderr",
     "output_type": "stream",
     "text": [
      "Extracting features:  29%|█████████████████▍                                          | 31/107 [02:57<07:13,  5.71s/it]"
     ]
    },
    {
     "name": "stdout",
     "output_type": "stream",
     "text": [
      "\u001b[1m4/4\u001b[0m \u001b[32m━━━━━━━━━━━━━━━━━━━━\u001b[0m\u001b[37m\u001b[0m \u001b[1m5s\u001b[0m 1s/step\n"
     ]
    },
    {
     "name": "stderr",
     "output_type": "stream",
     "text": [
      "Extracting features:  30%|█████████████████▉                                          | 32/107 [03:03<07:07,  5.69s/it]"
     ]
    },
    {
     "name": "stdout",
     "output_type": "stream",
     "text": [
      "\u001b[1m4/4\u001b[0m \u001b[32m━━━━━━━━━━━━━━━━━━━━\u001b[0m\u001b[37m\u001b[0m \u001b[1m5s\u001b[0m 1s/step\n"
     ]
    },
    {
     "name": "stderr",
     "output_type": "stream",
     "text": [
      "Extracting features:  31%|██████████████████▌                                         | 33/107 [03:09<07:01,  5.70s/it]"
     ]
    },
    {
     "name": "stdout",
     "output_type": "stream",
     "text": [
      "\u001b[1m4/4\u001b[0m \u001b[32m━━━━━━━━━━━━━━━━━━━━\u001b[0m\u001b[37m\u001b[0m \u001b[1m5s\u001b[0m 1s/step\n"
     ]
    },
    {
     "name": "stderr",
     "output_type": "stream",
     "text": [
      "Extracting features:  32%|███████████████████                                         | 34/107 [03:14<06:55,  5.69s/it]"
     ]
    },
    {
     "name": "stdout",
     "output_type": "stream",
     "text": [
      "\u001b[1m4/4\u001b[0m \u001b[32m━━━━━━━━━━━━━━━━━━━━\u001b[0m\u001b[37m\u001b[0m \u001b[1m5s\u001b[0m 1s/step\n"
     ]
    },
    {
     "name": "stderr",
     "output_type": "stream",
     "text": [
      "Extracting features:  33%|███████████████████▋                                        | 35/107 [03:20<06:51,  5.71s/it]"
     ]
    },
    {
     "name": "stdout",
     "output_type": "stream",
     "text": [
      "\u001b[1m4/4\u001b[0m \u001b[32m━━━━━━━━━━━━━━━━━━━━\u001b[0m\u001b[37m\u001b[0m \u001b[1m5s\u001b[0m 1s/step\n"
     ]
    },
    {
     "name": "stderr",
     "output_type": "stream",
     "text": [
      "Extracting features:  34%|████████████████████▏                                       | 36/107 [03:26<06:46,  5.73s/it]"
     ]
    },
    {
     "name": "stdout",
     "output_type": "stream",
     "text": [
      "\u001b[1m4/4\u001b[0m \u001b[32m━━━━━━━━━━━━━━━━━━━━\u001b[0m\u001b[37m\u001b[0m \u001b[1m5s\u001b[0m 1s/step\n"
     ]
    },
    {
     "name": "stderr",
     "output_type": "stream",
     "text": [
      "Extracting features:  35%|████████████████████▋                                       | 37/107 [03:31<06:40,  5.72s/it]"
     ]
    },
    {
     "name": "stdout",
     "output_type": "stream",
     "text": [
      "\u001b[1m4/4\u001b[0m \u001b[32m━━━━━━━━━━━━━━━━━━━━\u001b[0m\u001b[37m\u001b[0m \u001b[1m6s\u001b[0m 1s/step\n"
     ]
    },
    {
     "name": "stderr",
     "output_type": "stream",
     "text": [
      "Extracting features:  36%|█████████████████████▎                                      | 38/107 [03:37<06:36,  5.74s/it]"
     ]
    },
    {
     "name": "stdout",
     "output_type": "stream",
     "text": [
      "\u001b[1m4/4\u001b[0m \u001b[32m━━━━━━━━━━━━━━━━━━━━\u001b[0m\u001b[37m\u001b[0m \u001b[1m5s\u001b[0m 1s/step\n"
     ]
    },
    {
     "name": "stderr",
     "output_type": "stream",
     "text": [
      "Extracting features:  36%|█████████████████████▊                                      | 39/107 [03:43<06:29,  5.73s/it]"
     ]
    },
    {
     "name": "stdout",
     "output_type": "stream",
     "text": [
      "\u001b[1m4/4\u001b[0m \u001b[32m━━━━━━━━━━━━━━━━━━━━\u001b[0m\u001b[37m\u001b[0m \u001b[1m5s\u001b[0m 1s/step\n"
     ]
    },
    {
     "name": "stderr",
     "output_type": "stream",
     "text": [
      "Extracting features:  37%|██████████████████████▍                                     | 40/107 [03:49<06:24,  5.74s/it]"
     ]
    },
    {
     "name": "stdout",
     "output_type": "stream",
     "text": [
      "\u001b[1m4/4\u001b[0m \u001b[32m━━━━━━━━━━━━━━━━━━━━\u001b[0m\u001b[37m\u001b[0m \u001b[1m5s\u001b[0m 1s/step\n"
     ]
    },
    {
     "name": "stderr",
     "output_type": "stream",
     "text": [
      "Extracting features:  38%|██████████████████████▉                                     | 41/107 [03:54<06:19,  5.76s/it]"
     ]
    },
    {
     "name": "stdout",
     "output_type": "stream",
     "text": [
      "\u001b[1m4/4\u001b[0m \u001b[32m━━━━━━━━━━━━━━━━━━━━\u001b[0m\u001b[37m\u001b[0m \u001b[1m5s\u001b[0m 1s/step\n"
     ]
    },
    {
     "name": "stderr",
     "output_type": "stream",
     "text": [
      "Extracting features:  39%|███████████████████████▌                                    | 42/107 [04:00<06:13,  5.75s/it]"
     ]
    },
    {
     "name": "stdout",
     "output_type": "stream",
     "text": [
      "\u001b[1m4/4\u001b[0m \u001b[32m━━━━━━━━━━━━━━━━━━━━\u001b[0m\u001b[37m\u001b[0m \u001b[1m5s\u001b[0m 1s/step\n"
     ]
    },
    {
     "name": "stderr",
     "output_type": "stream",
     "text": [
      "Extracting features:  40%|████████████████████████                                    | 43/107 [04:06<06:08,  5.75s/it]"
     ]
    },
    {
     "name": "stdout",
     "output_type": "stream",
     "text": [
      "\u001b[1m4/4\u001b[0m \u001b[32m━━━━━━━━━━━━━━━━━━━━\u001b[0m\u001b[37m\u001b[0m \u001b[1m5s\u001b[0m 1s/step\n"
     ]
    },
    {
     "name": "stderr",
     "output_type": "stream",
     "text": [
      "Extracting features:  41%|████████████████████████▋                                   | 44/107 [04:12<06:01,  5.74s/it]"
     ]
    },
    {
     "name": "stdout",
     "output_type": "stream",
     "text": [
      "\u001b[1m4/4\u001b[0m \u001b[32m━━━━━━━━━━━━━━━━━━━━\u001b[0m\u001b[37m\u001b[0m \u001b[1m5s\u001b[0m 1s/step\n"
     ]
    },
    {
     "name": "stderr",
     "output_type": "stream",
     "text": [
      "Extracting features:  42%|█████████████████████████▏                                  | 45/107 [04:17<05:54,  5.71s/it]"
     ]
    },
    {
     "name": "stdout",
     "output_type": "stream",
     "text": [
      "\u001b[1m4/4\u001b[0m \u001b[32m━━━━━━━━━━━━━━━━━━━━\u001b[0m\u001b[37m\u001b[0m \u001b[1m5s\u001b[0m 1s/step\n"
     ]
    },
    {
     "name": "stderr",
     "output_type": "stream",
     "text": [
      "Extracting features:  43%|█████████████████████████▊                                  | 46/107 [04:23<05:49,  5.72s/it]"
     ]
    },
    {
     "name": "stdout",
     "output_type": "stream",
     "text": [
      "\u001b[1m4/4\u001b[0m \u001b[32m━━━━━━━━━━━━━━━━━━━━\u001b[0m\u001b[37m\u001b[0m \u001b[1m5s\u001b[0m 1s/step\n"
     ]
    },
    {
     "name": "stderr",
     "output_type": "stream",
     "text": [
      "Extracting features:  44%|██████████████████████████▎                                 | 47/107 [04:29<05:43,  5.72s/it]"
     ]
    },
    {
     "name": "stdout",
     "output_type": "stream",
     "text": [
      "\u001b[1m4/4\u001b[0m \u001b[32m━━━━━━━━━━━━━━━━━━━━\u001b[0m\u001b[37m\u001b[0m \u001b[1m5s\u001b[0m 1s/step\n"
     ]
    },
    {
     "name": "stderr",
     "output_type": "stream",
     "text": [
      "Extracting features:  45%|██████████████████████████▉                                 | 48/107 [04:35<05:37,  5.73s/it]"
     ]
    },
    {
     "name": "stdout",
     "output_type": "stream",
     "text": [
      "\u001b[1m4/4\u001b[0m \u001b[32m━━━━━━━━━━━━━━━━━━━━\u001b[0m\u001b[37m\u001b[0m \u001b[1m5s\u001b[0m 1s/step\n"
     ]
    },
    {
     "name": "stderr",
     "output_type": "stream",
     "text": [
      "Extracting features:  46%|███████████████████████████▍                                | 49/107 [04:40<05:32,  5.73s/it]"
     ]
    },
    {
     "name": "stdout",
     "output_type": "stream",
     "text": [
      "\u001b[1m4/4\u001b[0m \u001b[32m━━━━━━━━━━━━━━━━━━━━\u001b[0m\u001b[37m\u001b[0m \u001b[1m5s\u001b[0m 1s/step\n"
     ]
    },
    {
     "name": "stderr",
     "output_type": "stream",
     "text": [
      "Extracting features:  47%|████████████████████████████                                | 50/107 [04:46<05:27,  5.74s/it]"
     ]
    },
    {
     "name": "stdout",
     "output_type": "stream",
     "text": [
      "\u001b[1m4/4\u001b[0m \u001b[32m━━━━━━━━━━━━━━━━━━━━\u001b[0m\u001b[37m\u001b[0m \u001b[1m5s\u001b[0m 1s/step\n"
     ]
    },
    {
     "name": "stderr",
     "output_type": "stream",
     "text": [
      "Extracting features:  48%|████████████████████████████▌                               | 51/107 [04:52<05:20,  5.72s/it]"
     ]
    },
    {
     "name": "stdout",
     "output_type": "stream",
     "text": [
      "\u001b[1m4/4\u001b[0m \u001b[32m━━━━━━━━━━━━━━━━━━━━\u001b[0m\u001b[37m\u001b[0m \u001b[1m5s\u001b[0m 1s/step\n"
     ]
    },
    {
     "name": "stderr",
     "output_type": "stream",
     "text": [
      "Extracting features:  49%|█████████████████████████████▏                              | 52/107 [04:57<05:15,  5.73s/it]"
     ]
    },
    {
     "name": "stdout",
     "output_type": "stream",
     "text": [
      "\u001b[1m4/4\u001b[0m \u001b[32m━━━━━━━━━━━━━━━━━━━━\u001b[0m\u001b[37m\u001b[0m \u001b[1m5s\u001b[0m 1s/step\n"
     ]
    },
    {
     "name": "stderr",
     "output_type": "stream",
     "text": [
      "Extracting features:  50%|█████████████████████████████▋                              | 53/107 [05:03<05:09,  5.73s/it]"
     ]
    },
    {
     "name": "stdout",
     "output_type": "stream",
     "text": [
      "\u001b[1m4/4\u001b[0m \u001b[32m━━━━━━━━━━━━━━━━━━━━\u001b[0m\u001b[37m\u001b[0m \u001b[1m5s\u001b[0m 1s/step\n"
     ]
    },
    {
     "name": "stderr",
     "output_type": "stream",
     "text": [
      "Extracting features:  50%|██████████████████████████████▎                             | 54/107 [05:09<05:03,  5.72s/it]"
     ]
    },
    {
     "name": "stdout",
     "output_type": "stream",
     "text": [
      "\u001b[1m4/4\u001b[0m \u001b[32m━━━━━━━━━━━━━━━━━━━━\u001b[0m\u001b[37m\u001b[0m \u001b[1m5s\u001b[0m 1s/step\n"
     ]
    },
    {
     "name": "stderr",
     "output_type": "stream",
     "text": [
      "Extracting features:  51%|██████████████████████████████▊                             | 55/107 [05:15<04:57,  5.73s/it]"
     ]
    },
    {
     "name": "stdout",
     "output_type": "stream",
     "text": [
      "\u001b[1m4/4\u001b[0m \u001b[32m━━━━━━━━━━━━━━━━━━━━\u001b[0m\u001b[37m\u001b[0m \u001b[1m5s\u001b[0m 1s/step\n"
     ]
    },
    {
     "name": "stderr",
     "output_type": "stream",
     "text": [
      "Extracting features:  52%|███████████████████████████████▍                            | 56/107 [05:20<04:52,  5.73s/it]"
     ]
    },
    {
     "name": "stdout",
     "output_type": "stream",
     "text": [
      "\u001b[1m4/4\u001b[0m \u001b[32m━━━━━━━━━━━━━━━━━━━━\u001b[0m\u001b[37m\u001b[0m \u001b[1m5s\u001b[0m 1s/step\n"
     ]
    },
    {
     "name": "stderr",
     "output_type": "stream",
     "text": [
      "Extracting features:  53%|███████████████████████████████▉                            | 57/107 [05:26<04:45,  5.71s/it]"
     ]
    },
    {
     "name": "stdout",
     "output_type": "stream",
     "text": [
      "\u001b[1m4/4\u001b[0m \u001b[32m━━━━━━━━━━━━━━━━━━━━\u001b[0m\u001b[37m\u001b[0m \u001b[1m5s\u001b[0m 1s/step\n"
     ]
    },
    {
     "name": "stderr",
     "output_type": "stream",
     "text": [
      "Extracting features:  54%|████████████████████████████████▌                           | 58/107 [05:32<04:40,  5.72s/it]"
     ]
    },
    {
     "name": "stdout",
     "output_type": "stream",
     "text": [
      "\u001b[1m4/4\u001b[0m \u001b[32m━━━━━━━━━━━━━━━━━━━━\u001b[0m\u001b[37m\u001b[0m \u001b[1m5s\u001b[0m 1s/step\n"
     ]
    },
    {
     "name": "stderr",
     "output_type": "stream",
     "text": [
      "Extracting features:  55%|█████████████████████████████████                           | 59/107 [05:38<04:34,  5.72s/it]"
     ]
    },
    {
     "name": "stdout",
     "output_type": "stream",
     "text": [
      "\u001b[1m4/4\u001b[0m \u001b[32m━━━━━━━━━━━━━━━━━━━━\u001b[0m\u001b[37m\u001b[0m \u001b[1m5s\u001b[0m 1s/step\n"
     ]
    },
    {
     "name": "stderr",
     "output_type": "stream",
     "text": [
      "Extracting features:  56%|█████████████████████████████████▋                          | 60/107 [05:43<04:28,  5.72s/it]"
     ]
    },
    {
     "name": "stdout",
     "output_type": "stream",
     "text": [
      "\u001b[1m4/4\u001b[0m \u001b[32m━━━━━━━━━━━━━━━━━━━━\u001b[0m\u001b[37m\u001b[0m \u001b[1m5s\u001b[0m 1s/step\n"
     ]
    },
    {
     "name": "stderr",
     "output_type": "stream",
     "text": [
      "Extracting features:  57%|██████████████████████████████████▏                         | 61/107 [05:49<04:22,  5.71s/it]"
     ]
    },
    {
     "name": "stdout",
     "output_type": "stream",
     "text": [
      "\u001b[1m4/4\u001b[0m \u001b[32m━━━━━━━━━━━━━━━━━━━━\u001b[0m\u001b[37m\u001b[0m \u001b[1m5s\u001b[0m 1s/step\n"
     ]
    },
    {
     "name": "stderr",
     "output_type": "stream",
     "text": [
      "Extracting features:  58%|██████████████████████████████████▊                         | 62/107 [05:55<04:17,  5.71s/it]"
     ]
    },
    {
     "name": "stdout",
     "output_type": "stream",
     "text": [
      "\u001b[1m4/4\u001b[0m \u001b[32m━━━━━━━━━━━━━━━━━━━━\u001b[0m\u001b[37m\u001b[0m \u001b[1m5s\u001b[0m 1s/step\n"
     ]
    },
    {
     "name": "stderr",
     "output_type": "stream",
     "text": [
      "Extracting features:  59%|███████████████████████████████████▎                        | 63/107 [06:00<04:10,  5.68s/it]"
     ]
    },
    {
     "name": "stdout",
     "output_type": "stream",
     "text": [
      "\u001b[1m4/4\u001b[0m \u001b[32m━━━━━━━━━━━━━━━━━━━━\u001b[0m\u001b[37m\u001b[0m \u001b[1m5s\u001b[0m 1s/step\n"
     ]
    },
    {
     "name": "stderr",
     "output_type": "stream",
     "text": [
      "Extracting features:  60%|███████████████████████████████████▉                        | 64/107 [06:06<04:04,  5.70s/it]"
     ]
    },
    {
     "name": "stdout",
     "output_type": "stream",
     "text": [
      "\u001b[1m4/4\u001b[0m \u001b[32m━━━━━━━━━━━━━━━━━━━━\u001b[0m\u001b[37m\u001b[0m \u001b[1m5s\u001b[0m 1s/step\n"
     ]
    },
    {
     "name": "stderr",
     "output_type": "stream",
     "text": [
      "Extracting features:  61%|████████████████████████████████████▍                       | 65/107 [06:12<03:59,  5.69s/it]"
     ]
    },
    {
     "name": "stdout",
     "output_type": "stream",
     "text": [
      "\u001b[1m4/4\u001b[0m \u001b[32m━━━━━━━━━━━━━━━━━━━━\u001b[0m\u001b[37m\u001b[0m \u001b[1m5s\u001b[0m 1s/step\n"
     ]
    },
    {
     "name": "stderr",
     "output_type": "stream",
     "text": [
      "Extracting features:  62%|█████████████████████████████████████                       | 66/107 [06:17<03:53,  5.70s/it]"
     ]
    },
    {
     "name": "stdout",
     "output_type": "stream",
     "text": [
      "\u001b[1m4/4\u001b[0m \u001b[32m━━━━━━━━━━━━━━━━━━━━\u001b[0m\u001b[37m\u001b[0m \u001b[1m5s\u001b[0m 1s/step\n"
     ]
    },
    {
     "name": "stderr",
     "output_type": "stream",
     "text": [
      "Extracting features:  63%|█████████████████████████████████████▌                      | 67/107 [06:23<03:48,  5.71s/it]"
     ]
    },
    {
     "name": "stdout",
     "output_type": "stream",
     "text": [
      "\u001b[1m4/4\u001b[0m \u001b[32m━━━━━━━━━━━━━━━━━━━━\u001b[0m\u001b[37m\u001b[0m \u001b[1m5s\u001b[0m 1s/step\n"
     ]
    },
    {
     "name": "stderr",
     "output_type": "stream",
     "text": [
      "Extracting features:  64%|██████████████████████████████████████▏                     | 68/107 [06:29<03:40,  5.66s/it]"
     ]
    },
    {
     "name": "stdout",
     "output_type": "stream",
     "text": [
      "\u001b[1m4/4\u001b[0m \u001b[32m━━━━━━━━━━━━━━━━━━━━\u001b[0m\u001b[37m\u001b[0m \u001b[1m5s\u001b[0m 1s/step\n"
     ]
    },
    {
     "name": "stderr",
     "output_type": "stream",
     "text": [
      "Extracting features:  64%|██████████████████████████████████████▋                     | 69/107 [06:34<03:36,  5.69s/it]"
     ]
    },
    {
     "name": "stdout",
     "output_type": "stream",
     "text": [
      "\u001b[1m4/4\u001b[0m \u001b[32m━━━━━━━━━━━━━━━━━━━━\u001b[0m\u001b[37m\u001b[0m \u001b[1m5s\u001b[0m 1s/step\n"
     ]
    },
    {
     "name": "stderr",
     "output_type": "stream",
     "text": [
      "Extracting features:  65%|███████████████████████████████████████▎                    | 70/107 [06:40<03:30,  5.69s/it]"
     ]
    },
    {
     "name": "stdout",
     "output_type": "stream",
     "text": [
      "\u001b[1m4/4\u001b[0m \u001b[32m━━━━━━━━━━━━━━━━━━━━\u001b[0m\u001b[37m\u001b[0m \u001b[1m5s\u001b[0m 1s/step\n"
     ]
    },
    {
     "name": "stderr",
     "output_type": "stream",
     "text": [
      "Extracting features:  66%|███████████████████████████████████████▊                    | 71/107 [06:46<03:24,  5.68s/it]"
     ]
    },
    {
     "name": "stdout",
     "output_type": "stream",
     "text": [
      "\u001b[1m4/4\u001b[0m \u001b[32m━━━━━━━━━━━━━━━━━━━━\u001b[0m\u001b[37m\u001b[0m \u001b[1m5s\u001b[0m 1s/step\n"
     ]
    },
    {
     "name": "stderr",
     "output_type": "stream",
     "text": [
      "Extracting features:  67%|████████████████████████████████████████▎                   | 72/107 [06:51<03:19,  5.69s/it]"
     ]
    },
    {
     "name": "stdout",
     "output_type": "stream",
     "text": [
      "\u001b[1m4/4\u001b[0m \u001b[32m━━━━━━━━━━━━━━━━━━━━\u001b[0m\u001b[37m\u001b[0m \u001b[1m5s\u001b[0m 1s/step\n"
     ]
    },
    {
     "name": "stderr",
     "output_type": "stream",
     "text": [
      "Extracting features:  68%|████████████████████████████████████████▉                   | 73/107 [06:57<03:13,  5.69s/it]"
     ]
    },
    {
     "name": "stdout",
     "output_type": "stream",
     "text": [
      "\u001b[1m4/4\u001b[0m \u001b[32m━━━━━━━━━━━━━━━━━━━━\u001b[0m\u001b[37m\u001b[0m \u001b[1m5s\u001b[0m 1s/step\n"
     ]
    },
    {
     "name": "stderr",
     "output_type": "stream",
     "text": [
      "Extracting features:  69%|█████████████████████████████████████████▍                  | 74/107 [07:03<03:07,  5.68s/it]"
     ]
    },
    {
     "name": "stdout",
     "output_type": "stream",
     "text": [
      "\u001b[1m4/4\u001b[0m \u001b[32m━━━━━━━━━━━━━━━━━━━━\u001b[0m\u001b[37m\u001b[0m \u001b[1m5s\u001b[0m 1s/step\n"
     ]
    },
    {
     "name": "stderr",
     "output_type": "stream",
     "text": [
      "Extracting features:  70%|██████████████████████████████████████████                  | 75/107 [07:09<03:02,  5.70s/it]"
     ]
    },
    {
     "name": "stdout",
     "output_type": "stream",
     "text": [
      "\u001b[1m4/4\u001b[0m \u001b[32m━━━━━━━━━━━━━━━━━━━━\u001b[0m\u001b[37m\u001b[0m \u001b[1m5s\u001b[0m 1s/step\n"
     ]
    },
    {
     "name": "stderr",
     "output_type": "stream",
     "text": [
      "Extracting features:  71%|██████████████████████████████████████████▌                 | 76/107 [07:14<02:56,  5.71s/it]"
     ]
    },
    {
     "name": "stdout",
     "output_type": "stream",
     "text": [
      "\u001b[1m4/4\u001b[0m \u001b[32m━━━━━━━━━━━━━━━━━━━━\u001b[0m\u001b[37m\u001b[0m \u001b[1m5s\u001b[0m 1s/step\n"
     ]
    },
    {
     "name": "stderr",
     "output_type": "stream",
     "text": [
      "Extracting features:  72%|███████████████████████████████████████████▏                | 77/107 [07:20<02:50,  5.69s/it]"
     ]
    },
    {
     "name": "stdout",
     "output_type": "stream",
     "text": [
      "\u001b[1m4/4\u001b[0m \u001b[32m━━━━━━━━━━━━━━━━━━━━\u001b[0m\u001b[37m\u001b[0m \u001b[1m5s\u001b[0m 1s/step\n"
     ]
    },
    {
     "name": "stderr",
     "output_type": "stream",
     "text": [
      "Extracting features:  73%|███████████████████████████████████████████▋                | 78/107 [07:26<02:45,  5.71s/it]"
     ]
    },
    {
     "name": "stdout",
     "output_type": "stream",
     "text": [
      "\u001b[1m4/4\u001b[0m \u001b[32m━━━━━━━━━━━━━━━━━━━━\u001b[0m\u001b[37m\u001b[0m \u001b[1m5s\u001b[0m 1s/step\n"
     ]
    },
    {
     "name": "stderr",
     "output_type": "stream",
     "text": [
      "Extracting features:  74%|████████████████████████████████████████████▎               | 79/107 [07:31<02:39,  5.69s/it]"
     ]
    },
    {
     "name": "stdout",
     "output_type": "stream",
     "text": [
      "\u001b[1m4/4\u001b[0m \u001b[32m━━━━━━━━━━━━━━━━━━━━\u001b[0m\u001b[37m\u001b[0m \u001b[1m5s\u001b[0m 1s/step\n"
     ]
    },
    {
     "name": "stderr",
     "output_type": "stream",
     "text": [
      "Extracting features:  75%|████████████████████████████████████████████▊               | 80/107 [07:37<02:33,  5.70s/it]"
     ]
    },
    {
     "name": "stdout",
     "output_type": "stream",
     "text": [
      "\u001b[1m4/4\u001b[0m \u001b[32m━━━━━━━━━━━━━━━━━━━━\u001b[0m\u001b[37m\u001b[0m \u001b[1m5s\u001b[0m 1s/step\n"
     ]
    },
    {
     "name": "stderr",
     "output_type": "stream",
     "text": [
      "Extracting features:  76%|█████████████████████████████████████████████▍              | 81/107 [07:43<02:27,  5.68s/it]"
     ]
    },
    {
     "name": "stdout",
     "output_type": "stream",
     "text": [
      "\u001b[1m4/4\u001b[0m \u001b[32m━━━━━━━━━━━━━━━━━━━━\u001b[0m\u001b[37m\u001b[0m \u001b[1m5s\u001b[0m 1s/step\n"
     ]
    },
    {
     "name": "stderr",
     "output_type": "stream",
     "text": [
      "Extracting features:  77%|█████████████████████████████████████████████▉              | 82/107 [07:48<02:22,  5.68s/it]"
     ]
    },
    {
     "name": "stdout",
     "output_type": "stream",
     "text": [
      "\u001b[1m4/4\u001b[0m \u001b[32m━━━━━━━━━━━━━━━━━━━━\u001b[0m\u001b[37m\u001b[0m \u001b[1m5s\u001b[0m 1s/step\n"
     ]
    },
    {
     "name": "stderr",
     "output_type": "stream",
     "text": [
      "Extracting features:  78%|██████████████████████████████████████████████▌             | 83/107 [07:54<02:16,  5.70s/it]"
     ]
    },
    {
     "name": "stdout",
     "output_type": "stream",
     "text": [
      "\u001b[1m4/4\u001b[0m \u001b[32m━━━━━━━━━━━━━━━━━━━━\u001b[0m\u001b[37m\u001b[0m \u001b[1m5s\u001b[0m 1s/step\n"
     ]
    },
    {
     "name": "stderr",
     "output_type": "stream",
     "text": [
      "Extracting features:  79%|███████████████████████████████████████████████             | 84/107 [08:00<02:10,  5.69s/it]"
     ]
    },
    {
     "name": "stdout",
     "output_type": "stream",
     "text": [
      "\u001b[1m4/4\u001b[0m \u001b[32m━━━━━━━━━━━━━━━━━━━━\u001b[0m\u001b[37m\u001b[0m \u001b[1m5s\u001b[0m 1s/step\n"
     ]
    },
    {
     "name": "stderr",
     "output_type": "stream",
     "text": [
      "Extracting features:  79%|███████████████████████████████████████████████▋            | 85/107 [08:05<02:04,  5.68s/it]"
     ]
    },
    {
     "name": "stdout",
     "output_type": "stream",
     "text": [
      "\u001b[1m4/4\u001b[0m \u001b[32m━━━━━━━━━━━━━━━━━━━━\u001b[0m\u001b[37m\u001b[0m \u001b[1m5s\u001b[0m 1s/step\n"
     ]
    },
    {
     "name": "stderr",
     "output_type": "stream",
     "text": [
      "Extracting features:  80%|████████████████████████████████████████████████▏           | 86/107 [08:11<01:59,  5.68s/it]"
     ]
    },
    {
     "name": "stdout",
     "output_type": "stream",
     "text": [
      "\u001b[1m4/4\u001b[0m \u001b[32m━━━━━━━━━━━━━━━━━━━━\u001b[0m\u001b[37m\u001b[0m \u001b[1m5s\u001b[0m 1s/step\n"
     ]
    },
    {
     "name": "stderr",
     "output_type": "stream",
     "text": [
      "Extracting features:  81%|████████████████████████████████████████████████▊           | 87/107 [08:17<01:54,  5.70s/it]"
     ]
    },
    {
     "name": "stdout",
     "output_type": "stream",
     "text": [
      "\u001b[1m4/4\u001b[0m \u001b[32m━━━━━━━━━━━━━━━━━━━━\u001b[0m\u001b[37m\u001b[0m \u001b[1m5s\u001b[0m 1s/step\n"
     ]
    },
    {
     "name": "stderr",
     "output_type": "stream",
     "text": [
      "Extracting features:  82%|█████████████████████████████████████████████████▎          | 88/107 [08:23<01:48,  5.71s/it]"
     ]
    },
    {
     "name": "stdout",
     "output_type": "stream",
     "text": [
      "\u001b[1m4/4\u001b[0m \u001b[32m━━━━━━━━━━━━━━━━━━━━\u001b[0m\u001b[37m\u001b[0m \u001b[1m5s\u001b[0m 1s/step\n"
     ]
    },
    {
     "name": "stderr",
     "output_type": "stream",
     "text": [
      "Extracting features:  83%|█████████████████████████████████████████████████▉          | 89/107 [08:28<01:42,  5.72s/it]"
     ]
    },
    {
     "name": "stdout",
     "output_type": "stream",
     "text": [
      "\u001b[1m4/4\u001b[0m \u001b[32m━━━━━━━━━━━━━━━━━━━━\u001b[0m\u001b[37m\u001b[0m \u001b[1m5s\u001b[0m 1s/step\n"
     ]
    },
    {
     "name": "stderr",
     "output_type": "stream",
     "text": [
      "Extracting features:  84%|██████████████████████████████████████████████████▍         | 90/107 [08:34<01:36,  5.70s/it]"
     ]
    },
    {
     "name": "stdout",
     "output_type": "stream",
     "text": [
      "\u001b[1m4/4\u001b[0m \u001b[32m━━━━━━━━━━━━━━━━━━━━\u001b[0m\u001b[37m\u001b[0m \u001b[1m6s\u001b[0m 1s/step\n"
     ]
    },
    {
     "name": "stderr",
     "output_type": "stream",
     "text": [
      "Extracting features:  85%|███████████████████████████████████████████████████         | 91/107 [08:40<01:32,  5.75s/it]"
     ]
    },
    {
     "name": "stdout",
     "output_type": "stream",
     "text": [
      "\u001b[1m4/4\u001b[0m \u001b[32m━━━━━━━━━━━━━━━━━━━━\u001b[0m\u001b[37m\u001b[0m \u001b[1m5s\u001b[0m 1s/step\n"
     ]
    },
    {
     "name": "stderr",
     "output_type": "stream",
     "text": [
      "Extracting features:  86%|███████████████████████████████████████████████████▌        | 92/107 [08:46<01:26,  5.75s/it]"
     ]
    },
    {
     "name": "stdout",
     "output_type": "stream",
     "text": [
      "\u001b[1m4/4\u001b[0m \u001b[32m━━━━━━━━━━━━━━━━━━━━\u001b[0m\u001b[37m\u001b[0m \u001b[1m5s\u001b[0m 1s/step\n"
     ]
    },
    {
     "name": "stderr",
     "output_type": "stream",
     "text": [
      "Extracting features:  87%|████████████████████████████████████████████████████▏       | 93/107 [08:51<01:20,  5.72s/it]"
     ]
    },
    {
     "name": "stdout",
     "output_type": "stream",
     "text": [
      "\u001b[1m4/4\u001b[0m \u001b[32m━━━━━━━━━━━━━━━━━━━━\u001b[0m\u001b[37m\u001b[0m \u001b[1m6s\u001b[0m 1s/step\n"
     ]
    },
    {
     "name": "stderr",
     "output_type": "stream",
     "text": [
      "Extracting features:  88%|████████████████████████████████████████████████████▋       | 94/107 [08:57<01:14,  5.77s/it]"
     ]
    },
    {
     "name": "stdout",
     "output_type": "stream",
     "text": [
      "\u001b[1m4/4\u001b[0m \u001b[32m━━━━━━━━━━━━━━━━━━━━\u001b[0m\u001b[37m\u001b[0m \u001b[1m5s\u001b[0m 1s/step\n"
     ]
    },
    {
     "name": "stderr",
     "output_type": "stream",
     "text": [
      "Extracting features:  89%|█████████████████████████████████████████████████████▎      | 95/107 [09:03<01:08,  5.74s/it]"
     ]
    },
    {
     "name": "stdout",
     "output_type": "stream",
     "text": [
      "\u001b[1m4/4\u001b[0m \u001b[32m━━━━━━━━━━━━━━━━━━━━\u001b[0m\u001b[37m\u001b[0m \u001b[1m5s\u001b[0m 1s/step\n"
     ]
    },
    {
     "name": "stderr",
     "output_type": "stream",
     "text": [
      "Extracting features:  90%|█████████████████████████████████████████████████████▊      | 96/107 [09:08<01:02,  5.72s/it]"
     ]
    },
    {
     "name": "stdout",
     "output_type": "stream",
     "text": [
      "\u001b[1m4/4\u001b[0m \u001b[32m━━━━━━━━━━━━━━━━━━━━\u001b[0m\u001b[37m\u001b[0m \u001b[1m5s\u001b[0m 1s/step\n"
     ]
    },
    {
     "name": "stderr",
     "output_type": "stream",
     "text": [
      "Extracting features:  91%|██████████████████████████████████████████████████████▍     | 97/107 [09:14<00:57,  5.73s/it]"
     ]
    },
    {
     "name": "stdout",
     "output_type": "stream",
     "text": [
      "\u001b[1m4/4\u001b[0m \u001b[32m━━━━━━━━━━━━━━━━━━━━\u001b[0m\u001b[37m\u001b[0m \u001b[1m5s\u001b[0m 1s/step\n"
     ]
    },
    {
     "name": "stderr",
     "output_type": "stream",
     "text": [
      "Extracting features:  92%|██████████████████████████████████████████████████████▉     | 98/107 [09:20<00:51,  5.73s/it]"
     ]
    },
    {
     "name": "stdout",
     "output_type": "stream",
     "text": [
      "\u001b[1m4/4\u001b[0m \u001b[32m━━━━━━━━━━━━━━━━━━━━\u001b[0m\u001b[37m\u001b[0m \u001b[1m5s\u001b[0m 1s/step\n"
     ]
    },
    {
     "name": "stderr",
     "output_type": "stream",
     "text": [
      "Extracting features:  93%|███████████████████████████████████████████████████████▌    | 99/107 [09:26<00:45,  5.73s/it]"
     ]
    },
    {
     "name": "stdout",
     "output_type": "stream",
     "text": [
      "\u001b[1m4/4\u001b[0m \u001b[32m━━━━━━━━━━━━━━━━━━━━\u001b[0m\u001b[37m\u001b[0m \u001b[1m5s\u001b[0m 1s/step\n"
     ]
    },
    {
     "name": "stderr",
     "output_type": "stream",
     "text": [
      "Extracting features:  93%|███████████████████████████████████████████████████████▏   | 100/107 [09:31<00:39,  5.71s/it]"
     ]
    },
    {
     "name": "stdout",
     "output_type": "stream",
     "text": [
      "\u001b[1m4/4\u001b[0m \u001b[32m━━━━━━━━━━━━━━━━━━━━\u001b[0m\u001b[37m\u001b[0m \u001b[1m5s\u001b[0m 1s/step\n"
     ]
    },
    {
     "name": "stderr",
     "output_type": "stream",
     "text": [
      "Extracting features:  94%|███████████████████████████████████████████████████████▋   | 101/107 [09:37<00:34,  5.72s/it]"
     ]
    },
    {
     "name": "stdout",
     "output_type": "stream",
     "text": [
      "\u001b[1m4/4\u001b[0m \u001b[32m━━━━━━━━━━━━━━━━━━━━\u001b[0m\u001b[37m\u001b[0m \u001b[1m5s\u001b[0m 1s/step\n"
     ]
    },
    {
     "name": "stderr",
     "output_type": "stream",
     "text": [
      "Extracting features:  95%|████████████████████████████████████████████████████████▏  | 102/107 [09:43<00:28,  5.69s/it]"
     ]
    },
    {
     "name": "stdout",
     "output_type": "stream",
     "text": [
      "\u001b[1m4/4\u001b[0m \u001b[32m━━━━━━━━━━━━━━━━━━━━\u001b[0m\u001b[37m\u001b[0m \u001b[1m5s\u001b[0m 1s/step\n"
     ]
    },
    {
     "name": "stderr",
     "output_type": "stream",
     "text": [
      "Extracting features:  96%|████████████████████████████████████████████████████████▊  | 103/107 [09:48<00:22,  5.69s/it]"
     ]
    },
    {
     "name": "stdout",
     "output_type": "stream",
     "text": [
      "\u001b[1m4/4\u001b[0m \u001b[32m━━━━━━━━━━━━━━━━━━━━\u001b[0m\u001b[37m\u001b[0m \u001b[1m5s\u001b[0m 1s/step\n"
     ]
    },
    {
     "name": "stderr",
     "output_type": "stream",
     "text": [
      "Extracting features:  97%|█████████████████████████████████████████████████████████▎ | 104/107 [09:54<00:17,  5.68s/it]"
     ]
    },
    {
     "name": "stdout",
     "output_type": "stream",
     "text": [
      "\u001b[1m4/4\u001b[0m \u001b[32m━━━━━━━━━━━━━━━━━━━━\u001b[0m\u001b[37m\u001b[0m \u001b[1m5s\u001b[0m 1s/step\n"
     ]
    },
    {
     "name": "stderr",
     "output_type": "stream",
     "text": [
      "Extracting features:  98%|█████████████████████████████████████████████████████████▉ | 105/107 [10:00<00:11,  5.68s/it]"
     ]
    },
    {
     "name": "stdout",
     "output_type": "stream",
     "text": [
      "\u001b[1m4/4\u001b[0m \u001b[32m━━━━━━━━━━━━━━━━━━━━\u001b[0m\u001b[37m\u001b[0m \u001b[1m5s\u001b[0m 1s/step\n"
     ]
    },
    {
     "name": "stderr",
     "output_type": "stream",
     "text": [
      "Extracting features:  99%|██████████████████████████████████████████████████████████▍| 106/107 [10:05<00:05,  5.70s/it]"
     ]
    },
    {
     "name": "stdout",
     "output_type": "stream",
     "text": [
      "\u001b[1m2/2\u001b[0m \u001b[32m━━━━━━━━━━━━━━━━━━━━\u001b[0m\u001b[37m\u001b[0m \u001b[1m2s\u001b[0m 137ms/step\n"
     ]
    },
    {
     "name": "stderr",
     "output_type": "stream",
     "text": [
      "Extracting features: 100%|███████████████████████████████████████████████████████████| 107/107 [10:07<00:00,  5.68s/it]\n"
     ]
    },
    {
     "name": "stdout",
     "output_type": "stream",
     "text": [
      "Feature extraction completed in 607.61 seconds, averaging 0.0447 seconds per image.\n"
     ]
    },
    {
     "name": "stderr",
     "output_type": "stream",
     "text": [
      "Extracting features:   0%|                                                                      | 0/53 [00:00<?, ?it/s]"
     ]
    },
    {
     "name": "stdout",
     "output_type": "stream",
     "text": [
      "\u001b[1m4/4\u001b[0m \u001b[32m━━━━━━━━━━━━━━━━━━━━\u001b[0m\u001b[37m\u001b[0m \u001b[1m5s\u001b[0m 1s/step\n"
     ]
    },
    {
     "name": "stderr",
     "output_type": "stream",
     "text": [
      "Extracting features:   2%|█▏                                                            | 1/53 [00:05<04:59,  5.76s/it]"
     ]
    },
    {
     "name": "stdout",
     "output_type": "stream",
     "text": [
      "\u001b[1m4/4\u001b[0m \u001b[32m━━━━━━━━━━━━━━━━━━━━\u001b[0m\u001b[37m\u001b[0m \u001b[1m5s\u001b[0m 1s/step\n"
     ]
    },
    {
     "name": "stderr",
     "output_type": "stream",
     "text": [
      "Extracting features:   4%|██▎                                                           | 2/53 [00:11<04:52,  5.73s/it]"
     ]
    },
    {
     "name": "stdout",
     "output_type": "stream",
     "text": [
      "\u001b[1m4/4\u001b[0m \u001b[32m━━━━━━━━━━━━━━━━━━━━\u001b[0m\u001b[37m\u001b[0m \u001b[1m5s\u001b[0m 1s/step\n"
     ]
    },
    {
     "name": "stderr",
     "output_type": "stream",
     "text": [
      "Extracting features:   6%|███▌                                                          | 3/53 [00:17<04:46,  5.73s/it]"
     ]
    },
    {
     "name": "stdout",
     "output_type": "stream",
     "text": [
      "\u001b[1m4/4\u001b[0m \u001b[32m━━━━━━━━━━━━━━━━━━━━\u001b[0m\u001b[37m\u001b[0m \u001b[1m5s\u001b[0m 1s/step\n"
     ]
    },
    {
     "name": "stderr",
     "output_type": "stream",
     "text": [
      "Extracting features:   8%|████▋                                                         | 4/53 [00:22<04:40,  5.73s/it]"
     ]
    },
    {
     "name": "stdout",
     "output_type": "stream",
     "text": [
      "\u001b[1m4/4\u001b[0m \u001b[32m━━━━━━━━━━━━━━━━━━━━\u001b[0m\u001b[37m\u001b[0m \u001b[1m5s\u001b[0m 1s/step\n"
     ]
    },
    {
     "name": "stderr",
     "output_type": "stream",
     "text": [
      "Extracting features:   9%|█████▊                                                        | 5/53 [00:28<04:35,  5.73s/it]"
     ]
    },
    {
     "name": "stdout",
     "output_type": "stream",
     "text": [
      "\u001b[1m4/4\u001b[0m \u001b[32m━━━━━━━━━━━━━━━━━━━━\u001b[0m\u001b[37m\u001b[0m \u001b[1m5s\u001b[0m 1s/step\n"
     ]
    },
    {
     "name": "stderr",
     "output_type": "stream",
     "text": [
      "Extracting features:  11%|███████                                                       | 6/53 [00:34<04:28,  5.71s/it]"
     ]
    },
    {
     "name": "stdout",
     "output_type": "stream",
     "text": [
      "\u001b[1m4/4\u001b[0m \u001b[32m━━━━━━━━━━━━━━━━━━━━\u001b[0m\u001b[37m\u001b[0m \u001b[1m5s\u001b[0m 1s/step\n"
     ]
    },
    {
     "name": "stderr",
     "output_type": "stream",
     "text": [
      "Extracting features:  13%|████████▏                                                     | 7/53 [00:40<04:23,  5.72s/it]"
     ]
    },
    {
     "name": "stdout",
     "output_type": "stream",
     "text": [
      "\u001b[1m4/4\u001b[0m \u001b[32m━━━━━━━━━━━━━━━━━━━━\u001b[0m\u001b[37m\u001b[0m \u001b[1m5s\u001b[0m 1s/step\n"
     ]
    },
    {
     "name": "stderr",
     "output_type": "stream",
     "text": [
      "Extracting features:  15%|█████████▎                                                    | 8/53 [00:45<04:18,  5.74s/it]"
     ]
    },
    {
     "name": "stdout",
     "output_type": "stream",
     "text": [
      "\u001b[1m4/4\u001b[0m \u001b[32m━━━━━━━━━━━━━━━━━━━━\u001b[0m\u001b[37m\u001b[0m \u001b[1m5s\u001b[0m 1s/step\n"
     ]
    },
    {
     "name": "stderr",
     "output_type": "stream",
     "text": [
      "Extracting features:  17%|██████████▌                                                   | 9/53 [00:51<04:11,  5.72s/it]"
     ]
    },
    {
     "name": "stdout",
     "output_type": "stream",
     "text": [
      "\u001b[1m4/4\u001b[0m \u001b[32m━━━━━━━━━━━━━━━━━━━━\u001b[0m\u001b[37m\u001b[0m \u001b[1m5s\u001b[0m 1s/step\n"
     ]
    },
    {
     "name": "stderr",
     "output_type": "stream",
     "text": [
      "Extracting features:  19%|███████████▌                                                 | 10/53 [00:57<04:06,  5.73s/it]"
     ]
    },
    {
     "name": "stdout",
     "output_type": "stream",
     "text": [
      "\u001b[1m4/4\u001b[0m \u001b[32m━━━━━━━━━━━━━━━━━━━━\u001b[0m\u001b[37m\u001b[0m \u001b[1m5s\u001b[0m 1s/step\n"
     ]
    },
    {
     "name": "stderr",
     "output_type": "stream",
     "text": [
      "Extracting features:  21%|████████████▋                                                | 11/53 [01:02<04:00,  5.72s/it]"
     ]
    },
    {
     "name": "stdout",
     "output_type": "stream",
     "text": [
      "\u001b[1m4/4\u001b[0m \u001b[32m━━━━━━━━━━━━━━━━━━━━\u001b[0m\u001b[37m\u001b[0m \u001b[1m5s\u001b[0m 1s/step\n"
     ]
    },
    {
     "name": "stderr",
     "output_type": "stream",
     "text": [
      "Extracting features:  23%|█████████████▊                                               | 12/53 [01:08<03:53,  5.70s/it]"
     ]
    },
    {
     "name": "stdout",
     "output_type": "stream",
     "text": [
      "\u001b[1m4/4\u001b[0m \u001b[32m━━━━━━━━━━━━━━━━━━━━\u001b[0m\u001b[37m\u001b[0m \u001b[1m5s\u001b[0m 1s/step\n"
     ]
    },
    {
     "name": "stderr",
     "output_type": "stream",
     "text": [
      "Extracting features:  25%|██████████████▉                                              | 13/53 [01:14<03:48,  5.71s/it]"
     ]
    },
    {
     "name": "stdout",
     "output_type": "stream",
     "text": [
      "\u001b[1m4/4\u001b[0m \u001b[32m━━━━━━━━━━━━━━━━━━━━\u001b[0m\u001b[37m\u001b[0m \u001b[1m5s\u001b[0m 1s/step\n"
     ]
    },
    {
     "name": "stderr",
     "output_type": "stream",
     "text": [
      "Extracting features:  26%|████████████████                                             | 14/53 [01:20<03:42,  5.71s/it]"
     ]
    },
    {
     "name": "stdout",
     "output_type": "stream",
     "text": [
      "\u001b[1m4/4\u001b[0m \u001b[32m━━━━━━━━━━━━━━━━━━━━\u001b[0m\u001b[37m\u001b[0m \u001b[1m5s\u001b[0m 1s/step\n"
     ]
    },
    {
     "name": "stderr",
     "output_type": "stream",
     "text": [
      "Extracting features:  28%|█████████████████▎                                           | 15/53 [01:25<03:37,  5.72s/it]"
     ]
    },
    {
     "name": "stdout",
     "output_type": "stream",
     "text": [
      "\u001b[1m4/4\u001b[0m \u001b[32m━━━━━━━━━━━━━━━━━━━━\u001b[0m\u001b[37m\u001b[0m \u001b[1m5s\u001b[0m 1s/step\n"
     ]
    },
    {
     "name": "stderr",
     "output_type": "stream",
     "text": [
      "Extracting features:  30%|██████████████████▍                                          | 16/53 [01:31<03:31,  5.71s/it]"
     ]
    },
    {
     "name": "stdout",
     "output_type": "stream",
     "text": [
      "\u001b[1m4/4\u001b[0m \u001b[32m━━━━━━━━━━━━━━━━━━━━\u001b[0m\u001b[37m\u001b[0m \u001b[1m5s\u001b[0m 1s/step\n"
     ]
    },
    {
     "name": "stderr",
     "output_type": "stream",
     "text": [
      "Extracting features:  32%|███████████████████▌                                         | 17/53 [01:37<03:25,  5.70s/it]"
     ]
    },
    {
     "name": "stdout",
     "output_type": "stream",
     "text": [
      "\u001b[1m4/4\u001b[0m \u001b[32m━━━━━━━━━━━━━━━━━━━━\u001b[0m\u001b[37m\u001b[0m \u001b[1m5s\u001b[0m 1s/step\n"
     ]
    },
    {
     "name": "stderr",
     "output_type": "stream",
     "text": [
      "Extracting features:  34%|████████████████████▋                                        | 18/53 [01:42<03:20,  5.72s/it]"
     ]
    },
    {
     "name": "stdout",
     "output_type": "stream",
     "text": [
      "\u001b[1m4/4\u001b[0m \u001b[32m━━━━━━━━━━━━━━━━━━━━\u001b[0m\u001b[37m\u001b[0m \u001b[1m5s\u001b[0m 1s/step\n"
     ]
    },
    {
     "name": "stderr",
     "output_type": "stream",
     "text": [
      "Extracting features:  36%|█████████████████████▊                                       | 19/53 [01:48<03:14,  5.72s/it]"
     ]
    },
    {
     "name": "stdout",
     "output_type": "stream",
     "text": [
      "\u001b[1m4/4\u001b[0m \u001b[32m━━━━━━━━━━━━━━━━━━━━\u001b[0m\u001b[37m\u001b[0m \u001b[1m5s\u001b[0m 1s/step\n"
     ]
    },
    {
     "name": "stderr",
     "output_type": "stream",
     "text": [
      "Extracting features:  38%|███████████████████████                                      | 20/53 [01:54<03:08,  5.72s/it]"
     ]
    },
    {
     "name": "stdout",
     "output_type": "stream",
     "text": [
      "\u001b[1m4/4\u001b[0m \u001b[32m━━━━━━━━━━━━━━━━━━━━\u001b[0m\u001b[37m\u001b[0m \u001b[1m5s\u001b[0m 1s/step\n"
     ]
    },
    {
     "name": "stderr",
     "output_type": "stream",
     "text": [
      "Extracting features:  40%|████████████████████████▏                                    | 21/53 [02:00<03:03,  5.73s/it]"
     ]
    },
    {
     "name": "stdout",
     "output_type": "stream",
     "text": [
      "\u001b[1m4/4\u001b[0m \u001b[32m━━━━━━━━━━━━━━━━━━━━\u001b[0m\u001b[37m\u001b[0m \u001b[1m5s\u001b[0m 1s/step\n"
     ]
    },
    {
     "name": "stderr",
     "output_type": "stream",
     "text": [
      "Extracting features:  42%|█████████████████████████▎                                   | 22/53 [02:05<02:57,  5.71s/it]"
     ]
    },
    {
     "name": "stdout",
     "output_type": "stream",
     "text": [
      "\u001b[1m4/4\u001b[0m \u001b[32m━━━━━━━━━━━━━━━━━━━━\u001b[0m\u001b[37m\u001b[0m \u001b[1m5s\u001b[0m 1s/step\n"
     ]
    },
    {
     "name": "stderr",
     "output_type": "stream",
     "text": [
      "Extracting features:  43%|██████████████████████████▍                                  | 23/53 [02:11<02:51,  5.71s/it]"
     ]
    },
    {
     "name": "stdout",
     "output_type": "stream",
     "text": [
      "\u001b[1m4/4\u001b[0m \u001b[32m━━━━━━━━━━━━━━━━━━━━\u001b[0m\u001b[37m\u001b[0m \u001b[1m5s\u001b[0m 1s/step\n"
     ]
    },
    {
     "name": "stderr",
     "output_type": "stream",
     "text": [
      "Extracting features:  45%|███████████████████████████▌                                 | 24/53 [02:17<02:45,  5.72s/it]"
     ]
    },
    {
     "name": "stdout",
     "output_type": "stream",
     "text": [
      "\u001b[1m4/4\u001b[0m \u001b[32m━━━━━━━━━━━━━━━━━━━━\u001b[0m\u001b[37m\u001b[0m \u001b[1m5s\u001b[0m 1s/step\n"
     ]
    },
    {
     "name": "stderr",
     "output_type": "stream",
     "text": [
      "Extracting features:  47%|████████████████████████████▊                                | 25/53 [02:22<02:40,  5.71s/it]"
     ]
    },
    {
     "name": "stdout",
     "output_type": "stream",
     "text": [
      "\u001b[1m4/4\u001b[0m \u001b[32m━━━━━━━━━━━━━━━━━━━━\u001b[0m\u001b[37m\u001b[0m \u001b[1m5s\u001b[0m 1s/step\n"
     ]
    },
    {
     "name": "stderr",
     "output_type": "stream",
     "text": [
      "Extracting features:  49%|█████████████████████████████▉                               | 26/53 [02:28<02:33,  5.70s/it]"
     ]
    },
    {
     "name": "stdout",
     "output_type": "stream",
     "text": [
      "\u001b[1m4/4\u001b[0m \u001b[32m━━━━━━━━━━━━━━━━━━━━\u001b[0m\u001b[37m\u001b[0m \u001b[1m5s\u001b[0m 1s/step\n"
     ]
    },
    {
     "name": "stderr",
     "output_type": "stream",
     "text": [
      "Extracting features:  51%|███████████████████████████████                              | 27/53 [02:34<02:27,  5.67s/it]"
     ]
    },
    {
     "name": "stdout",
     "output_type": "stream",
     "text": [
      "\u001b[1m4/4\u001b[0m \u001b[32m━━━━━━━━━━━━━━━━━━━━\u001b[0m\u001b[37m\u001b[0m \u001b[1m5s\u001b[0m 1s/step\n"
     ]
    },
    {
     "name": "stderr",
     "output_type": "stream",
     "text": [
      "Extracting features:  53%|████████████████████████████████▏                            | 28/53 [02:39<02:22,  5.69s/it]"
     ]
    },
    {
     "name": "stdout",
     "output_type": "stream",
     "text": [
      "\u001b[1m4/4\u001b[0m \u001b[32m━━━━━━━━━━━━━━━━━━━━\u001b[0m\u001b[37m\u001b[0m \u001b[1m5s\u001b[0m 1s/step\n"
     ]
    },
    {
     "name": "stderr",
     "output_type": "stream",
     "text": [
      "Extracting features:  55%|█████████████████████████████████▍                           | 29/53 [02:45<02:16,  5.70s/it]"
     ]
    },
    {
     "name": "stdout",
     "output_type": "stream",
     "text": [
      "\u001b[1m4/4\u001b[0m \u001b[32m━━━━━━━━━━━━━━━━━━━━\u001b[0m\u001b[37m\u001b[0m \u001b[1m5s\u001b[0m 1s/step\n"
     ]
    },
    {
     "name": "stderr",
     "output_type": "stream",
     "text": [
      "Extracting features:  57%|██████████████████████████████████▌                          | 30/53 [02:51<02:10,  5.69s/it]"
     ]
    },
    {
     "name": "stdout",
     "output_type": "stream",
     "text": [
      "\u001b[1m4/4\u001b[0m \u001b[32m━━━━━━━━━━━━━━━━━━━━\u001b[0m\u001b[37m\u001b[0m \u001b[1m5s\u001b[0m 1s/step\n"
     ]
    },
    {
     "name": "stderr",
     "output_type": "stream",
     "text": [
      "Extracting features:  58%|███████████████████████████████████▋                         | 31/53 [02:57<02:05,  5.70s/it]"
     ]
    },
    {
     "name": "stdout",
     "output_type": "stream",
     "text": [
      "\u001b[1m4/4\u001b[0m \u001b[32m━━━━━━━━━━━━━━━━━━━━\u001b[0m\u001b[37m\u001b[0m \u001b[1m6s\u001b[0m 1s/step\n"
     ]
    },
    {
     "name": "stderr",
     "output_type": "stream",
     "text": [
      "Extracting features:  60%|████████████████████████████████████▊                        | 32/53 [03:03<02:01,  5.78s/it]"
     ]
    },
    {
     "name": "stdout",
     "output_type": "stream",
     "text": [
      "\u001b[1m4/4\u001b[0m \u001b[32m━━━━━━━━━━━━━━━━━━━━\u001b[0m\u001b[37m\u001b[0m \u001b[1m5s\u001b[0m 1s/step\n"
     ]
    },
    {
     "name": "stderr",
     "output_type": "stream",
     "text": [
      "Extracting features:  62%|█████████████████████████████████████▉                       | 33/53 [03:08<01:55,  5.78s/it]"
     ]
    },
    {
     "name": "stdout",
     "output_type": "stream",
     "text": [
      "\u001b[1m4/4\u001b[0m \u001b[32m━━━━━━━━━━━━━━━━━━━━\u001b[0m\u001b[37m\u001b[0m \u001b[1m5s\u001b[0m 1s/step\n"
     ]
    },
    {
     "name": "stderr",
     "output_type": "stream",
     "text": [
      "Extracting features:  64%|███████████████████████████████████████▏                     | 34/53 [03:14<01:49,  5.75s/it]"
     ]
    },
    {
     "name": "stdout",
     "output_type": "stream",
     "text": [
      "\u001b[1m4/4\u001b[0m \u001b[32m━━━━━━━━━━━━━━━━━━━━\u001b[0m\u001b[37m\u001b[0m \u001b[1m5s\u001b[0m 1s/step\n"
     ]
    },
    {
     "name": "stderr",
     "output_type": "stream",
     "text": [
      "Extracting features:  66%|████████████████████████████████████████▎                    | 35/53 [03:20<01:43,  5.74s/it]"
     ]
    },
    {
     "name": "stdout",
     "output_type": "stream",
     "text": [
      "\u001b[1m4/4\u001b[0m \u001b[32m━━━━━━━━━━━━━━━━━━━━\u001b[0m\u001b[37m\u001b[0m \u001b[1m5s\u001b[0m 1s/step\n"
     ]
    },
    {
     "name": "stderr",
     "output_type": "stream",
     "text": [
      "Extracting features:  68%|█████████████████████████████████████████▍                   | 36/53 [03:25<01:37,  5.73s/it]"
     ]
    },
    {
     "name": "stdout",
     "output_type": "stream",
     "text": [
      "\u001b[1m4/4\u001b[0m \u001b[32m━━━━━━━━━━━━━━━━━━━━\u001b[0m\u001b[37m\u001b[0m \u001b[1m5s\u001b[0m 1s/step\n"
     ]
    },
    {
     "name": "stderr",
     "output_type": "stream",
     "text": [
      "Extracting features:  70%|██████████████████████████████████████████▌                  | 37/53 [03:31<01:31,  5.72s/it]"
     ]
    },
    {
     "name": "stdout",
     "output_type": "stream",
     "text": [
      "\u001b[1m4/4\u001b[0m \u001b[32m━━━━━━━━━━━━━━━━━━━━\u001b[0m\u001b[37m\u001b[0m \u001b[1m5s\u001b[0m 1s/step\n"
     ]
    },
    {
     "name": "stderr",
     "output_type": "stream",
     "text": [
      "Extracting features:  72%|███████████████████████████████████████████▋                 | 38/53 [03:37<01:25,  5.72s/it]"
     ]
    },
    {
     "name": "stdout",
     "output_type": "stream",
     "text": [
      "\u001b[1m4/4\u001b[0m \u001b[32m━━━━━━━━━━━━━━━━━━━━\u001b[0m\u001b[37m\u001b[0m \u001b[1m5s\u001b[0m 1s/step\n"
     ]
    },
    {
     "name": "stderr",
     "output_type": "stream",
     "text": [
      "Extracting features:  74%|████████████████████████████████████████████▉                | 39/53 [03:42<01:19,  5.69s/it]"
     ]
    },
    {
     "name": "stdout",
     "output_type": "stream",
     "text": [
      "\u001b[1m4/4\u001b[0m \u001b[32m━━━━━━━━━━━━━━━━━━━━\u001b[0m\u001b[37m\u001b[0m \u001b[1m5s\u001b[0m 1s/step\n"
     ]
    },
    {
     "name": "stderr",
     "output_type": "stream",
     "text": [
      "Extracting features:  75%|██████████████████████████████████████████████               | 40/53 [03:48<01:14,  5.72s/it]"
     ]
    },
    {
     "name": "stdout",
     "output_type": "stream",
     "text": [
      "\u001b[1m4/4\u001b[0m \u001b[32m━━━━━━━━━━━━━━━━━━━━\u001b[0m\u001b[37m\u001b[0m \u001b[1m5s\u001b[0m 1s/step\n"
     ]
    },
    {
     "name": "stderr",
     "output_type": "stream",
     "text": [
      "Extracting features:  77%|███████████████████████████████████████████████▏             | 41/53 [03:54<01:08,  5.72s/it]"
     ]
    },
    {
     "name": "stdout",
     "output_type": "stream",
     "text": [
      "\u001b[1m4/4\u001b[0m \u001b[32m━━━━━━━━━━━━━━━━━━━━\u001b[0m\u001b[37m\u001b[0m \u001b[1m5s\u001b[0m 1s/step\n"
     ]
    },
    {
     "name": "stderr",
     "output_type": "stream",
     "text": [
      "Extracting features:  79%|████████████████████████████████████████████████▎            | 42/53 [04:00<01:03,  5.75s/it]"
     ]
    },
    {
     "name": "stdout",
     "output_type": "stream",
     "text": [
      "\u001b[1m4/4\u001b[0m \u001b[32m━━━━━━━━━━━━━━━━━━━━\u001b[0m\u001b[37m\u001b[0m \u001b[1m5s\u001b[0m 1s/step\n"
     ]
    },
    {
     "name": "stderr",
     "output_type": "stream",
     "text": [
      "Extracting features:  81%|█████████████████████████████████████████████████▍           | 43/53 [04:05<00:57,  5.73s/it]"
     ]
    },
    {
     "name": "stdout",
     "output_type": "stream",
     "text": [
      "\u001b[1m4/4\u001b[0m \u001b[32m━━━━━━━━━━━━━━━━━━━━\u001b[0m\u001b[37m\u001b[0m \u001b[1m5s\u001b[0m 1s/step\n"
     ]
    },
    {
     "name": "stderr",
     "output_type": "stream",
     "text": [
      "Extracting features:  83%|██████████████████████████████████████████████████▋          | 44/53 [04:11<00:51,  5.70s/it]"
     ]
    },
    {
     "name": "stdout",
     "output_type": "stream",
     "text": [
      "\u001b[1m4/4\u001b[0m \u001b[32m━━━━━━━━━━━━━━━━━━━━\u001b[0m\u001b[37m\u001b[0m \u001b[1m5s\u001b[0m 1s/step\n"
     ]
    },
    {
     "name": "stderr",
     "output_type": "stream",
     "text": [
      "Extracting features:  85%|███████████████████████████████████████████████████▊         | 45/53 [04:17<00:45,  5.70s/it]"
     ]
    },
    {
     "name": "stdout",
     "output_type": "stream",
     "text": [
      "\u001b[1m4/4\u001b[0m \u001b[32m━━━━━━━━━━━━━━━━━━━━\u001b[0m\u001b[37m\u001b[0m \u001b[1m5s\u001b[0m 1s/step\n"
     ]
    },
    {
     "name": "stderr",
     "output_type": "stream",
     "text": [
      "Extracting features:  87%|████████████████████████████████████████████████████▉        | 46/53 [04:23<00:39,  5.70s/it]"
     ]
    },
    {
     "name": "stdout",
     "output_type": "stream",
     "text": [
      "\u001b[1m4/4\u001b[0m \u001b[32m━━━━━━━━━━━━━━━━━━━━\u001b[0m\u001b[37m\u001b[0m \u001b[1m5s\u001b[0m 1s/step\n"
     ]
    },
    {
     "name": "stderr",
     "output_type": "stream",
     "text": [
      "Extracting features:  89%|██████████████████████████████████████████████████████       | 47/53 [04:28<00:34,  5.72s/it]"
     ]
    },
    {
     "name": "stdout",
     "output_type": "stream",
     "text": [
      "\u001b[1m4/4\u001b[0m \u001b[32m━━━━━━━━━━━━━━━━━━━━\u001b[0m\u001b[37m\u001b[0m \u001b[1m5s\u001b[0m 1s/step\n"
     ]
    },
    {
     "name": "stderr",
     "output_type": "stream",
     "text": [
      "Extracting features:  91%|███████████████████████████████████████████████████████▏     | 48/53 [04:34<00:28,  5.72s/it]"
     ]
    },
    {
     "name": "stdout",
     "output_type": "stream",
     "text": [
      "\u001b[1m4/4\u001b[0m \u001b[32m━━━━━━━━━━━━━━━━━━━━\u001b[0m\u001b[37m\u001b[0m \u001b[1m5s\u001b[0m 1s/step\n"
     ]
    },
    {
     "name": "stderr",
     "output_type": "stream",
     "text": [
      "Extracting features:  92%|████████████████████████████████████████████████████████▍    | 49/53 [04:40<00:22,  5.72s/it]"
     ]
    },
    {
     "name": "stdout",
     "output_type": "stream",
     "text": [
      "\u001b[1m4/4\u001b[0m \u001b[32m━━━━━━━━━━━━━━━━━━━━\u001b[0m\u001b[37m\u001b[0m \u001b[1m5s\u001b[0m 1s/step\n"
     ]
    },
    {
     "name": "stderr",
     "output_type": "stream",
     "text": [
      "Extracting features:  94%|█████████████████████████████████████████████████████████▌   | 50/53 [04:45<00:17,  5.71s/it]"
     ]
    },
    {
     "name": "stdout",
     "output_type": "stream",
     "text": [
      "\u001b[1m4/4\u001b[0m \u001b[32m━━━━━━━━━━━━━━━━━━━━\u001b[0m\u001b[37m\u001b[0m \u001b[1m5s\u001b[0m 1s/step\n"
     ]
    },
    {
     "name": "stderr",
     "output_type": "stream",
     "text": [
      "Extracting features:  96%|██████████████████████████████████████████████████████████▋  | 51/53 [04:51<00:11,  5.69s/it]"
     ]
    },
    {
     "name": "stdout",
     "output_type": "stream",
     "text": [
      "\u001b[1m4/4\u001b[0m \u001b[32m━━━━━━━━━━━━━━━━━━━━\u001b[0m\u001b[37m\u001b[0m \u001b[1m5s\u001b[0m 1s/step\n"
     ]
    },
    {
     "name": "stderr",
     "output_type": "stream",
     "text": [
      "Extracting features:  98%|███████████████████████████████████████████████████████████▊ | 52/53 [04:57<00:05,  5.70s/it]"
     ]
    },
    {
     "name": "stdout",
     "output_type": "stream",
     "text": [
      "\u001b[1m4/4\u001b[0m \u001b[32m━━━━━━━━━━━━━━━━━━━━\u001b[0m\u001b[37m\u001b[0m \u001b[1m4s\u001b[0m 955ms/step\n"
     ]
    },
    {
     "name": "stderr",
     "output_type": "stream",
     "text": [
      "Extracting features: 100%|█████████████████████████████████████████████████████████████| 53/53 [05:01<00:00,  5.69s/it]"
     ]
    },
    {
     "name": "stdout",
     "output_type": "stream",
     "text": [
      "Feature extraction completed in 301.82 seconds, averaging 0.0447 seconds per image.\n"
     ]
    },
    {
     "name": "stderr",
     "output_type": "stream",
     "text": [
      "\n"
     ]
    },
    {
     "name": "stdout",
     "output_type": "stream",
     "text": [
      "Feature extraction and saving completed. Features saved as extracted_features_dense_1.npz.\n"
     ]
    }
   ],
   "source": [
    "import os\n",
    "import time\n",
    "import numpy as np\n",
    "import pandas as pd\n",
    "import tensorflow as tf\n",
    "from tqdm import tqdm\n",
    "from tensorflow.keras.models import Model\n",
    "from tensorflow.keras.applications.efficientnet import preprocess_input\n",
    "\n",
    "###########################################\n",
    "\n",
    "# Parametri principali per l'estrazione delle feature\n",
    "IMG_SIZE = 380  # Dimensione delle immagini dopo il ridimensionamento\n",
    "BATCH_SIZE = 128  # Numero di immagini processate in parallelo per batch\n",
    "dataset_dir = 'Dataset_900'  # Directory principale contenente i dataset\n",
    "output_dir = 'Output_' + dataset_dir  # Directory di output per salvare i risultati\n",
    "layer_name = 'dense_1'  # Nome del layer dal quale estrarre le feature\n",
    "\n",
    "# Carica il modello addestrato\n",
    "model = tf.keras.models.load_model(os.path.join(output_dir, 'modello_finale.keras'))\n",
    "# Crea un modello che termina al layer specificato per l'estrazione delle feature\n",
    "feature_extractor_model = Model(inputs=model.input, outputs=model.get_layer(layer_name).output)\n",
    "\n",
    "###########################################\n",
    "\n",
    "# Funzione per caricare le etichette da file Excel\n",
    "def load_labels_from_excel(excel_file):\n",
    "    df = pd.read_excel(excel_file)  # Carica il file Excel in un DataFrame pandas\n",
    "    # Restituisce tre dizionari: uno per le etichette, uno per i plot, e uno per i tipi di coltura (crop)\n",
    "    return dict(zip(df['Filename'], df['RST'])), dict(zip(df['Filename'], df['PLOT'])), dict(zip(df['Filename'], df['CROP']))\n",
    "\n",
    "# Funzione per ottenere i percorsi delle immagini e le loro etichette\n",
    "def load_image_paths_and_labels(directory, labels_dict, plots_dict, crops_dict):\n",
    "    image_paths, image_labels, image_plots, image_crops = [], [], [], []\n",
    "    for root, _, files in os.walk(directory):  # Itera attraverso tutte le directory e sottodirectory\n",
    "        for file in files:\n",
    "            if file.endswith(('.png', '.jpg', '.jpeg')):  # Controlla solo i file immagine\n",
    "                # Aggiunge i percorsi delle immagini e le etichette corrispondenti alle liste\n",
    "                image_paths.append(os.path.join(root, file))\n",
    "                image_labels.append(labels_dict.get(file, -1))  # -1 se l'etichetta non è trovata\n",
    "                image_plots.append(plots_dict.get(file, ''))  # Stringa vuota se non trovata\n",
    "                image_crops.append(crops_dict.get(file, ''))  # Stringa vuota se non trovata\n",
    "    return image_paths, image_labels, image_plots, image_crops\n",
    "\n",
    "# Funzione per caricare e preprocessare un'immagine\n",
    "def load_and_preprocess_image(image_path):\n",
    "    img = tf.io.read_file(image_path)  # Legge l'immagine dal disco\n",
    "    img = tf.image.decode_image(img, channels=3)  # Decodifica l'immagine in RGB\n",
    "    img = tf.image.resize(img, [IMG_SIZE, IMG_SIZE])  # Ridimensiona l'immagine\n",
    "    img = preprocess_input(img)  # Applica il preprocessing specifico per EfficientNet\n",
    "    return img\n",
    "\n",
    "# Funzione per estrarre le feature in batch\n",
    "def extract_features_in_batches(image_paths, batch_size):\n",
    "    num_images = len(image_paths)  # Numero totale di immagini\n",
    "    num_batches = (num_images + batch_size - 1) // batch_size  # Numero totale di batch\n",
    "    features = []\n",
    "\n",
    "    start_time = time.time()  # Tempo di inizio dell'estrazione\n",
    "    \n",
    "    for i in tqdm(range(num_batches), desc=\"Extracting features\"):  # Loop sui batch\n",
    "        batch_paths = image_paths[i*batch_size:(i+1)*batch_size]  # Ottiene i percorsi per il batch corrente\n",
    "        batch_images = [load_and_preprocess_image(path) for path in batch_paths]  # Carica e preprocessa le immagini del batch\n",
    "        batch_images = np.array(batch_images)  # Converte la lista in array numpy\n",
    "        batch_features = feature_extractor_model.predict(batch_images)  # Estrae le feature usando il modello\n",
    "        for feature in batch_features:\n",
    "            features.append(feature.flatten())  # Appiattisce e aggiunge le feature alla lista\n",
    "    \n",
    "    end_time = time.time()  # Tempo di fine dell'estrazione\n",
    "\n",
    "    avg_time_per_image = (end_time - start_time) / num_images  # Calcola il tempo medio per immagine\n",
    "    print(f'Feature extraction completed in {end_time - start_time:.2f} seconds, averaging {avg_time_per_image:.4f} seconds per image.')\n",
    "    return np.array(features), avg_time_per_image  # Restituisce le feature estratte e il tempo medio per immagine\n",
    "\n",
    "# Funzione per creare un DataFrame con le feature estratte e le informazioni correlate\n",
    "def create_feature_df(image_paths, features, labels, plots, crops):\n",
    "    feature_data = []\n",
    "    for img_path, feature_vector, label, plot, crop in zip(image_paths, features, labels, plots, crops):\n",
    "        filename = os.path.basename(img_path)  # Ottiene il nome del file dall'intero percorso\n",
    "        feature_row = [filename, label, plot, crop] + list(feature_vector)  # Crea una riga di dati con tutte le informazioni\n",
    "        feature_data.append(feature_row)\n",
    "    \n",
    "    feature_columns = ['Filename', 'RST', 'PLOT', 'CROP'] + [f'Feature_{i+1}' for i in range(features.shape[1])]  # Nomi delle colonne\n",
    "    return pd.DataFrame(feature_data, columns=feature_columns)  # Crea e restituisce un DataFrame\n",
    "\n",
    "################################################\n",
    "\n",
    "# Caricamento delle etichette e dei percorsi delle immagini per train, validation, e test\n",
    "train_labels_dict, train_plots_dict, train_crops_dict = load_labels_from_excel(os.path.join(dataset_dir, 'train.xlsx'))\n",
    "val_labels_dict, val_plots_dict, val_crops_dict = load_labels_from_excel(os.path.join(dataset_dir, 'validation.xlsx'))\n",
    "test_labels_dict, test_plots_dict, test_crops_dict = load_labels_from_excel(os.path.join(dataset_dir, 'test.xlsx'))\n",
    "\n",
    "train_image_paths, train_image_labels, train_image_plots, train_image_crops = load_image_paths_and_labels(os.path.join(dataset_dir, 'train'), train_labels_dict, train_plots_dict, train_crops_dict)\n",
    "val_image_paths, val_image_labels, val_image_plots, val_image_crops = load_image_paths_and_labels(os.path.join(dataset_dir, 'validation'), val_labels_dict, val_plots_dict, val_crops_dict)\n",
    "test_image_paths, test_image_labels, test_image_plots, test_image_crops = load_image_paths_and_labels(os.path.join(dataset_dir, 'test'), test_labels_dict, test_plots_dict, test_crops_dict)\n",
    "\n",
    "# Estrazione delle feature per train, validation, e test\n",
    "train_features, train_avg_time_per_image = extract_features_in_batches(train_image_paths, batch_size=BATCH_SIZE)\n",
    "val_features, val_avg_time_per_image = extract_features_in_batches(val_image_paths, batch_size=BATCH_SIZE)\n",
    "test_features, test_avg_time_per_image = extract_features_in_batches(test_image_paths, batch_size=BATCH_SIZE)\n",
    "\n",
    "##################################################\n",
    "\n",
    "# Salvataggio delle feature e delle etichette in un file compresso .npz\n",
    "output_filename = f'extracted_features_{layer_name}.npz'\n",
    "np.savez_compressed(os.path.join(output_dir, output_filename),\n",
    "                    train_features=train_features, train_labels=train_image_labels, train_plots=train_image_plots, train_crops=train_image_crops,\n",
    "                    val_features=val_features, val_labels=val_image_labels, val_plots=val_image_plots, val_crops=val_image_crops,\n",
    "                    test_features=test_features, test_labels=test_image_labels, test_plots=test_image_plots, test_crops=test_image_crops)\n",
    "\n",
    "#################################################\n",
    "\n",
    "# Creazione dei DataFrame delle feature per train, validation, e test\n",
    "train_feature_df = create_feature_df(train_image_paths, train_features, train_image_labels, train_image_plots, train_image_crops)\n",
    "val_feature_df = create_feature_df(val_image_paths, val_features, val_image_labels, val_image_plots, val_image_crops)\n",
    "test_feature_df = create_feature_df(test_image_paths, test_features, test_image_labels, test_image_plots, test_image_crops)\n",
    "\n",
    "# Salvataggio del tempo di estrazione delle feature su un file Excel\n",
    "time_df = pd.DataFrame({\n",
    "    'Dataset': ['Train', 'Validation', 'Test'],\n",
    "    'Time per Image (s)': [train_avg_time_per_image, val_avg_time_per_image, test_avg_time_per_image]\n",
    "})\n",
    "\n",
    "# Creazione di un DataFrame con le informazioni sul layer usato per l'estrazione delle feature\n",
    "layer_info_df = pd.DataFrame({\n",
    "    'Parameter': ['Feature Extraction Layer'],\n",
    "    'Value': [layer_name]\n",
    "})\n",
    "\n",
    "##############################################\n",
    "\n",
    "# Salvataggio dei risultati su un file Excel con più fogli\n",
    "with pd.ExcelWriter(os.path.join(output_dir, f'extracted_features_{layer_name}.xlsx')) as writer:\n",
    "    time_df.to_excel(writer, sheet_name='Extraction Times', index=False)\n",
    "    train_feature_df.to_excel(writer, sheet_name='Train Features', index=False)\n",
    "    val_feature_df.to_excel(writer, sheet_name='Validation Features', index=False)\n",
    "    test_feature_df.to_excel(writer, sheet_name='Test Features', index=False)\n",
    "    layer_info_df.to_excel(writer, sheet_name='Layer Information', index=False)\n",
    "\n",
    "#################################################\n",
    "\n",
    "print(f\"Feature extraction and saving completed. Features saved as {output_filename}.\")"
   ]
  },
  {
   "cell_type": "markdown",
   "metadata": {},
   "source": [
    "# Workflow Dettagliato della Funzione di Estrazione delle Feature\n",
    "\n",
    "1. Inizio del Processo:\n",
    "- Inizializzazione: La funzione inizia calcolando il numero totale di immagini da processare (num_images) e il numero di batch necessari (num_batches). Viene avviato un timer per misurare il tempo totale di estrazione.\n",
    "  \n",
    "2. Ciclo sui Batch:\n",
    "- Iterazione sui Batch: La funzione esegue un loop per ogni batch, iterando da 0 a num_batches - 1.\n",
    "  \n",
    "3. Caricamento e Preprocessamento delle Immagini:\n",
    "- Caricamento Immagini: All'inizio di ogni iterazione, vengono caricati i percorsi delle immagini per il batch corrente.\n",
    "- Preprocessamento: Le immagini vengono caricate dal disco e preprocessate (ridimensionamento e normalizzazione) una alla volta.\n",
    "- Nessun Parallelismo Durante il Caricamento: Nel codice attuale, l'intero batch deve essere riempito prima che inizi l'estrazione delle feature. Durante il caricamento e il preprocessamento delle immagini, il processo è sequenziale: una nuova immagine viene caricata solo dopo che l'immagine precedente è stata completamente preprocessata.\n",
    "  \n",
    "4. Estrazione delle Feature:\n",
    "- Formazione del Batch: Una volta che tutte le immagini di un batch sono state preprocessate e inserite in un array (batch_images), il batch è pronto per l'estrazione delle feature.\n",
    "- Estrazione Immediata: Non appena il batch è completo, viene passato al modello per l'estrazione delle feature utilizzando feature_extractor_model.predict(batch_images).\n",
    "- Memorizzazione delle Feature: Le feature estratte vengono appiattite e aggiunte alla lista complessiva delle feature.\n",
    "  \n",
    "5. Processo di Caricamento delle Immagini Durante l'Estrazione delle Feature:\n",
    "- Nessun Parallelismo nel Codice Attuale: Nel codice attuale, il processo di caricamento e preprocessamento delle immagini per il batch successivo non avviene in parallelo all'estrazione delle feature del batch corrente. Il sistema aspetta che il batch corrente sia completamente processato prima di iniziare a caricare le immagini per il batch successivo.\n",
    "  \n",
    "6. Completamento del Batch:\n",
    "- Inizio del Prossimo Batch: Dopo che un batch è stato processato e le feature sono state estratte, il ciclo si ripete per il batch successivo. Il caricamento delle immagini per il nuovo batch inizia solo dopo che le feature del batch precedente sono state completamente estratte e salvate.\n",
    "  \n",
    "7. Fine del Processo:\n",
    "- Calcolo del Tempo Medio: Al termine del ciclo su tutti i batch, il tempo totale impiegato viene calcolato, e il tempo medio per immagine viene stampato.\n",
    "- Restituzione delle Feature: Le feature estratte vengono restituite sotto forma di array numpy, insieme al tempo medio per immagine"
   ]
  },
  {
   "cell_type": "markdown",
   "metadata": {},
   "source": [
    "# **Random Forest**"
   ]
  },
  {
   "cell_type": "code",
   "execution_count": 1,
   "metadata": {},
   "outputs": [
    {
     "name": "stdout",
     "output_type": "stream",
     "text": [
      "Starting Random Forest training...\n",
      "Finished Random Forest training. Training took 4.05 seconds, averaging 0.0064 seconds per image.\n",
      "Validation MAPE: 0.0971386113053706\n",
      "Test MAPE: 0.10845969867937126\n",
      "Results saved to Excel.\n"
     ]
    }
   ],
   "source": [
    "import os\n",
    "import time\n",
    "import joblib\n",
    "import numpy as np\n",
    "import pandas as pd\n",
    "from collections import defaultdict\n",
    "from sklearn.ensemble import RandomForestRegressor\n",
    "from sklearn.metrics import mean_absolute_percentage_error\n",
    "\n",
    "######################################\n",
    "\n",
    "# Parametri principali\n",
    "dataset_dir = 'Dataset_900'  # Directory del dataset\n",
    "output_dir = 'Output_' + dataset_dir  # Directory di output per salvare i risultati\n",
    "layer_name = 'dense_1'  # Nome del layer per l'estrazione delle feature\n",
    "\n",
    "# Parametri specifici per il modello Random Forest\n",
    "n_estimators = 500  # Numero di alberi nella foresta\n",
    "random_state = None  # Controlla la randomizzazione del modello\n",
    "n_jobs = 8  # Numero di thread per il parallelismo (1 significa nessun parallelismo)\n",
    "\n",
    "#####################################\n",
    "    \n",
    "# Caricamento delle feature estratte\n",
    "data = np.load(os.path.join(output_dir, f'extracted_features_{layer_name}.npz'))\n",
    "\n",
    "# Recupero delle feature e delle etichette dai dati caricati\n",
    "train_features = data['train_features']\n",
    "train_labels = data['train_labels']\n",
    "train_plots = data['train_plots']\n",
    "train_crops = data['train_crops']\n",
    "\n",
    "val_features = data['val_features']\n",
    "val_labels = data['val_labels']\n",
    "val_plots = data['val_plots']\n",
    "val_crops = data['val_crops']\n",
    "\n",
    "test_features = data['test_features']\n",
    "test_labels = data['test_labels']\n",
    "test_plots = data['test_plots']\n",
    "test_crops = data['test_crops']\n",
    "\n",
    "#####################################\n",
    "\n",
    "# Funzione per raggruppare le feature per plot\n",
    "def group_features_by_plot(features, plots, labels, crops):\n",
    "    # Inizializza i dizionari per raggruppare le feature, le etichette e i tipi di coltura per plot\n",
    "    grouped_features = defaultdict(list)\n",
    "    grouped_labels = {}\n",
    "    grouped_crops = {}\n",
    "    \n",
    "    # Raggruppa le feature, le etichette e i tipi di coltura per plot\n",
    "    for feature, plot, label, crop in zip(features, plots, labels, crops):\n",
    "        grouped_features[plot].append(feature)\n",
    "        if plot not in grouped_labels:\n",
    "            grouped_labels[plot] = label\n",
    "        if plot not in grouped_crops:\n",
    "            grouped_crops[plot] = crop\n",
    "    \n",
    "    # Calcola la media delle feature per ciascun plot\n",
    "    mean_features = {plot: np.mean(group, axis=0) for plot, group in grouped_features.items()}\n",
    "    mean_labels = {plot: grouped_labels[plot] for plot in grouped_features.keys()}\n",
    "    mean_crops = {plot: grouped_crops[plot] for plot in grouped_features.keys()}\n",
    "    \n",
    "    return mean_features, mean_labels, mean_crops\n",
    "\n",
    "# Raggruppamento delle feature per plot per i set di train, validation e test\n",
    "train_mean_features_dict, train_mean_labels_dict, train_mean_crops_dict = group_features_by_plot(train_features, train_plots, train_labels, train_crops)\n",
    "val_mean_features_dict, val_mean_labels_dict, val_mean_crops_dict = group_features_by_plot(val_features, val_plots, val_labels, val_crops)\n",
    "test_mean_features_dict, test_mean_labels_dict, test_mean_crops_dict = group_features_by_plot(test_features, test_plots, test_labels, test_crops)\n",
    "\n",
    "# Conversione dei dizionari in array\n",
    "train_mean_features = np.array(list(train_mean_features_dict.values()))\n",
    "train_mean_labels = np.array(list(train_mean_labels_dict.values()))\n",
    "val_mean_features = np.array(list(val_mean_features_dict.values()))\n",
    "val_mean_labels = np.array(list(val_mean_labels_dict.values()))\n",
    "test_mean_features = np.array(list(test_mean_features_dict.values()))\n",
    "test_mean_labels = np.array(list(test_mean_labels_dict.values()))\n",
    "\n",
    "#################################################\n",
    "\n",
    "# Addestramento del modello Random Forest\n",
    "print('Starting Random Forest training...')\n",
    "start_time = time.time()  # Inizia il timer per misurare il tempo di addestramento\n",
    "\n",
    "# Creazione del modello con solo n_estimators, random_state e n_jobs definiti\n",
    "rf_regressor = RandomForestRegressor(\n",
    "    n_estimators=n_estimators,\n",
    "    random_state=random_state,\n",
    "    n_jobs=n_jobs  # Definisce il numero di processi paralleli (1 significa nessun parallelismo)\n",
    ")\n",
    "\n",
    "# Addestra il modello sui dati di train\n",
    "rf_regressor.fit(train_mean_features, train_mean_labels)\n",
    "end_time = time.time()  # Fine del timer\n",
    "\n",
    "# Calcola il tempo totale di addestramento e il tempo medio per immagine\n",
    "total_training_time = end_time - start_time\n",
    "avg_training_time_per_image = total_training_time / len(train_mean_features)\n",
    "print(f'Finished Random Forest training. Training took {total_training_time:.2f} seconds, averaging {avg_training_time_per_image:.4f} seconds per image.')\n",
    "\n",
    "############################################\n",
    "\n",
    "# Predizione sui set di validation e test\n",
    "val_preds = rf_regressor.predict(val_mean_features)  # Predizione sui dati di validation\n",
    "test_preds = rf_regressor.predict(test_mean_features)  # Predizione sui dati di test\n",
    "\n",
    "# Calcolo del MAPE (Mean Absolute Percentage Error) per validation e test set\n",
    "val_mape = mean_absolute_percentage_error(val_mean_labels, val_preds)\n",
    "test_mape = mean_absolute_percentage_error(test_mean_labels, test_preds)\n",
    "\n",
    "print(f'Validation MAPE: {val_mape}')\n",
    "print(f'Test MAPE: {test_mape}')\n",
    "\n",
    "#############################################\n",
    "\n",
    "# Salvataggio del modello Random Forest addestrato\n",
    "joblib.dump(rf_regressor, os.path.join(output_dir, f'modello_RF_{layer_name}.pkl'))\n",
    "\n",
    "##############################################\n",
    "# Preparazione del DataFrame per le predizioni sui set di validation e test\n",
    "val_pred_df = pd.DataFrame({\n",
    "    'Plot': list(val_mean_features_dict.keys()),\n",
    "    'CROP': list(val_mean_crops_dict.values()),\n",
    "    'True Label': list(val_mean_labels_dict.values()),\n",
    "    'Predicted Label': val_preds\n",
    "})\n",
    "\n",
    "test_pred_df = pd.DataFrame({\n",
    "    'Plot': list(test_mean_features_dict.keys()),\n",
    "    'CROP': list(test_mean_crops_dict.values()),\n",
    "    'True Label': list(test_mean_labels_dict.values()),\n",
    "    'Predicted Label': test_preds\n",
    "})\n",
    "\n",
    "overall_mape_val = pd.DataFrame({\n",
    "        'Plot': ['Overall MAPE'],\n",
    "        'CROP': [val_mape],\n",
    "        'True Label': [''],\n",
    "        'Predicted Label': ['']\n",
    "    })\n",
    "val_pred_df = pd.concat([val_pred_df, overall_mape_val], ignore_index=True)\n",
    "\n",
    "overall_mape_test = pd.DataFrame({\n",
    "        'Plot': ['Overall MAPE'],\n",
    "        'CROP': [test_mape],\n",
    "        'True Label': [''],\n",
    "        'Predicted Label': ['']\n",
    "    })\n",
    "test_pred_df = pd.concat([test_pred_df, overall_mape_test], ignore_index=True)\n",
    "\n",
    "# Aggiunta del MAPE complessivo ai DataFrame di predizione\n",
    "#val_pred_df['Validation MAPE'] = val_mape\n",
    "#test_pred_df['Test MAPE'] = test_mape\n",
    "\n",
    "# Calcolo del MAPE complessivo per il foglio di calcolo\n",
    "#overall_mape = mean_absolute_percentage_error(test_pred_df['True Label'], test_pred_df['Predicted Label'])\n",
    "\n",
    "# Salvataggio dei risultati su Excel\n",
    "time_df = pd.DataFrame({\n",
    "    'Set': ['Random Forest Training'],\n",
    "    'Time per Image (s)': [avg_training_time_per_image]\n",
    "})\n",
    "\n",
    "# Aggiunta di tutti i parametri del modello al foglio di struttura\n",
    "rf_structure_df = pd.DataFrame({\n",
    "    'Parameter': ['n_estimators', 'random_state', 'n_jobs', 'feature_extraction_layer'],\n",
    "    'Value': [n_estimators, random_state, n_jobs, layer_name]\n",
    "})\n",
    "\n",
    "# Salva tutti i risultati e le informazioni su un file Excel\n",
    "with pd.ExcelWriter(os.path.join(output_dir, f'test_RF_{layer_name}.xlsx')) as writer:\n",
    "    val_pred_df.to_excel(writer, sheet_name='Validation Predictions', index=False)\n",
    "    test_pred_df.to_excel(writer, sheet_name='Test Predictions', index=False)\n",
    "    time_df.to_excel(writer, sheet_name='Time per Image', index=False)\n",
    "    rf_structure_df.to_excel(writer, sheet_name='Random Forest Structure', index=False)\n",
    "    print('Results saved to Excel.')"
   ]
  },
  {
   "cell_type": "code",
   "execution_count": 5,
   "metadata": {},
   "outputs": [
    {
     "data": {
      "image/png": "[encoded data removed]",
      "text/plain": [
       "<Figure size 800x600 with 1 Axes>"
      ]
     },
     "metadata": {},
     "output_type": "display_data"
    },
    {
     "name": "stdout",
     "output_type": "stream",
     "text": [
      "Scatter plot saved to Output_Dataset_900\\measured_vs_predicted_yield_with_crops.png\n"
     ]
    }
   ],
   "source": [
    "import numpy as np\n",
    "import pandas as pd\n",
    "import matplotlib.pyplot as plt\n",
    "from sklearn.metrics import r2_score, mean_absolute_percentage_error\n",
    "\n",
    "# Load the saved results from the Excel file\n",
    "output_excel_path = os.path.join(output_dir, f'test_RF_{layer_name}.xlsx')\n",
    "plot_predictions_df = pd.read_excel(output_excel_path, sheet_name='Test Predictions')\n",
    "\n",
    "# Extract the true and predicted values, ignoring the last row (Overall MAPE)\n",
    "true_yield = plot_predictions_df['True Label'][:-1].values\n",
    "predicted_yield = plot_predictions_df['Predicted Label'][:-1].values\n",
    "crop_type = plot_predictions_df['CROP'][:-1].values\n",
    "\n",
    "# Calculate R^2 and MAPE\n",
    "r2 = r2_score(true_yield, predicted_yield)\n",
    "mape = mean_absolute_percentage_error(true_yield, predicted_yield) * 100\n",
    "\n",
    "# Create a scatter plot with different markers for each crop type\n",
    "plt.figure(figsize=(8, 6))\n",
    "\n",
    "# Plot for 'Frumento Duro'\n",
    "mask_duro = crop_type == 'Frumento Duro'\n",
    "plt.scatter(true_yield[mask_duro], predicted_yield[mask_duro], \n",
    "            color='red', marker='o', label='Frumento Duro', alpha=0.6, edgecolors='w')\n",
    "\n",
    "# Plot for 'Frumento Tenero'\n",
    "mask_tenero = crop_type == 'Frumento Tenero'\n",
    "plt.scatter(true_yield[mask_tenero], predicted_yield[mask_tenero], \n",
    "            color='blue', marker='s', label='Frumento Tenero', alpha=0.6, edgecolors='w')\n",
    "\n",
    "# Add the 1:1 line (perfect prediction line)\n",
    "max_yield = max(max(true_yield), max(predicted_yield))\n",
    "plt.plot([0, max_yield], [0, max_yield], 'k--', lw=2)\n",
    "\n",
    "# Add R^2 and MAPE values to the plot\n",
    "plt.text(0.05 * max_yield, 0.95 * max_yield, f'$R^2$: {r2:.2f}', fontsize=12)\n",
    "plt.text(0.05 * max_yield, 0.90 * max_yield, f'MAPE: {mape:.2f}%', fontsize=12)\n",
    "\n",
    "# Axis labels\n",
    "plt.xlabel('Measured Wheat Yield (qli ha$^{-1}$)')\n",
    "plt.ylabel('Predicted Wheat Yield (qli ha$^{-1}$)')\n",
    "\n",
    "# Title and legend\n",
    "plt.title('Measured vs Predicted Wheat Yield')\n",
    "plt.legend()\n",
    "\n",
    "# Save and show the plot\n",
    "scatter_plot_path = os.path.join(output_dir, 'measured_vs_predicted_yield_with_crops.png')\n",
    "plt.savefig(scatter_plot_path, dpi=300, bbox_inches='tight')\n",
    "plt.show()\n",
    "\n",
    "print(f\"Scatter plot saved to {scatter_plot_path}\")\n"
   ]
  },
  {
   "cell_type": "code",
   "execution_count": 4,
   "metadata": {},
   "outputs": [
    {
     "name": "stdout",
     "output_type": "stream",
     "text": [
      "Bootstrap MAPE values saved to Output_Dataset_900\\bootstrap_mape_results.xlsx\n"
     ]
    },
    {
     "data": {
      "image/png": "[encoded data removed]",
      "text/plain": [
       "<Figure size 1200x800 with 1 Axes>"
      ]
     },
     "metadata": {},
     "output_type": "display_data"
    },
    {
     "name": "stdout",
     "output_type": "stream",
     "text": [
      "Mean MAPE: 10.85%\n",
      "Standard Deviation of MAPE: 0.14%\n"
     ]
    }
   ],
   "source": [
    "import numpy as np\n",
    "import pandas as pd\n",
    "import matplotlib.pyplot as plt\n",
    "from sklearn.utils import resample\n",
    "from sklearn.metrics import mean_absolute_percentage_error\n",
    "\n",
    "# Assuming you have already loaded your test dataset and trained model\n",
    "# Load the previously saved Random Forest model\n",
    "model_path = os.path.join(output_dir, f'modello_RF_{layer_name}.pkl')\n",
    "rf_regressor = joblib.load(model_path)\n",
    "\n",
    "# Function to perform bootstrapping on the test set and calculate MAPE\n",
    "def evaluate_bootstrap_mape(model, features, labels, n_bootstrap, bootstrap_size):\n",
    "    mape_scores = []\n",
    "    \n",
    "    for i in range(n_bootstrap):\n",
    "        # Bootstrap sample from the test set with the specified size\n",
    "        bootstrap_features, bootstrap_labels = resample(features, labels, n_samples=bootstrap_size)\n",
    "        \n",
    "        # Make predictions on the bootstrap sample\n",
    "        preds = model.predict(bootstrap_features)\n",
    "        \n",
    "        # Calculate the MAPE for this bootstrap sample\n",
    "        mape = mean_absolute_percentage_error(bootstrap_labels, preds) * 100\n",
    "        mape_scores.append(mape)\n",
    "    \n",
    "    return np.array(mape_scores)\n",
    "\n",
    "# Set parameters for bootstrap\n",
    "n_bootstrap = 1000\n",
    "bootstrap_sample_size = len(test_labels)\n",
    "\n",
    "# Perform bootstrap evaluation\n",
    "bootstrap_mapes = evaluate_bootstrap_mape(rf_regressor, test_mean_features, test_mean_labels, n_bootstrap=n_bootstrap, bootstrap_size=bootstrap_sample_size)\n",
    "\n",
    "# Calculate statistics for the MAPE scores\n",
    "mape_mean = np.mean(bootstrap_mapes)\n",
    "mape_std = np.std(bootstrap_mapes)\n",
    "\n",
    "# Save MAPE values to an Excel file\n",
    "mape_df = pd.DataFrame({\n",
    "    'Bootstrap Sample': np.arange(1, n_bootstrap + 1),\n",
    "    'MAPE (%)': bootstrap_mapes\n",
    "})\n",
    "\n",
    "mape_output_excel_path = os.path.join(output_dir, 'bootstrap_mape_results.xlsx')\n",
    "mape_df.to_excel(mape_output_excel_path, index=False)\n",
    "print(f\"Bootstrap MAPE values saved to {mape_output_excel_path}\")\n",
    "\n",
    "# Create histogram of MAPE values\n",
    "plt.figure(figsize=(12, 8))\n",
    "plt.hist(bootstrap_mapes, bins=30, edgecolor='black', color='blue', alpha=0.7)\n",
    "\n",
    "# Add legend for mean and standard deviation\n",
    "plt.legend([f'Mean MAPE: {mape_mean:.2f}%', f'Std Dev: {mape_std:.2f}%'], fontsize=14)\n",
    "\n",
    "# Customize the plot\n",
    "plt.xlabel('MAPE (%)', fontsize=16)\n",
    "plt.ylabel('Frequency', fontsize=16)\n",
    "plt.title('Histogram of MAPE Values from Bootstrap Sampling', fontsize=18)\n",
    "plt.grid(False)\n",
    "\n",
    "# Save the histogram\n",
    "histogram_path = os.path.join(output_dir, 'mape_histogram.png')\n",
    "plt.savefig(histogram_path, dpi=300, bbox_inches='tight')\n",
    "plt.show()\n",
    "\n",
    "# Print MAPE statistics\n",
    "print(f'Mean MAPE: {mape_mean:.2f}%')\n",
    "print(f'Standard Deviation of MAPE: {mape_std:.2f}%')\n",
    "\n"
   ]
  },
  {
   "cell_type": "code",
   "execution_count": null,
   "metadata": {},
   "outputs": [],
   "source": []
  }
 ],
 "metadata": {
  "kernelspec": {
   "display_name": "Python (GranAI)",
   "language": "python",
   "name": "granai"
  },
  "language_info": {
   "codemirror_mode": {
    "name": "ipython",
    "version": 3
   },
   "file_extension": ".py",
   "mimetype": "text/x-python",
   "name": "python",
   "nbconvert_exporter": "python",
   "pygments_lexer": "ipython3",
   "version": "3.11.9"
  }
 },
 "nbformat": 4,
 "nbformat_minor": 4
}
