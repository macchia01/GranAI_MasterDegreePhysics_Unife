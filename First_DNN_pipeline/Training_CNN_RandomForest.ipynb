{
 "cells": [
  {
   "cell_type": "markdown",
   "metadata": {},
   "source": [
    "# **TFRECORD CREATION**"
   ]
  },
  {
   "cell_type": "markdown",
   "metadata": {},
   "source": [
    "## Libraries and initial setup"
   ]
  },
  {
   "cell_type": "code",
   "execution_count": 1,
   "metadata": {},
   "outputs": [],
   "source": [
    "import os  \n",
    "import numpy as np \n",
    "import matplotlib.pyplot as plt \n",
    "import pandas as pd \n",
    "import tensorflow as tf \n",
    "import random \n",
    "import concurrent.futures\n",
    "\n",
    "# User-defined parameters\n",
    "IMG_SIZE = 380  # Size to which the images will be resized (width and height in pixels)\n",
    "dataset_dir = 'Prova'  # Directory where the dataset is stored\n",
    "output_dir = 'Output_' + dataset_dir  # Directory where the output will be stored\n",
    "NUM_SHARDS = 30  # Number of shards (subsets) into which the dataset will be divided\n",
    "BATCH_SIZE = 100  # Dimensione del batch per l'elaborazione delle immagini\n",
    "NUM_WORKERS = 4  # Numero di worker per il parallelismo\n",
    "VISUALIZE_RANDOM_IMAGE = False  # Flag to indicate whether a random image should be visualized\n",
    "VISUALIZE_TFRECORD_STRUCTURE = False  # Flag to indicate whether the structure of a TFRecord file should be visualized\n",
    "\n",
    "# Create the output directory if it doesn't exist\n",
    "os.makedirs(output_dir, exist_ok=True)  # Creates the output directory if it doesn't already exist\n"
   ]
  },
  {
   "cell_type": "markdown",
   "metadata": {},
   "source": [
    "## Loading the Dataset, Labels, and Creating TFRecords"
   ]
  },
  {
   "cell_type": "code",
   "execution_count": 2,
   "metadata": {},
   "outputs": [
    {
     "name": "stdout",
     "output_type": "stream",
     "text": [
      "Ci sono 1050 immagini nel dataset di training\n",
      "Ci sono 301 immagini nel dataset di validation\n",
      "Ci sono 154 immagini nel dataset di testing\n"
     ]
    }
   ],
   "source": [
    "# Funzione per caricare etichette da file Excel\n",
    "def load_labels_from_excel(excel_file):\n",
    "    df = pd.read_excel(excel_file)  # Carica il file Excel in un DataFrame pandas\n",
    "    return dict(zip(df['Filename'], df['RST']))  # Converte le colonne 'Filename' e 'RST' in un dizionario\n",
    "\n",
    "# Funzione per caricare percorsi delle immagini e etichette da directory e dizionario\n",
    "def load_image_paths_and_labels(directory, labels_dict):\n",
    "    image_paths = []  # Inizializza una lista vuota per i percorsi delle immagini\n",
    "    image_labels = []  # Inizializza una lista vuota per le etichette corrispondenti\n",
    "    for root, _, files in os.walk(directory):  # Cammina attraverso la directory specificata e le sue sottodirectory\n",
    "        for file in files:\n",
    "            if file.endswith(('.png', '.jpg', '.jpeg')):  # Filtra solo i file di immagine con estensioni specifiche\n",
    "                image_paths.append(os.path.join(root, file))  # Aggiunge il percorso completo dell'immagine alla lista\n",
    "                image_labels.append(labels_dict.get(file, -1))  # Aggiunge l'etichetta corrispondente o -1 se non trovata\n",
    "    return image_paths, image_labels  # Restituisce le liste dei percorsi delle immagini e delle etichette\n",
    "\n",
    "# Funzione per preprocessare immagini\n",
    "def load_and_preprocess_image(image_path):\n",
    "    image = tf.io.read_file(image_path)  # Legge l'immagine dal percorso specificato\n",
    "    if tf.strings.regex_full_match(image_path, \".*\\\\.jpg\") or tf.strings.regex_full_match(image_path, \".*\\\\.jpeg\"):\n",
    "        image = tf.image.decode_jpeg(image, channels=3)  # Decodifica l'immagine JPEG\n",
    "    else:\n",
    "        image = tf.image.decode_png(image, channels=3)  # Decodifica l'immagine PNG\n",
    "    image = tf.image.resize(image, (IMG_SIZE, IMG_SIZE))  # Ridimensiona l'immagine alla dimensione specificata\n",
    "    return image  # Restituisce l'immagine preprocessata\n",
    "\n",
    "# Funzione per preprocessare e serializzare un'immagine e un'etichetta\n",
    "def preprocess_and_serialize(idx, image_paths, image_labels):\n",
    "    image = load_and_preprocess_image(image_paths[idx])  # Carica e preprocessa l'immagine con l'indice specificato\n",
    "    image = tf.cast(image, tf.uint8)  # Converte l'immagine in tipo uint8\n",
    "    feature = {\n",
    "        'image': tf.train.Feature(bytes_list=tf.train.BytesList(value=[tf.io.encode_jpeg(image).numpy()])),  # Codifica l'immagine come JPEG in formato bytes\n",
    "        'label': tf.train.Feature(float_list=tf.train.FloatList(value=[image_labels[idx]])),  # Associa l'etichetta corrispondente\n",
    "    }\n",
    "    example = tf.train.Example(features=tf.train.Features(feature=feature))  # Crea un esempio TFRecord con l'immagine e l'etichetta\n",
    "    return example.SerializeToString()  # Serializza l'esempio in una stringa\n",
    "\n",
    "# Funzione per creare TFRecord in batch con parallelismo\n",
    "def create_tfrecord_in_batches(image_paths, image_labels, output_file, batch_size=BATCH_SIZE, num_shards=NUM_SHARDS, num_workers=NUM_WORKERS):\n",
    "    num_samples = len(image_paths)  # Conta il numero totale di immagini\n",
    "    indices = np.arange(num_samples)  # Crea una lista di indici da 0 a num_samples-1\n",
    "    np.random.shuffle(indices)  # Mescola gli indici per randomizzare l'ordine delle immagini\n",
    "\n",
    "    shard_size = num_samples // num_shards  # Calcola la dimensione di ogni shard\n",
    "    for shard_id in range(num_shards):\n",
    "        shard_filename = f\"{output_file}_{shard_id+1}-of-{num_shards}.tfrecord\"  # Genera il nome del file TFRecord per lo shard corrente\n",
    "        with tf.io.TFRecordWriter(shard_filename) as writer:  # Apre un writer TFRecord per scrivere nel file\n",
    "            start_index = shard_id * shard_size  # Calcola l'indice di inizio per questo shard\n",
    "            end_index = (shard_id + 1) * shard_size if shard_id != num_shards - 1 else num_samples  # Calcola l'indice di fine per questo shard\n",
    "            for i in range(start_index, end_index, batch_size):\n",
    "                batch_end = min(i + batch_size, end_index)  # Calcola l'indice di fine per questo batch\n",
    "                \n",
    "                # Preprocessa le immagini in parallelo utilizzando ThreadPoolExecutor\n",
    "                with concurrent.futures.ThreadPoolExecutor(max_workers=num_workers) as executor:\n",
    "                    futures = [\n",
    "                        executor.submit(preprocess_and_serialize, indices[j], image_paths, image_labels)\n",
    "                        for j in range(i, batch_end)\n",
    "                    ]\n",
    "                    \n",
    "                    for future in concurrent.futures.as_completed(futures):  # Scrive ogni immagine preprocessata nel file TFRecord\n",
    "                        writer.write(future.result())\n",
    "\n",
    "# Carica etichette\n",
    "train_labels_dict = load_labels_from_excel(os.path.join(dataset_dir, 'train.xlsx'))  # Carica le etichette di training da un file Excel\n",
    "val_labels_dict = load_labels_from_excel(os.path.join(dataset_dir, 'validation.xlsx'))  # Carica le etichette di validazione da un file Excel\n",
    "test_labels_dict = load_labels_from_excel(os.path.join(dataset_dir, 'test.xlsx'))  # Carica le etichette di test da un file Excel\n",
    "\n",
    "# Carica percorsi delle immagini e etichette\n",
    "train_image_paths, train_image_labels = load_image_paths_and_labels(os.path.join(dataset_dir, 'train'), train_labels_dict)  # Carica percorsi delle immagini e etichette di training\n",
    "val_image_paths, val_image_labels = load_image_paths_and_labels(os.path.join(dataset_dir, 'validation'), val_labels_dict)  # Carica percorsi delle immagini e etichette di validazione\n",
    "test_image_paths, test_image_labels = load_image_paths_and_labels(os.path.join(dataset_dir, 'test'), test_labels_dict)  # Carica percorsi delle immagini e etichette di test\n",
    "\n",
    "# Creazione dei TFRecord in batch\n",
    "create_tfrecord_in_batches(train_image_paths, train_image_labels, os.path.join(dataset_dir, 'train'))  # Crea i file TFRecord per il training set\n",
    "create_tfrecord_in_batches(val_image_paths, val_image_labels, os.path.join(dataset_dir, 'val'))  # Crea i file TFRecord per il validation set\n",
    "create_tfrecord_in_batches(test_image_paths, test_image_labels, os.path.join(dataset_dir, 'test'))  # Crea i file TFRecord per il test set\n",
    "\n",
    "# Stampa numero di immagini in ciascun dataset\n",
    "print('Ci sono', len(train_image_paths), 'immagini nel dataset di training')  # Stampa il numero di immagini nel training set\n",
    "print('Ci sono', len(val_image_paths), 'immagini nel dataset di validation')  # Stampa il numero di immagini nel validation set\n",
    "print('Ci sono', len(test_image_paths), 'immagini nel dataset di testing')  # Stampa il numero di immagini nel test set\n"
   ]
  },
  {
   "cell_type": "markdown",
   "metadata": {},
   "source": [
    "1. Caricamento delle Etichette da File Excel:\n",
    "- Richiesta della CPU: La CPU chiede al sistema I/O di aprire il file Excel specificato (excel_file) dal disco.\n",
    "- Lettura del File: Il sistema I/O legge il file Excel e lo carica in RAM come un DataFrame df utilizzando la libreria pandas.\n",
    "- Estrazione delle Informazioni: La CPU accede al DataFrame df in RAM, estrae le colonne Filename e RST, e le combina in un dizionario (labels_dict) tramite la funzione zip.\n",
    "- Memorizzazione in RAM: La CPU memorizza il dizionario risultante (labels_dict), contenente le etichette, in RAM per un accesso rapido durante le operazioni successive.\n",
    "\n",
    "2. Caricamento dei Percorsi delle Immagini:\n",
    "- Esplorazione della Directory: La CPU chiede al sistema I/O di esplorare la directory specificata (directory) e le sue sottodirectory per identificare tutti i file di immagini con estensioni .png, .jpg, o .jpeg.\n",
    "- Lettura dei File: Il sistema I/O legge i nomi dei file dalle directory sul disco e li fornisce alla CPU.\n",
    "- Costruzione delle Liste: La CPU costruisce una lista dei percorsi completi delle immagini (image_paths), memorizzandola in RAM. Contemporaneamente, verifica l'esistenza di ogni immagine nel dizionario delle etichette (labels_dict) e associa a ciascuna immagine la sua etichetta corrispondente o un valore predefinito (-1) se non presente nel dizionario.\n",
    "- Output della Funzione: Le liste dei percorsi delle immagini (image_paths) e delle etichette (image_labels) vengono memorizzate in RAM e restituite come output della funzione.\n",
    "\n",
    "3. Creazione della Lista di Indici e Randomizzazione:\n",
    "- Generazione degli Indici: La CPU genera una lista di indici in RAM a partire dai percorsi delle immagini (image_paths) e la randomizza per garantire un ordine casuale delle immagini durante la creazione dei TFRecord.\n",
    "- Calcolo della Dimensione dello Shard: La CPU calcola la dimensione di ogni shard in base al numero totale di immagini e al numero di shard (num_shards).\n",
    "- Creazione del File TFRecord Vuoto: Il sistema I/O crea il file TFRecord vuoto per il primo shard sul disco, pronto per essere popolato con i dati delle immagini.\n",
    "\n",
    "4. Caricamento delle Immagini e Preprocessing in Parallelo:\n",
    "- Selezione dei Percorsi per il Batch: La CPU seleziona un insieme di percorsi di immagini pari al batch size (ad esempio, 100 percorsi) dalla lista completa di image_paths memorizzata in RAM. Questi percorsi vengono quindi passati ai thread per il caricamento e il preprocessing.\n",
    "- Avvio del Parallelismo: Il ThreadPoolExecutor avvia un numero definito di thread (es. num_workers=4).\n",
    "- Caricamento delle Immagini: Ogni thread carica una delle immagini dal disco alla RAM utilizzando i percorsi forniti. Questo processo avviene in parallelo, con più immagini caricate simultaneamente. Il numero di immagini caricate contemporaneamente è limitato dal numero di thread attivi.\n",
    "- Preprocessing delle Immagini: Subito dopo il caricamento, ogni thread esegue il preprocessing dell'immagine in RAM, che include operazioni come la decodifica del formato e il ridimensionamento.\n",
    "- Codifica delle Immagini: Dopo il preprocessing, l'immagine viene codificata in una stringa di byte (es. utilizzando tf.io.encode_jpeg).\n",
    "\n",
    "5. Passaggio al Thread Principale e Scrittura nel TFRecord:\n",
    "- Restituzione dei Risultati: Una volta terminato il preprocessing e la codifica, i thread restituiscono il risultato al thread principale o al gestore delle scritture.\n",
    "- Scrittura Sequenziale: Il thread principale gestisce la scrittura nel file TFRecord. Anche se il preprocessing è avvenuto in parallelo, la scrittura nel file avviene in modo sequenziale per garantire l'integrità dei dati.\n",
    "- Liberazione della Memoria: Dopo che l'immagine codificata è stata scritta nel file TFRecord, la memoria utilizzata viene liberata, permettendo ai thread di continuare con il prossimo gruppo di immagini.\n",
    "\n",
    "6. Ripetizione del Processo per Tutti i Batch:\n",
    "- Ciclo Continuo: Il processo di caricamento, preprocessing, codifica e scrittura continua fino a quando tutte le immagini nel batch corrente sono state elaborate e scritte nel file TFRecord.\n",
    "- Nuovo Batch: Se ci sono ancora immagini nel dataset da processare, il processo riprende con un nuovo batch, ripetendo le fasi sopra descritte. Questo processo si ripete più volte per riempire uno shard.\n",
    "- Nuovo Shard: Una volta che tutte le immagini per un determinato shard sono state elaborate e scritte, si passa alla creazione di un nuovo shard. - - - Questo ciclo si ripete fino a quando tutte le immagini del dataset non sono state processate e scritte nei rispettivi file TFRecord, completando così l'intero dataset.\n",
    "\n",
    "Punti Chiave del Processo:\n",
    "- Parallelismo: Il caricamento, il preprocessing e la codifica delle immagini avvengono in parallelo, sfruttando più thread per migliorare l'efficienza e ridurre i tempi di elaborazione.\n",
    "-S equenzialità nella Scrittura: Nonostante il parallelismo durante le fasi iniziali, la scrittura nel file TFRecord è gestita in modo sequenziale per garantire che i dati siano scritti correttamente e senza conflitti.\n",
    "- Gestione della Memoria: La memoria viene gestita in modo efficiente liberando lo spazio occupato da un'immagine immediatamente dopo la sua scrittura su disco. Questo assicura che la RAM non si sovraccarichi, mantenendo il sistema reattivo anche durante l'elaborazione di grandi quantità di dati.\n",
    "- Il batch size determina il numero di immagini elaborate in un ciclo. Influenza il flusso di lavoro organizzando il dataset in gruppi gestibili, ma non determina quante immagini sono mantenute in RAM simultaneamente. La gestione della RAM è invece legata al numero di thread (num_workers) che lavorano in parallelo."
   ]
  },
  {
   "cell_type": "markdown",
   "metadata": {},
   "source": [
    "##  Displaying a Random Image and Visualizing TFRecord"
   ]
  },
  {
   "cell_type": "code",
   "execution_count": 3,
   "metadata": {},
   "outputs": [],
   "source": [
    "# Function to display a random image and its label from disk\n",
    "def display_random_image(image_paths, labels):\n",
    "    # Seleziona un percorso di immagine casuale e l'etichetta corrispondente\n",
    "    idx = np.random.randint(len(image_paths))  # La CPU genera un indice casuale basato sulla lunghezza della lista dei percorsi di immagine\n",
    "    image_path = image_paths[idx]  # La CPU utilizza l'indice per selezionare un percorso di immagine corrispondente\n",
    "    label = labels[idx]  # La CPU seleziona l'etichetta corrispondente allo stesso indice\n",
    "\n",
    "    # Carica e preprocessa l'immagine (come nella funzione precedente di preprocessing)\n",
    "    image = load_and_preprocess_image(image_path)  # La CPU chiede al sistema I/O di leggere l'immagine dal disco e di caricarla in RAM. Poi l'immagine viene preprocessata in RAM\n",
    "\n",
    "    # Visualizza l'immagine\n",
    "    print('Image shape:', image.shape)  # La CPU stampa la forma dell'immagine (es. larghezza, altezza, canali)\n",
    "    plt.figure(figsize=(6, 6))  # La CPU crea una nuova figura in RAM di dimensioni 6x6 pollici per visualizzare l'immagine\n",
    "    plt.imshow(image.numpy().astype(\"uint8\"))  # La CPU converte l'immagine in un formato visualizzabile (uint8) e la passa a `matplotlib` per la visualizzazione\n",
    "    plt.title(f\"Label: {label}\")  # La CPU imposta il titolo della finestra di visualizzazione con l'etichetta dell'immagine\n",
    "    plt.axis('off')  # La CPU disattiva gli assi per una visualizzazione più pulita\n",
    "    plt.show()  # La CPU mostra la finestra di visualizzazione. A questo punto, la RAM contiene l'immagine elaborata e la finestra di visualizzazione\n",
    "\n",
    "# Function to visualize the structure of a randomly selected sharded TFRecord\n",
    "def visualize_random_tfrecord(tfrecord_pattern):\n",
    "    # Ottiene una lista di tutti i file TFRecord che corrispondono al pattern specificato\n",
    "    tfrecord_files = tf.io.gfile.glob(tfrecord_pattern)  # La CPU chiede al sistema I/O di trovare tutti i file TFRecord che corrispondono al pattern specificato sul disco\n",
    "    # Seleziona casualmente un file TFRecord dalla lista\n",
    "    random_tfrecord_file = np.random.choice(tfrecord_files)  # La CPU seleziona casualmente un file TFRecord tra quelli trovati\n",
    "    \n",
    "    # Stampa il file TFRecord selezionato\n",
    "    print(f\"Selected TFRecord file: {random_tfrecord_file}\")  # La CPU stampa il nome del file TFRecord selezionato\n",
    "\n",
    "    # Crea un dizionario di descrizione delle caratteristiche\n",
    "    feature_description = {\n",
    "        'image': tf.io.FixedLenFeature([], tf.string),  # Definisce che la caratteristica 'image' è una stringa (bytes)\n",
    "        'label': tf.io.FixedLenFeature([], tf.float32),  # Definisce che la caratteristica 'label' è un float\n",
    "    }\n",
    "\n",
    "    # Funzione per analizzare ogni esempio\n",
    "    def _parse_function(example_proto):\n",
    "        # Analizza l'input tf.train.Example proto usando il dizionario di descrizione delle caratteristiche\n",
    "        return tf.io.parse_single_example(example_proto, feature_description)  # La CPU analizza ciascun esempio dal file TFRecord utilizzando la descrizione delle caratteristiche\n",
    "\n",
    "    # Crea un oggetto TFRecordDataset per leggere i dati dal file TFRecord\n",
    "    raw_dataset = tf.data.TFRecordDataset(random_tfrecord_file)  # La CPU chiede al sistema I/O di leggere il file TFRecord selezionato e di creare un dataset in RAM\n",
    "\n",
    "    # Analizza il dataset usando la funzione di parsing\n",
    "    parsed_dataset = raw_dataset.map(_parse_function)  # La CPU mappa la funzione di parsing su ciascun esempio del dataset per estrarre immagini e etichette\n",
    "\n",
    "    # Itera attraverso il dataset e stampa le caratteristiche\n",
    "    for example in parsed_dataset.take(20):  # La CPU iterà sui primi 5 esempi (o un altro numero specificato) del dataset\n",
    "        image = example['image'].numpy()  # La CPU decodifica l'immagine dai bytes e la memorizza in RAM come array numpy\n",
    "        label = example['label'].numpy()  # La CPU estrae l'etichetta e la memorizza in RAM\n",
    "        print(f\"Label: {label}\")  # La CPU stampa l'etichetta\n",
    "        print(f\"Image (bytes): {image[:100]}...\")  # La CPU stampa i primi 100 bytes dell'immagine per una rapida verifica\n",
    "\n",
    "# Visualizzazione condizionale di un'immagine casuale\n",
    "if VISUALIZE_RANDOM_IMAGE:\n",
    "    display_random_image(train_image_paths, train_image_labels)  # Se `VISUALIZE_RANDOM_IMAGE` è True, la CPU esegue la funzione per visualizzare un'immagine casuale dal dataset di training\n",
    "\n",
    "# Visualizzazione condizionale della struttura di TFRecord e delle immagini\n",
    "if VISUALIZE_TFRECORD_STRUCTURE:\n",
    "    print(\"Random Train TFRecord:\")\n",
    "    visualize_random_tfrecord(os.path.join(dataset_dir, 'train_*.tfrecord'))  # Se `VISUALIZE_TFRECORD_STRUCTURE` è True, la CPU esegue la funzione per visualizzare la struttura di un file TFRecord del training set\n",
    "\n",
    "    print(\"\\nRandom Validation TFRecord:\")\n",
    "    visualize_random_tfrecord(os.path.join(dataset_dir, 'val_*.tfrecord'))  # Visualizza la struttura di un file TFRecord del validation set\n",
    "\n",
    "    print(\"\\nRandom Test TFRecord:\")\n",
    "    visualize_random_tfrecord(os.path.join(dataset_dir, 'test_*.tfrecord'))  # Visualizza la struttura di un file TFRecord del test set\n",
    "\n"
   ]
  },
  {
   "cell_type": "markdown",
   "metadata": {},
   "source": [
    "# **CNN**"
   ]
  },
  {
   "cell_type": "markdown",
   "metadata": {},
   "source": [
    "## Libraries and initial setup"
   ]
  },
  {
   "cell_type": "code",
   "execution_count": 3,
   "metadata": {},
   "outputs": [],
   "source": [
    "import os\n",
    "import numpy as np\n",
    "import matplotlib.pyplot as plt\n",
    "import pandas as pd\n",
    "import tensorflow as tf\n",
    "import random\n",
    "import time\n",
    "\n",
    "from tensorflow import keras\n",
    "from tensorflow.keras import layers\n",
    "from tensorflow.keras.applications import EfficientNetB4\n",
    "from tensorflow.keras import callbacks\n",
    "from tensorflow.keras.layers import Dense, GlobalAveragePooling2D\n",
    "from tensorflow.keras.models import Model\n",
    "from tensorflow.keras.applications.efficientnet import preprocess_input\n",
    "\n",
    "# User parameters\n",
    "IMG_SIZE = 380  # Dimensione delle immagini da utilizzare come input per il modello (lunghezza e larghezza in pixel)\n",
    "dataset_dir = 'Prova'  # Directory del dataset da utilizzare per l'addestramento e la validazione\n",
    "output_dir = 'Output_' + dataset_dir  # Directory in cui salvare i risultati dell'addestramento (modelli, log, ecc.)\n",
    "BATCH_SIZE = 16  # Dimensione del batch per l'addestramento e la validazione\n",
    "EPOCHS = 3  # Numero massimo di epoche per l'addestramento del modello\n",
    "SAVE_EVERY_N_EPOCHS = 1  # Frequenza di salvataggio del modello durante l'addestramento (ogni N epoche)\n",
    "\n",
    "# Early stopping parameters\n",
    "EARLYSTOPPING_PATIENCE = 5  # Numero di epoche senza miglioramento prima di fermare l'addestramento (Early Stopping)\n",
    "\n",
    "# Learning rate scheduler parameters\n",
    "LEARNING_RATE = 0.001  # Tasso di apprendimento iniziale per l'ottimizzatore\n",
    "LR_SCHEDULER_FACTOR = 0.5  # Fattore di riduzione del tasso di apprendimento quando non si osserva un miglioramento\n",
    "LR_SCHEDULER_PATIENCE = 2  # Numero di epoche senza miglioramento prima di ridurre il tasso di apprendimento\n",
    "\n",
    "# TFRecord dataset parameters\n",
    "CYCLE_LENGTH = 8  # Numero di file TFRecord da leggere in parallelo\n",
    "BLOCK_LENGTH = 1  # Numero di record da leggere in sequenza da ciascun file prima di passare al successivo\n",
    "\n",
    "# Dropout fraction\n",
    "DROPOUT_FRACTION = 0.2  # Percentuale di dropout applicata per prevenire l'overfitting\n",
    "\n",
    "# Number of layers to train\n",
    "NUM_TRAINABLE_LAYERS = 10  # Numero di livelli superiori della rete EfficientNet da rendere addestrabili\n",
    "\n",
    "# Create the output directory if it doesn't exist\n",
    "os.makedirs(output_dir, exist_ok=True)  # Crea la directory di output se non esiste già\n"
   ]
  },
  {
   "cell_type": "markdown",
   "metadata": {},
   "source": [
    "## Loading the Dataset, Labels"
   ]
  },
  {
   "cell_type": "code",
   "execution_count": 4,
   "metadata": {},
   "outputs": [
    {
     "data": {
      "text/plain": [
       "'\\nAlla fine di questo processo, la RAM contiene:\\n-Dizionari delle etichette per i tre set (train, validation, test).\\n-Liste dei percorsi delle immagini e liste delle etichette corrispondenti per ciascun set.\\n'"
      ]
     },
     "execution_count": 4,
     "metadata": {},
     "output_type": "execute_result"
    }
   ],
   "source": [
    "# Funzione per caricare le etichette da file Excel\n",
    "def load_labels_from_excel(excel_file):\n",
    "    # Legge il file Excel e lo carica in un DataFrame pandas\n",
    "    df = pd.read_excel(excel_file)\n",
    "    # Converte le colonne del DataFrame in un dizionario, dove le chiavi sono i nomi delle immagini e i valori sono le etichette\n",
    "    return dict(zip(df['Filename'], df['RST']))\n",
    "\n",
    "# Caricamento delle mappature delle etichette per i set di addestramento, validazione e test\n",
    "train_labels_dict = load_labels_from_excel(os.path.join(dataset_dir, 'train.xlsx'))  # Carica le etichette del set di addestramento dal file Excel\n",
    "val_labels_dict = load_labels_from_excel(os.path.join(dataset_dir, 'validation.xlsx'))  # Carica le etichette del set di validazione dal file Excel\n",
    "test_labels_dict = load_labels_from_excel(os.path.join(dataset_dir, 'test.xlsx'))  # Carica le etichette del set di test dal file Excel\n",
    "\n",
    "# Funzione per caricare i percorsi delle immagini e le etichette corrispondenti da una directory e da un dizionario\n",
    "def load_image_paths_and_labels(directory, labels_dict):\n",
    "    image_paths = []  # Lista per memorizzare i percorsi delle immagini\n",
    "    image_labels = []  # Lista per memorizzare le etichette corrispondenti\n",
    "    for root, _, files in os.walk(directory):  # Esplora la directory specificata e le sue sottodirectory\n",
    "        for file in files:\n",
    "            if file.endswith(('.png', '.jpg', '.jpeg')):  # Verifica se il file è un'immagine (con estensione .png, .jpg, o .jpeg)\n",
    "                image_paths.append(os.path.join(root, file))  # Aggiunge il percorso completo dell'immagine alla lista\n",
    "                image_labels.append(labels_dict.get(file, -1))  # Aggiunge l'etichetta corrispondente dalla mappatura, o -1 se non trovata\n",
    "    return image_paths, image_labels  # Restituisce le liste dei percorsi delle immagini e delle etichette\n",
    "\n",
    "# Caricamento dei percorsi delle immagini e delle etichette per i set di addestramento, validazione e test\n",
    "train_image_paths, train_image_labels = load_image_paths_and_labels(os.path.join(dataset_dir, 'train'), train_labels_dict)  # Carica i percorsi e le etichette per il set di addestramento\n",
    "val_image_paths, val_image_labels = load_image_paths_and_labels(os.path.join(dataset_dir, 'validation'), val_labels_dict)  # Carica i percorsi e le etichette per il set di validazione\n",
    "test_image_paths, test_image_labels = load_image_paths_and_labels(os.path.join(dataset_dir, 'test'), test_labels_dict)  # Carica i percorsi e le etichette per il set di test\n",
    "\n",
    "'''\n",
    "Alla fine di questo processo, la RAM contiene:\n",
    "-Dizionari delle etichette per i tre set (train, validation, test).\n",
    "-Liste dei percorsi delle immagini e liste delle etichette corrispondenti per ciascun set.\n",
    "'''"
   ]
  },
  {
   "cell_type": "markdown",
   "metadata": {},
   "source": [
    "## Reading TFRecord Files and Preparing Datasets"
   ]
  },
  {
   "cell_type": "code",
   "execution_count": 10,
   "metadata": {},
   "outputs": [],
   "source": [
    "# Funzione per fare il parsing di un TFRecord\n",
    "def parse_tfrecord(tfrecord):\n",
    "    # Definisce un dizionario di descrizione delle caratteristiche (feature)\n",
    "    feature_description = {\n",
    "        'image': tf.io.FixedLenFeature([], tf.string),  # L'immagine è memorizzata come stringa (bytes)\n",
    "        'label': tf.io.FixedLenFeature([], tf.float32),  # L'etichetta è memorizzata come float\n",
    "    }\n",
    "    # Esegue il parsing dell'input tf.train.Example proto utilizzando il dizionario di descrizione delle caratteristiche\n",
    "    example = tf.io.parse_single_example(tfrecord, feature_description)\n",
    "    # Decodifica l'immagine JPEG e la ridimensiona\n",
    "    image = tf.io.decode_jpeg(example['image'], channels=3)  # Decodifica l'immagine JPEG, preservando i 3 canali (RGB)\n",
    "    image = tf.reshape(image, [IMG_SIZE, IMG_SIZE, 3])  # Ridimensiona l'immagine alle dimensioni specificate (IMG_SIZE x IMG_SIZE x 3)\n",
    "    label = example['label']  # Estrae l'etichetta\n",
    "    return image, label  # Restituisce l'immagine e l'etichetta\n",
    "\n",
    "# Funzione per caricare un dataset TFRecord shardato e fare lo shuffle all'interno e tra i diversi shard\n",
    "def load_tfrecord_dataset(tfrecord_pattern, batch_size, img_size):\n",
    "    # Carica i file TFRecord utilizzando un pattern\n",
    "    raw_dataset = tf.data.Dataset.list_files(tfrecord_pattern)\n",
    "    # Intercala i record dai file TFRecord\n",
    "    raw_dataset = raw_dataset.interleave(\n",
    "        lambda filename: tf.data.TFRecordDataset(filename).map(parse_tfrecord, num_parallel_calls=tf.data.AUTOTUNE),  # Parsing parallelo dei record\n",
    "        cycle_length=CYCLE_LENGTH,  # Numero di file da leggere contemporaneamente\n",
    "        block_length=BLOCK_LENGTH,  # Numero di record da leggere da ciascun file alla volta\n",
    "        num_parallel_calls=tf.data.AUTOTUNE  # Numero di chiamate parallele è ottimizzato automaticamente\n",
    "    )\n",
    "    \n",
    "    # Funzione interna per ridimensionare l'immagine\n",
    "    def resize_image(image, label):\n",
    "        image = tf.image.resize(image, (img_size, img_size))  # Ridimensiona l'immagine alla dimensione desiderata (img_size x img_size)\n",
    "        return image, label\n",
    "\n",
    "    # Applica operazioni di shuffle, resize, batching e prefetching al dataset\n",
    "    dataset = raw_dataset.map(resize_image, num_parallel_calls=tf.data.AUTOTUNE)  # Ridimensiona le immagini\n",
    "    dataset = dataset.shuffle(buffer_size=1000).batch(batch_size, drop_remainder=False).repeat().prefetch(buffer_size=tf.data.AUTOTUNE)  # Shuffle, batch, repeat e prefetch dei dati\n",
    "    return dataset  # Restituisce il dataset pronto per l'addestramento o la valutazione\n",
    "\n",
    "# Caricamento dei dataset dai file TFRecord shardati\n",
    "train_dataset = load_tfrecord_dataset(os.path.join(dataset_dir, 'train_*.tfrecord'), BATCH_SIZE, IMG_SIZE)  # Carica il dataset di addestramento\n",
    "val_dataset = load_tfrecord_dataset(os.path.join(dataset_dir, 'val_*.tfrecord'), BATCH_SIZE, IMG_SIZE)  # Carica il dataset di validazione\n",
    "test_dataset = load_tfrecord_dataset(os.path.join(dataset_dir, 'test_*.tfrecord'), BATCH_SIZE, IMG_SIZE)  # Carica il dataset di test\n"
   ]
  },
  {
   "cell_type": "markdown",
   "metadata": {},
   "source": [
    "Parsing:\n",
    "1. Creazione del Dizionario in RAM: La CPU crea e memorizza un dizionario (feature_description) in RAM. Questo dizionario descrive la struttura di un singolo record contenuto nel file TFRecord, specificando che i dati per l'immagine sono memorizzati come una stringa di byte e che l'etichetta è un valore float. Il dizionario è essenziale per interpretare correttamente i dati grezzi memorizzati nel record.\n",
    "Parsing del Singolo Record TFRecord in RAM:\n",
    "2. Il TFRecord, che è già stato caricato in RAM, viene processato dalla CPU. La CPU utilizza il dizionario di descrizione delle caratteristiche per interpretare il record, estraendo l'immagine come stringa di byte e l'etichetta come valore float. Il risultato di questo parsing è un altro dizionario, creato e memorizzato in RAM, che contiene i dati strutturati (l'immagine e l'etichetta) estratti dal record.\n",
    "Decodifica e Preprocessing dell'Immagine:\n",
    "3. Dopo aver estratto l'immagine come stringa di byte dal record, la CPU procede a decodificarla, trasformandola da una stringa di byte in un array numerico tridimensionale (3D) che rappresenta l'immagine (altezza, larghezza, canali). L'immagine viene quindi ridimensionata alle dimensioni specificate (IMG_SIZE x IMG_SIZE). Sia l'immagine preprocessata che l'etichetta vengono memorizzate in RAM, pronte per essere utilizzate durante l'allenamento del modello.\n",
    "\n",
    "Loading and training:\n",
    "1. Caricamento dei Nomi dei File TFRecord in RAM: La CPU utilizza tf.data.Dataset.list_files(tfrecord_pattern) per chiedere al sistema I/O di cercare i file TFRecord sul disco e caricarne i nomi in RAM. Questo processo è sequenziale: la CPU attende che tutti i nomi dei file siano letti prima di procedere.\n",
    "2. Lettura e Parsing dei Record TFRecord in Parallelo: I file TFRecord vengono letti in parallelo sulla base del cycle_length (es. 2 file alla volta). All'interno di ciascun file, i record vengono caricati sequenzialmente secondo block_length (es. 2 record per volta). I record letti vengono immediatamente processati in parallelo dalla CPU che li decodifica e preprocessa, mentre vengono progressivamente inseriti in RAM nel buffer di shuffle.\n",
    "3. Shuffle e Preparazione dei Batch: Quando il buffer di shuffle contiene un numero sufficiente di record, la CPU mescola i dati e li organizza in batch. Mentre un batch viene utilizzato per l'allenamento, il sistema prefetch assicura che i batch successivi vengano preparati in parallelo, garantendo un flusso continuo di dati (Un buffer di shuffle sufficientemente grande (es. 10000) evita che le immagini si ripetano più volte in un'epoca)\n",
    "\n",
    "Liberazione della Memoria: Dopo che un batch è stato utilizzato per l'allenamento, la memoria occupata da quel batch viene liberata per fare spazio ai nuovi dati. Questo assicura che la RAM venga utilizzata in modo efficiente e che non si accumulino dati inutilizzati. Solo un numero limitato di record è mantenuto in RAM grazie al buffer di shuffle. Questo consente di gestire dataset di grandi dimensioni senza saturare la memoria."
   ]
  },
  {
   "cell_type": "markdown",
   "metadata": {},
   "source": [
    "## Setting Up the Model"
   ]
  },
  {
   "cell_type": "code",
   "execution_count": 11,
   "metadata": {},
   "outputs": [
    {
     "data": {
      "text/html": [
       "<pre style=\"white-space:pre;overflow-x:auto;line-height:normal;font-family:Menlo,'DejaVu Sans Mono',consolas,'Courier New',monospace\"><span style=\"font-weight: bold\">Model: \"functional_1\"</span>\n",
       "</pre>\n"
      ],
      "text/plain": [
       "\u001b[1mModel: \"functional_1\"\u001b[0m\n"
      ]
     },
     "metadata": {},
     "output_type": "display_data"
    },
    {
     "data": {
      "text/html": [
       "<pre style=\"white-space:pre;overflow-x:auto;line-height:normal;font-family:Menlo,'DejaVu Sans Mono',consolas,'Courier New',monospace\">┏━━━━━━━━━━━━━━━━━━━━━━━━━━━━━━━━━┳━━━━━━━━━━━━━━━━━━━━━━━━┳━━━━━━━━━━━━━━━┓\n",
       "┃<span style=\"font-weight: bold\"> Layer (type)                    </span>┃<span style=\"font-weight: bold\"> Output Shape           </span>┃<span style=\"font-weight: bold\">       Param # </span>┃\n",
       "┡━━━━━━━━━━━━━━━━━━━━━━━━━━━━━━━━━╇━━━━━━━━━━━━━━━━━━━━━━━━╇━━━━━━━━━━━━━━━┩\n",
       "│ input_layer_3 (<span style=\"color: #0087ff; text-decoration-color: #0087ff\">InputLayer</span>)      │ (<span style=\"color: #00d7ff; text-decoration-color: #00d7ff\">None</span>, <span style=\"color: #00af00; text-decoration-color: #00af00\">380</span>, <span style=\"color: #00af00; text-decoration-color: #00af00\">380</span>, <span style=\"color: #00af00; text-decoration-color: #00af00\">3</span>)    │             <span style=\"color: #00af00; text-decoration-color: #00af00\">0</span> │\n",
       "├─────────────────────────────────┼────────────────────────┼───────────────┤\n",
       "│ efficientnetb4 (<span style=\"color: #0087ff; text-decoration-color: #0087ff\">Functional</span>)     │ (<span style=\"color: #00d7ff; text-decoration-color: #00d7ff\">None</span>, <span style=\"color: #00af00; text-decoration-color: #00af00\">11</span>, <span style=\"color: #00af00; text-decoration-color: #00af00\">11</span>, <span style=\"color: #00af00; text-decoration-color: #00af00\">1792</span>)   │    <span style=\"color: #00af00; text-decoration-color: #00af00\">17,673,823</span> │\n",
       "├─────────────────────────────────┼────────────────────────┼───────────────┤\n",
       "│ global_average_pooling2d_1      │ (<span style=\"color: #00d7ff; text-decoration-color: #00d7ff\">None</span>, <span style=\"color: #00af00; text-decoration-color: #00af00\">1792</span>)           │             <span style=\"color: #00af00; text-decoration-color: #00af00\">0</span> │\n",
       "│ (<span style=\"color: #0087ff; text-decoration-color: #0087ff\">GlobalAveragePooling2D</span>)        │                        │               │\n",
       "├─────────────────────────────────┼────────────────────────┼───────────────┤\n",
       "│ batch_normalization_1           │ (<span style=\"color: #00d7ff; text-decoration-color: #00d7ff\">None</span>, <span style=\"color: #00af00; text-decoration-color: #00af00\">1792</span>)           │         <span style=\"color: #00af00; text-decoration-color: #00af00\">7,168</span> │\n",
       "│ (<span style=\"color: #0087ff; text-decoration-color: #0087ff\">BatchNormalization</span>)            │                        │               │\n",
       "├─────────────────────────────────┼────────────────────────┼───────────────┤\n",
       "│ dropout_1 (<span style=\"color: #0087ff; text-decoration-color: #0087ff\">Dropout</span>)             │ (<span style=\"color: #00d7ff; text-decoration-color: #00d7ff\">None</span>, <span style=\"color: #00af00; text-decoration-color: #00af00\">1792</span>)           │             <span style=\"color: #00af00; text-decoration-color: #00af00\">0</span> │\n",
       "├─────────────────────────────────┼────────────────────────┼───────────────┤\n",
       "│ dense_1 (<span style=\"color: #0087ff; text-decoration-color: #0087ff\">Dense</span>)                 │ (<span style=\"color: #00d7ff; text-decoration-color: #00d7ff\">None</span>, <span style=\"color: #00af00; text-decoration-color: #00af00\">64</span>)             │       <span style=\"color: #00af00; text-decoration-color: #00af00\">114,752</span> │\n",
       "├─────────────────────────────────┼────────────────────────┼───────────────┤\n",
       "│ pred (<span style=\"color: #0087ff; text-decoration-color: #0087ff\">Dense</span>)                    │ (<span style=\"color: #00d7ff; text-decoration-color: #00d7ff\">None</span>, <span style=\"color: #00af00; text-decoration-color: #00af00\">1</span>)              │            <span style=\"color: #00af00; text-decoration-color: #00af00\">65</span> │\n",
       "└─────────────────────────────────┴────────────────────────┴───────────────┘\n",
       "</pre>\n"
      ],
      "text/plain": [
       "┏━━━━━━━━━━━━━━━━━━━━━━━━━━━━━━━━━┳━━━━━━━━━━━━━━━━━━━━━━━━┳━━━━━━━━━━━━━━━┓\n",
       "┃\u001b[1m \u001b[0m\u001b[1mLayer (type)                   \u001b[0m\u001b[1m \u001b[0m┃\u001b[1m \u001b[0m\u001b[1mOutput Shape          \u001b[0m\u001b[1m \u001b[0m┃\u001b[1m \u001b[0m\u001b[1m      Param #\u001b[0m\u001b[1m \u001b[0m┃\n",
       "┡━━━━━━━━━━━━━━━━━━━━━━━━━━━━━━━━━╇━━━━━━━━━━━━━━━━━━━━━━━━╇━━━━━━━━━━━━━━━┩\n",
       "│ input_layer_3 (\u001b[38;5;33mInputLayer\u001b[0m)      │ (\u001b[38;5;45mNone\u001b[0m, \u001b[38;5;34m380\u001b[0m, \u001b[38;5;34m380\u001b[0m, \u001b[38;5;34m3\u001b[0m)    │             \u001b[38;5;34m0\u001b[0m │\n",
       "├─────────────────────────────────┼────────────────────────┼───────────────┤\n",
       "│ efficientnetb4 (\u001b[38;5;33mFunctional\u001b[0m)     │ (\u001b[38;5;45mNone\u001b[0m, \u001b[38;5;34m11\u001b[0m, \u001b[38;5;34m11\u001b[0m, \u001b[38;5;34m1792\u001b[0m)   │    \u001b[38;5;34m17,673,823\u001b[0m │\n",
       "├─────────────────────────────────┼────────────────────────┼───────────────┤\n",
       "│ global_average_pooling2d_1      │ (\u001b[38;5;45mNone\u001b[0m, \u001b[38;5;34m1792\u001b[0m)           │             \u001b[38;5;34m0\u001b[0m │\n",
       "│ (\u001b[38;5;33mGlobalAveragePooling2D\u001b[0m)        │                        │               │\n",
       "├─────────────────────────────────┼────────────────────────┼───────────────┤\n",
       "│ batch_normalization_1           │ (\u001b[38;5;45mNone\u001b[0m, \u001b[38;5;34m1792\u001b[0m)           │         \u001b[38;5;34m7,168\u001b[0m │\n",
       "│ (\u001b[38;5;33mBatchNormalization\u001b[0m)            │                        │               │\n",
       "├─────────────────────────────────┼────────────────────────┼───────────────┤\n",
       "│ dropout_1 (\u001b[38;5;33mDropout\u001b[0m)             │ (\u001b[38;5;45mNone\u001b[0m, \u001b[38;5;34m1792\u001b[0m)           │             \u001b[38;5;34m0\u001b[0m │\n",
       "├─────────────────────────────────┼────────────────────────┼───────────────┤\n",
       "│ dense_1 (\u001b[38;5;33mDense\u001b[0m)                 │ (\u001b[38;5;45mNone\u001b[0m, \u001b[38;5;34m64\u001b[0m)             │       \u001b[38;5;34m114,752\u001b[0m │\n",
       "├─────────────────────────────────┼────────────────────────┼───────────────┤\n",
       "│ pred (\u001b[38;5;33mDense\u001b[0m)                    │ (\u001b[38;5;45mNone\u001b[0m, \u001b[38;5;34m1\u001b[0m)              │            \u001b[38;5;34m65\u001b[0m │\n",
       "└─────────────────────────────────┴────────────────────────┴───────────────┘\n"
      ]
     },
     "metadata": {},
     "output_type": "display_data"
    },
    {
     "data": {
      "text/html": [
       "<pre style=\"white-space:pre;overflow-x:auto;line-height:normal;font-family:Menlo,'DejaVu Sans Mono',consolas,'Courier New',monospace\"><span style=\"font-weight: bold\"> Total params: </span><span style=\"color: #00af00; text-decoration-color: #00af00\">17,795,808</span> (67.89 MB)\n",
       "</pre>\n"
      ],
      "text/plain": [
       "\u001b[1m Total params: \u001b[0m\u001b[38;5;34m17,795,808\u001b[0m (67.89 MB)\n"
      ]
     },
     "metadata": {},
     "output_type": "display_data"
    },
    {
     "data": {
      "text/html": [
       "<pre style=\"white-space:pre;overflow-x:auto;line-height:normal;font-family:Menlo,'DejaVu Sans Mono',consolas,'Courier New',monospace\"><span style=\"font-weight: bold\"> Trainable params: </span><span style=\"color: #00af00; text-decoration-color: #00af00\">118,401</span> (462.50 KB)\n",
       "</pre>\n"
      ],
      "text/plain": [
       "\u001b[1m Trainable params: \u001b[0m\u001b[38;5;34m118,401\u001b[0m (462.50 KB)\n"
      ]
     },
     "metadata": {},
     "output_type": "display_data"
    },
    {
     "data": {
      "text/html": [
       "<pre style=\"white-space:pre;overflow-x:auto;line-height:normal;font-family:Menlo,'DejaVu Sans Mono',consolas,'Courier New',monospace\"><span style=\"font-weight: bold\"> Non-trainable params: </span><span style=\"color: #00af00; text-decoration-color: #00af00\">17,677,407</span> (67.43 MB)\n",
       "</pre>\n"
      ],
      "text/plain": [
       "\u001b[1m Non-trainable params: \u001b[0m\u001b[38;5;34m17,677,407\u001b[0m (67.43 MB)\n"
      ]
     },
     "metadata": {},
     "output_type": "display_data"
    }
   ],
   "source": [
    "# Carica il modello EfficientNetB4 pre-addestrato su ImageNet, escludendo gli strati superiori\n",
    "base_model = EfficientNetB4(include_top=False, weights=\"imagenet\")\n",
    "\n",
    "# Congela i pesi del modello base per evitare che vengano aggiornati durante l'addestramento\n",
    "base_model.trainable = False\n",
    "\n",
    "'''\n",
    "# (Opzionale) Scongela gli ultimi NUM_TRAINABLE_LAYERS strati per il fine-tuning\n",
    "for layer in base_model.layers[-NUM_TRAINABLE_LAYERS:]:\n",
    "    if not isinstance(layer, layers.BatchNormalization):\n",
    "        layer.trainable = True  # Rende addestrabili gli strati selezionati\n",
    "'''\n",
    "\n",
    "# Definisce il layer di input\n",
    "inputs = keras.Input(shape=(IMG_SIZE, IMG_SIZE, 3))\n",
    "\n",
    "# Preprocessa gli input per essere compatibili con EfficientNet\n",
    "x = tf.keras.applications.efficientnet.preprocess_input(inputs)\n",
    "\n",
    "# Passa gli input attraverso il modello base congelato\n",
    "x = base_model(x, training=False)\n",
    "\n",
    "# Applica global average pooling per ridurre le dimensioni\n",
    "x = layers.GlobalAveragePooling2D()(x)\n",
    "\n",
    "# Aggiunge batch normalization e dropout per stabilità e regolarizzazione\n",
    "x = layers.BatchNormalization()(x)\n",
    "x = layers.Dropout(DROPOUT_FRACTION)(x)\n",
    "\n",
    "# Strato completamente connesso per ulteriori rappresentazioni\n",
    "x = layers.Dense(64, activation='relu')(x)\n",
    "\n",
    "# Strato di output per la regressione\n",
    "outputs = layers.Dense(1, name=\"pred\")(x)\n",
    "\n",
    "# Crea il modello finale\n",
    "model = keras.Model(inputs, outputs)\n",
    "\n",
    "# Mostra l'architettura del modello\n",
    "model.summary()\n",
    "\n",
    "# Compila il modello con ottimizzatore, funzione di perdita e metrica di valutazione\n",
    "model.compile(\n",
    "    optimizer=keras.optimizers.Adam(),\n",
    "    loss='mean_squared_error',\n",
    "    metrics=['mean_absolute_percentage_error']\n",
    ")\n"
   ]
  },
  {
   "cell_type": "markdown",
   "metadata": {},
   "source": [
    "## Callbacks"
   ]
  },
  {
   "cell_type": "code",
   "execution_count": 12,
   "metadata": {},
   "outputs": [],
   "source": [
    "# Callback per l'early stopping: interrompe l'addestramento se la validazione non migliora\n",
    "earlystopping = callbacks.EarlyStopping(\n",
    "    monitor='val_loss',  # Monitora la perdita sulla validazione\n",
    "    mode='min',  # Si ferma quando la perdita smette di diminuire\n",
    "    patience=EARLYSTOPPING_PATIENCE,  # Numero di epoche senza miglioramento prima di interrompere\n",
    "    restore_best_weights=True  # Ripristina i pesi del modello migliori raggiunti\n",
    ")\n",
    "\n",
    "# Callback per ridurre il learning rate se la validazione non migliora\n",
    "lr_scheduler = callbacks.ReduceLROnPlateau(\n",
    "    monitor='val_loss',\n",
    "    factor=LR_SCHEDULER_FACTOR,  # Fattore di riduzione del learning rate\n",
    "    patience=LR_SCHEDULER_PATIENCE,  # Numero di epoche senza miglioramento prima di ridurre il learning rate\n",
    "    verbose=1  # Stampa un messaggio quando il learning rate viene ridotto\n",
    ")\n",
    "\n",
    "# Calcolo del numero di passi per epoca (steps_per_epoch) e per la validazione (validation_steps)\n",
    "steps_per_epoch = len(train_image_paths) // BATCH_SIZE\n",
    "validation_steps = len(val_image_paths) // BATCH_SIZE\n",
    "\n",
    "# Callback personalizzato per salvare il modello ogni n epoche\n",
    "class CustomModelCheckpoint(callbacks.Callback):\n",
    "    def __init__(self, filepath, save_freq, **kwargs):\n",
    "        super().__init__(**kwargs)\n",
    "        self.filepath = filepath\n",
    "        self.save_freq = save_freq\n",
    "        self.epochs_since_last_save = 0\n",
    "\n",
    "    def on_epoch_end(self, epoch, logs=None):\n",
    "        self.epochs_since_last_save += 1\n",
    "        if self.epochs_since_last_save >= self.save_freq:\n",
    "            self.epochs_since_last_save = 0\n",
    "            filepath = self.filepath.format(epoch=epoch + 1)\n",
    "            self.model.save(filepath, overwrite=True)  # Salva il modello\n",
    "            print(f\"Model saved at {filepath}\")\n",
    "\n",
    "# Callback per salvare il modello ogni SAVE_EVERY_N_EPOCHS epoche\n",
    "checkpoint_callback = CustomModelCheckpoint(\n",
    "    filepath=output_dir + '/modello_cnn_epoca_{epoch:02d}.keras',  # Percorso per salvare il modello\n",
    "    save_freq=SAVE_EVERY_N_EPOCHS  # Frequenza di salvataggio in epoche\n",
    ")\n",
    "\n",
    "# Variabili per memorizzare informazioni durante l'addestramento\n",
    "epoch_durations = []\n",
    "train_mape = []\n",
    "train_losses = []\n",
    "val_mape = []\n",
    "val_losses = []\n",
    "time_per_image = []\n",
    "\n",
    "# Callback per loggare informazioni dopo ogni epoca\n",
    "class EpochLogger(callbacks.Callback):\n",
    "    def on_epoch_begin(self, epoch, logs=None):\n",
    "        self.epoch_start_time = time.time()  # Inizia il timer per l'epoca\n",
    "\n",
    "    def on_epoch_end(self, epoch, logs=None):\n",
    "        epoch_duration = time.time() - self.epoch_start_time  # Calcola la durata dell'epoca\n",
    "        epoch_durations.append(epoch_duration)\n",
    "        \n",
    "        # Logga le metriche di addestramento e validazione\n",
    "        train_mape.append(logs.get('mean_absolute_percentage_error', 0) if logs else 0)\n",
    "        train_losses.append(logs.get('loss', 0) if logs else 0)\n",
    "        val_mape.append(logs.get('val_mean_absolute_percentage_error', 0) if logs else 0)\n",
    "        val_losses.append(logs.get('val_loss', 0) if logs else 0)\n",
    "        \n",
    "        # Calcola il tempo per immagine durante l'epoca\n",
    "        total_images = (steps_per_epoch * BATCH_SIZE) + (validation_steps * BATCH_SIZE)\n",
    "        time_per_image_epoch = epoch_duration / total_images\n",
    "        time_per_image.append(time_per_image_epoch)\n",
    "\n",
    "        # Salva i log ogni SAVE_EVERY_N_EPOCHS epoche\n",
    "        if (epoch + 1) % SAVE_EVERY_N_EPOCHS == 0:\n",
    "            self.save_log(epoch + 1)\n",
    "\n",
    "    def save_log(self, current_epoch):\n",
    "        # Salva le informazioni in un file Excel\n",
    "        df = pd.DataFrame({\n",
    "            'Epoca': range(1, current_epoch + 1),\n",
    "            'Durata [s]': epoch_durations[:current_epoch],\n",
    "            'Train MAPE': train_mape[:current_epoch],\n",
    "            'Train loss': train_losses[:current_epoch],\n",
    "            'Validation MAPE': val_mape[:current_epoch],\n",
    "            'Validation loss': val_losses[:current_epoch],\n",
    "            'Tempo per immagine [s]': time_per_image[:current_epoch]\n",
    "        })\n",
    "        with pd.ExcelWriter(output_dir + f'/training_cnn_epoca_{current_epoch}.xlsx') as writer:\n",
    "            df.to_excel(writer, sheet_name='Training Log', index=False)\n",
    "            model_summary_df = self.get_model_summary_df()\n",
    "            model_summary_df.to_excel(writer, sheet_name='Model Structure', index=False)\n",
    "        print(f\"Log salvato per l'epoca {current_epoch}\")\n",
    "\n",
    "    def get_model_summary_df(self):\n",
    "        # Crea un DataFrame con il riepilogo della struttura del modello\n",
    "        stringlist = []\n",
    "        self.model.summary(print_fn=lambda x: stringlist.append(x))\n",
    "        summary_str = \"\\n\".join(stringlist)\n",
    "        summary_list = summary_str.split(\"\\n\")\n",
    "        df = pd.DataFrame(summary_list, columns=[\"Model Structure\"])\n",
    "        return df\n",
    "\n",
    "# Callback per loggare le informazioni sulle epoche\n",
    "epoch_logger = EpochLogger()\n",
    "\n",
    "# Callback per stampare le etichette dei batch all'inizio di ogni epoca\n",
    "class BatchLabelPrinter(callbacks.Callback):\n",
    "    def __init__(self, dataset, num_batches=5):\n",
    "        super(BatchLabelPrinter, self).__init__()\n",
    "        self.dataset = dataset\n",
    "        self.num_batches = num_batches\n",
    "\n",
    "    def on_epoch_begin(self, epoch, logs=None):\n",
    "        print(f\"Epoch {epoch+1} begins\")\n",
    "\n",
    "        # Stampa le etichette dei primi batch\n",
    "        for batch_num, (images, labels) in enumerate(self.dataset.take(self.num_batches)):\n",
    "            print(f\"Batch {batch_num+1}:\")\n",
    "            print(labels.numpy())\n",
    "            print(\"-\" * 50)\n",
    "\n",
    "# Istanzia il callback per stampare le etichette dei batch\n",
    "batch_label_printer = BatchLabelPrinter(train_dataset)\n",
    "\n"
   ]
  },
  {
   "cell_type": "markdown",
   "metadata": {},
   "source": [
    "## Training of the model"
   ]
  },
  {
   "cell_type": "code",
   "execution_count": 13,
   "metadata": {},
   "outputs": [
    {
     "name": "stdout",
     "output_type": "stream",
     "text": [
      "Epoch 1/3\n",
      "\u001b[1m 3/65\u001b[0m \u001b[37m━━━━━━━━━━━━━━━━━━━━\u001b[0m \u001b[1m3:16\u001b[0m 3s/step - loss: 6624.8979 - mean_absolute_percentage_error: 98.8870 "
     ]
    },
    {
     "ename": "KeyboardInterrupt",
     "evalue": "",
     "output_type": "error",
     "traceback": [
      "\u001b[1;31m---------------------------------------------------------------------------\u001b[0m",
      "\u001b[1;31mKeyboardInterrupt\u001b[0m                         Traceback (most recent call last)",
      "Cell \u001b[1;32mIn[13], line 2\u001b[0m\n\u001b[0;32m      1\u001b[0m \u001b[38;5;66;03m# Train the model\u001b[39;00m\n\u001b[1;32m----> 2\u001b[0m history \u001b[38;5;241m=\u001b[39m model\u001b[38;5;241m.\u001b[39mfit(\n\u001b[0;32m      3\u001b[0m     train_dataset,\n\u001b[0;32m      4\u001b[0m     epochs\u001b[38;5;241m=\u001b[39mEPOCHS,\n\u001b[0;32m      5\u001b[0m     validation_data\u001b[38;5;241m=\u001b[39mval_dataset,\n\u001b[0;32m      6\u001b[0m     steps_per_epoch\u001b[38;5;241m=\u001b[39msteps_per_epoch,\n\u001b[0;32m      7\u001b[0m     validation_steps\u001b[38;5;241m=\u001b[39mvalidation_steps,\n\u001b[0;32m      8\u001b[0m     verbose\u001b[38;5;241m=\u001b[39m\u001b[38;5;241m1\u001b[39m,\n\u001b[0;32m      9\u001b[0m     callbacks\u001b[38;5;241m=\u001b[39m[earlystopping, epoch_logger, lr_scheduler, checkpoint_callback]\n\u001b[0;32m     10\u001b[0m )\n",
      "File \u001b[1;32mc:\\Users\\nicol\\anaconda_nicola\\envs\\Grano\\Lib\\site-packages\\keras\\src\\utils\\traceback_utils.py:117\u001b[0m, in \u001b[0;36mfilter_traceback.<locals>.error_handler\u001b[1;34m(*args, **kwargs)\u001b[0m\n\u001b[0;32m    115\u001b[0m filtered_tb \u001b[38;5;241m=\u001b[39m \u001b[38;5;28;01mNone\u001b[39;00m\n\u001b[0;32m    116\u001b[0m \u001b[38;5;28;01mtry\u001b[39;00m:\n\u001b[1;32m--> 117\u001b[0m     \u001b[38;5;28;01mreturn\u001b[39;00m fn(\u001b[38;5;241m*\u001b[39margs, \u001b[38;5;241m*\u001b[39m\u001b[38;5;241m*\u001b[39mkwargs)\n\u001b[0;32m    118\u001b[0m \u001b[38;5;28;01mexcept\u001b[39;00m \u001b[38;5;167;01mException\u001b[39;00m \u001b[38;5;28;01mas\u001b[39;00m e:\n\u001b[0;32m    119\u001b[0m     filtered_tb \u001b[38;5;241m=\u001b[39m _process_traceback_frames(e\u001b[38;5;241m.\u001b[39m__traceback__)\n",
      "File \u001b[1;32mc:\\Users\\nicol\\anaconda_nicola\\envs\\Grano\\Lib\\site-packages\\keras\\src\\backend\\tensorflow\\trainer.py:320\u001b[0m, in \u001b[0;36mTensorFlowTrainer.fit\u001b[1;34m(self, x, y, batch_size, epochs, verbose, callbacks, validation_split, validation_data, shuffle, class_weight, sample_weight, initial_epoch, steps_per_epoch, validation_steps, validation_batch_size, validation_freq)\u001b[0m\n\u001b[0;32m    318\u001b[0m \u001b[38;5;28;01mfor\u001b[39;00m step, iterator \u001b[38;5;129;01min\u001b[39;00m epoch_iterator\u001b[38;5;241m.\u001b[39menumerate_epoch():\n\u001b[0;32m    319\u001b[0m     callbacks\u001b[38;5;241m.\u001b[39mon_train_batch_begin(step)\n\u001b[1;32m--> 320\u001b[0m     logs \u001b[38;5;241m=\u001b[39m \u001b[38;5;28mself\u001b[39m\u001b[38;5;241m.\u001b[39mtrain_function(iterator)\n\u001b[0;32m    321\u001b[0m     logs \u001b[38;5;241m=\u001b[39m \u001b[38;5;28mself\u001b[39m\u001b[38;5;241m.\u001b[39m_pythonify_logs(logs)\n\u001b[0;32m    322\u001b[0m     callbacks\u001b[38;5;241m.\u001b[39mon_train_batch_end(step, logs)\n",
      "File \u001b[1;32mc:\\Users\\nicol\\anaconda_nicola\\envs\\Grano\\Lib\\site-packages\\tensorflow\\python\\util\\traceback_utils.py:150\u001b[0m, in \u001b[0;36mfilter_traceback.<locals>.error_handler\u001b[1;34m(*args, **kwargs)\u001b[0m\n\u001b[0;32m    148\u001b[0m filtered_tb \u001b[38;5;241m=\u001b[39m \u001b[38;5;28;01mNone\u001b[39;00m\n\u001b[0;32m    149\u001b[0m \u001b[38;5;28;01mtry\u001b[39;00m:\n\u001b[1;32m--> 150\u001b[0m   \u001b[38;5;28;01mreturn\u001b[39;00m fn(\u001b[38;5;241m*\u001b[39margs, \u001b[38;5;241m*\u001b[39m\u001b[38;5;241m*\u001b[39mkwargs)\n\u001b[0;32m    151\u001b[0m \u001b[38;5;28;01mexcept\u001b[39;00m \u001b[38;5;167;01mException\u001b[39;00m \u001b[38;5;28;01mas\u001b[39;00m e:\n\u001b[0;32m    152\u001b[0m   filtered_tb \u001b[38;5;241m=\u001b[39m _process_traceback_frames(e\u001b[38;5;241m.\u001b[39m__traceback__)\n",
      "File \u001b[1;32mc:\\Users\\nicol\\anaconda_nicola\\envs\\Grano\\Lib\\site-packages\\tensorflow\\python\\eager\\polymorphic_function\\polymorphic_function.py:833\u001b[0m, in \u001b[0;36mFunction.__call__\u001b[1;34m(self, *args, **kwds)\u001b[0m\n\u001b[0;32m    830\u001b[0m compiler \u001b[38;5;241m=\u001b[39m \u001b[38;5;124m\"\u001b[39m\u001b[38;5;124mxla\u001b[39m\u001b[38;5;124m\"\u001b[39m \u001b[38;5;28;01mif\u001b[39;00m \u001b[38;5;28mself\u001b[39m\u001b[38;5;241m.\u001b[39m_jit_compile \u001b[38;5;28;01melse\u001b[39;00m \u001b[38;5;124m\"\u001b[39m\u001b[38;5;124mnonXla\u001b[39m\u001b[38;5;124m\"\u001b[39m\n\u001b[0;32m    832\u001b[0m \u001b[38;5;28;01mwith\u001b[39;00m OptionalXlaContext(\u001b[38;5;28mself\u001b[39m\u001b[38;5;241m.\u001b[39m_jit_compile):\n\u001b[1;32m--> 833\u001b[0m   result \u001b[38;5;241m=\u001b[39m \u001b[38;5;28mself\u001b[39m\u001b[38;5;241m.\u001b[39m_call(\u001b[38;5;241m*\u001b[39margs, \u001b[38;5;241m*\u001b[39m\u001b[38;5;241m*\u001b[39mkwds)\n\u001b[0;32m    835\u001b[0m new_tracing_count \u001b[38;5;241m=\u001b[39m \u001b[38;5;28mself\u001b[39m\u001b[38;5;241m.\u001b[39mexperimental_get_tracing_count()\n\u001b[0;32m    836\u001b[0m without_tracing \u001b[38;5;241m=\u001b[39m (tracing_count \u001b[38;5;241m==\u001b[39m new_tracing_count)\n",
      "File \u001b[1;32mc:\\Users\\nicol\\anaconda_nicola\\envs\\Grano\\Lib\\site-packages\\tensorflow\\python\\eager\\polymorphic_function\\polymorphic_function.py:878\u001b[0m, in \u001b[0;36mFunction._call\u001b[1;34m(self, *args, **kwds)\u001b[0m\n\u001b[0;32m    875\u001b[0m \u001b[38;5;28mself\u001b[39m\u001b[38;5;241m.\u001b[39m_lock\u001b[38;5;241m.\u001b[39mrelease()\n\u001b[0;32m    876\u001b[0m \u001b[38;5;66;03m# In this case we have not created variables on the first call. So we can\u001b[39;00m\n\u001b[0;32m    877\u001b[0m \u001b[38;5;66;03m# run the first trace but we should fail if variables are created.\u001b[39;00m\n\u001b[1;32m--> 878\u001b[0m results \u001b[38;5;241m=\u001b[39m tracing_compilation\u001b[38;5;241m.\u001b[39mcall_function(\n\u001b[0;32m    879\u001b[0m     args, kwds, \u001b[38;5;28mself\u001b[39m\u001b[38;5;241m.\u001b[39m_variable_creation_config\n\u001b[0;32m    880\u001b[0m )\n\u001b[0;32m    881\u001b[0m \u001b[38;5;28;01mif\u001b[39;00m \u001b[38;5;28mself\u001b[39m\u001b[38;5;241m.\u001b[39m_created_variables:\n\u001b[0;32m    882\u001b[0m   \u001b[38;5;28;01mraise\u001b[39;00m \u001b[38;5;167;01mValueError\u001b[39;00m(\u001b[38;5;124m\"\u001b[39m\u001b[38;5;124mCreating variables on a non-first call to a function\u001b[39m\u001b[38;5;124m\"\u001b[39m\n\u001b[0;32m    883\u001b[0m                    \u001b[38;5;124m\"\u001b[39m\u001b[38;5;124m decorated with tf.function.\u001b[39m\u001b[38;5;124m\"\u001b[39m)\n",
      "File \u001b[1;32mc:\\Users\\nicol\\anaconda_nicola\\envs\\Grano\\Lib\\site-packages\\tensorflow\\python\\eager\\polymorphic_function\\tracing_compilation.py:139\u001b[0m, in \u001b[0;36mcall_function\u001b[1;34m(args, kwargs, tracing_options)\u001b[0m\n\u001b[0;32m    137\u001b[0m bound_args \u001b[38;5;241m=\u001b[39m function\u001b[38;5;241m.\u001b[39mfunction_type\u001b[38;5;241m.\u001b[39mbind(\u001b[38;5;241m*\u001b[39margs, \u001b[38;5;241m*\u001b[39m\u001b[38;5;241m*\u001b[39mkwargs)\n\u001b[0;32m    138\u001b[0m flat_inputs \u001b[38;5;241m=\u001b[39m function\u001b[38;5;241m.\u001b[39mfunction_type\u001b[38;5;241m.\u001b[39munpack_inputs(bound_args)\n\u001b[1;32m--> 139\u001b[0m \u001b[38;5;28;01mreturn\u001b[39;00m function\u001b[38;5;241m.\u001b[39m_call_flat(  \u001b[38;5;66;03m# pylint: disable=protected-access\u001b[39;00m\n\u001b[0;32m    140\u001b[0m     flat_inputs, captured_inputs\u001b[38;5;241m=\u001b[39mfunction\u001b[38;5;241m.\u001b[39mcaptured_inputs\n\u001b[0;32m    141\u001b[0m )\n",
      "File \u001b[1;32mc:\\Users\\nicol\\anaconda_nicola\\envs\\Grano\\Lib\\site-packages\\tensorflow\\python\\eager\\polymorphic_function\\concrete_function.py:1322\u001b[0m, in \u001b[0;36mConcreteFunction._call_flat\u001b[1;34m(self, tensor_inputs, captured_inputs)\u001b[0m\n\u001b[0;32m   1318\u001b[0m possible_gradient_type \u001b[38;5;241m=\u001b[39m gradients_util\u001b[38;5;241m.\u001b[39mPossibleTapeGradientTypes(args)\n\u001b[0;32m   1319\u001b[0m \u001b[38;5;28;01mif\u001b[39;00m (possible_gradient_type \u001b[38;5;241m==\u001b[39m gradients_util\u001b[38;5;241m.\u001b[39mPOSSIBLE_GRADIENT_TYPES_NONE\n\u001b[0;32m   1320\u001b[0m     \u001b[38;5;129;01mand\u001b[39;00m executing_eagerly):\n\u001b[0;32m   1321\u001b[0m   \u001b[38;5;66;03m# No tape is watching; skip to running the function.\u001b[39;00m\n\u001b[1;32m-> 1322\u001b[0m   \u001b[38;5;28;01mreturn\u001b[39;00m \u001b[38;5;28mself\u001b[39m\u001b[38;5;241m.\u001b[39m_inference_function\u001b[38;5;241m.\u001b[39mcall_preflattened(args)\n\u001b[0;32m   1323\u001b[0m forward_backward \u001b[38;5;241m=\u001b[39m \u001b[38;5;28mself\u001b[39m\u001b[38;5;241m.\u001b[39m_select_forward_and_backward_functions(\n\u001b[0;32m   1324\u001b[0m     args,\n\u001b[0;32m   1325\u001b[0m     possible_gradient_type,\n\u001b[0;32m   1326\u001b[0m     executing_eagerly)\n\u001b[0;32m   1327\u001b[0m forward_function, args_with_tangents \u001b[38;5;241m=\u001b[39m forward_backward\u001b[38;5;241m.\u001b[39mforward()\n",
      "File \u001b[1;32mc:\\Users\\nicol\\anaconda_nicola\\envs\\Grano\\Lib\\site-packages\\tensorflow\\python\\eager\\polymorphic_function\\atomic_function.py:216\u001b[0m, in \u001b[0;36mAtomicFunction.call_preflattened\u001b[1;34m(self, args)\u001b[0m\n\u001b[0;32m    214\u001b[0m \u001b[38;5;28;01mdef\u001b[39;00m \u001b[38;5;21mcall_preflattened\u001b[39m(\u001b[38;5;28mself\u001b[39m, args: Sequence[core\u001b[38;5;241m.\u001b[39mTensor]) \u001b[38;5;241m-\u001b[39m\u001b[38;5;241m>\u001b[39m Any:\n\u001b[0;32m    215\u001b[0m \u001b[38;5;250m  \u001b[39m\u001b[38;5;124;03m\"\"\"Calls with flattened tensor inputs and returns the structured output.\"\"\"\u001b[39;00m\n\u001b[1;32m--> 216\u001b[0m   flat_outputs \u001b[38;5;241m=\u001b[39m \u001b[38;5;28mself\u001b[39m\u001b[38;5;241m.\u001b[39mcall_flat(\u001b[38;5;241m*\u001b[39margs)\n\u001b[0;32m    217\u001b[0m   \u001b[38;5;28;01mreturn\u001b[39;00m \u001b[38;5;28mself\u001b[39m\u001b[38;5;241m.\u001b[39mfunction_type\u001b[38;5;241m.\u001b[39mpack_output(flat_outputs)\n",
      "File \u001b[1;32mc:\\Users\\nicol\\anaconda_nicola\\envs\\Grano\\Lib\\site-packages\\tensorflow\\python\\eager\\polymorphic_function\\atomic_function.py:251\u001b[0m, in \u001b[0;36mAtomicFunction.call_flat\u001b[1;34m(self, *args)\u001b[0m\n\u001b[0;32m    249\u001b[0m \u001b[38;5;28;01mwith\u001b[39;00m record\u001b[38;5;241m.\u001b[39mstop_recording():\n\u001b[0;32m    250\u001b[0m   \u001b[38;5;28;01mif\u001b[39;00m \u001b[38;5;28mself\u001b[39m\u001b[38;5;241m.\u001b[39m_bound_context\u001b[38;5;241m.\u001b[39mexecuting_eagerly():\n\u001b[1;32m--> 251\u001b[0m     outputs \u001b[38;5;241m=\u001b[39m \u001b[38;5;28mself\u001b[39m\u001b[38;5;241m.\u001b[39m_bound_context\u001b[38;5;241m.\u001b[39mcall_function(\n\u001b[0;32m    252\u001b[0m         \u001b[38;5;28mself\u001b[39m\u001b[38;5;241m.\u001b[39mname,\n\u001b[0;32m    253\u001b[0m         \u001b[38;5;28mlist\u001b[39m(args),\n\u001b[0;32m    254\u001b[0m         \u001b[38;5;28mlen\u001b[39m(\u001b[38;5;28mself\u001b[39m\u001b[38;5;241m.\u001b[39mfunction_type\u001b[38;5;241m.\u001b[39mflat_outputs),\n\u001b[0;32m    255\u001b[0m     )\n\u001b[0;32m    256\u001b[0m   \u001b[38;5;28;01melse\u001b[39;00m:\n\u001b[0;32m    257\u001b[0m     outputs \u001b[38;5;241m=\u001b[39m make_call_op_in_graph(\n\u001b[0;32m    258\u001b[0m         \u001b[38;5;28mself\u001b[39m,\n\u001b[0;32m    259\u001b[0m         \u001b[38;5;28mlist\u001b[39m(args),\n\u001b[0;32m    260\u001b[0m         \u001b[38;5;28mself\u001b[39m\u001b[38;5;241m.\u001b[39m_bound_context\u001b[38;5;241m.\u001b[39mfunction_call_options\u001b[38;5;241m.\u001b[39mas_attrs(),\n\u001b[0;32m    261\u001b[0m     )\n",
      "File \u001b[1;32mc:\\Users\\nicol\\anaconda_nicola\\envs\\Grano\\Lib\\site-packages\\tensorflow\\python\\eager\\context.py:1552\u001b[0m, in \u001b[0;36mContext.call_function\u001b[1;34m(self, name, tensor_inputs, num_outputs)\u001b[0m\n\u001b[0;32m   1550\u001b[0m cancellation_context \u001b[38;5;241m=\u001b[39m cancellation\u001b[38;5;241m.\u001b[39mcontext()\n\u001b[0;32m   1551\u001b[0m \u001b[38;5;28;01mif\u001b[39;00m cancellation_context \u001b[38;5;129;01mis\u001b[39;00m \u001b[38;5;28;01mNone\u001b[39;00m:\n\u001b[1;32m-> 1552\u001b[0m   outputs \u001b[38;5;241m=\u001b[39m execute\u001b[38;5;241m.\u001b[39mexecute(\n\u001b[0;32m   1553\u001b[0m       name\u001b[38;5;241m.\u001b[39mdecode(\u001b[38;5;124m\"\u001b[39m\u001b[38;5;124mutf-8\u001b[39m\u001b[38;5;124m\"\u001b[39m),\n\u001b[0;32m   1554\u001b[0m       num_outputs\u001b[38;5;241m=\u001b[39mnum_outputs,\n\u001b[0;32m   1555\u001b[0m       inputs\u001b[38;5;241m=\u001b[39mtensor_inputs,\n\u001b[0;32m   1556\u001b[0m       attrs\u001b[38;5;241m=\u001b[39mattrs,\n\u001b[0;32m   1557\u001b[0m       ctx\u001b[38;5;241m=\u001b[39m\u001b[38;5;28mself\u001b[39m,\n\u001b[0;32m   1558\u001b[0m   )\n\u001b[0;32m   1559\u001b[0m \u001b[38;5;28;01melse\u001b[39;00m:\n\u001b[0;32m   1560\u001b[0m   outputs \u001b[38;5;241m=\u001b[39m execute\u001b[38;5;241m.\u001b[39mexecute_with_cancellation(\n\u001b[0;32m   1561\u001b[0m       name\u001b[38;5;241m.\u001b[39mdecode(\u001b[38;5;124m\"\u001b[39m\u001b[38;5;124mutf-8\u001b[39m\u001b[38;5;124m\"\u001b[39m),\n\u001b[0;32m   1562\u001b[0m       num_outputs\u001b[38;5;241m=\u001b[39mnum_outputs,\n\u001b[1;32m   (...)\u001b[0m\n\u001b[0;32m   1566\u001b[0m       cancellation_manager\u001b[38;5;241m=\u001b[39mcancellation_context,\n\u001b[0;32m   1567\u001b[0m   )\n",
      "File \u001b[1;32mc:\\Users\\nicol\\anaconda_nicola\\envs\\Grano\\Lib\\site-packages\\tensorflow\\python\\eager\\execute.py:53\u001b[0m, in \u001b[0;36mquick_execute\u001b[1;34m(op_name, num_outputs, inputs, attrs, ctx, name)\u001b[0m\n\u001b[0;32m     51\u001b[0m \u001b[38;5;28;01mtry\u001b[39;00m:\n\u001b[0;32m     52\u001b[0m   ctx\u001b[38;5;241m.\u001b[39mensure_initialized()\n\u001b[1;32m---> 53\u001b[0m   tensors \u001b[38;5;241m=\u001b[39m pywrap_tfe\u001b[38;5;241m.\u001b[39mTFE_Py_Execute(ctx\u001b[38;5;241m.\u001b[39m_handle, device_name, op_name,\n\u001b[0;32m     54\u001b[0m                                       inputs, attrs, num_outputs)\n\u001b[0;32m     55\u001b[0m \u001b[38;5;28;01mexcept\u001b[39;00m core\u001b[38;5;241m.\u001b[39m_NotOkStatusException \u001b[38;5;28;01mas\u001b[39;00m e:\n\u001b[0;32m     56\u001b[0m   \u001b[38;5;28;01mif\u001b[39;00m name \u001b[38;5;129;01mis\u001b[39;00m \u001b[38;5;129;01mnot\u001b[39;00m \u001b[38;5;28;01mNone\u001b[39;00m:\n",
      "\u001b[1;31mKeyboardInterrupt\u001b[0m: "
     ]
    }
   ],
   "source": [
    "# Train the model\n",
    "history = model.fit(\n",
    "    train_dataset,\n",
    "    epochs=EPOCHS,\n",
    "    validation_data=val_dataset,\n",
    "    steps_per_epoch=steps_per_epoch,\n",
    "    validation_steps=validation_steps,\n",
    "    verbose=1,\n",
    "    callbacks=[earlystopping, epoch_logger, lr_scheduler, checkpoint_callback]\n",
    ")\n"
   ]
  },
  {
   "cell_type": "markdown",
   "metadata": {},
   "source": [
    "## Visualize MAPE and Loss"
   ]
  },
  {
   "cell_type": "code",
   "execution_count": 22,
   "metadata": {},
   "outputs": [
    {
     "data": {
      "image/png": "[encoded data removed]",
      "text/plain": [
       "<Figure size 1200x600 with 2 Axes>"
      ]
     },
     "metadata": {},
     "output_type": "display_data"
    }
   ],
   "source": [
    "# Traccia la storia dell'addestramento\n",
    "def plot_training_history(history):\n",
    "    plt.figure(figsize=(12, 6))\n",
    "\n",
    "    # Grafico MAPE (Errore Percentuale Medio Assoluto)\n",
    "    plt.subplot(1, 2, 1)\n",
    "    plt.plot(history.history['mean_absolute_percentage_error'], label='Train MAPE')\n",
    "    plt.plot(history.history['val_mean_absolute_percentage_error'], label='Validation MAPE')\n",
    "    plt.title('Model MAPE')\n",
    "    plt.xlabel('Epoch')\n",
    "    plt.ylabel('MAPE')\n",
    "    plt.legend(loc='upper right')\n",
    "\n",
    "    # Grafico della perdita (Loss)\n",
    "    plt.subplot(1, 2, 2)\n",
    "    plt.plot(history.history['loss'], label='Train Loss')\n",
    "    plt.plot(history.history['val_loss'], label='Validation Loss')\n",
    "    plt.title('Model Loss')\n",
    "    plt.xlabel('Epoch')\n",
    "    plt.ylabel('Loss')\n",
    "    plt.legend(loc='upper right')\n",
    "\n",
    "    plt.tight_layout()\n",
    "    plt.savefig(output_dir + '/training_cnn_learning_curves.png')\n",
    "    plt.show()\n",
    "\n",
    "# Esegui la funzione per tracciare i grafici\n",
    "plot_training_history(history)\n"
   ]
  },
  {
   "cell_type": "markdown",
   "metadata": {},
   "source": [
    "## Save the Final Model "
   ]
  },
  {
   "cell_type": "code",
   "execution_count": 23,
   "metadata": {},
   "outputs": [],
   "source": [
    "# Save the final .keras model\n",
    "model.save(output_dir + '/modello_cnn_finale.keras')"
   ]
  },
  {
   "cell_type": "markdown",
   "metadata": {},
   "source": [
    "## Evaluating the Model on Test Dataset"
   ]
  },
  {
   "cell_type": "code",
   "execution_count": 24,
   "metadata": {},
   "outputs": [
    {
     "name": "stdout",
     "output_type": "stream",
     "text": [
      "\u001b[1m10/10\u001b[0m \u001b[32m━━━━━━━━━━━━━━━━━━━━\u001b[0m\u001b[37m\u001b[0m \u001b[1m13s\u001b[0m 1s/step \n",
      "\u001b[1m10/10\u001b[0m \u001b[32m━━━━━━━━━━━━━━━━━━━━\u001b[0m\u001b[37m\u001b[0m \u001b[1m7s\u001b[0m 695ms/step - loss: 1676.6881 - mean_absolute_percentage_error: 45.0956\n",
      "Metrics Results: {'loss': 1617.2923583984375, 'compile_metrics': 44.69553756713867}\n"
     ]
    }
   ],
   "source": [
    "# Funzione per ottenere i nomi dei file immagine nella directory specificata\n",
    "def get_image_filenames(directory):\n",
    "    valid_extensions = ('.jpg', '.jpeg', '.png', '.bmp', '.gif')  # Definisce le estensioni valide per i file immagine\n",
    "    filenames = [os.path.join(directory, img_name) for img_name in os.listdir(directory) \n",
    "                 if img_name.lower().endswith(valid_extensions)]  # Filtra i file per estensioni valide\n",
    "    return filenames  # Restituisce la lista dei percorsi completi dei file immagine\n",
    "\n",
    "# Funzione per caricare le etichette da un file Excel\n",
    "def load_labels_from_excel_with_filenames(excel_file):\n",
    "    df = pd.read_excel(excel_file)  # Carica il file Excel in un DataFrame Pandas\n",
    "    filenames = df['Filename'].values  # Estrae i nomi dei file dalle colonne del DataFrame\n",
    "    labels = df['RST'].values  # Estrae le etichette (RST) dalle colonne del DataFrame\n",
    "    return df, dict(zip(filenames, labels)), filenames  # Restituisce il DataFrame, un dizionario file-etichetta, e l'elenco dei nomi file\n",
    "\n",
    "# Funzione per caricare i dati di test: immagini e etichette\n",
    "def load_test_data(dataset_dir):\n",
    "    # Carica il DataFrame di test e il dizionario file-etichetta\n",
    "    test_df, test_labels_dict, test_filenames_from_excel = load_labels_from_excel_with_filenames(os.path.join(dataset_dir, 'test.xlsx'))\n",
    "    test_image_filenames = get_image_filenames(os.path.join(dataset_dir, 'test'))  # Ottiene i nomi dei file immagine\n",
    "    \n",
    "    # Filtra le immagini che non hanno corrispondenza nelle etichette\n",
    "    true_labels_from_excel = []\n",
    "    for fname in test_image_filenames:\n",
    "        base_name = os.path.basename(fname)  # Estrae il nome del file\n",
    "        if base_name in test_labels_dict:  # Verifica se il file ha un'etichetta corrispondente\n",
    "            true_labels_from_excel.append(test_labels_dict[base_name])  # Aggiunge l'etichetta corrispondente\n",
    "        else:\n",
    "            print(f\"Warning: '{base_name}' not found in the Excel file and will be skipped.\")  # Avviso per file senza etichetta\n",
    "\n",
    "    return test_df, test_image_filenames, test_labels_dict, test_filenames_from_excel, true_labels_from_excel  # Restituisce i dati di test\n",
    "\n",
    "# Funzione per calcolare il numero di passi (batch) necessari per processare l'insieme di test\n",
    "def calculate_test_steps(test_image_filenames, batch_size):\n",
    "    return np.ceil(len(test_image_filenames) / batch_size).astype(int)  # Calcola e restituisce il numero di batch\n",
    "\n",
    "# Funzione per eseguire le predizioni sul dataset di test\n",
    "def predict_results(model, test_dataset, test_steps):\n",
    "    start_time = time.time()  # Inizia il timer\n",
    "    preds = model.predict(test_dataset, steps=test_steps)  # Esegue le predizioni sui dati di test\n",
    "    test_duration = time.time() - start_time  # Calcola la durata del test\n",
    "    return preds, test_duration  # Restituisce le predizioni e la durata del test\n",
    "\n",
    "# Funzione per valutare il modello sul dataset di test\n",
    "def evaluate_model(model, test_dataset, test_steps):\n",
    "    result = model.evaluate(test_dataset, steps=test_steps)  # Valuta il modello e calcola le metriche\n",
    "    metrics_result = dict(zip(model.metrics_names, result))  # Crea un dizionario con i nomi delle metriche e i rispettivi valori\n",
    "    print('Metrics Results:', metrics_result)  # Stampa le metriche di valutazione\n",
    "    return metrics_result  # Restituisce le metriche\n",
    "\n",
    "# Funzione per aggiungere le etichette previste al DataFrame originale\n",
    "def add_predicted_labels_to_df(test_df, test_labels_pred, test_filenames_from_excel, test_image_filenames):\n",
    "    test_df['Predicted Label'] = [\n",
    "        test_labels_pred[test_filenames_from_excel.tolist().index(os.path.basename(fname))]\n",
    "        if os.path.basename(fname) in test_filenames_from_excel else None  # Aggiunge la predizione solo se il file ha una corrispondenza\n",
    "        for fname in test_image_filenames\n",
    "    ]\n",
    "    return test_df  # Restituisce il DataFrame aggiornato con le predizioni\n",
    "\n",
    "# Funzione per creare un DataFrame con i risultati del test\n",
    "def create_test_results_df(test_duration, metrics_result):\n",
    "    test_loss = metrics_result.get('loss')  # Ottiene la perdita dal dizionario delle metriche\n",
    "    test_mape = metrics_result.get('compile_metrics')  # Ottiene il MAPE (da modificare se necessario)\n",
    "    return pd.DataFrame({\n",
    "        'Metric': ['Test Duration [s]', 'Test Loss', 'Test MAPE'],  # Crea un DataFrame con le metriche principali\n",
    "        'Value': [test_duration, test_loss, test_mape]\n",
    "    })\n",
    "\n",
    "# Funzione per raggruppare per 'PLOT' e calcolare la media della 'Predicted Label' e MAPE\n",
    "def group_by_plot_and_calculate_metrics(test_df):\n",
    "    grouped_df = test_df.groupby('PLOT').agg({\n",
    "        'RST': 'first',  # Assume che RST sia lo stesso all'interno di ogni PLOT\n",
    "        'CROP': 'first',  # Assume che CROP sia lo stesso all'interno di ogni PLOT\n",
    "        'Predicted Label': 'mean'  # Calcola la media delle predizioni per ogni PLOT\n",
    "    }).reset_index()\n",
    "    grouped_df['MAPE'] = abs((grouped_df['RST'] - grouped_df['Predicted Label']) / grouped_df['RST']) * 100  # Calcola il MAPE\n",
    "    overall_mape = grouped_df['MAPE'].mean()  # Calcola il MAPE complessivo\n",
    "    overall_mape_df = pd.DataFrame({\n",
    "        'PLOT': ['Overall'],\n",
    "        'RST': [None],\n",
    "        'CROP': [None],\n",
    "        'Predicted Label': [None],\n",
    "        'MAPE': [overall_mape]\n",
    "    }).dropna(axis=1, how='all')  # Crea una riga aggiuntiva per il MAPE complessivo\n",
    "    grouped_df = pd.concat([grouped_df, overall_mape_df], ignore_index=True)  # Unisce i risultati\n",
    "    return grouped_df  # Restituisce il DataFrame raggruppato\n",
    "\n",
    "# Funzione per salvare i DataFrame in un file Excel\n",
    "def save_to_excel(output_dir, test_results_df, test_df, grouped_df):\n",
    "    with pd.ExcelWriter(os.path.join(output_dir, 'test_cnn.xlsx')) as writer:\n",
    "        test_results_df.to_excel(writer, sheet_name='Test Results', index=False)  # Salva i risultati del test\n",
    "        test_df.to_excel(writer, sheet_name='Tile Predictions', index=False)  # Salva il DataFrame delle predizioni\n",
    "        grouped_df.to_excel(writer, sheet_name='Plot Predictions', index=False)  # Salva il DataFrame raggruppato\n",
    "\n",
    "# Workflow principale che coordina tutte le operazioni\n",
    "def main(dataset_dir, output_dir, model, test_dataset, batch_size):\n",
    "    test_df, test_image_filenames, test_labels_dict, test_filenames_from_excel, true_labels_from_excel = load_test_data(dataset_dir)  # Carica i dati di test\n",
    "    test_steps = calculate_test_steps(test_image_filenames, batch_size)  # Calcola il numero di passi di test\n",
    "    preds, test_duration = predict_results(model, test_dataset, test_steps)  # Esegue le predizioni\n",
    "    metrics_result = evaluate_model(model, test_dataset, test_steps)  # Valuta il modello\n",
    "    test_labels_pred = preds.flatten()  # Appiattisce l'array delle predizioni\n",
    "    test_df = add_predicted_labels_to_df(test_df, test_labels_pred, test_filenames_from_excel, test_image_filenames)  # Aggiunge le predizioni al DataFrame\n",
    "    test_results_df = create_test_results_df(test_duration, metrics_result)  # Crea il DataFrame con i risultati del test\n",
    "    grouped_df = group_by_plot_and_calculate_metrics(test_df)  # Raggruppa per PLOT e calcola le metriche\n",
    "    save_to_excel(output_dir, test_results_df, test_df, grouped_df)  # Salva tutto in un file Excel\n",
    "\n",
    "# Chiamata alla funzione principale con i parametri specificati\n",
    "main(dataset_dir, output_dir, model, test_dataset, BATCH_SIZE)\n",
    "\n"
   ]
  },
  {
   "cell_type": "markdown",
   "metadata": {},
   "source": [
    "1. Caricamento dei File Immagine e delle Etichette\n",
    "- Funzione: load_test_data\n",
    "- Processo:\n",
    "    - Caricamento delle Immagini: La CPU legge i nomi dei file immagine dal disco e li carica in RAM come una lista di percorsi.\n",
    "    - Caricamento delle Etichette: Viene caricato il file Excel contenente le etichette in un DataFrame Pandas (test_df).\n",
    "    - Corrispondenza Immagini-Etichette: Le immagini che non hanno una corrispondenza nelle etichette vengono filtrate e ignorate. Le etichette corrispondenti vengono memorizzate in un dizionario (test_labels_dict) e in un array (true_labels_from_excel).\n",
    " \n",
    "2. Calcolo dei Passi per il Test\n",
    "- Funzione: calculate_test_steps\n",
    "- Processo:\n",
    "    - La CPU calcola il numero di batch necessari per processare tutte le immagini di test, basandosi sul numero totale di immagini e sulla dimensione del batch.\n",
    "    - Questo valore (test_steps) viene memorizzato in RAM per l'utilizzo successivo.\n",
    " \n",
    "3. Predizione dei Risultati sul Dataset di Test\n",
    "- Funzione: predict_results\n",
    "- Processo:\n",
    "    - Batch Processing: Il modello processa le immagini in batch (ad es., 32 immagini per batch).\n",
    "    - Parallelismo: Ogni batch viene processato in parallelo sulla GPU/TPU, con tutte le immagini nel batch elaborate contemporaneamente.\n",
    "    - Output: Per ogni batch, il modello genera un array di predizioni (etichette previste) per ciascuna immagine. Questo array viene accumulato fino a coprire tutte le immagini di test.\n",
    "    - Memoria: Solo un batch è caricato in RAM alla volta. Una volta processato, le predizioni vengono salvate in un array (test_labels_pred), e la memoria è liberata per il batch successivo.\n",
    "    - Risultato Finale: Alla fine del processo, tutte le predizioni per le immagini di test sono state accumulate in test_labels_pred.\n",
    " \n",
    "4. Valutazione del Modello sul Dataset di Test\n",
    "- Funzione: evaluate_model\n",
    "- Processo:\n",
    "    - Batch Processing: Come nella predizione, le immagini sono processate in batch.\n",
    "    - Parallelismo: La GPU/TPU elabora le immagini in parallelo per ciascun batch.\n",
    "    - Calcolo delle Metriche: Oltre a fare le predizioni, il modello calcola la perdita (loss) e il MAPE per ogni batch.\n",
    "    - Aggregazione delle Metriche:\n",
    "        - Dopo aver calcolato le metriche per un batch, queste vengono combinate con le metriche calcolate sui batch precedenti.\n",
    "        - Alla fine della valutazione su tutti i batch, le metriche finali, come la media della perdita e del MAPE, sono calcolate per l'intero dataset di test.\n",
    "    - Output: Queste metriche finali vengono memorizzate in un dizionario (metrics_result), che rappresenta la performance complessiva del modello su tutto il dataset di test.\n",
    " \n",
    "5. Aggiunta delle Predizioni al DataFrame\n",
    "- Funzione: add_predicted_labels_to_df\n",
    "- Processo:\n",
    "    - Le predizioni ottenute dal modello (test_labels_pred) vengono aggiunte come nuova colonna (Predicted Label) al DataFrame originale test_df, associando ciascuna predizione all'immagine corrispondente.\n",
    " \n",
    "6. Creazione del DataFrame dei Risultati di Test\n",
    "- Funzione: create_test_results_df\n",
    "- Processo:\n",
    "    - Viene creato un nuovo DataFrame (test_results_df) che contiene:\n",
    "        - La durata totale del test (test_duration).\n",
    "        - La perdita finale (test_loss) e il MAPE calcolato (test_mape) su tutto il dataset di test.\n",
    "    - Questo DataFrame è utilizzato per riportare i risultati complessivi della valutazione.\n",
    "\n",
    "7. Raggruppamento per \"PLOT\" e Calcolo delle Metriche\n",
    "- Funzione: group_by_plot_and_calculate_metrics\n",
    "- Processo:\n",
    "    - I dati di test_df vengono raggruppati per \"PLOT\", e per ogni gruppo vengono calcolate le medie delle predizioni e il MAPE.\n",
    "    - Un ulteriore DataFrame (grouped_df) viene creato per rappresentare queste metriche raggruppate, inclusa una riga aggiuntiva che mostra il MAPE complessivo per tutto il dataset.\n",
    "\n",
    "8. alvataggio dei Risultati in un File Excel\n",
    "- Funzione: save_to_excel\n",
    "- Processo:\n",
    "    - Tutti i DataFrame generati (test_results_df, test_df, grouped_df) vengono salvati in un file Excel sul disco.\n",
    "    - La memoria RAM viene liberata una volta che i dati sono scritti su disco, completando così il workflow."
   ]
  },
  {
   "cell_type": "markdown",
   "metadata": {},
   "source": [
    "## Final message"
   ]
  },
  {
   "cell_type": "code",
   "execution_count": 25,
   "metadata": {},
   "outputs": [
    {
     "name": "stdout",
     "output_type": "stream",
     "text": [
      "Il processo si è concluso\n"
     ]
    }
   ],
   "source": [
    "# Create a completion marker file\n",
    "with open(output_dir + '/FATTO!.txt', 'w') as file:\n",
    "    file.write('Evviva!')\n",
    "\n",
    "print('Il processo si è concluso')\n"
   ]
  },
  {
   "cell_type": "markdown",
   "metadata": {},
   "source": [
    "# **Feature extraction**"
   ]
  },
  {
   "cell_type": "code",
   "execution_count": 27,
   "metadata": {},
   "outputs": [
    {
     "name": "stderr",
     "output_type": "stream",
     "text": [
      "Extracting features:   0%|                                                                      | 0/33 [00:00<?, ?it/s]"
     ]
    },
    {
     "name": "stdout",
     "output_type": "stream",
     "text": [
      "\u001b[1m1/1\u001b[0m \u001b[32m━━━━━━━━━━━━━━━━━━━━\u001b[0m\u001b[37m\u001b[0m \u001b[1m5s\u001b[0m 5s/step\n"
     ]
    },
    {
     "name": "stderr",
     "output_type": "stream",
     "text": [
      "Extracting features:   3%|█▉                                                            | 1/33 [00:05<02:43,  5.11s/it]"
     ]
    },
    {
     "name": "stdout",
     "output_type": "stream",
     "text": [
      "\u001b[1m1/1\u001b[0m \u001b[32m━━━━━━━━━━━━━━━━━━━━\u001b[0m\u001b[37m\u001b[0m \u001b[1m1s\u001b[0m 1s/step\n"
     ]
    },
    {
     "name": "stderr",
     "output_type": "stream",
     "text": [
      "Extracting features:   6%|███▊                                                          | 2/33 [00:06<01:31,  2.95s/it]"
     ]
    },
    {
     "name": "stdout",
     "output_type": "stream",
     "text": [
      "\u001b[1m1/1\u001b[0m \u001b[32m━━━━━━━━━━━━━━━━━━━━\u001b[0m\u001b[37m\u001b[0m \u001b[1m1s\u001b[0m 1s/step\n"
     ]
    },
    {
     "name": "stderr",
     "output_type": "stream",
     "text": [
      "Extracting features:   9%|█████▋                                                        | 3/33 [00:08<01:08,  2.29s/it]"
     ]
    },
    {
     "name": "stdout",
     "output_type": "stream",
     "text": [
      "\u001b[1m1/1\u001b[0m \u001b[32m━━━━━━━━━━━━━━━━━━━━\u001b[0m\u001b[37m\u001b[0m \u001b[1m1s\u001b[0m 1s/step\n"
     ]
    },
    {
     "name": "stderr",
     "output_type": "stream",
     "text": [
      "Extracting features:  12%|███████▌                                                      | 4/33 [00:09<00:56,  1.95s/it]"
     ]
    },
    {
     "name": "stdout",
     "output_type": "stream",
     "text": [
      "\u001b[1m1/1\u001b[0m \u001b[32m━━━━━━━━━━━━━━━━━━━━\u001b[0m\u001b[37m\u001b[0m \u001b[1m1s\u001b[0m 1s/step\n"
     ]
    },
    {
     "name": "stderr",
     "output_type": "stream",
     "text": [
      "Extracting features:  15%|█████████▍                                                    | 5/33 [00:10<00:49,  1.77s/it]"
     ]
    },
    {
     "name": "stdout",
     "output_type": "stream",
     "text": [
      "\u001b[1m1/1\u001b[0m \u001b[32m━━━━━━━━━━━━━━━━━━━━\u001b[0m\u001b[37m\u001b[0m \u001b[1m1s\u001b[0m 1s/step\n"
     ]
    },
    {
     "name": "stderr",
     "output_type": "stream",
     "text": [
      "Extracting features:  18%|███████████▎                                                  | 6/33 [00:12<00:45,  1.67s/it]"
     ]
    },
    {
     "name": "stdout",
     "output_type": "stream",
     "text": [
      "\u001b[1m1/1\u001b[0m \u001b[32m━━━━━━━━━━━━━━━━━━━━\u001b[0m\u001b[37m\u001b[0m \u001b[1m1s\u001b[0m 1s/step\n"
     ]
    },
    {
     "name": "stderr",
     "output_type": "stream",
     "text": [
      "Extracting features:  21%|█████████████▏                                                | 7/33 [00:13<00:41,  1.61s/it]"
     ]
    },
    {
     "name": "stdout",
     "output_type": "stream",
     "text": [
      "\u001b[1m1/1\u001b[0m \u001b[32m━━━━━━━━━━━━━━━━━━━━\u001b[0m\u001b[37m\u001b[0m \u001b[1m1s\u001b[0m 1s/step\n"
     ]
    },
    {
     "name": "stderr",
     "output_type": "stream",
     "text": [
      "Extracting features:  24%|███████████████                                               | 8/33 [00:15<00:39,  1.56s/it]"
     ]
    },
    {
     "name": "stdout",
     "output_type": "stream",
     "text": [
      "\u001b[1m1/1\u001b[0m \u001b[32m━━━━━━━━━━━━━━━━━━━━\u001b[0m\u001b[37m\u001b[0m \u001b[1m1s\u001b[0m 1s/step\n"
     ]
    },
    {
     "name": "stderr",
     "output_type": "stream",
     "text": [
      "Extracting features:  27%|████████████████▉                                             | 9/33 [00:16<00:36,  1.54s/it]"
     ]
    },
    {
     "name": "stdout",
     "output_type": "stream",
     "text": [
      "\u001b[1m1/1\u001b[0m \u001b[32m━━━━━━━━━━━━━━━━━━━━\u001b[0m\u001b[37m\u001b[0m \u001b[1m1s\u001b[0m 1s/step\n"
     ]
    },
    {
     "name": "stderr",
     "output_type": "stream",
     "text": [
      "Extracting features:  30%|██████████████████▍                                          | 10/33 [00:18<00:35,  1.53s/it]"
     ]
    },
    {
     "name": "stdout",
     "output_type": "stream",
     "text": [
      "\u001b[1m1/1\u001b[0m \u001b[32m━━━━━━━━━━━━━━━━━━━━\u001b[0m\u001b[37m\u001b[0m \u001b[1m1s\u001b[0m 1s/step\n"
     ]
    },
    {
     "name": "stderr",
     "output_type": "stream",
     "text": [
      "Extracting features:  33%|████████████████████▎                                        | 11/33 [00:19<00:33,  1.53s/it]"
     ]
    },
    {
     "name": "stdout",
     "output_type": "stream",
     "text": [
      "\u001b[1m1/1\u001b[0m \u001b[32m━━━━━━━━━━━━━━━━━━━━\u001b[0m\u001b[37m\u001b[0m \u001b[1m1s\u001b[0m 1s/step\n"
     ]
    },
    {
     "name": "stderr",
     "output_type": "stream",
     "text": [
      "Extracting features:  36%|██████████████████████▏                                      | 12/33 [00:21<00:31,  1.52s/it]"
     ]
    },
    {
     "name": "stdout",
     "output_type": "stream",
     "text": [
      "\u001b[1m1/1\u001b[0m \u001b[32m━━━━━━━━━━━━━━━━━━━━\u001b[0m\u001b[37m\u001b[0m \u001b[1m1s\u001b[0m 1s/step\n"
     ]
    },
    {
     "name": "stderr",
     "output_type": "stream",
     "text": [
      "Extracting features:  39%|████████████████████████                                     | 13/33 [00:22<00:29,  1.50s/it]"
     ]
    },
    {
     "name": "stdout",
     "output_type": "stream",
     "text": [
      "\u001b[1m1/1\u001b[0m \u001b[32m━━━━━━━━━━━━━━━━━━━━\u001b[0m\u001b[37m\u001b[0m \u001b[1m1s\u001b[0m 1s/step\n"
     ]
    },
    {
     "name": "stderr",
     "output_type": "stream",
     "text": [
      "Extracting features:  42%|█████████████████████████▉                                   | 14/33 [00:24<00:28,  1.48s/it]"
     ]
    },
    {
     "name": "stdout",
     "output_type": "stream",
     "text": [
      "\u001b[1m1/1\u001b[0m \u001b[32m━━━━━━━━━━━━━━━━━━━━\u001b[0m\u001b[37m\u001b[0m \u001b[1m1s\u001b[0m 1s/step\n"
     ]
    },
    {
     "name": "stderr",
     "output_type": "stream",
     "text": [
      "Extracting features:  45%|███████████████████████████▋                                 | 15/33 [00:25<00:26,  1.49s/it]"
     ]
    },
    {
     "name": "stdout",
     "output_type": "stream",
     "text": [
      "\u001b[1m1/1\u001b[0m \u001b[32m━━━━━━━━━━━━━━━━━━━━\u001b[0m\u001b[37m\u001b[0m \u001b[1m1s\u001b[0m 1s/step\n"
     ]
    },
    {
     "name": "stderr",
     "output_type": "stream",
     "text": [
      "Extracting features:  48%|█████████████████████████████▌                               | 16/33 [00:27<00:25,  1.49s/it]"
     ]
    },
    {
     "name": "stdout",
     "output_type": "stream",
     "text": [
      "\u001b[1m1/1\u001b[0m \u001b[32m━━━━━━━━━━━━━━━━━━━━\u001b[0m\u001b[37m\u001b[0m \u001b[1m1s\u001b[0m 1s/step\n"
     ]
    },
    {
     "name": "stderr",
     "output_type": "stream",
     "text": [
      "Extracting features:  52%|███████████████████████████████▍                             | 17/33 [00:28<00:23,  1.50s/it]"
     ]
    },
    {
     "name": "stdout",
     "output_type": "stream",
     "text": [
      "\u001b[1m1/1\u001b[0m \u001b[32m━━━━━━━━━━━━━━━━━━━━\u001b[0m\u001b[37m\u001b[0m \u001b[1m1s\u001b[0m 1s/step\n"
     ]
    },
    {
     "name": "stderr",
     "output_type": "stream",
     "text": [
      "Extracting features:  55%|█████████████████████████████████▎                           | 18/33 [00:30<00:22,  1.50s/it]"
     ]
    },
    {
     "name": "stdout",
     "output_type": "stream",
     "text": [
      "\u001b[1m1/1\u001b[0m \u001b[32m━━━━━━━━━━━━━━━━━━━━\u001b[0m\u001b[37m\u001b[0m \u001b[1m1s\u001b[0m 1s/step\n"
     ]
    },
    {
     "name": "stderr",
     "output_type": "stream",
     "text": [
      "Extracting features:  58%|███████████████████████████████████                          | 19/33 [00:31<00:20,  1.48s/it]"
     ]
    },
    {
     "name": "stdout",
     "output_type": "stream",
     "text": [
      "\u001b[1m1/1\u001b[0m \u001b[32m━━━━━━━━━━━━━━━━━━━━\u001b[0m\u001b[37m\u001b[0m \u001b[1m1s\u001b[0m 1s/step\n"
     ]
    },
    {
     "name": "stderr",
     "output_type": "stream",
     "text": [
      "Extracting features:  61%|████████████████████████████████████▉                        | 20/33 [00:33<00:19,  1.49s/it]"
     ]
    },
    {
     "name": "stdout",
     "output_type": "stream",
     "text": [
      "\u001b[1m1/1\u001b[0m \u001b[32m━━━━━━━━━━━━━━━━━━━━\u001b[0m\u001b[37m\u001b[0m \u001b[1m1s\u001b[0m 1s/step\n"
     ]
    },
    {
     "name": "stderr",
     "output_type": "stream",
     "text": [
      "Extracting features:  64%|██████████████████████████████████████▊                      | 21/33 [00:34<00:17,  1.48s/it]"
     ]
    },
    {
     "name": "stdout",
     "output_type": "stream",
     "text": [
      "\u001b[1m1/1\u001b[0m \u001b[32m━━━━━━━━━━━━━━━━━━━━\u001b[0m\u001b[37m\u001b[0m \u001b[1m1s\u001b[0m 1s/step\n"
     ]
    },
    {
     "name": "stderr",
     "output_type": "stream",
     "text": [
      "Extracting features:  67%|████████████████████████████████████████▋                    | 22/33 [00:36<00:16,  1.47s/it]"
     ]
    },
    {
     "name": "stdout",
     "output_type": "stream",
     "text": [
      "\u001b[1m1/1\u001b[0m \u001b[32m━━━━━━━━━━━━━━━━━━━━\u001b[0m\u001b[37m\u001b[0m \u001b[1m1s\u001b[0m 1s/step\n"
     ]
    },
    {
     "name": "stderr",
     "output_type": "stream",
     "text": [
      "Extracting features:  70%|██████████████████████████████████████████▌                  | 23/33 [00:37<00:14,  1.48s/it]"
     ]
    },
    {
     "name": "stdout",
     "output_type": "stream",
     "text": [
      "\u001b[1m1/1\u001b[0m \u001b[32m━━━━━━━━━━━━━━━━━━━━\u001b[0m\u001b[37m\u001b[0m \u001b[1m1s\u001b[0m 1s/step\n"
     ]
    },
    {
     "name": "stderr",
     "output_type": "stream",
     "text": [
      "Extracting features:  73%|████████████████████████████████████████████▎                | 24/33 [00:39<00:13,  1.47s/it]"
     ]
    },
    {
     "name": "stdout",
     "output_type": "stream",
     "text": [
      "\u001b[1m1/1\u001b[0m \u001b[32m━━━━━━━━━━━━━━━━━━━━\u001b[0m\u001b[37m\u001b[0m \u001b[1m1s\u001b[0m 1s/step\n"
     ]
    },
    {
     "name": "stderr",
     "output_type": "stream",
     "text": [
      "Extracting features:  76%|██████████████████████████████████████████████▏              | 25/33 [00:40<00:11,  1.47s/it]"
     ]
    },
    {
     "name": "stdout",
     "output_type": "stream",
     "text": [
      "\u001b[1m1/1\u001b[0m \u001b[32m━━━━━━━━━━━━━━━━━━━━\u001b[0m\u001b[37m\u001b[0m \u001b[1m1s\u001b[0m 1s/step\n"
     ]
    },
    {
     "name": "stderr",
     "output_type": "stream",
     "text": [
      "Extracting features:  79%|████████████████████████████████████████████████             | 26/33 [00:42<00:10,  1.47s/it]"
     ]
    },
    {
     "name": "stdout",
     "output_type": "stream",
     "text": [
      "\u001b[1m1/1\u001b[0m \u001b[32m━━━━━━━━━━━━━━━━━━━━\u001b[0m\u001b[37m\u001b[0m \u001b[1m1s\u001b[0m 1s/step\n"
     ]
    },
    {
     "name": "stderr",
     "output_type": "stream",
     "text": [
      "Extracting features:  82%|█████████████████████████████████████████████████▉           | 27/33 [00:43<00:08,  1.46s/it]"
     ]
    },
    {
     "name": "stdout",
     "output_type": "stream",
     "text": [
      "\u001b[1m1/1\u001b[0m \u001b[32m━━━━━━━━━━━━━━━━━━━━\u001b[0m\u001b[37m\u001b[0m \u001b[1m1s\u001b[0m 1s/step\n"
     ]
    },
    {
     "name": "stderr",
     "output_type": "stream",
     "text": [
      "Extracting features:  85%|███████████████████████████████████████████████████▊         | 28/33 [00:44<00:07,  1.47s/it]"
     ]
    },
    {
     "name": "stdout",
     "output_type": "stream",
     "text": [
      "\u001b[1m1/1\u001b[0m \u001b[32m━━━━━━━━━━━━━━━━━━━━\u001b[0m\u001b[37m\u001b[0m \u001b[1m1s\u001b[0m 1s/step\n"
     ]
    },
    {
     "name": "stderr",
     "output_type": "stream",
     "text": [
      "Extracting features:  88%|█████████████████████████████████████████████████████▌       | 29/33 [00:46<00:05,  1.46s/it]"
     ]
    },
    {
     "name": "stdout",
     "output_type": "stream",
     "text": [
      "\u001b[1m1/1\u001b[0m \u001b[32m━━━━━━━━━━━━━━━━━━━━\u001b[0m\u001b[37m\u001b[0m \u001b[1m1s\u001b[0m 1s/step\n"
     ]
    },
    {
     "name": "stderr",
     "output_type": "stream",
     "text": [
      "Extracting features:  91%|███████████████████████████████████████████████████████▍     | 30/33 [00:47<00:04,  1.46s/it]"
     ]
    },
    {
     "name": "stdout",
     "output_type": "stream",
     "text": [
      "\u001b[1m1/1\u001b[0m \u001b[32m━━━━━━━━━━━━━━━━━━━━\u001b[0m\u001b[37m\u001b[0m \u001b[1m1s\u001b[0m 1s/step\n"
     ]
    },
    {
     "name": "stderr",
     "output_type": "stream",
     "text": [
      "Extracting features:  94%|█████████████████████████████████████████████████████████▎   | 31/33 [00:49<00:02,  1.45s/it]"
     ]
    },
    {
     "name": "stdout",
     "output_type": "stream",
     "text": [
      "\u001b[1m1/1\u001b[0m \u001b[32m━━━━━━━━━━━━━━━━━━━━\u001b[0m\u001b[37m\u001b[0m \u001b[1m1s\u001b[0m 1s/step\n"
     ]
    },
    {
     "name": "stderr",
     "output_type": "stream",
     "text": [
      "Extracting features:  97%|███████████████████████████████████████████████████████████▏ | 32/33 [00:50<00:01,  1.46s/it]"
     ]
    },
    {
     "name": "stdout",
     "output_type": "stream",
     "text": [
      "\u001b[1m1/1\u001b[0m \u001b[32m━━━━━━━━━━━━━━━━━━━━\u001b[0m\u001b[37m\u001b[0m \u001b[1m4s\u001b[0m 4s/step\n"
     ]
    },
    {
     "name": "stderr",
     "output_type": "stream",
     "text": [
      "Extracting features: 100%|█████████████████████████████████████████████████████████████| 33/33 [00:55<00:00,  1.67s/it]\n"
     ]
    },
    {
     "name": "stdout",
     "output_type": "stream",
     "text": [
      "Feature extraction completed in 55.27 seconds, averaging 0.0526 seconds per image.\n"
     ]
    },
    {
     "name": "stderr",
     "output_type": "stream",
     "text": [
      "Extracting features:   0%|                                                                      | 0/10 [00:00<?, ?it/s]"
     ]
    },
    {
     "name": "stdout",
     "output_type": "stream",
     "text": [
      "\u001b[1m1/1\u001b[0m \u001b[32m━━━━━━━━━━━━━━━━━━━━\u001b[0m\u001b[37m\u001b[0m \u001b[1m1s\u001b[0m 1s/step\n"
     ]
    },
    {
     "name": "stderr",
     "output_type": "stream",
     "text": [
      "Extracting features:  10%|██████▏                                                       | 1/10 [00:01<00:13,  1.54s/it]"
     ]
    },
    {
     "name": "stdout",
     "output_type": "stream",
     "text": [
      "\u001b[1m1/1\u001b[0m \u001b[32m━━━━━━━━━━━━━━━━━━━━\u001b[0m\u001b[37m\u001b[0m \u001b[1m1s\u001b[0m 1s/step\n"
     ]
    },
    {
     "name": "stderr",
     "output_type": "stream",
     "text": [
      "Extracting features:  20%|████████████▍                                                 | 2/10 [00:03<00:12,  1.55s/it]"
     ]
    },
    {
     "name": "stdout",
     "output_type": "stream",
     "text": [
      "\u001b[1m1/1\u001b[0m \u001b[32m━━━━━━━━━━━━━━━━━━━━\u001b[0m\u001b[37m\u001b[0m \u001b[1m1s\u001b[0m 1s/step\n"
     ]
    },
    {
     "name": "stderr",
     "output_type": "stream",
     "text": [
      "Extracting features:  30%|██████████████████▌                                           | 3/10 [00:04<00:10,  1.53s/it]"
     ]
    },
    {
     "name": "stdout",
     "output_type": "stream",
     "text": [
      "\u001b[1m1/1\u001b[0m \u001b[32m━━━━━━━━━━━━━━━━━━━━\u001b[0m\u001b[37m\u001b[0m \u001b[1m1s\u001b[0m 1s/step\n"
     ]
    },
    {
     "name": "stderr",
     "output_type": "stream",
     "text": [
      "Extracting features:  40%|████████████████████████▊                                     | 4/10 [00:06<00:09,  1.55s/it]"
     ]
    },
    {
     "name": "stdout",
     "output_type": "stream",
     "text": [
      "\u001b[1m1/1\u001b[0m \u001b[32m━━━━━━━━━━━━━━━━━━━━\u001b[0m\u001b[37m\u001b[0m \u001b[1m1s\u001b[0m 1s/step\n"
     ]
    },
    {
     "name": "stderr",
     "output_type": "stream",
     "text": [
      "Extracting features:  50%|███████████████████████████████                               | 5/10 [00:07<00:07,  1.51s/it]"
     ]
    },
    {
     "name": "stdout",
     "output_type": "stream",
     "text": [
      "\u001b[1m1/1\u001b[0m \u001b[32m━━━━━━━━━━━━━━━━━━━━\u001b[0m\u001b[37m\u001b[0m \u001b[1m1s\u001b[0m 1s/step\n"
     ]
    },
    {
     "name": "stderr",
     "output_type": "stream",
     "text": [
      "Extracting features:  60%|█████████████████████████████████████▏                        | 6/10 [00:09<00:05,  1.49s/it]"
     ]
    },
    {
     "name": "stdout",
     "output_type": "stream",
     "text": [
      "\u001b[1m1/1\u001b[0m \u001b[32m━━━━━━━━━━━━━━━━━━━━\u001b[0m\u001b[37m\u001b[0m \u001b[1m1s\u001b[0m 1s/step\n"
     ]
    },
    {
     "name": "stderr",
     "output_type": "stream",
     "text": [
      "Extracting features:  70%|███████████████████████████████████████████▍                  | 7/10 [00:10<00:04,  1.47s/it]"
     ]
    },
    {
     "name": "stdout",
     "output_type": "stream",
     "text": [
      "\u001b[1m1/1\u001b[0m \u001b[32m━━━━━━━━━━━━━━━━━━━━\u001b[0m\u001b[37m\u001b[0m \u001b[1m1s\u001b[0m 1s/step\n"
     ]
    },
    {
     "name": "stderr",
     "output_type": "stream",
     "text": [
      "Extracting features:  80%|█████████████████████████████████████████████████▌            | 8/10 [00:11<00:02,  1.47s/it]"
     ]
    },
    {
     "name": "stdout",
     "output_type": "stream",
     "text": [
      "\u001b[1m1/1\u001b[0m \u001b[32m━━━━━━━━━━━━━━━━━━━━\u001b[0m\u001b[37m\u001b[0m \u001b[1m1s\u001b[0m 1s/step\n"
     ]
    },
    {
     "name": "stderr",
     "output_type": "stream",
     "text": [
      "Extracting features:  90%|███████████████████████████████████████████████████████▊      | 9/10 [00:13<00:01,  1.47s/it]"
     ]
    },
    {
     "name": "stdout",
     "output_type": "stream",
     "text": [
      "\u001b[1m1/1\u001b[0m \u001b[32m━━━━━━━━━━━━━━━━━━━━\u001b[0m\u001b[37m\u001b[0m \u001b[1m1s\u001b[0m 556ms/step\n"
     ]
    },
    {
     "name": "stderr",
     "output_type": "stream",
     "text": [
      "Extracting features: 100%|█████████████████████████████████████████████████████████████| 10/10 [00:14<00:00,  1.41s/it]\n"
     ]
    },
    {
     "name": "stdout",
     "output_type": "stream",
     "text": [
      "Feature extraction completed in 14.06 seconds, averaging 0.0467 seconds per image.\n"
     ]
    },
    {
     "name": "stderr",
     "output_type": "stream",
     "text": [
      "Extracting features:   0%|                                                                       | 0/5 [00:00<?, ?it/s]"
     ]
    },
    {
     "name": "stdout",
     "output_type": "stream",
     "text": [
      "\u001b[1m1/1\u001b[0m \u001b[32m━━━━━━━━━━━━━━━━━━━━\u001b[0m\u001b[37m\u001b[0m \u001b[1m1s\u001b[0m 1s/step\n"
     ]
    },
    {
     "name": "stderr",
     "output_type": "stream",
     "text": [
      "Extracting features:  20%|████████████▌                                                  | 1/5 [00:01<00:05,  1.45s/it]"
     ]
    },
    {
     "name": "stdout",
     "output_type": "stream",
     "text": [
      "\u001b[1m1/1\u001b[0m \u001b[32m━━━━━━━━━━━━━━━━━━━━\u001b[0m\u001b[37m\u001b[0m \u001b[1m1s\u001b[0m 1s/step\n"
     ]
    },
    {
     "name": "stderr",
     "output_type": "stream",
     "text": [
      "Extracting features:  40%|█████████████████████████▏                                     | 2/5 [00:02<00:04,  1.45s/it]"
     ]
    },
    {
     "name": "stdout",
     "output_type": "stream",
     "text": [
      "\u001b[1m1/1\u001b[0m \u001b[32m━━━━━━━━━━━━━━━━━━━━\u001b[0m\u001b[37m\u001b[0m \u001b[1m1s\u001b[0m 1s/step\n"
     ]
    },
    {
     "name": "stderr",
     "output_type": "stream",
     "text": [
      "Extracting features:  60%|█████████████████████████████████████▊                         | 3/5 [00:04<00:02,  1.47s/it]"
     ]
    },
    {
     "name": "stdout",
     "output_type": "stream",
     "text": [
      "\u001b[1m1/1\u001b[0m \u001b[32m━━━━━━━━━━━━━━━━━━━━\u001b[0m\u001b[37m\u001b[0m \u001b[1m1s\u001b[0m 1s/step\n"
     ]
    },
    {
     "name": "stderr",
     "output_type": "stream",
     "text": [
      "Extracting features:  80%|██████████████████████████████████████████████████▍            | 4/5 [00:05<00:01,  1.46s/it]"
     ]
    },
    {
     "name": "stdout",
     "output_type": "stream",
     "text": [
      "\u001b[1m1/1\u001b[0m \u001b[32m━━━━━━━━━━━━━━━━━━━━\u001b[0m\u001b[37m\u001b[0m \u001b[1m1s\u001b[0m 1s/step\n"
     ]
    },
    {
     "name": "stderr",
     "output_type": "stream",
     "text": [
      "Extracting features: 100%|███████████████████████████████████████████████████████████████| 5/5 [00:07<00:00,  1.41s/it]"
     ]
    },
    {
     "name": "stdout",
     "output_type": "stream",
     "text": [
      "Feature extraction completed in 7.06 seconds, averaging 0.0458 seconds per image.\n"
     ]
    },
    {
     "name": "stderr",
     "output_type": "stream",
     "text": [
      "\n"
     ]
    },
    {
     "name": "stdout",
     "output_type": "stream",
     "text": [
      "Feature extraction and saving completed. Features saved as extracted_features_dense_1.npz.\n"
     ]
    }
   ],
   "source": [
    "import os\n",
    "import time\n",
    "import numpy as np\n",
    "import pandas as pd\n",
    "import tensorflow as tf\n",
    "from tqdm import tqdm\n",
    "from tensorflow.keras.models import Model\n",
    "from tensorflow.keras.applications.efficientnet import preprocess_input\n",
    "\n",
    "###########################################\n",
    "\n",
    "# Parametri principali per l'estrazione delle feature\n",
    "IMG_SIZE = 380  # Dimensione delle immagini dopo il ridimensionamento\n",
    "BATCH_SIZE = 32  # Numero di immagini processate in parallelo per batch\n",
    "dataset_dir = 'Prova'  # Directory principale contenente i dataset\n",
    "output_dir = 'Output_' + dataset_dir  # Directory di output per salvare i risultati\n",
    "layer_name = 'dense_1'  # Nome del layer dal quale estrarre le feature\n",
    "\n",
    "# Carica il modello addestrato\n",
    "model = tf.keras.models.load_model(os.path.join(output_dir, 'modello_cnn_finale.keras'))\n",
    "# Crea un modello che termina al layer specificato per l'estrazione delle feature\n",
    "feature_extractor_model = Model(inputs=model.input, outputs=model.get_layer(layer_name).output)\n",
    "\n",
    "###########################################\n",
    "\n",
    "# Funzione per caricare le etichette da file Excel\n",
    "def load_labels_from_excel(excel_file):\n",
    "    df = pd.read_excel(excel_file)  # Carica il file Excel in un DataFrame pandas\n",
    "    # Restituisce tre dizionari: uno per le etichette, uno per i plot, e uno per i tipi di coltura (crop)\n",
    "    return dict(zip(df['Filename'], df['RST'])), dict(zip(df['Filename'], df['PLOT'])), dict(zip(df['Filename'], df['CROP']))\n",
    "\n",
    "# Funzione per ottenere i percorsi delle immagini e le loro etichette\n",
    "def load_image_paths_and_labels(directory, labels_dict, plots_dict, crops_dict):\n",
    "    image_paths, image_labels, image_plots, image_crops = [], [], [], []\n",
    "    for root, _, files in os.walk(directory):  # Itera attraverso tutte le directory e sottodirectory\n",
    "        for file in files:\n",
    "            if file.endswith(('.png', '.jpg', '.jpeg')):  # Controlla solo i file immagine\n",
    "                # Aggiunge i percorsi delle immagini e le etichette corrispondenti alle liste\n",
    "                image_paths.append(os.path.join(root, file))\n",
    "                image_labels.append(labels_dict.get(file, -1))  # -1 se l'etichetta non è trovata\n",
    "                image_plots.append(plots_dict.get(file, ''))  # Stringa vuota se non trovata\n",
    "                image_crops.append(crops_dict.get(file, ''))  # Stringa vuota se non trovata\n",
    "    return image_paths, image_labels, image_plots, image_crops\n",
    "\n",
    "# Funzione per caricare e preprocessare un'immagine\n",
    "def load_and_preprocess_image(image_path):\n",
    "    img = tf.io.read_file(image_path)  # Legge l'immagine dal disco\n",
    "    img = tf.image.decode_image(img, channels=3)  # Decodifica l'immagine in RGB\n",
    "    img = tf.image.resize(img, [IMG_SIZE, IMG_SIZE])  # Ridimensiona l'immagine\n",
    "    img = preprocess_input(img)  # Applica il preprocessing specifico per EfficientNet\n",
    "    return img\n",
    "\n",
    "# Funzione per estrarre le feature in batch\n",
    "def extract_features_in_batches(image_paths, batch_size):\n",
    "    num_images = len(image_paths)  # Numero totale di immagini\n",
    "    num_batches = (num_images + batch_size - 1) // batch_size  # Numero totale di batch\n",
    "    features = []\n",
    "\n",
    "    start_time = time.time()  # Tempo di inizio dell'estrazione\n",
    "    \n",
    "    for i in tqdm(range(num_batches), desc=\"Extracting features\"):  # Loop sui batch\n",
    "        batch_paths = image_paths[i*batch_size:(i+1)*batch_size]  # Ottiene i percorsi per il batch corrente\n",
    "        batch_images = [load_and_preprocess_image(path) for path in batch_paths]  # Carica e preprocessa le immagini del batch\n",
    "        batch_images = np.array(batch_images)  # Converte la lista in array numpy\n",
    "        batch_features = feature_extractor_model.predict(batch_images)  # Estrae le feature usando il modello\n",
    "        for feature in batch_features:\n",
    "            features.append(feature.flatten())  # Appiattisce e aggiunge le feature alla lista\n",
    "    \n",
    "    end_time = time.time()  # Tempo di fine dell'estrazione\n",
    "\n",
    "    avg_time_per_image = (end_time - start_time) / num_images  # Calcola il tempo medio per immagine\n",
    "    print(f'Feature extraction completed in {end_time - start_time:.2f} seconds, averaging {avg_time_per_image:.4f} seconds per image.')\n",
    "    return np.array(features), avg_time_per_image  # Restituisce le feature estratte e il tempo medio per immagine\n",
    "\n",
    "# Funzione per creare un DataFrame con le feature estratte e le informazioni correlate\n",
    "def create_feature_df(image_paths, features, labels, plots, crops):\n",
    "    feature_data = []\n",
    "    for img_path, feature_vector, label, plot, crop in zip(image_paths, features, labels, plots, crops):\n",
    "        filename = os.path.basename(img_path)  # Ottiene il nome del file dall'intero percorso\n",
    "        feature_row = [filename, label, plot, crop] + list(feature_vector)  # Crea una riga di dati con tutte le informazioni\n",
    "        feature_data.append(feature_row)\n",
    "    \n",
    "    feature_columns = ['Filename', 'RST', 'PLOT', 'CROP'] + [f'Feature_{i+1}' for i in range(features.shape[1])]  # Nomi delle colonne\n",
    "    return pd.DataFrame(feature_data, columns=feature_columns)  # Crea e restituisce un DataFrame\n",
    "\n",
    "################################################\n",
    "\n",
    "# Caricamento delle etichette e dei percorsi delle immagini per train, validation, e test\n",
    "train_labels_dict, train_plots_dict, train_crops_dict = load_labels_from_excel(os.path.join(dataset_dir, 'train.xlsx'))\n",
    "val_labels_dict, val_plots_dict, val_crops_dict = load_labels_from_excel(os.path.join(dataset_dir, 'validation.xlsx'))\n",
    "test_labels_dict, test_plots_dict, test_crops_dict = load_labels_from_excel(os.path.join(dataset_dir, 'test.xlsx'))\n",
    "\n",
    "train_image_paths, train_image_labels, train_image_plots, train_image_crops = load_image_paths_and_labels(os.path.join(dataset_dir, 'train'), train_labels_dict, train_plots_dict, train_crops_dict)\n",
    "val_image_paths, val_image_labels, val_image_plots, val_image_crops = load_image_paths_and_labels(os.path.join(dataset_dir, 'validation'), val_labels_dict, val_plots_dict, val_crops_dict)\n",
    "test_image_paths, test_image_labels, test_image_plots, test_image_crops = load_image_paths_and_labels(os.path.join(dataset_dir, 'test'), test_labels_dict, test_plots_dict, test_crops_dict)\n",
    "\n",
    "# Estrazione delle feature per train, validation, e test\n",
    "train_features, train_avg_time_per_image = extract_features_in_batches(train_image_paths, batch_size=BATCH_SIZE)\n",
    "val_features, val_avg_time_per_image = extract_features_in_batches(val_image_paths, batch_size=BATCH_SIZE)\n",
    "test_features, test_avg_time_per_image = extract_features_in_batches(test_image_paths, batch_size=BATCH_SIZE)\n",
    "\n",
    "##################################################\n",
    "\n",
    "# Salvataggio delle feature e delle etichette in un file compresso .npz\n",
    "output_filename = f'extracted_features_{layer_name}.npz'\n",
    "np.savez_compressed(os.path.join(output_dir, output_filename),\n",
    "                    train_features=train_features, train_labels=train_image_labels, train_plots=train_image_plots, train_crops=train_image_crops,\n",
    "                    val_features=val_features, val_labels=val_image_labels, val_plots=val_image_plots, val_crops=val_image_crops,\n",
    "                    test_features=test_features, test_labels=test_image_labels, test_plots=test_image_plots, test_crops=test_image_crops)\n",
    "\n",
    "#################################################\n",
    "\n",
    "# Creazione dei DataFrame delle feature per train, validation, e test\n",
    "train_feature_df = create_feature_df(train_image_paths, train_features, train_image_labels, train_image_plots, train_image_crops)\n",
    "val_feature_df = create_feature_df(val_image_paths, val_features, val_image_labels, val_image_plots, val_image_crops)\n",
    "test_feature_df = create_feature_df(test_image_paths, test_features, test_image_labels, test_image_plots, test_image_crops)\n",
    "\n",
    "# Salvataggio del tempo di estrazione delle feature su un file Excel\n",
    "time_df = pd.DataFrame({\n",
    "    'Dataset': ['Train', 'Validation', 'Test'],\n",
    "    'Time per Image (s)': [train_avg_time_per_image, val_avg_time_per_image, test_avg_time_per_image]\n",
    "})\n",
    "\n",
    "# Creazione di un DataFrame con le informazioni sul layer usato per l'estrazione delle feature\n",
    "layer_info_df = pd.DataFrame({\n",
    "    'Parameter': ['Feature Extraction Layer'],\n",
    "    'Value': [layer_name]\n",
    "})\n",
    "\n",
    "##############################################\n",
    "\n",
    "# Salvataggio dei risultati su un file Excel con più fogli\n",
    "with pd.ExcelWriter(os.path.join(output_dir, f'extracted_features_{layer_name}.xlsx')) as writer:\n",
    "    time_df.to_excel(writer, sheet_name='Extraction Times', index=False)\n",
    "    train_feature_df.to_excel(writer, sheet_name='Train Features', index=False)\n",
    "    val_feature_df.to_excel(writer, sheet_name='Validation Features', index=False)\n",
    "    test_feature_df.to_excel(writer, sheet_name='Test Features', index=False)\n",
    "    layer_info_df.to_excel(writer, sheet_name='Layer Information', index=False)\n",
    "\n",
    "#################################################\n",
    "\n",
    "print(f\"Feature extraction and saving completed. Features saved as {output_filename}.\")"
   ]
  },
  {
   "cell_type": "markdown",
   "metadata": {},
   "source": [
    "# **Random Forest**"
   ]
  },
  {
   "cell_type": "code",
   "execution_count": 28,
   "metadata": {},
   "outputs": [
    {
     "name": "stdout",
     "output_type": "stream",
     "text": [
      "Starting Random Forest training...\n",
      "Finished Random Forest training. Training took 0.45 seconds, averaging 0.0322 seconds per image.\n",
      "Validation MAPE: 0.18193972625352878\n",
      "Test MAPE: 0.23448309404486029\n",
      "Results saved to Excel.\n"
     ]
    }
   ],
   "source": [
    "import os\n",
    "import time\n",
    "import joblib\n",
    "import numpy as np\n",
    "import pandas as pd\n",
    "from collections import defaultdict\n",
    "from sklearn.ensemble import RandomForestRegressor\n",
    "from sklearn.metrics import mean_absolute_percentage_error\n",
    "\n",
    "######################################\n",
    "\n",
    "# Parametri principali\n",
    "dataset_dir = 'Prova'  # Directory del dataset\n",
    "output_dir = 'Output_' + dataset_dir  # Directory di output per salvare i risultati\n",
    "layer_name = 'dense_1'  # Nome del layer per l'estrazione delle feature\n",
    "\n",
    "# Parametri specifici per il modello Random Forest\n",
    "n_estimators = 500  # Numero di alberi nella foresta\n",
    "random_state = None  # Controlla la randomizzazione del modello\n",
    "n_jobs = 2  # Numero di thread per il parallelismo (1 significa nessun parallelismo)\n",
    "\n",
    "#####################################\n",
    "    \n",
    "# Caricamento delle feature estratte\n",
    "data = np.load(os.path.join(output_dir, f'extracted_features_{layer_name}.npz'))\n",
    "\n",
    "# Recupero delle feature e delle etichette dai dati caricati\n",
    "train_features = data['train_features']\n",
    "train_labels = data['train_labels']\n",
    "train_plots = data['train_plots']\n",
    "train_crops = data['train_crops']\n",
    "\n",
    "val_features = data['val_features']\n",
    "val_labels = data['val_labels']\n",
    "val_plots = data['val_plots']\n",
    "val_crops = data['val_crops']\n",
    "\n",
    "test_features = data['test_features']\n",
    "test_labels = data['test_labels']\n",
    "test_plots = data['test_plots']\n",
    "test_crops = data['test_crops']\n",
    "\n",
    "#####################################\n",
    "\n",
    "# Funzione per raggruppare le feature per plot\n",
    "def group_features_by_plot(features, plots, labels, crops):\n",
    "    # Inizializza i dizionari per raggruppare le feature, le etichette e i tipi di coltura per plot\n",
    "    grouped_features = defaultdict(list)\n",
    "    grouped_labels = {}\n",
    "    grouped_crops = {}\n",
    "    \n",
    "    # Raggruppa le feature, le etichette e i tipi di coltura per plot\n",
    "    for feature, plot, label, crop in zip(features, plots, labels, crops):\n",
    "        grouped_features[plot].append(feature)\n",
    "        if plot not in grouped_labels:\n",
    "            grouped_labels[plot] = label\n",
    "        if plot not in grouped_crops:\n",
    "            grouped_crops[plot] = crop\n",
    "    \n",
    "    # Calcola la media delle feature per ciascun plot\n",
    "    mean_features = {plot: np.mean(group, axis=0) for plot, group in grouped_features.items()}\n",
    "    mean_labels = {plot: grouped_labels[plot] for plot in grouped_features.keys()}\n",
    "    mean_crops = {plot: grouped_crops[plot] for plot in grouped_features.keys()}\n",
    "    \n",
    "    return mean_features, mean_labels, mean_crops\n",
    "\n",
    "# Raggruppamento delle feature per plot per i set di train, validation e test\n",
    "train_mean_features_dict, train_mean_labels_dict, train_mean_crops_dict = group_features_by_plot(train_features, train_plots, train_labels, train_crops)\n",
    "val_mean_features_dict, val_mean_labels_dict, val_mean_crops_dict = group_features_by_plot(val_features, val_plots, val_labels, val_crops)\n",
    "test_mean_features_dict, test_mean_labels_dict, test_mean_crops_dict = group_features_by_plot(test_features, test_plots, test_labels, test_crops)\n",
    "\n",
    "# Conversione dei dizionari in array\n",
    "train_mean_features = np.array(list(train_mean_features_dict.values()))\n",
    "train_mean_labels = np.array(list(train_mean_labels_dict.values()))\n",
    "val_mean_features = np.array(list(val_mean_features_dict.values()))\n",
    "val_mean_labels = np.array(list(val_mean_labels_dict.values()))\n",
    "test_mean_features = np.array(list(test_mean_features_dict.values()))\n",
    "test_mean_labels = np.array(list(test_mean_labels_dict.values()))\n",
    "\n",
    "#################################################\n",
    "\n",
    "# Addestramento del modello Random Forest\n",
    "print('Starting Random Forest training...')\n",
    "start_time = time.time()  # Inizia il timer per misurare il tempo di addestramento\n",
    "\n",
    "# Creazione del modello con solo n_estimators, random_state e n_jobs definiti\n",
    "rf_regressor = RandomForestRegressor(\n",
    "    n_estimators=n_estimators,\n",
    "    random_state=random_state,\n",
    "    n_jobs=n_jobs  # Definisce il numero di processi paralleli (1 significa nessun parallelismo)\n",
    ")\n",
    "\n",
    "# Addestra il modello sui dati di train\n",
    "rf_regressor.fit(train_mean_features, train_mean_labels)\n",
    "end_time = time.time()  # Fine del timer\n",
    "\n",
    "# Calcola il tempo totale di addestramento e il tempo medio per immagine\n",
    "total_training_time = end_time - start_time\n",
    "avg_training_time_per_image = total_training_time / len(train_mean_features)\n",
    "print(f'Finished Random Forest training. Training took {total_training_time:.2f} seconds, averaging {avg_training_time_per_image:.4f} seconds per image.')\n",
    "\n",
    "############################################\n",
    "\n",
    "# Predizione sui set di validation e test\n",
    "val_preds = rf_regressor.predict(val_mean_features)  # Predizione sui dati di validation\n",
    "test_preds = rf_regressor.predict(test_mean_features)  # Predizione sui dati di test\n",
    "\n",
    "# Calcolo del MAPE (Mean Absolute Percentage Error) per validation e test set\n",
    "val_mape = mean_absolute_percentage_error(val_mean_labels, val_preds)\n",
    "test_mape = mean_absolute_percentage_error(test_mean_labels, test_preds)\n",
    "\n",
    "print(f'Validation MAPE: {val_mape}')\n",
    "print(f'Test MAPE: {test_mape}')\n",
    "\n",
    "#############################################\n",
    "\n",
    "# Salvataggio del modello Random Forest addestrato\n",
    "joblib.dump(rf_regressor, os.path.join(output_dir, f'modello_RF_{layer_name}.pkl'))\n",
    "\n",
    "##############################################\n",
    "# Preparazione del DataFrame per le predizioni sui set di validation e test\n",
    "val_pred_df = pd.DataFrame({\n",
    "    'Plot': list(val_mean_features_dict.keys()),\n",
    "    'CROP': list(val_mean_crops_dict.values()),\n",
    "    'True Label': list(val_mean_labels_dict.values()),\n",
    "    'Predicted Label': val_preds\n",
    "})\n",
    "\n",
    "test_pred_df = pd.DataFrame({\n",
    "    'Plot': list(test_mean_features_dict.keys()),\n",
    "    'CROP': list(test_mean_crops_dict.values()),\n",
    "    'True Label': list(test_mean_labels_dict.values()),\n",
    "    'Predicted Label': test_preds\n",
    "})\n",
    "\n",
    "overall_mape_val = pd.DataFrame({\n",
    "        'Plot': ['Overall MAPE'],\n",
    "        'CROP': [val_mape],\n",
    "        'True Label': [''],\n",
    "        'Predicted Label': ['']\n",
    "    })\n",
    "val_pred_df = pd.concat([val_pred_df, overall_mape_val], ignore_index=True)\n",
    "\n",
    "overall_mape_test = pd.DataFrame({\n",
    "        'Plot': ['Overall MAPE'],\n",
    "        'CROP': [test_mape],\n",
    "        'True Label': [''],\n",
    "        'Predicted Label': ['']\n",
    "    })\n",
    "test_pred_df = pd.concat([test_pred_df, overall_mape_test], ignore_index=True)\n",
    "\n",
    "# Aggiunta del MAPE complessivo ai DataFrame di predizione\n",
    "#val_pred_df['Validation MAPE'] = val_mape\n",
    "#test_pred_df['Test MAPE'] = test_mape\n",
    "\n",
    "# Calcolo del MAPE complessivo per il foglio di calcolo\n",
    "#overall_mape = mean_absolute_percentage_error(test_pred_df['True Label'], test_pred_df['Predicted Label'])\n",
    "\n",
    "# Salvataggio dei risultati su Excel\n",
    "time_df = pd.DataFrame({\n",
    "    'Set': ['Random Forest Training'],\n",
    "    'Time per Image (s)': [avg_training_time_per_image]\n",
    "})\n",
    "\n",
    "# Aggiunta di tutti i parametri del modello al foglio di struttura\n",
    "rf_structure_df = pd.DataFrame({\n",
    "    'Parameter': ['n_estimators', 'random_state', 'n_jobs', 'feature_extraction_layer'],\n",
    "    'Value': [n_estimators, random_state, n_jobs, layer_name]\n",
    "})\n",
    "\n",
    "# Salva tutti i risultati e le informazioni su un file Excel\n",
    "with pd.ExcelWriter(os.path.join(output_dir, f'test_RF_{layer_name}.xlsx')) as writer:\n",
    "    val_pred_df.to_excel(writer, sheet_name='Validation Predictions', index=False)\n",
    "    test_pred_df.to_excel(writer, sheet_name='Test Predictions', index=False)\n",
    "    time_df.to_excel(writer, sheet_name='Time per Image', index=False)\n",
    "    rf_structure_df.to_excel(writer, sheet_name='Random Forest Structure', index=False)\n",
    "    print('Results saved to Excel.')"
   ]
  }
 ],
 "metadata": {
  "kernelspec": {
   "display_name": "Grano",
   "language": "python",
   "name": "python3"
  },
  "language_info": {
   "codemirror_mode": {
    "name": "ipython",
    "version": 3
   },
   "file_extension": ".py",
   "mimetype": "text/x-python",
   "name": "python",
   "nbconvert_exporter": "python",
   "pygments_lexer": "ipython3",
   "version": "3.11.9"
  }
 },
 "nbformat": 4,
 "nbformat_minor": 4
}
